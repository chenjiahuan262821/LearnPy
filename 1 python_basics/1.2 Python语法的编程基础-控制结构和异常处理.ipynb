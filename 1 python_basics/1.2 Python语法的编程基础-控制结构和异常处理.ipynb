{
 "cells": [
  {
   "cell_type": "markdown",
   "metadata": {},
   "source": [
    "### Python语法基础知识——控制结构与异常处理"
   ]
  },
  {
   "cell_type": "markdown",
   "metadata": {},
   "source": [
    "#### 小目录\n",
    "\n",
    "1. Python的几种控制结构\n",
    "\n",
    "2. 列表和字典解析\n",
    "\n",
    "3. 函数-初步\n",
    "\n",
    "4. 异常处理\n",
    "\n"
   ]
  },
  {
   "cell_type": "markdown",
   "metadata": {},
   "source": [
    "### 1. Python的几种控制结构"
   ]
  },
  {
   "cell_type": "markdown",
   "metadata": {},
   "source": [
    "Python的三种控制流\n",
    "\n",
    "认识分支结构if\n",
    "\n",
    "认识循环结构while\n",
    "\n",
    "认识循环结构for\n",
    "\n",
    "Break语句\n",
    "\n",
    "Continue语句"
   ]
  },
  {
   "cell_type": "markdown",
   "metadata": {},
   "source": [
    "#### 1.1 For Loops "
   ]
  },
  {
   "cell_type": "markdown",
   "metadata": {},
   "source": [
    "学习 Python 与其他语言最大的区别就是，Python 的代码块不使用大括号 {} 来控制类，函数以及其他逻辑判断。\n",
    "\n",
    "python 最具特色的就是用缩进来写模块。\n",
    "\n",
    "缩进的空白数量是可变的，但是所有代码块语句必须包含相同的缩进空白数量，这个必须严格执行。"
   ]
  },
  {
   "cell_type": "code",
   "execution_count": null,
   "metadata": {
    "collapsed": true
   },
   "outputs": [],
   "source": [
    "for k in range(1,11):          \n",
    "    print (k)\n",
    "print (k**2)\n",
    "#range是一个built-in函数，可以直接使用，不用import；区间是前闭后开；"
   ]
  },
  {
   "cell_type": "code",
   "execution_count": null,
   "metadata": {
    "collapsed": true
   },
   "outputs": [],
   "source": [
    "for k in range(1,11,2):\n",
    "    print (k)"
   ]
  },
  {
   "cell_type": "code",
   "execution_count": null,
   "metadata": {
    "collapsed": true
   },
   "outputs": [],
   "source": [
    "for k in range (0,10,1):\n",
    "    print (k/10)"
   ]
  },
  {
   "cell_type": "code",
   "execution_count": null,
   "metadata": {
    "collapsed": true
   },
   "outputs": [],
   "source": [
    "import numpy as np\n",
    "for k in np.arange(0,1,0.1):          #注意：是np.arange\n",
    "    print (k)"
   ]
  },
  {
   "cell_type": "code",
   "execution_count": null,
   "metadata": {
    "collapsed": true
   },
   "outputs": [],
   "source": [
    "exampleList  = [1,5,6,8,12,54,66]\n",
    "for k in exampleList:\n",
    "    print(k)\n",
    "    print('continue programme')        #注意print在循环内和循环外的区别；"
   ]
  },
  {
   "cell_type": "code",
   "execution_count": null,
   "metadata": {
    "collapsed": true
   },
   "outputs": [],
   "source": [
    "l = [1, 2, 3, 4, 5, 6, 7, 8, 9, 10]"
   ]
  },
  {
   "cell_type": "code",
   "execution_count": null,
   "metadata": {
    "collapsed": true
   },
   "outputs": [],
   "source": [
    "for i in range(4, 8):\n",
    "    print(l[i] ** 2)"
   ]
  },
  {
   "cell_type": "code",
   "execution_count": null,
   "metadata": {
    "collapsed": true
   },
   "outputs": [],
   "source": [
    "for i in l[4:8]:\n",
    "    print(i ** 2)"
   ]
  },
  {
   "cell_type": "code",
   "execution_count": null,
   "metadata": {
    "collapsed": true
   },
   "outputs": [],
   "source": [
    "d = {\n",
    "     'Name' : 'Angela Merkel',\n",
    "     'Country' : 'Germany',\n",
    "     'Profession' : 'Chancelor',\n",
    "     'Age' : 60\n",
    "     }"
   ]
  },
  {
   "cell_type": "code",
   "execution_count": null,
   "metadata": {
    "collapsed": true
   },
   "outputs": [],
   "source": [
    "for i,j in d.items():\n",
    "    print(i,j)"
   ]
  },
  {
   "cell_type": "markdown",
   "metadata": {},
   "source": [
    "#### 1.2 If statement"
   ]
  },
  {
   "cell_type": "code",
   "execution_count": null,
   "metadata": {
    "collapsed": true
   },
   "outputs": [],
   "source": [
    "if True:\n",
    "    print (\"Answer\")\n",
    "    print (\"True\")\n",
    "else:\n",
    "    print (\"Answer\")\n",
    "    # 没有严格缩进，在执行时会报错\n",
    "    print (\"False\")"
   ]
  },
  {
   "cell_type": "code",
   "execution_count": null,
   "metadata": {
    "collapsed": true
   },
   "outputs": [],
   "source": [
    "x = 5\n",
    "y = 3\n",
    "z = 8\n",
    "\n",
    "if z == x:\n",
    "    print('z is equal to x')             \n",
    "  #不能用‘ = ’，必须要用两个，因为python会不知道你这是在判断还是在赋值；还有不等于是！="
   ]
  },
  {
   "cell_type": "markdown",
   "metadata": {},
   "source": [
    "#### 1.3 If else"
   ]
  },
  {
   "cell_type": "code",
   "execution_count": null,
   "metadata": {
    "collapsed": true
   },
   "outputs": [],
   "source": [
    "x = 1\n",
    "y = 3\n",
    "z = 8\n",
    "\n",
    "if x > y:\n",
    "    print('x is greater than y')               \n",
    "else:\n",
    "    print('x is not greater than y')"
   ]
  },
  {
   "cell_type": "code",
   "execution_count": null,
   "metadata": {
    "collapsed": true
   },
   "outputs": [],
   "source": [
    "# if if else的语句，每一个if条件语句都会进行判断，而else只针对最后一个if；\n",
    "x = 6\n",
    "y = 7\n",
    "z = 8\n",
    "\n",
    "if x > y:\n",
    "    print('x is greater than y')               \n",
    "if x > 8:\n",
    "    print('x is great than 8')\n",
    "else:\n",
    "    print('x is not greater than 8')"
   ]
  },
  {
   "cell_type": "markdown",
   "metadata": {},
   "source": [
    "#### 1.4 If elif 语句"
   ]
  },
  {
   "cell_type": "markdown",
   "metadata": {},
   "source": [
    "用elif的话，它其实是一个大循环，当我找到一种情况是true的时候，当前就不会再继续run下去了，而如果只是用if的话，每一句if语句都会进行判断；最后一个if不满足条件的话，会触发最后一句else的语句；\n",
    "\n",
    "elif else：所有的if和elif都不成立的时候，会触发最后一句else语句；\n",
    "\n",
    "注意它和if if else语句的区别"
   ]
  },
  {
   "cell_type": "code",
   "execution_count": null,
   "metadata": {
    "collapsed": true
   },
   "outputs": [],
   "source": [
    "x = 3\n",
    "y = 7\n",
    "z = 8\n",
    "\n",
    "if x > y:\n",
    "    print('x is greater than y') \n",
    "#不能用‘ = ’，必须要用两个，因为python会不知道你这是在判断还是在赋值；还有不等于是！=\n",
    "elif x > z:\n",
    "     print('x is great than z')\n",
    "elif x > 5:\n",
    "    print('x is great than 5')\n",
    "else:\n",
    "    print('x is the smallest')"
   ]
  },
  {
   "cell_type": "markdown",
   "metadata": {},
   "source": [
    "#### 1.5 for 和 if 语句"
   ]
  },
  {
   "cell_type": "code",
   "execution_count": null,
   "metadata": {
    "collapsed": true
   },
   "outputs": [],
   "source": [
    "for i in range(1, 10):\n",
    "    if i % 2 == 0:                   # % is for modulo\n",
    "        print(\"%d is even\" % i)\n",
    "    elif i % 3 == 0:\n",
    "        print(\"%d is multiple of 3\" % i)\n",
    "    else:\n",
    "        print(\"%d is odd\" % i)"
   ]
  },
  {
   "cell_type": "markdown",
   "metadata": {},
   "source": [
    "#### 1.6 While Loops"
   ]
  },
  {
   "cell_type": "markdown",
   "metadata": {},
   "source": [
    "While loop在需要记录循环的次数时非常常用；\n",
    "\n",
    "和for loop非常类似，for loop的代码可能更加精简一点，但是两个完全可以相互转换；\n",
    "\n",
    "在无限循环时也比较有用；"
   ]
  },
  {
   "cell_type": "code",
   "execution_count": null,
   "metadata": {
    "collapsed": true
   },
   "outputs": [],
   "source": [
    "total = 0\n",
    "while total < 10:\n",
    "    total += 1\n",
    "    print(total)                 #注意print缩进和不缩进的区别；"
   ]
  },
  {
   "cell_type": "code",
   "execution_count": null,
   "metadata": {
    "collapsed": true
   },
   "outputs": [],
   "source": [
    "a = True                        #while可以非常好的实现无限循环；\n",
    "while a:\n",
    "    print ('hello ABC')"
   ]
  },
  {
   "cell_type": "code",
   "execution_count": null,
   "metadata": {
    "collapsed": true
   },
   "outputs": [],
   "source": [
    "a = 1\n",
    "while a < 6:\n",
    "    if a < 3:\n",
    "        print (a)\n",
    "    else:\n",
    "        print ('python')\n",
    "    a += 1"
   ]
  },
  {
   "cell_type": "markdown",
   "metadata": {},
   "source": [
    "#### 1.7 Break and continue"
   ]
  },
  {
   "cell_type": "markdown",
   "metadata": {},
   "source": [
    "Break语句的功能正如其名字一样，是用来打破（Break）程序的执行的。Break语 句常用于循环结构中，在循环结构中出现Break语句的时候，能将该循环强制停止， 然后退出该循环；"
   ]
  },
  {
   "cell_type": "code",
   "execution_count": null,
   "metadata": {
    "collapsed": true
   },
   "outputs": [],
   "source": [
    "a=1\n",
    "while a:\n",
    "    print (a)\n",
    "    a += 1\n",
    "    if a == 5:\n",
    "        break"
   ]
  },
  {
   "cell_type": "code",
   "execution_count": null,
   "metadata": {
    "collapsed": true
   },
   "outputs": [],
   "source": [
    "for i in range(5,9):\n",
    "    print (i)\n",
    "    if i>6:\n",
    "        break"
   ]
  },
  {
   "cell_type": "code",
   "execution_count": null,
   "metadata": {
    "collapsed": true
   },
   "outputs": [],
   "source": [
    "for i in range(5,9):\n",
    "    if i>6:\n",
    "        break\n",
    "    print (i)"
   ]
  },
  {
   "cell_type": "markdown",
   "metadata": {},
   "source": [
    "Continue语句的功能是强制停止循环中的这一次执行，直接跳到下一次执行。\n",
    "\n",
    "重点掌握break和continue的区别；"
   ]
  },
  {
   "cell_type": "code",
   "execution_count": null,
   "metadata": {
    "collapsed": true
   },
   "outputs": [],
   "source": [
    "#continue语句在while循环中\n",
    "#首先我们得知道循环是分很多次的，而continue语句是终止该次循环，而不是终止整个循环。\n",
    "a=1\n",
    "while a<7:\n",
    "    a += 1\n",
    "    if a==3:\n",
    "        continue\n",
    "    print (a)"
   ]
  },
  {
   "cell_type": "code",
   "execution_count": 4,
   "metadata": {},
   "outputs": [
    {
     "name": "stdout",
     "output_type": "stream",
     "text": [
      "1\n",
      "2\n",
      "3\n",
      "4\n",
      "6\n",
      "7\n",
      "8\n",
      "9\n"
     ]
    }
   ],
   "source": [
    "for i in range(1,10):\n",
    "    if i==5:\n",
    "        continue\n",
    "    print (i)"
   ]
  },
  {
   "cell_type": "code",
   "execution_count": 3,
   "metadata": {},
   "outputs": [
    {
     "name": "stdout",
     "output_type": "stream",
     "text": [
      "1\n",
      "2\n",
      "3\n",
      "4\n"
     ]
    }
   ],
   "source": [
    "for i in range(1,7):\n",
    "    if i==5:\n",
    "        break\n",
    "    print (i)"
   ]
  },
  {
   "cell_type": "markdown",
   "metadata": {},
   "source": [
    "### 2. 列表和字典解析"
   ]
  },
  {
   "cell_type": "code",
   "execution_count": 5,
   "metadata": {},
   "outputs": [
    {
     "data": {
      "text/plain": [
       "[0, 1, 4, 9, 16]"
      ]
     },
     "execution_count": 5,
     "metadata": {},
     "output_type": "execute_result"
    }
   ],
   "source": [
    "m = [i ** 2 for i in range(5)]            # 常用\n",
    "m"
   ]
  },
  {
   "cell_type": "code",
   "execution_count": null,
   "metadata": {
    "collapsed": true
   },
   "outputs": [],
   "source": [
    "m = []\n",
    "for i in range(5):\n",
    "    m.append(i ** 2)"
   ]
  },
  {
   "cell_type": "code",
   "execution_count": 2,
   "metadata": {},
   "outputs": [
    {
     "data": {
      "text/plain": [
       "[0, 1, 4, 9, 16]"
      ]
     },
     "execution_count": 2,
     "metadata": {},
     "output_type": "execute_result"
    }
   ],
   "source": [
    "m"
   ]
  },
  {
   "cell_type": "markdown",
   "metadata": {},
   "source": [
    "#### Dict Comprehension"
   ]
  },
  {
   "cell_type": "code",
   "execution_count": null,
   "metadata": {
    "collapsed": true
   },
   "outputs": [],
   "source": [
    "a = ['a', 'b', 'c']\n",
    "b = [1, 2, 3]"
   ]
  },
  {
   "cell_type": "code",
   "execution_count": null,
   "metadata": {
    "collapsed": true
   },
   "outputs": [],
   "source": [
    "c = zip(a, b)              \n",
    "#zip()是Python的一个内建函数，它接受一系列可迭代的对象作为参数，\n",
    "#将对象中对应的元素打包成一个个tuple（元组），然后返回由这些tuples组成的list（列表）\n"
   ]
  },
  {
   "cell_type": "code",
   "execution_count": null,
   "metadata": {
    "collapsed": true
   },
   "outputs": [],
   "source": [
    "c"
   ]
  },
  {
   "cell_type": "code",
   "execution_count": null,
   "metadata": {
    "collapsed": true
   },
   "outputs": [],
   "source": [
    "list(zip(a, b))"
   ]
  },
  {
   "cell_type": "code",
   "execution_count": null,
   "metadata": {
    "collapsed": true
   },
   "outputs": [],
   "source": [
    "list(c)"
   ]
  },
  {
   "cell_type": "code",
   "execution_count": null,
   "metadata": {
    "collapsed": true
   },
   "outputs": [],
   "source": [
    "dict(zip(a,b))               #通过zip转换为字典，方便进行后续操作"
   ]
  },
  {
   "cell_type": "markdown",
   "metadata": {},
   "source": [
    "### 3. Functions前导"
   ]
  },
  {
   "cell_type": "code",
   "execution_count": null,
   "metadata": {
    "collapsed": true
   },
   "outputs": [],
   "source": [
    "def square(x):\n",
    "    return x * x\n"
   ]
  },
  {
   "cell_type": "code",
   "execution_count": null,
   "metadata": {
    "collapsed": true
   },
   "outputs": [],
   "source": [
    "square(6)"
   ]
  },
  {
   "cell_type": "code",
   "execution_count": null,
   "metadata": {
    "collapsed": true
   },
   "outputs": [],
   "source": [
    "m = [1,2,3,4,5]\n",
    "results = [square(x) for x in m]\n",
    "results"
   ]
  },
  {
   "cell_type": "code",
   "execution_count": null,
   "metadata": {
    "collapsed": true
   },
   "outputs": [],
   "source": [
    "def even(x):\n",
    "    return x % 2 == 0\n",
    "even(3)"
   ]
  },
  {
   "cell_type": "code",
   "execution_count": null,
   "metadata": {
    "collapsed": true
   },
   "outputs": [],
   "source": [
    "even(20)"
   ]
  },
  {
   "cell_type": "markdown",
   "metadata": {},
   "source": [
    "### 4. 异常处理结构：Try-Except-Else-Finally"
   ]
  },
  {
   "cell_type": "code",
   "execution_count": 1,
   "metadata": {
    "collapsed": true
   },
   "outputs": [],
   "source": [
    "import math"
   ]
  },
  {
   "cell_type": "code",
   "execution_count": 2,
   "metadata": {},
   "outputs": [
    {
     "name": "stdout",
     "output_type": "stream",
     "text": [
      "1.0\n",
      "1.4142135623730951\n",
      "1.7320508075688772\n"
     ]
    },
    {
     "ename": "ValueError",
     "evalue": "math domain error",
     "output_type": "error",
     "traceback": [
      "\u001b[0;31m---------------------------------------------------------------------------\u001b[0m",
      "\u001b[0;31mValueError\u001b[0m                                Traceback (most recent call last)",
      "\u001b[0;32m<ipython-input-2-c9f66a5e510f>\u001b[0m in \u001b[0;36m<module>\u001b[0;34m()\u001b[0m\n\u001b[1;32m      1\u001b[0m \u001b[1;32mfor\u001b[0m \u001b[0mi\u001b[0m \u001b[1;32min\u001b[0m \u001b[1;33m[\u001b[0m\u001b[1;36m1\u001b[0m\u001b[1;33m,\u001b[0m \u001b[1;36m2\u001b[0m\u001b[1;33m,\u001b[0m \u001b[1;36m3\u001b[0m\u001b[1;33m,\u001b[0m \u001b[1;33m-\u001b[0m\u001b[1;36m4\u001b[0m\u001b[1;33m,\u001b[0m \u001b[1;33m-\u001b[0m\u001b[1;36m5\u001b[0m\u001b[1;33m,\u001b[0m \u001b[1;36m6\u001b[0m\u001b[1;33m,\u001b[0m \u001b[1;36m7\u001b[0m\u001b[1;33m,\u001b[0m \u001b[1;36m8\u001b[0m\u001b[1;33m]\u001b[0m\u001b[1;33m:\u001b[0m\u001b[1;33m\u001b[0m\u001b[0m\n\u001b[0;32m----> 2\u001b[0;31m     \u001b[0mprint\u001b[0m \u001b[1;33m(\u001b[0m\u001b[0mmath\u001b[0m\u001b[1;33m.\u001b[0m\u001b[0msqrt\u001b[0m\u001b[1;33m(\u001b[0m\u001b[0mi\u001b[0m\u001b[1;33m)\u001b[0m\u001b[1;33m)\u001b[0m\u001b[1;33m\u001b[0m\u001b[0m\n\u001b[0m",
      "\u001b[0;31mValueError\u001b[0m: math domain error"
     ]
    }
   ],
   "source": [
    "for i in [1, 2, 3, -4, -5, 6, 7, 8]:\n",
    "    print (math.sqrt(i))"
   ]
  },
  {
   "cell_type": "code",
   "execution_count": 3,
   "metadata": {},
   "outputs": [
    {
     "name": "stdout",
     "output_type": "stream",
     "text": [
      "1 的开根号值是 1.000000\n",
      "2 的开根号值是 1.414214\n",
      "3 的开根号值是 1.732051\n",
      "无法计算 -4 的开根号值\n",
      "无法计算 -5 的开根号值\n",
      "6 的开根号值是 2.449490\n",
      "7 的开根号值是 2.645751\n",
      "8 的开根号值是 2.828427\n"
     ]
    }
   ],
   "source": [
    "for i in [1, 2, 3, -4, -5, 6, 7, 8]:\n",
    "    try:\n",
    "        print(\"%d 的开根号值是 %f\" % (i, math.sqrt(i)))\n",
    "    except:\n",
    "        print(\"无法计算 %d 的开根号值\" % i)"
   ]
  },
  {
   "cell_type": "code",
   "execution_count": 4,
   "metadata": {},
   "outputs": [
    {
     "name": "stdout",
     "output_type": "stream",
     "text": [
      "1 的开根号值是 1.000000\n",
      "2 的开根号值是 1.414214\n",
      "3 的开根号值是 1.732051\n",
      "无法计算 -4 的开根号值\n",
      "无法计算 -5 的开根号值\n",
      "输入 'Python 3'的类型不对，它不是一个数字 \n",
      "7 的开根号值是 2.645751\n",
      "8 的开根号值是 2.828427\n"
     ]
    }
   ],
   "source": [
    "for i in [1, 2, 3, -4, -5, 'Python 3', 7, 8]:                         \n",
    "    #我们还可以对错误进行分类，精细化管理错误；\n",
    "    try:\n",
    "        print(\"%d 的开根号值是 %f\" % (i, math.sqrt(i)))\n",
    "    except ValueError:\n",
    "        print(\"无法计算 %d 的开根号值\" % i)\n",
    "    except TypeError:\n",
    "        print(\"输入 '%s'的类型不对，它不是一个数字 \" % i)"
   ]
  },
  {
   "cell_type": "code",
   "execution_count": 5,
   "metadata": {},
   "outputs": [
    {
     "name": "stdout",
     "output_type": "stream",
     "text": [
      "1 的开根号值是 1.000000\n",
      "计算成功\n",
      "2 的开根号值是 1.414214\n",
      "计算成功\n",
      "3 的开根号值是 1.732051\n",
      "计算成功\n",
      "无法计算 -4 的开根号值\n",
      "无法计算 -5 的开根号值\n",
      "输入 'Python 3 '的类型不对，它不是一个数字 \n",
      "7 的开根号值是 2.645751\n",
      "计算成功\n",
      "8 的开根号值是 2.828427\n",
      "计算成功\n"
     ]
    }
   ],
   "source": [
    "for i in [1, 2, 3, -4, -5, 'Python 3 ', 7, 8]:                                  \n",
    "    #else语句只会在没有程序没有报错的情况下出现；\n",
    "    try:\n",
    "        print(\"%d 的开根号值是 %f\" % (i, math.sqrt(i)))\n",
    "    except ValueError:\n",
    "        print(\"无法计算 %d 的开根号值\" % i)\n",
    "    except TypeError:\n",
    "        print(\"输入 '%s'的类型不对，它不是一个数字 \" % i)\n",
    "    else:  # only if there is no exception\n",
    "        print(\"计算成功\")"
   ]
  },
  {
   "cell_type": "code",
   "execution_count": 6,
   "metadata": {},
   "outputs": [
    {
     "name": "stdout",
     "output_type": "stream",
     "text": [
      "1 的开根号值是 1.000000\n",
      "本次计算成功\n",
      "进行下一次计算\n",
      "\n",
      "2 的开根号值是 1.414214\n",
      "本次计算成功\n",
      "进行下一次计算\n",
      "\n",
      "3 的开根号值是 1.732051\n",
      "本次计算成功\n",
      "进行下一次计算\n",
      "\n",
      "无法计算 -4 的开根号值\n",
      "进行下一次计算\n",
      "\n",
      "无法计算 -5 的开根号值\n",
      "进行下一次计算\n",
      "\n",
      "输入 'Python 3 '的类型不对，它不是一个数字 \n",
      "进行下一次计算\n",
      "\n",
      "7 的开根号值是 2.645751\n",
      "本次计算成功\n",
      "进行下一次计算\n",
      "\n",
      "8 的开根号值是 2.828427\n",
      "本次计算成功\n",
      "进行下一次计算\n",
      "\n"
     ]
    }
   ],
   "source": [
    "for i in [1, 2, 3, -4, -5, 'Python 3 ', 7, 8]:                                   \n",
    "    #finally是不管程序是否出错最终都会执行；\n",
    "    try:\n",
    "        print(\"%d 的开根号值是 %f\" % (i, math.sqrt(i)))\n",
    "    except ValueError:\n",
    "        print(\"无法计算 %d 的开根号值\" % i)\n",
    "    except TypeError:\n",
    "        print(\"输入 '%s'的类型不对，它不是一个数字 \" % i)\n",
    "    else:                                         # 代码没问题时执行；\n",
    "        print(\"本次计算成功\")\n",
    "    finally:                                      # 无论是否发生错误都会执行\n",
    "        print(\"进行下一次计算\\n\")"
   ]
  }
 ],
 "metadata": {
  "anaconda-cloud": {},
  "kernelspec": {
   "display_name": "Python 3",
   "language": "python",
   "name": "python3"
  },
  "language_info": {
   "codemirror_mode": {
    "name": "ipython",
    "version": 3
   },
   "file_extension": ".py",
   "mimetype": "text/x-python",
   "name": "python",
   "nbconvert_exporter": "python",
   "pygments_lexer": "ipython3",
   "version": "3.6.2"
  }
 },
 "nbformat": 4,
 "nbformat_minor": 1
}
