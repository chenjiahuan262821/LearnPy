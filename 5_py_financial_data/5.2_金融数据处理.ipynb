{
 "cells": [
  {
   "cell_type": "markdown",
   "metadata": {},
   "source": [
    "## 金融数据处理"
   ]
  },
  {
   "cell_type": "code",
   "execution_count": 1,
   "metadata": {
    "collapsed": true
   },
   "outputs": [],
   "source": [
    "import pandas as pd\n",
    "import numpy as np\n",
    "import datetime\n",
    "import matplotlib.pyplot as plt\n",
    "import seaborn\n",
    "import tushare as ts\n",
    "%matplotlib inline\n",
    "import warnings; warnings.simplefilter('ignore') #忽略可能会出现的警告信息，警告并不是错误，可以忽略；"
   ]
  },
  {
   "cell_type": "markdown",
   "metadata": {},
   "source": [
    "### 1. 高效获得金融数据"
   ]
  },
  {
   "cell_type": "code",
   "execution_count": 2,
   "metadata": {
    "collapsed": true
   },
   "outputs": [],
   "source": [
    "data = ts.get_k_data(['600030','300149'],  start = '2016-01-01', end = '2017-07-01')     #无法像yahoo一样同时调取多只股票；"
   ]
  },
  {
   "cell_type": "code",
   "execution_count": 3,
   "metadata": {},
   "outputs": [
    {
     "data": {
      "text/html": [
       "<div>\n",
       "<style>\n",
       "    .dataframe thead tr:only-child th {\n",
       "        text-align: right;\n",
       "    }\n",
       "\n",
       "    .dataframe thead th {\n",
       "        text-align: left;\n",
       "    }\n",
       "\n",
       "    .dataframe tbody tr th {\n",
       "        vertical-align: top;\n",
       "    }\n",
       "</style>\n",
       "<table border=\"1\" class=\"dataframe\">\n",
       "  <thead>\n",
       "    <tr style=\"text-align: right;\">\n",
       "      <th></th>\n",
       "    </tr>\n",
       "  </thead>\n",
       "  <tbody>\n",
       "  </tbody>\n",
       "</table>\n",
       "</div>"
      ],
      "text/plain": [
       "Empty DataFrame\n",
       "Columns: []\n",
       "Index: []"
      ]
     },
     "execution_count": 3,
     "metadata": {},
     "output_type": "execute_result"
    }
   ],
   "source": [
    "data.head()"
   ]
  },
  {
   "cell_type": "markdown",
   "metadata": {},
   "source": [
    "**1.1 获取单个对象数据**"
   ]
  },
  {
   "cell_type": "code",
   "execution_count": 2,
   "metadata": {},
   "outputs": [
    {
     "data": {
      "text/html": [
       "<div>\n",
       "<style>\n",
       "    .dataframe thead tr:only-child th {\n",
       "        text-align: right;\n",
       "    }\n",
       "\n",
       "    .dataframe thead th {\n",
       "        text-align: left;\n",
       "    }\n",
       "\n",
       "    .dataframe tbody tr th {\n",
       "        vertical-align: top;\n",
       "    }\n",
       "</style>\n",
       "<table border=\"1\" class=\"dataframe\">\n",
       "  <thead>\n",
       "    <tr style=\"text-align: right;\">\n",
       "      <th></th>\n",
       "      <th>date</th>\n",
       "      <th>open</th>\n",
       "      <th>close</th>\n",
       "      <th>high</th>\n",
       "      <th>low</th>\n",
       "      <th>volume</th>\n",
       "      <th>code</th>\n",
       "    </tr>\n",
       "  </thead>\n",
       "  <tbody>\n",
       "    <tr>\n",
       "      <th>0</th>\n",
       "      <td>2016-01-04</td>\n",
       "      <td>18.356</td>\n",
       "      <td>16.634</td>\n",
       "      <td>18.356</td>\n",
       "      <td>16.577</td>\n",
       "      <td>1960583.0</td>\n",
       "      <td>600030</td>\n",
       "    </tr>\n",
       "    <tr>\n",
       "      <th>1</th>\n",
       "      <td>2016-01-05</td>\n",
       "      <td>15.987</td>\n",
       "      <td>16.795</td>\n",
       "      <td>17.110</td>\n",
       "      <td>15.825</td>\n",
       "      <td>2333291.0</td>\n",
       "      <td>600030</td>\n",
       "    </tr>\n",
       "    <tr>\n",
       "      <th>2</th>\n",
       "      <td>2016-01-06</td>\n",
       "      <td>16.700</td>\n",
       "      <td>17.062</td>\n",
       "      <td>17.271</td>\n",
       "      <td>16.367</td>\n",
       "      <td>1972783.0</td>\n",
       "      <td>600030</td>\n",
       "    </tr>\n",
       "    <tr>\n",
       "      <th>3</th>\n",
       "      <td>2016-01-07</td>\n",
       "      <td>16.634</td>\n",
       "      <td>15.549</td>\n",
       "      <td>16.748</td>\n",
       "      <td>15.416</td>\n",
       "      <td>679037.0</td>\n",
       "      <td>600030</td>\n",
       "    </tr>\n",
       "    <tr>\n",
       "      <th>4</th>\n",
       "      <td>2016-01-08</td>\n",
       "      <td>16.025</td>\n",
       "      <td>16.015</td>\n",
       "      <td>16.596</td>\n",
       "      <td>15.225</td>\n",
       "      <td>2979253.0</td>\n",
       "      <td>600030</td>\n",
       "    </tr>\n",
       "  </tbody>\n",
       "</table>\n",
       "</div>"
      ],
      "text/plain": [
       "         date    open   close    high     low     volume    code\n",
       "0  2016-01-04  18.356  16.634  18.356  16.577  1960583.0  600030\n",
       "1  2016-01-05  15.987  16.795  17.110  15.825  2333291.0  600030\n",
       "2  2016-01-06  16.700  17.062  17.271  16.367  1972783.0  600030\n",
       "3  2016-01-07  16.634  15.549  16.748  15.416   679037.0  600030\n",
       "4  2016-01-08  16.025  16.015  16.596  15.225  2979253.0  600030"
      ]
     },
     "execution_count": 2,
     "metadata": {},
     "output_type": "execute_result"
    }
   ],
   "source": [
    "#获得中信证券的股价信息\n",
    "zxzq = ts.get_k_data('600030', start = '2016-01-01', end = '2017-07-01')\n",
    "zxzq.head()"
   ]
  },
  {
   "cell_type": "code",
   "execution_count": 3,
   "metadata": {},
   "outputs": [
    {
     "data": {
      "text/html": [
       "<div>\n",
       "<style>\n",
       "    .dataframe thead tr:only-child th {\n",
       "        text-align: right;\n",
       "    }\n",
       "\n",
       "    .dataframe thead th {\n",
       "        text-align: left;\n",
       "    }\n",
       "\n",
       "    .dataframe tbody tr th {\n",
       "        vertical-align: top;\n",
       "    }\n",
       "</style>\n",
       "<table border=\"1\" class=\"dataframe\">\n",
       "  <thead>\n",
       "    <tr style=\"text-align: right;\">\n",
       "      <th></th>\n",
       "      <th>open</th>\n",
       "      <th>close</th>\n",
       "      <th>high</th>\n",
       "      <th>low</th>\n",
       "      <th>volume</th>\n",
       "      <th>code</th>\n",
       "    </tr>\n",
       "    <tr>\n",
       "      <th>date</th>\n",
       "      <th></th>\n",
       "      <th></th>\n",
       "      <th></th>\n",
       "      <th></th>\n",
       "      <th></th>\n",
       "      <th></th>\n",
       "    </tr>\n",
       "  </thead>\n",
       "  <tbody>\n",
       "    <tr>\n",
       "      <th>2016-01-04</th>\n",
       "      <td>3725.86</td>\n",
       "      <td>3470.41</td>\n",
       "      <td>3726.25</td>\n",
       "      <td>3469.01</td>\n",
       "      <td>115370674.0</td>\n",
       "      <td>hs300</td>\n",
       "    </tr>\n",
       "    <tr>\n",
       "      <th>2016-01-05</th>\n",
       "      <td>3382.18</td>\n",
       "      <td>3478.78</td>\n",
       "      <td>3518.22</td>\n",
       "      <td>3377.28</td>\n",
       "      <td>162116984.0</td>\n",
       "      <td>hs300</td>\n",
       "    </tr>\n",
       "    <tr>\n",
       "      <th>2016-01-06</th>\n",
       "      <td>3482.41</td>\n",
       "      <td>3539.81</td>\n",
       "      <td>3543.74</td>\n",
       "      <td>3468.47</td>\n",
       "      <td>145966144.0</td>\n",
       "      <td>hs300</td>\n",
       "    </tr>\n",
       "    <tr>\n",
       "      <th>2016-01-07</th>\n",
       "      <td>3481.15</td>\n",
       "      <td>3294.38</td>\n",
       "      <td>3481.15</td>\n",
       "      <td>3284.74</td>\n",
       "      <td>44102641.0</td>\n",
       "      <td>hs300</td>\n",
       "    </tr>\n",
       "    <tr>\n",
       "      <th>2016-01-08</th>\n",
       "      <td>3371.87</td>\n",
       "      <td>3361.56</td>\n",
       "      <td>3418.85</td>\n",
       "      <td>3237.93</td>\n",
       "      <td>185959451.0</td>\n",
       "      <td>hs300</td>\n",
       "    </tr>\n",
       "  </tbody>\n",
       "</table>\n",
       "</div>"
      ],
      "text/plain": [
       "               open    close     high      low       volume   code\n",
       "date                                                              \n",
       "2016-01-04  3725.86  3470.41  3726.25  3469.01  115370674.0  hs300\n",
       "2016-01-05  3382.18  3478.78  3518.22  3377.28  162116984.0  hs300\n",
       "2016-01-06  3482.41  3539.81  3543.74  3468.47  145966144.0  hs300\n",
       "2016-01-07  3481.15  3294.38  3481.15  3284.74   44102641.0  hs300\n",
       "2016-01-08  3371.87  3361.56  3418.85  3237.93  185959451.0  hs300"
      ]
     },
     "execution_count": 3,
     "metadata": {},
     "output_type": "execute_result"
    }
   ],
   "source": [
    "# 获得指数数据\n",
    "hs300 = ts.get_k_data('hs300',start = '2016-01-01', end = '2017-07-01')\n",
    "hs300.set_index('date', inplace = True)\n",
    "hs300.index = pd.to_datetime(hs300.index)\n",
    "hs300.head()"
   ]
  },
  {
   "cell_type": "code",
   "execution_count": 4,
   "metadata": {},
   "outputs": [
    {
     "name": "stdout",
     "output_type": "stream",
     "text": [
      "<class 'pandas.core.frame.DataFrame'>\n",
      "DatetimeIndex: 363 entries, 2016-01-04 to 2017-06-30\n",
      "Data columns (total 6 columns):\n",
      "open      363 non-null float64\n",
      "close     363 non-null float64\n",
      "high      363 non-null float64\n",
      "low       363 non-null float64\n",
      "volume    363 non-null float64\n",
      "code      363 non-null object\n",
      "dtypes: float64(5), object(1)\n",
      "memory usage: 19.9+ KB\n"
     ]
    }
   ],
   "source": [
    "hs300.info()"
   ]
  },
  {
   "cell_type": "markdown",
   "metadata": {},
   "source": [
    "####  1.2 同时获取多只股价信息"
   ]
  },
  {
   "cell_type": "code",
   "execution_count": 5,
   "metadata": {},
   "outputs": [],
   "source": [
    "# 编写函数同时获得多只股票的数据\n",
    "def multiple_stocks(tickers):\n",
    "    def data(ticker):\n",
    "        stocks = ts.get_k_data(ticker,start = '2016-01-01', end = '2017-07-01')    #定义了stocks这个daraFrame；\n",
    "        stocks.set_index('date',inplace = True)\n",
    "        stocks.index = pd.to_datetime(stocks.index)      #要把日期时间parse成python支持的datetime格式，不然很多python层面的操作无法完成；\n",
    "        return  stocks             #返回的是进行完处理的stcoks这个DataFrame；\n",
    "        \n",
    "    datas = map(data, tickers)\n",
    "    \n",
    "    return pd.concat(datas, keys=tickers, names=['Ticker', 'Date'])    #multiple_stocks函数返回的是拼接后的大DataFrame"
   ]
  },
  {
   "cell_type": "code",
   "execution_count": 6,
   "metadata": {},
   "outputs": [
    {
     "data": {
      "text/html": [
       "<div>\n",
       "<style>\n",
       "    .dataframe thead tr:only-child th {\n",
       "        text-align: right;\n",
       "    }\n",
       "\n",
       "    .dataframe thead th {\n",
       "        text-align: left;\n",
       "    }\n",
       "\n",
       "    .dataframe tbody tr th {\n",
       "        vertical-align: top;\n",
       "    }\n",
       "</style>\n",
       "<table border=\"1\" class=\"dataframe\">\n",
       "  <thead>\n",
       "    <tr style=\"text-align: right;\">\n",
       "      <th></th>\n",
       "      <th></th>\n",
       "      <th>open</th>\n",
       "      <th>close</th>\n",
       "      <th>high</th>\n",
       "      <th>low</th>\n",
       "      <th>volume</th>\n",
       "      <th>code</th>\n",
       "    </tr>\n",
       "    <tr>\n",
       "      <th>Ticker</th>\n",
       "      <th>Date</th>\n",
       "      <th></th>\n",
       "      <th></th>\n",
       "      <th></th>\n",
       "      <th></th>\n",
       "      <th></th>\n",
       "      <th></th>\n",
       "    </tr>\n",
       "  </thead>\n",
       "  <tbody>\n",
       "    <tr>\n",
       "      <th rowspan=\"5\" valign=\"top\">600030</th>\n",
       "      <th>2016-01-04</th>\n",
       "      <td>18.356</td>\n",
       "      <td>16.634</td>\n",
       "      <td>18.356</td>\n",
       "      <td>16.577</td>\n",
       "      <td>1960583.0</td>\n",
       "      <td>600030</td>\n",
       "    </tr>\n",
       "    <tr>\n",
       "      <th>2016-01-05</th>\n",
       "      <td>15.987</td>\n",
       "      <td>16.795</td>\n",
       "      <td>17.110</td>\n",
       "      <td>15.825</td>\n",
       "      <td>2333291.0</td>\n",
       "      <td>600030</td>\n",
       "    </tr>\n",
       "    <tr>\n",
       "      <th>2016-01-06</th>\n",
       "      <td>16.700</td>\n",
       "      <td>17.062</td>\n",
       "      <td>17.271</td>\n",
       "      <td>16.367</td>\n",
       "      <td>1972783.0</td>\n",
       "      <td>600030</td>\n",
       "    </tr>\n",
       "    <tr>\n",
       "      <th>2016-01-07</th>\n",
       "      <td>16.634</td>\n",
       "      <td>15.549</td>\n",
       "      <td>16.748</td>\n",
       "      <td>15.416</td>\n",
       "      <td>679037.0</td>\n",
       "      <td>600030</td>\n",
       "    </tr>\n",
       "    <tr>\n",
       "      <th>2016-01-08</th>\n",
       "      <td>16.025</td>\n",
       "      <td>16.015</td>\n",
       "      <td>16.596</td>\n",
       "      <td>15.225</td>\n",
       "      <td>2979253.0</td>\n",
       "      <td>600030</td>\n",
       "    </tr>\n",
       "  </tbody>\n",
       "</table>\n",
       "</div>"
      ],
      "text/plain": [
       "                     open   close    high     low     volume    code\n",
       "Ticker Date                                                         \n",
       "600030 2016-01-04  18.356  16.634  18.356  16.577  1960583.0  600030\n",
       "       2016-01-05  15.987  16.795  17.110  15.825  2333291.0  600030\n",
       "       2016-01-06  16.700  17.062  17.271  16.367  1972783.0  600030\n",
       "       2016-01-07  16.634  15.549  16.748  15.416   679037.0  600030\n",
       "       2016-01-08  16.025  16.015  16.596  15.225  2979253.0  600030"
      ]
     },
     "execution_count": 6,
     "metadata": {},
     "output_type": "execute_result"
    }
   ],
   "source": [
    "# 获得以下三只股票数据\n",
    "tickers = ['600030', '000001','600426']\n",
    "all_stocks = multiple_stocks(tickers)\n",
    "all_stocks.head()"
   ]
  },
  {
   "cell_type": "markdown",
   "metadata": {},
   "source": [
    "#### 1.3 Muliple_stocks函数的背后思想 "
   ]
  },
  {
   "cell_type": "code",
   "execution_count": 7,
   "metadata": {},
   "outputs": [
    {
     "data": {
      "text/html": [
       "<div>\n",
       "<style>\n",
       "    .dataframe thead tr:only-child th {\n",
       "        text-align: right;\n",
       "    }\n",
       "\n",
       "    .dataframe thead th {\n",
       "        text-align: left;\n",
       "    }\n",
       "\n",
       "    .dataframe tbody tr th {\n",
       "        vertical-align: top;\n",
       "    }\n",
       "</style>\n",
       "<table border=\"1\" class=\"dataframe\">\n",
       "  <thead>\n",
       "    <tr style=\"text-align: right;\">\n",
       "      <th></th>\n",
       "      <th>open</th>\n",
       "      <th>close</th>\n",
       "      <th>high</th>\n",
       "      <th>low</th>\n",
       "      <th>volume</th>\n",
       "      <th>code</th>\n",
       "    </tr>\n",
       "    <tr>\n",
       "      <th>date</th>\n",
       "      <th></th>\n",
       "      <th></th>\n",
       "      <th></th>\n",
       "      <th></th>\n",
       "      <th></th>\n",
       "      <th></th>\n",
       "    </tr>\n",
       "  </thead>\n",
       "  <tbody>\n",
       "    <tr>\n",
       "      <th>2017-01-03</th>\n",
       "      <td>15.752</td>\n",
       "      <td>15.860</td>\n",
       "      <td>15.899</td>\n",
       "      <td>15.713</td>\n",
       "      <td>623069.0</td>\n",
       "      <td>600030</td>\n",
       "    </tr>\n",
       "    <tr>\n",
       "      <th>2017-01-04</th>\n",
       "      <td>15.850</td>\n",
       "      <td>15.889</td>\n",
       "      <td>15.938</td>\n",
       "      <td>15.801</td>\n",
       "      <td>516717.0</td>\n",
       "      <td>600030</td>\n",
       "    </tr>\n",
       "    <tr>\n",
       "      <th>2017-01-05</th>\n",
       "      <td>15.909</td>\n",
       "      <td>15.821</td>\n",
       "      <td>15.928</td>\n",
       "      <td>15.791</td>\n",
       "      <td>478622.0</td>\n",
       "      <td>600030</td>\n",
       "    </tr>\n",
       "    <tr>\n",
       "      <th>2017-01-06</th>\n",
       "      <td>15.840</td>\n",
       "      <td>15.683</td>\n",
       "      <td>15.840</td>\n",
       "      <td>15.664</td>\n",
       "      <td>516640.0</td>\n",
       "      <td>600030</td>\n",
       "    </tr>\n",
       "    <tr>\n",
       "      <th>2017-01-09</th>\n",
       "      <td>15.683</td>\n",
       "      <td>15.742</td>\n",
       "      <td>15.791</td>\n",
       "      <td>15.644</td>\n",
       "      <td>398407.0</td>\n",
       "      <td>600030</td>\n",
       "    </tr>\n",
       "  </tbody>\n",
       "</table>\n",
       "</div>"
      ],
      "text/plain": [
       "              open   close    high     low    volume    code\n",
       "date                                                        \n",
       "2017-01-03  15.752  15.860  15.899  15.713  623069.0  600030\n",
       "2017-01-04  15.850  15.889  15.938  15.801  516717.0  600030\n",
       "2017-01-05  15.909  15.821  15.928  15.791  478622.0  600030\n",
       "2017-01-06  15.840  15.683  15.840  15.664  516640.0  600030\n",
       "2017-01-09  15.683  15.742  15.791  15.644  398407.0  600030"
      ]
     },
     "execution_count": 7,
     "metadata": {},
     "output_type": "execute_result"
    }
   ],
   "source": [
    "stocks = ['600030', '002397', '000001']\n",
    "\n",
    "stock_data0 = ts.get_k_data(stocks[0], start='2017-01-01', end='2017-01-15')\n",
    "stock_data0.index = pd.to_datetime(stock_data0['date'])\n",
    "del stock_data0['date']\n",
    "stock_data0.head()"
   ]
  },
  {
   "cell_type": "code",
   "execution_count": 8,
   "metadata": {},
   "outputs": [
    {
     "data": {
      "text/html": [
       "<div>\n",
       "<style>\n",
       "    .dataframe thead tr:only-child th {\n",
       "        text-align: right;\n",
       "    }\n",
       "\n",
       "    .dataframe thead th {\n",
       "        text-align: left;\n",
       "    }\n",
       "\n",
       "    .dataframe tbody tr th {\n",
       "        vertical-align: top;\n",
       "    }\n",
       "</style>\n",
       "<table border=\"1\" class=\"dataframe\">\n",
       "  <thead>\n",
       "    <tr style=\"text-align: right;\">\n",
       "      <th></th>\n",
       "      <th>open</th>\n",
       "      <th>close</th>\n",
       "      <th>high</th>\n",
       "      <th>low</th>\n",
       "      <th>volume</th>\n",
       "      <th>code</th>\n",
       "    </tr>\n",
       "    <tr>\n",
       "      <th>date</th>\n",
       "      <th></th>\n",
       "      <th></th>\n",
       "      <th></th>\n",
       "      <th></th>\n",
       "      <th></th>\n",
       "      <th></th>\n",
       "    </tr>\n",
       "  </thead>\n",
       "  <tbody>\n",
       "    <tr>\n",
       "      <th>2017-01-03</th>\n",
       "      <td>8.020</td>\n",
       "      <td>8.098</td>\n",
       "      <td>8.128</td>\n",
       "      <td>8.020</td>\n",
       "      <td>24060.0</td>\n",
       "      <td>002397</td>\n",
       "    </tr>\n",
       "    <tr>\n",
       "      <th>2017-01-04</th>\n",
       "      <td>8.118</td>\n",
       "      <td>8.207</td>\n",
       "      <td>8.207</td>\n",
       "      <td>8.079</td>\n",
       "      <td>21333.0</td>\n",
       "      <td>002397</td>\n",
       "    </tr>\n",
       "    <tr>\n",
       "      <th>2017-01-05</th>\n",
       "      <td>8.207</td>\n",
       "      <td>8.690</td>\n",
       "      <td>8.857</td>\n",
       "      <td>8.138</td>\n",
       "      <td>157711.0</td>\n",
       "      <td>002397</td>\n",
       "    </tr>\n",
       "    <tr>\n",
       "      <th>2017-01-06</th>\n",
       "      <td>8.532</td>\n",
       "      <td>8.345</td>\n",
       "      <td>8.640</td>\n",
       "      <td>8.335</td>\n",
       "      <td>80911.0</td>\n",
       "      <td>002397</td>\n",
       "    </tr>\n",
       "    <tr>\n",
       "      <th>2017-01-09</th>\n",
       "      <td>8.266</td>\n",
       "      <td>8.345</td>\n",
       "      <td>8.384</td>\n",
       "      <td>8.266</td>\n",
       "      <td>44401.0</td>\n",
       "      <td>002397</td>\n",
       "    </tr>\n",
       "  </tbody>\n",
       "</table>\n",
       "</div>"
      ],
      "text/plain": [
       "             open  close   high    low    volume    code\n",
       "date                                                    \n",
       "2017-01-03  8.020  8.098  8.128  8.020   24060.0  002397\n",
       "2017-01-04  8.118  8.207  8.207  8.079   21333.0  002397\n",
       "2017-01-05  8.207  8.690  8.857  8.138  157711.0  002397\n",
       "2017-01-06  8.532  8.345  8.640  8.335   80911.0  002397\n",
       "2017-01-09  8.266  8.345  8.384  8.266   44401.0  002397"
      ]
     },
     "execution_count": 8,
     "metadata": {},
     "output_type": "execute_result"
    }
   ],
   "source": [
    "stock_data1 = ts.get_k_data(stocks[1], start='2017-01-01', end='2017-01-15')\n",
    "stock_data1.index = pd.to_datetime(stock_data1['date'])\n",
    "del stock_data1['date']\n",
    "stock_data1.head()"
   ]
  },
  {
   "cell_type": "code",
   "execution_count": 9,
   "metadata": {},
   "outputs": [
    {
     "data": {
      "text/html": [
       "<div>\n",
       "<style>\n",
       "    .dataframe thead tr:only-child th {\n",
       "        text-align: right;\n",
       "    }\n",
       "\n",
       "    .dataframe thead th {\n",
       "        text-align: left;\n",
       "    }\n",
       "\n",
       "    .dataframe tbody tr th {\n",
       "        vertical-align: top;\n",
       "    }\n",
       "</style>\n",
       "<table border=\"1\" class=\"dataframe\">\n",
       "  <thead>\n",
       "    <tr style=\"text-align: right;\">\n",
       "      <th></th>\n",
       "      <th>open</th>\n",
       "      <th>close</th>\n",
       "      <th>high</th>\n",
       "      <th>low</th>\n",
       "      <th>volume</th>\n",
       "      <th>code</th>\n",
       "    </tr>\n",
       "    <tr>\n",
       "      <th>date</th>\n",
       "      <th></th>\n",
       "      <th></th>\n",
       "      <th></th>\n",
       "      <th></th>\n",
       "      <th></th>\n",
       "      <th></th>\n",
       "    </tr>\n",
       "  </thead>\n",
       "  <tbody>\n",
       "    <tr>\n",
       "      <th>2017-01-03</th>\n",
       "      <td>8.977</td>\n",
       "      <td>9.026</td>\n",
       "      <td>9.046</td>\n",
       "      <td>8.957</td>\n",
       "      <td>459840.0</td>\n",
       "      <td>000001</td>\n",
       "    </tr>\n",
       "    <tr>\n",
       "      <th>2017-01-04</th>\n",
       "      <td>9.016</td>\n",
       "      <td>9.026</td>\n",
       "      <td>9.046</td>\n",
       "      <td>9.007</td>\n",
       "      <td>449329.0</td>\n",
       "      <td>000001</td>\n",
       "    </tr>\n",
       "    <tr>\n",
       "      <th>2017-01-05</th>\n",
       "      <td>9.036</td>\n",
       "      <td>9.036</td>\n",
       "      <td>9.046</td>\n",
       "      <td>9.016</td>\n",
       "      <td>344372.0</td>\n",
       "      <td>000001</td>\n",
       "    </tr>\n",
       "    <tr>\n",
       "      <th>2017-01-06</th>\n",
       "      <td>9.036</td>\n",
       "      <td>8.997</td>\n",
       "      <td>9.036</td>\n",
       "      <td>8.977</td>\n",
       "      <td>358154.0</td>\n",
       "      <td>000001</td>\n",
       "    </tr>\n",
       "    <tr>\n",
       "      <th>2017-01-09</th>\n",
       "      <td>8.997</td>\n",
       "      <td>9.016</td>\n",
       "      <td>9.036</td>\n",
       "      <td>8.977</td>\n",
       "      <td>361081.0</td>\n",
       "      <td>000001</td>\n",
       "    </tr>\n",
       "  </tbody>\n",
       "</table>\n",
       "</div>"
      ],
      "text/plain": [
       "             open  close   high    low    volume    code\n",
       "date                                                    \n",
       "2017-01-03  8.977  9.026  9.046  8.957  459840.0  000001\n",
       "2017-01-04  9.016  9.026  9.046  9.007  449329.0  000001\n",
       "2017-01-05  9.036  9.036  9.046  9.016  344372.0  000001\n",
       "2017-01-06  9.036  8.997  9.036  8.977  358154.0  000001\n",
       "2017-01-09  8.997  9.016  9.036  8.977  361081.0  000001"
      ]
     },
     "execution_count": 9,
     "metadata": {},
     "output_type": "execute_result"
    }
   ],
   "source": [
    "stock_data2 = ts.get_k_data(stocks[2], start='2017-01-01', end='2017-01-15')\n",
    "stock_data2.index = pd.to_datetime(stock_data2['date'])\n",
    "del stock_data2['date']\n",
    "stock_data2.head()"
   ]
  },
  {
   "cell_type": "code",
   "execution_count": 10,
   "metadata": {},
   "outputs": [
    {
     "data": {
      "text/html": [
       "<div>\n",
       "<style>\n",
       "    .dataframe thead tr:only-child th {\n",
       "        text-align: right;\n",
       "    }\n",
       "\n",
       "    .dataframe thead th {\n",
       "        text-align: left;\n",
       "    }\n",
       "\n",
       "    .dataframe tbody tr th {\n",
       "        vertical-align: top;\n",
       "    }\n",
       "</style>\n",
       "<table border=\"1\" class=\"dataframe\">\n",
       "  <thead>\n",
       "    <tr style=\"text-align: right;\">\n",
       "      <th></th>\n",
       "      <th></th>\n",
       "      <th>open</th>\n",
       "      <th>close</th>\n",
       "      <th>high</th>\n",
       "      <th>low</th>\n",
       "      <th>volume</th>\n",
       "      <th>code</th>\n",
       "    </tr>\n",
       "    <tr>\n",
       "      <th>code</th>\n",
       "      <th>date</th>\n",
       "      <th></th>\n",
       "      <th></th>\n",
       "      <th></th>\n",
       "      <th></th>\n",
       "      <th></th>\n",
       "      <th></th>\n",
       "    </tr>\n",
       "  </thead>\n",
       "  <tbody>\n",
       "    <tr>\n",
       "      <th rowspan=\"9\" valign=\"top\">600030</th>\n",
       "      <th>2017-01-03</th>\n",
       "      <td>15.752</td>\n",
       "      <td>15.860</td>\n",
       "      <td>15.899</td>\n",
       "      <td>15.713</td>\n",
       "      <td>623069.0</td>\n",
       "      <td>600030</td>\n",
       "    </tr>\n",
       "    <tr>\n",
       "      <th>2017-01-04</th>\n",
       "      <td>15.850</td>\n",
       "      <td>15.889</td>\n",
       "      <td>15.938</td>\n",
       "      <td>15.801</td>\n",
       "      <td>516717.0</td>\n",
       "      <td>600030</td>\n",
       "    </tr>\n",
       "    <tr>\n",
       "      <th>2017-01-05</th>\n",
       "      <td>15.909</td>\n",
       "      <td>15.821</td>\n",
       "      <td>15.928</td>\n",
       "      <td>15.791</td>\n",
       "      <td>478622.0</td>\n",
       "      <td>600030</td>\n",
       "    </tr>\n",
       "    <tr>\n",
       "      <th>2017-01-06</th>\n",
       "      <td>15.840</td>\n",
       "      <td>15.683</td>\n",
       "      <td>15.840</td>\n",
       "      <td>15.664</td>\n",
       "      <td>516640.0</td>\n",
       "      <td>600030</td>\n",
       "    </tr>\n",
       "    <tr>\n",
       "      <th>2017-01-09</th>\n",
       "      <td>15.683</td>\n",
       "      <td>15.742</td>\n",
       "      <td>15.791</td>\n",
       "      <td>15.644</td>\n",
       "      <td>398407.0</td>\n",
       "      <td>600030</td>\n",
       "    </tr>\n",
       "    <tr>\n",
       "      <th>2017-01-10</th>\n",
       "      <td>15.703</td>\n",
       "      <td>15.781</td>\n",
       "      <td>15.879</td>\n",
       "      <td>15.693</td>\n",
       "      <td>454018.0</td>\n",
       "      <td>600030</td>\n",
       "    </tr>\n",
       "    <tr>\n",
       "      <th>2017-01-11</th>\n",
       "      <td>15.811</td>\n",
       "      <td>15.772</td>\n",
       "      <td>15.909</td>\n",
       "      <td>15.772</td>\n",
       "      <td>398776.0</td>\n",
       "      <td>600030</td>\n",
       "    </tr>\n",
       "    <tr>\n",
       "      <th>2017-01-12</th>\n",
       "      <td>15.781</td>\n",
       "      <td>15.821</td>\n",
       "      <td>15.948</td>\n",
       "      <td>15.762</td>\n",
       "      <td>559594.0</td>\n",
       "      <td>600030</td>\n",
       "    </tr>\n",
       "    <tr>\n",
       "      <th>2017-01-13</th>\n",
       "      <td>15.811</td>\n",
       "      <td>15.879</td>\n",
       "      <td>16.017</td>\n",
       "      <td>15.693</td>\n",
       "      <td>825208.0</td>\n",
       "      <td>600030</td>\n",
       "    </tr>\n",
       "    <tr>\n",
       "      <th rowspan=\"9\" valign=\"top\">002397</th>\n",
       "      <th>2017-01-03</th>\n",
       "      <td>8.020</td>\n",
       "      <td>8.098</td>\n",
       "      <td>8.128</td>\n",
       "      <td>8.020</td>\n",
       "      <td>24060.0</td>\n",
       "      <td>002397</td>\n",
       "    </tr>\n",
       "    <tr>\n",
       "      <th>2017-01-04</th>\n",
       "      <td>8.118</td>\n",
       "      <td>8.207</td>\n",
       "      <td>8.207</td>\n",
       "      <td>8.079</td>\n",
       "      <td>21333.0</td>\n",
       "      <td>002397</td>\n",
       "    </tr>\n",
       "    <tr>\n",
       "      <th>2017-01-05</th>\n",
       "      <td>8.207</td>\n",
       "      <td>8.690</td>\n",
       "      <td>8.857</td>\n",
       "      <td>8.138</td>\n",
       "      <td>157711.0</td>\n",
       "      <td>002397</td>\n",
       "    </tr>\n",
       "    <tr>\n",
       "      <th>2017-01-06</th>\n",
       "      <td>8.532</td>\n",
       "      <td>8.345</td>\n",
       "      <td>8.640</td>\n",
       "      <td>8.335</td>\n",
       "      <td>80911.0</td>\n",
       "      <td>002397</td>\n",
       "    </tr>\n",
       "    <tr>\n",
       "      <th>2017-01-09</th>\n",
       "      <td>8.266</td>\n",
       "      <td>8.345</td>\n",
       "      <td>8.384</td>\n",
       "      <td>8.266</td>\n",
       "      <td>44401.0</td>\n",
       "      <td>002397</td>\n",
       "    </tr>\n",
       "    <tr>\n",
       "      <th>2017-01-10</th>\n",
       "      <td>8.345</td>\n",
       "      <td>8.286</td>\n",
       "      <td>8.404</td>\n",
       "      <td>8.276</td>\n",
       "      <td>29406.0</td>\n",
       "      <td>002397</td>\n",
       "    </tr>\n",
       "    <tr>\n",
       "      <th>2017-01-11</th>\n",
       "      <td>8.286</td>\n",
       "      <td>8.197</td>\n",
       "      <td>8.286</td>\n",
       "      <td>8.177</td>\n",
       "      <td>26046.0</td>\n",
       "      <td>002397</td>\n",
       "    </tr>\n",
       "    <tr>\n",
       "      <th>2017-01-12</th>\n",
       "      <td>8.226</td>\n",
       "      <td>8.049</td>\n",
       "      <td>8.236</td>\n",
       "      <td>8.039</td>\n",
       "      <td>29279.0</td>\n",
       "      <td>002397</td>\n",
       "    </tr>\n",
       "    <tr>\n",
       "      <th>2017-01-13</th>\n",
       "      <td>8.049</td>\n",
       "      <td>8.010</td>\n",
       "      <td>8.098</td>\n",
       "      <td>7.990</td>\n",
       "      <td>18457.0</td>\n",
       "      <td>002397</td>\n",
       "    </tr>\n",
       "    <tr>\n",
       "      <th rowspan=\"9\" valign=\"top\">000001</th>\n",
       "      <th>2017-01-03</th>\n",
       "      <td>8.977</td>\n",
       "      <td>9.026</td>\n",
       "      <td>9.046</td>\n",
       "      <td>8.957</td>\n",
       "      <td>459840.0</td>\n",
       "      <td>000001</td>\n",
       "    </tr>\n",
       "    <tr>\n",
       "      <th>2017-01-04</th>\n",
       "      <td>9.016</td>\n",
       "      <td>9.026</td>\n",
       "      <td>9.046</td>\n",
       "      <td>9.007</td>\n",
       "      <td>449329.0</td>\n",
       "      <td>000001</td>\n",
       "    </tr>\n",
       "    <tr>\n",
       "      <th>2017-01-05</th>\n",
       "      <td>9.036</td>\n",
       "      <td>9.036</td>\n",
       "      <td>9.046</td>\n",
       "      <td>9.016</td>\n",
       "      <td>344372.0</td>\n",
       "      <td>000001</td>\n",
       "    </tr>\n",
       "    <tr>\n",
       "      <th>2017-01-06</th>\n",
       "      <td>9.036</td>\n",
       "      <td>8.997</td>\n",
       "      <td>9.036</td>\n",
       "      <td>8.977</td>\n",
       "      <td>358154.0</td>\n",
       "      <td>000001</td>\n",
       "    </tr>\n",
       "    <tr>\n",
       "      <th>2017-01-09</th>\n",
       "      <td>8.997</td>\n",
       "      <td>9.016</td>\n",
       "      <td>9.036</td>\n",
       "      <td>8.977</td>\n",
       "      <td>361081.0</td>\n",
       "      <td>000001</td>\n",
       "    </tr>\n",
       "    <tr>\n",
       "      <th>2017-01-10</th>\n",
       "      <td>9.016</td>\n",
       "      <td>9.016</td>\n",
       "      <td>9.026</td>\n",
       "      <td>9.007</td>\n",
       "      <td>241053.0</td>\n",
       "      <td>000001</td>\n",
       "    </tr>\n",
       "    <tr>\n",
       "      <th>2017-01-11</th>\n",
       "      <td>9.007</td>\n",
       "      <td>9.007</td>\n",
       "      <td>9.036</td>\n",
       "      <td>8.997</td>\n",
       "      <td>303430.0</td>\n",
       "      <td>000001</td>\n",
       "    </tr>\n",
       "    <tr>\n",
       "      <th>2017-01-12</th>\n",
       "      <td>8.997</td>\n",
       "      <td>9.016</td>\n",
       "      <td>9.036</td>\n",
       "      <td>8.997</td>\n",
       "      <td>428006.0</td>\n",
       "      <td>000001</td>\n",
       "    </tr>\n",
       "    <tr>\n",
       "      <th>2017-01-13</th>\n",
       "      <td>9.007</td>\n",
       "      <td>9.026</td>\n",
       "      <td>9.056</td>\n",
       "      <td>8.987</td>\n",
       "      <td>434301.0</td>\n",
       "      <td>000001</td>\n",
       "    </tr>\n",
       "  </tbody>\n",
       "</table>\n",
       "</div>"
      ],
      "text/plain": [
       "                     open   close    high     low    volume    code\n",
       "code   date                                                        \n",
       "600030 2017-01-03  15.752  15.860  15.899  15.713  623069.0  600030\n",
       "       2017-01-04  15.850  15.889  15.938  15.801  516717.0  600030\n",
       "       2017-01-05  15.909  15.821  15.928  15.791  478622.0  600030\n",
       "       2017-01-06  15.840  15.683  15.840  15.664  516640.0  600030\n",
       "       2017-01-09  15.683  15.742  15.791  15.644  398407.0  600030\n",
       "       2017-01-10  15.703  15.781  15.879  15.693  454018.0  600030\n",
       "       2017-01-11  15.811  15.772  15.909  15.772  398776.0  600030\n",
       "       2017-01-12  15.781  15.821  15.948  15.762  559594.0  600030\n",
       "       2017-01-13  15.811  15.879  16.017  15.693  825208.0  600030\n",
       "002397 2017-01-03   8.020   8.098   8.128   8.020   24060.0  002397\n",
       "       2017-01-04   8.118   8.207   8.207   8.079   21333.0  002397\n",
       "       2017-01-05   8.207   8.690   8.857   8.138  157711.0  002397\n",
       "       2017-01-06   8.532   8.345   8.640   8.335   80911.0  002397\n",
       "       2017-01-09   8.266   8.345   8.384   8.266   44401.0  002397\n",
       "       2017-01-10   8.345   8.286   8.404   8.276   29406.0  002397\n",
       "       2017-01-11   8.286   8.197   8.286   8.177   26046.0  002397\n",
       "       2017-01-12   8.226   8.049   8.236   8.039   29279.0  002397\n",
       "       2017-01-13   8.049   8.010   8.098   7.990   18457.0  002397\n",
       "000001 2017-01-03   8.977   9.026   9.046   8.957  459840.0  000001\n",
       "       2017-01-04   9.016   9.026   9.046   9.007  449329.0  000001\n",
       "       2017-01-05   9.036   9.036   9.046   9.016  344372.0  000001\n",
       "       2017-01-06   9.036   8.997   9.036   8.977  358154.0  000001\n",
       "       2017-01-09   8.997   9.016   9.036   8.977  361081.0  000001\n",
       "       2017-01-10   9.016   9.016   9.026   9.007  241053.0  000001\n",
       "       2017-01-11   9.007   9.007   9.036   8.997  303430.0  000001\n",
       "       2017-01-12   8.997   9.016   9.036   8.997  428006.0  000001\n",
       "       2017-01-13   9.007   9.026   9.056   8.987  434301.0  000001"
      ]
     },
     "execution_count": 10,
     "metadata": {},
     "output_type": "execute_result"
    }
   ],
   "source": [
    "pd.concat([stock_data0, stock_data1, stock_data2], keys=stocks, names=['code', 'date'])"
   ]
  },
  {
   "cell_type": "markdown",
   "metadata": {},
   "source": [
    "### 2. 金融数据可视化"
   ]
  },
  {
   "cell_type": "code",
   "execution_count": 11,
   "metadata": {},
   "outputs": [
    {
     "data": {
      "text/html": [
       "<div>\n",
       "<style>\n",
       "    .dataframe thead tr:only-child th {\n",
       "        text-align: right;\n",
       "    }\n",
       "\n",
       "    .dataframe thead th {\n",
       "        text-align: left;\n",
       "    }\n",
       "\n",
       "    .dataframe tbody tr th {\n",
       "        vertical-align: top;\n",
       "    }\n",
       "</style>\n",
       "<table border=\"1\" class=\"dataframe\">\n",
       "  <thead>\n",
       "    <tr style=\"text-align: right;\">\n",
       "      <th></th>\n",
       "      <th>Ticker</th>\n",
       "      <th>Date</th>\n",
       "      <th>close</th>\n",
       "    </tr>\n",
       "  </thead>\n",
       "  <tbody>\n",
       "    <tr>\n",
       "      <th>0</th>\n",
       "      <td>600030</td>\n",
       "      <td>2016-01-04</td>\n",
       "      <td>16.634</td>\n",
       "    </tr>\n",
       "    <tr>\n",
       "      <th>1</th>\n",
       "      <td>600030</td>\n",
       "      <td>2016-01-05</td>\n",
       "      <td>16.795</td>\n",
       "    </tr>\n",
       "    <tr>\n",
       "      <th>2</th>\n",
       "      <td>600030</td>\n",
       "      <td>2016-01-06</td>\n",
       "      <td>17.062</td>\n",
       "    </tr>\n",
       "    <tr>\n",
       "      <th>3</th>\n",
       "      <td>600030</td>\n",
       "      <td>2016-01-07</td>\n",
       "      <td>15.549</td>\n",
       "    </tr>\n",
       "    <tr>\n",
       "      <th>4</th>\n",
       "      <td>600030</td>\n",
       "      <td>2016-01-08</td>\n",
       "      <td>16.015</td>\n",
       "    </tr>\n",
       "  </tbody>\n",
       "</table>\n",
       "</div>"
      ],
      "text/plain": [
       "   Ticker       Date   close\n",
       "0  600030 2016-01-04  16.634\n",
       "1  600030 2016-01-05  16.795\n",
       "2  600030 2016-01-06  17.062\n",
       "3  600030 2016-01-07  15.549\n",
       "4  600030 2016-01-08  16.015"
      ]
     },
     "execution_count": 11,
     "metadata": {},
     "output_type": "execute_result"
    }
   ],
   "source": [
    "close_price = all_stocks[['close']].reset_index()      #重置索引，让索引重新回到默认的0开始；\n",
    "close_price.head()"
   ]
  },
  {
   "cell_type": "code",
   "execution_count": 12,
   "metadata": {},
   "outputs": [
    {
     "data": {
      "text/html": [
       "<div>\n",
       "<style>\n",
       "    .dataframe thead tr:only-child th {\n",
       "        text-align: right;\n",
       "    }\n",
       "\n",
       "    .dataframe thead th {\n",
       "        text-align: left;\n",
       "    }\n",
       "\n",
       "    .dataframe tbody tr th {\n",
       "        vertical-align: top;\n",
       "    }\n",
       "</style>\n",
       "<table border=\"1\" class=\"dataframe\">\n",
       "  <thead>\n",
       "    <tr style=\"text-align: right;\">\n",
       "      <th>Ticker</th>\n",
       "      <th>000001</th>\n",
       "      <th>600030</th>\n",
       "      <th>600426</th>\n",
       "    </tr>\n",
       "    <tr>\n",
       "      <th>Date</th>\n",
       "      <th></th>\n",
       "      <th></th>\n",
       "      <th></th>\n",
       "    </tr>\n",
       "  </thead>\n",
       "  <tbody>\n",
       "    <tr>\n",
       "      <th>2016-01-04</th>\n",
       "      <td>9.141</td>\n",
       "      <td>16.634</td>\n",
       "      <td>7.572</td>\n",
       "    </tr>\n",
       "    <tr>\n",
       "      <th>2016-01-05</th>\n",
       "      <td>9.222</td>\n",
       "      <td>16.795</td>\n",
       "      <td>7.607</td>\n",
       "    </tr>\n",
       "    <tr>\n",
       "      <th>2016-01-06</th>\n",
       "      <td>9.327</td>\n",
       "      <td>17.062</td>\n",
       "      <td>7.858</td>\n",
       "    </tr>\n",
       "    <tr>\n",
       "      <th>2016-01-07</th>\n",
       "      <td>8.850</td>\n",
       "      <td>15.549</td>\n",
       "      <td>7.100</td>\n",
       "    </tr>\n",
       "    <tr>\n",
       "      <th>2016-01-08</th>\n",
       "      <td>8.995</td>\n",
       "      <td>16.015</td>\n",
       "      <td>7.304</td>\n",
       "    </tr>\n",
       "  </tbody>\n",
       "</table>\n",
       "</div>"
      ],
      "text/plain": [
       "Ticker      000001  600030  600426\n",
       "Date                              \n",
       "2016-01-04   9.141  16.634   7.572\n",
       "2016-01-05   9.222  16.795   7.607\n",
       "2016-01-06   9.327  17.062   7.858\n",
       "2016-01-07   8.850  15.549   7.100\n",
       "2016-01-08   8.995  16.015   7.304"
      ]
     },
     "execution_count": 12,
     "metadata": {},
     "output_type": "execute_result"
    }
   ],
   "source": [
    "# 把所有的股价信息显示在一张表格里；数据透视表；\n",
    "daily_close = close_price.pivot(index = 'Date', \n",
    "                                columns = 'Ticker', \n",
    "                                values= 'close')\n",
    "daily_close.head()"
   ]
  },
  {
   "cell_type": "code",
   "execution_count": 13,
   "metadata": {},
   "outputs": [
    {
     "data": {
      "text/plain": [
       "<matplotlib.axes._subplots.AxesSubplot at 0x1f5597b88d0>"
      ]
     },
     "execution_count": 13,
     "metadata": {},
     "output_type": "execute_result"
    },
    {
     "data": {
      "image/png": "[encoded data removed]",
      "text/plain": [
       "<matplotlib.figure.Figure at 0x1f559789ef0>"
      ]
     },
     "metadata": {},
     "output_type": "display_data"
    }
   ],
   "source": [
    "# plot 中信证券\n",
    "daily_close['600030'].plot(figsize=(8,6))"
   ]
  },
  {
   "cell_type": "code",
   "execution_count": 14,
   "metadata": {},
   "outputs": [
    {
     "data": {
      "text/plain": [
       "array([<matplotlib.axes._subplots.AxesSubplot object at 0x000001F559779940>,\n",
       "       <matplotlib.axes._subplots.AxesSubplot object at 0x000001F559CA2828>,\n",
       "       <matplotlib.axes._subplots.AxesSubplot object at 0x000001F559D02D30>], dtype=object)"
      ]
     },
     "execution_count": 14,
     "metadata": {},
     "output_type": "execute_result"
    },
    {
     "data": {
      "image/png": "[encoded data removed]",
      "text/plain": [
       "<matplotlib.figure.Figure at 0x1f5597d1898>"
      ]
     },
     "metadata": {},
     "output_type": "display_data"
    }
   ],
   "source": [
    "# plot 三只股票的股价信息\n",
    "daily_close.plot(subplots= True, figsize=(10, 8))"
   ]
  },
  {
   "cell_type": "markdown",
   "metadata": {},
   "source": [
    "### 3. 金融计算"
   ]
  },
  {
   "cell_type": "markdown",
   "metadata": {},
   "source": [
    "#### 3.1 计算每日收益"
   ]
  },
  {
   "cell_type": "code",
   "execution_count": 15,
   "metadata": {},
   "outputs": [
    {
     "data": {
      "text/html": [
       "<div>\n",
       "<style>\n",
       "    .dataframe thead tr:only-child th {\n",
       "        text-align: right;\n",
       "    }\n",
       "\n",
       "    .dataframe thead th {\n",
       "        text-align: left;\n",
       "    }\n",
       "\n",
       "    .dataframe tbody tr th {\n",
       "        vertical-align: top;\n",
       "    }\n",
       "</style>\n",
       "<table border=\"1\" class=\"dataframe\">\n",
       "  <thead>\n",
       "    <tr style=\"text-align: right;\">\n",
       "      <th>Ticker</th>\n",
       "      <th>000001</th>\n",
       "      <th>600030</th>\n",
       "      <th>600426</th>\n",
       "    </tr>\n",
       "    <tr>\n",
       "      <th>Date</th>\n",
       "      <th></th>\n",
       "      <th></th>\n",
       "      <th></th>\n",
       "    </tr>\n",
       "  </thead>\n",
       "  <tbody>\n",
       "    <tr>\n",
       "      <th>2016-01-04</th>\n",
       "      <td>NaN</td>\n",
       "      <td>NaN</td>\n",
       "      <td>NaN</td>\n",
       "    </tr>\n",
       "    <tr>\n",
       "      <th>2016-01-05</th>\n",
       "      <td>0.008861</td>\n",
       "      <td>0.009679</td>\n",
       "      <td>0.004622</td>\n",
       "    </tr>\n",
       "    <tr>\n",
       "      <th>2016-01-06</th>\n",
       "      <td>0.011386</td>\n",
       "      <td>0.015898</td>\n",
       "      <td>0.032996</td>\n",
       "    </tr>\n",
       "    <tr>\n",
       "      <th>2016-01-07</th>\n",
       "      <td>-0.051142</td>\n",
       "      <td>-0.088677</td>\n",
       "      <td>-0.096462</td>\n",
       "    </tr>\n",
       "    <tr>\n",
       "      <th>2016-01-08</th>\n",
       "      <td>0.016384</td>\n",
       "      <td>0.029970</td>\n",
       "      <td>0.028732</td>\n",
       "    </tr>\n",
       "  </tbody>\n",
       "</table>\n",
       "</div>"
      ],
      "text/plain": [
       "Ticker        000001    600030    600426\n",
       "Date                                    \n",
       "2016-01-04       NaN       NaN       NaN\n",
       "2016-01-05  0.008861  0.009679  0.004622\n",
       "2016-01-06  0.011386  0.015898  0.032996\n",
       "2016-01-07 -0.051142 -0.088677 -0.096462\n",
       "2016-01-08  0.016384  0.029970  0.028732"
      ]
     },
     "execution_count": 15,
     "metadata": {},
     "output_type": "execute_result"
    }
   ],
   "source": [
    "# 用shift方法；\n",
    "price_change = daily_close / daily_close.shift(1) - 1\n",
    "daily_close['yes_day'] = daily_close['000001'].shift(1)\n",
    "price_change.ix[:,0:4].head()"
   ]
  },
  {
   "cell_type": "code",
   "execution_count": 16,
   "metadata": {
    "collapsed": true
   },
   "outputs": [],
   "source": [
    "del daily_close['yes_day'] "
   ]
  },
  {
   "cell_type": "code",
   "execution_count": 17,
   "metadata": {},
   "outputs": [
    {
     "data": {
      "text/html": [
       "<div>\n",
       "<style>\n",
       "    .dataframe thead tr:only-child th {\n",
       "        text-align: right;\n",
       "    }\n",
       "\n",
       "    .dataframe thead th {\n",
       "        text-align: left;\n",
       "    }\n",
       "\n",
       "    .dataframe tbody tr th {\n",
       "        vertical-align: top;\n",
       "    }\n",
       "</style>\n",
       "<table border=\"1\" class=\"dataframe\">\n",
       "  <thead>\n",
       "    <tr style=\"text-align: right;\">\n",
       "      <th>Ticker</th>\n",
       "      <th>000001</th>\n",
       "      <th>600030</th>\n",
       "    </tr>\n",
       "    <tr>\n",
       "      <th>Date</th>\n",
       "      <th></th>\n",
       "      <th></th>\n",
       "    </tr>\n",
       "  </thead>\n",
       "  <tbody>\n",
       "    <tr>\n",
       "      <th>2016-01-04</th>\n",
       "      <td>NaN</td>\n",
       "      <td>NaN</td>\n",
       "    </tr>\n",
       "    <tr>\n",
       "      <th>2016-01-05</th>\n",
       "      <td>0.008861</td>\n",
       "      <td>0.009679</td>\n",
       "    </tr>\n",
       "    <tr>\n",
       "      <th>2016-01-06</th>\n",
       "      <td>0.011386</td>\n",
       "      <td>0.015898</td>\n",
       "    </tr>\n",
       "    <tr>\n",
       "      <th>2016-01-07</th>\n",
       "      <td>-0.051142</td>\n",
       "      <td>-0.088677</td>\n",
       "    </tr>\n",
       "    <tr>\n",
       "      <th>2016-01-08</th>\n",
       "      <td>0.016384</td>\n",
       "      <td>0.029970</td>\n",
       "    </tr>\n",
       "  </tbody>\n",
       "</table>\n",
       "</div>"
      ],
      "text/plain": [
       "Ticker        000001    600030\n",
       "Date                          \n",
       "2016-01-04       NaN       NaN\n",
       "2016-01-05  0.008861  0.009679\n",
       "2016-01-06  0.011386  0.015898\n",
       "2016-01-07 -0.051142 -0.088677\n",
       "2016-01-08  0.016384  0.029970"
      ]
     },
     "execution_count": 17,
     "metadata": {},
     "output_type": "execute_result"
    }
   ],
   "source": [
    "#  用.pct_change() 方法\n",
    "price_change2 = daily_close.pct_change()\n",
    "price_change2.ix[:,0:2].head()"
   ]
  },
  {
   "cell_type": "code",
   "execution_count": 18,
   "metadata": {},
   "outputs": [
    {
     "data": {
      "text/html": [
       "<div>\n",
       "<style>\n",
       "    .dataframe thead tr:only-child th {\n",
       "        text-align: right;\n",
       "    }\n",
       "\n",
       "    .dataframe thead th {\n",
       "        text-align: left;\n",
       "    }\n",
       "\n",
       "    .dataframe tbody tr th {\n",
       "        vertical-align: top;\n",
       "    }\n",
       "</style>\n",
       "<table border=\"1\" class=\"dataframe\">\n",
       "  <thead>\n",
       "    <tr style=\"text-align: right;\">\n",
       "      <th>Ticker</th>\n",
       "      <th>000001</th>\n",
       "      <th>600030</th>\n",
       "      <th>600426</th>\n",
       "    </tr>\n",
       "    <tr>\n",
       "      <th>Date</th>\n",
       "      <th></th>\n",
       "      <th></th>\n",
       "      <th></th>\n",
       "    </tr>\n",
       "  </thead>\n",
       "  <tbody>\n",
       "    <tr>\n",
       "      <th>2016-01-04</th>\n",
       "      <td>0.000000</td>\n",
       "      <td>0.000000</td>\n",
       "      <td>0.000000</td>\n",
       "    </tr>\n",
       "    <tr>\n",
       "      <th>2016-01-05</th>\n",
       "      <td>0.008861</td>\n",
       "      <td>0.009679</td>\n",
       "      <td>0.004622</td>\n",
       "    </tr>\n",
       "    <tr>\n",
       "      <th>2016-01-06</th>\n",
       "      <td>0.011386</td>\n",
       "      <td>0.015898</td>\n",
       "      <td>0.032996</td>\n",
       "    </tr>\n",
       "    <tr>\n",
       "      <th>2016-01-07</th>\n",
       "      <td>-0.051142</td>\n",
       "      <td>-0.088677</td>\n",
       "      <td>-0.096462</td>\n",
       "    </tr>\n",
       "    <tr>\n",
       "      <th>2016-01-08</th>\n",
       "      <td>0.016384</td>\n",
       "      <td>0.029970</td>\n",
       "      <td>0.028732</td>\n",
       "    </tr>\n",
       "  </tbody>\n",
       "</table>\n",
       "</div>"
      ],
      "text/plain": [
       "Ticker        000001    600030    600426\n",
       "Date                                    \n",
       "2016-01-04  0.000000  0.000000  0.000000\n",
       "2016-01-05  0.008861  0.009679  0.004622\n",
       "2016-01-06  0.011386  0.015898  0.032996\n",
       "2016-01-07 -0.051142 -0.088677 -0.096462\n",
       "2016-01-08  0.016384  0.029970  0.028732"
      ]
     },
     "execution_count": 18,
     "metadata": {},
     "output_type": "execute_result"
    }
   ],
   "source": [
    "# 将NaN值替换为0\n",
    "price_change2.fillna(0, inplace=True)\n",
    "price_change2.ix[:5,:]"
   ]
  },
  {
   "cell_type": "markdown",
   "metadata": {},
   "source": [
    "#### 3.2 计算累积收益"
   ]
  },
  {
   "cell_type": "code",
   "execution_count": 19,
   "metadata": {},
   "outputs": [
    {
     "data": {
      "text/html": [
       "<div>\n",
       "<style>\n",
       "    .dataframe thead tr:only-child th {\n",
       "        text-align: right;\n",
       "    }\n",
       "\n",
       "    .dataframe thead th {\n",
       "        text-align: left;\n",
       "    }\n",
       "\n",
       "    .dataframe tbody tr th {\n",
       "        vertical-align: top;\n",
       "    }\n",
       "</style>\n",
       "<table border=\"1\" class=\"dataframe\">\n",
       "  <thead>\n",
       "    <tr style=\"text-align: right;\">\n",
       "      <th>Ticker</th>\n",
       "      <th>000001</th>\n",
       "      <th>600030</th>\n",
       "      <th>600426</th>\n",
       "    </tr>\n",
       "    <tr>\n",
       "      <th>Date</th>\n",
       "      <th></th>\n",
       "      <th></th>\n",
       "      <th></th>\n",
       "    </tr>\n",
       "  </thead>\n",
       "  <tbody>\n",
       "    <tr>\n",
       "      <th>2016-01-04</th>\n",
       "      <td>1.000000</td>\n",
       "      <td>1.000000</td>\n",
       "      <td>1.000000</td>\n",
       "    </tr>\n",
       "    <tr>\n",
       "      <th>2016-01-05</th>\n",
       "      <td>1.008861</td>\n",
       "      <td>1.009679</td>\n",
       "      <td>1.004622</td>\n",
       "    </tr>\n",
       "    <tr>\n",
       "      <th>2016-01-06</th>\n",
       "      <td>1.020348</td>\n",
       "      <td>1.025730</td>\n",
       "      <td>1.037771</td>\n",
       "    </tr>\n",
       "    <tr>\n",
       "      <th>2016-01-07</th>\n",
       "      <td>0.968165</td>\n",
       "      <td>0.934772</td>\n",
       "      <td>0.937665</td>\n",
       "    </tr>\n",
       "    <tr>\n",
       "      <th>2016-01-08</th>\n",
       "      <td>0.984028</td>\n",
       "      <td>0.962787</td>\n",
       "      <td>0.964606</td>\n",
       "    </tr>\n",
       "  </tbody>\n",
       "</table>\n",
       "</div>"
      ],
      "text/plain": [
       "Ticker        000001    600030    600426\n",
       "Date                                    \n",
       "2016-01-04  1.000000  1.000000  1.000000\n",
       "2016-01-05  1.008861  1.009679  1.004622\n",
       "2016-01-06  1.020348  1.025730  1.037771\n",
       "2016-01-07  0.968165  0.934772  0.937665\n",
       "2016-01-08  0.984028  0.962787  0.964606"
      ]
     },
     "execution_count": 19,
     "metadata": {},
     "output_type": "execute_result"
    }
   ],
   "source": [
    "cum_daily_return = (1 + price_change2).cumprod()\n",
    "cum_daily_return.head()"
   ]
  },
  {
   "cell_type": "code",
   "execution_count": 20,
   "metadata": {},
   "outputs": [
    {
     "data": {
      "text/plain": [
       "<matplotlib.axes._subplots.AxesSubplot at 0x1f559ddcdd8>"
      ]
     },
     "execution_count": 20,
     "metadata": {},
     "output_type": "execute_result"
    },
    {
     "data": {
      "image/png": "[encoded data removed]",
      "text/plain": [
       "<matplotlib.figure.Figure at 0x1f559fc5be0>"
      ]
     },
     "metadata": {},
     "output_type": "display_data"
    }
   ],
   "source": [
    "cum_daily_return.plot(figsize=(8,6))"
   ]
  },
  {
   "cell_type": "markdown",
   "metadata": {},
   "source": [
    "### 4. 分析return分布"
   ]
  },
  {
   "cell_type": "markdown",
   "metadata": {},
   "source": [
    "#### 4.1 直方图"
   ]
  },
  {
   "cell_type": "code",
   "execution_count": 25,
   "metadata": {},
   "outputs": [
    {
     "data": {
      "image/png": "[encoded data removed]",
      "text/plain": [
       "<matplotlib.figure.Figure at 0x1f55a5d1c50>"
      ]
     },
     "metadata": {},
     "output_type": "display_data"
    }
   ],
   "source": [
    "# 绘制频数分布直方图，分析中信证券的return分布；\n",
    "zxzq = price_change['600030']\n",
    "zxzq.hist(bins=30, figsize=(8,6));"
   ]
  },
  {
   "cell_type": "code",
   "execution_count": 27,
   "metadata": {},
   "outputs": [
    {
     "data": {
      "text/plain": [
       "count    362.000000\n",
       "mean       0.000169\n",
       "std        0.018050\n",
       "min       -0.092490\n",
       "2.5%      -0.035270\n",
       "50%        0.000000\n",
       "97.5%      0.032897\n",
       "max        0.100316\n",
       "Name: 600030, dtype: float64"
      ]
     },
     "execution_count": 27,
     "metadata": {},
     "output_type": "execute_result"
    }
   ],
   "source": [
    "zxzq.describe(percentiles=[0.025, 0.5, 0.975])"
   ]
  },
  {
   "cell_type": "code",
   "execution_count": 30,
   "metadata": {},
   "outputs": [
    {
     "data": {
      "image/png": "[encoded data removed]",
      "text/plain": [
       "<matplotlib.figure.Figure at 0x1f55a1f42e8>"
      ]
     },
     "metadata": {},
     "output_type": "display_data"
    }
   ],
   "source": [
    "# 画出所有股票的股价分布：\n",
    "_ = price_change.hist(bins=20, sharex=True, figsize=(12,8));"
   ]
  },
  {
   "cell_type": "markdown",
   "metadata": {},
   "source": [
    "#### 4.2 QQ-Plots"
   ]
  },
  {
   "cell_type": "code",
   "execution_count": 31,
   "metadata": {
    "scrolled": true
   },
   "outputs": [
    {
     "data": {
      "image/png": "[encoded data removed]",
      "text/plain": [
       "<matplotlib.figure.Figure at 0x1f55a66dfd0>"
      ]
     },
     "metadata": {},
     "output_type": "display_data"
    }
   ],
   "source": [
    "# 使用QQ图来验证股价retun分布；\n",
    "import scipy.stats as stats\n",
    "fig = plt.figure(figsize=(7,5))\n",
    "ax = fig.add_subplot(111)\n",
    "stats.probplot(zxzq, dist='norm', plot=ax)   #stats.probplot()用来绘制QQ图；\n",
    "plt.show()"
   ]
  },
  {
   "cell_type": "code",
   "execution_count": 32,
   "metadata": {},
   "outputs": [
    {
     "data": {
      "image/png": "[encoded data removed]",
      "text/plain": [
       "<matplotlib.figure.Figure at 0x1f55a53a630>"
      ]
     },
     "metadata": {},
     "output_type": "display_data"
    }
   ],
   "source": [
    ">>> fig = plt.figure()\n",
    ">>> ax = fig.add_subplot(111)\n",
    ">>> x = stats.loggamma.rvs(c=2.5, size=500)\n",
    ">>> stats.probplot(x, dist=stats.loggamma, sparams=(2.5,), plot=ax)\n",
    ">>> ax.set_title(\"Probplot for loggamma dist with shape parameter 2.5\")\n",
    ">>> plt.show()"
   ]
  },
  {
   "cell_type": "markdown",
   "metadata": {},
   "source": [
    "### 5. 股价相关性"
   ]
  },
  {
   "cell_type": "code",
   "execution_count": 33,
   "metadata": {},
   "outputs": [
    {
     "data": {
      "text/plain": [
       "date\n",
       "2016-01-04    0.000000\n",
       "2016-01-05    0.002412\n",
       "2016-01-06    0.017544\n",
       "2016-01-07   -0.069334\n",
       "2016-01-08    0.020392\n",
       "Name: close, dtype: float64"
      ]
     },
     "execution_count": 33,
     "metadata": {},
     "output_type": "execute_result"
    }
   ],
   "source": [
    "# 计算沪深300指数收益\n",
    "hs300_return = hs300['close'].pct_change().fillna(0)\n",
    "hs300_return.head()"
   ]
  },
  {
   "cell_type": "code",
   "execution_count": 34,
   "metadata": {},
   "outputs": [
    {
     "data": {
      "text/html": [
       "<div>\n",
       "<style>\n",
       "    .dataframe thead tr:only-child th {\n",
       "        text-align: right;\n",
       "    }\n",
       "\n",
       "    .dataframe thead th {\n",
       "        text-align: left;\n",
       "    }\n",
       "\n",
       "    .dataframe tbody tr th {\n",
       "        vertical-align: top;\n",
       "    }\n",
       "</style>\n",
       "<table border=\"1\" class=\"dataframe\">\n",
       "  <thead>\n",
       "    <tr style=\"text-align: right;\">\n",
       "      <th>Ticker</th>\n",
       "      <th>000001</th>\n",
       "      <th>600030</th>\n",
       "      <th>600426</th>\n",
       "    </tr>\n",
       "    <tr>\n",
       "      <th>Date</th>\n",
       "      <th></th>\n",
       "      <th></th>\n",
       "      <th></th>\n",
       "    </tr>\n",
       "  </thead>\n",
       "  <tbody>\n",
       "    <tr>\n",
       "      <th>2016-01-04</th>\n",
       "      <td>0.000000</td>\n",
       "      <td>0.000000</td>\n",
       "      <td>0.000000</td>\n",
       "    </tr>\n",
       "    <tr>\n",
       "      <th>2016-01-05</th>\n",
       "      <td>0.008861</td>\n",
       "      <td>0.009679</td>\n",
       "      <td>0.004622</td>\n",
       "    </tr>\n",
       "    <tr>\n",
       "      <th>2016-01-06</th>\n",
       "      <td>0.011386</td>\n",
       "      <td>0.015898</td>\n",
       "      <td>0.032996</td>\n",
       "    </tr>\n",
       "    <tr>\n",
       "      <th>2016-01-07</th>\n",
       "      <td>-0.051142</td>\n",
       "      <td>-0.088677</td>\n",
       "      <td>-0.096462</td>\n",
       "    </tr>\n",
       "    <tr>\n",
       "      <th>2016-01-08</th>\n",
       "      <td>0.016384</td>\n",
       "      <td>0.029970</td>\n",
       "      <td>0.028732</td>\n",
       "    </tr>\n",
       "  </tbody>\n",
       "</table>\n",
       "</div>"
      ],
      "text/plain": [
       "Ticker        000001    600030    600426\n",
       "Date                                    \n",
       "2016-01-04  0.000000  0.000000  0.000000\n",
       "2016-01-05  0.008861  0.009679  0.004622\n",
       "2016-01-06  0.011386  0.015898  0.032996\n",
       "2016-01-07 -0.051142 -0.088677 -0.096462\n",
       "2016-01-08  0.016384  0.029970  0.028732"
      ]
     },
     "execution_count": 34,
     "metadata": {},
     "output_type": "execute_result"
    }
   ],
   "source": [
    "price_change2.head()"
   ]
  },
  {
   "cell_type": "code",
   "execution_count": 36,
   "metadata": {},
   "outputs": [
    {
     "data": {
      "text/html": [
       "<div>\n",
       "<style>\n",
       "    .dataframe thead tr:only-child th {\n",
       "        text-align: right;\n",
       "    }\n",
       "\n",
       "    .dataframe thead th {\n",
       "        text-align: left;\n",
       "    }\n",
       "\n",
       "    .dataframe tbody tr th {\n",
       "        vertical-align: top;\n",
       "    }\n",
       "</style>\n",
       "<table border=\"1\" class=\"dataframe\">\n",
       "  <thead>\n",
       "    <tr style=\"text-align: right;\">\n",
       "      <th></th>\n",
       "      <th>hs300</th>\n",
       "      <th>000001</th>\n",
       "      <th>600030</th>\n",
       "      <th>600426</th>\n",
       "    </tr>\n",
       "  </thead>\n",
       "  <tbody>\n",
       "    <tr>\n",
       "      <th>2016-01-04</th>\n",
       "      <td>0.000000</td>\n",
       "      <td>0.000000</td>\n",
       "      <td>0.000000</td>\n",
       "      <td>0.000000</td>\n",
       "    </tr>\n",
       "    <tr>\n",
       "      <th>2016-01-05</th>\n",
       "      <td>0.002412</td>\n",
       "      <td>0.008861</td>\n",
       "      <td>0.009679</td>\n",
       "      <td>0.004622</td>\n",
       "    </tr>\n",
       "    <tr>\n",
       "      <th>2016-01-06</th>\n",
       "      <td>0.017544</td>\n",
       "      <td>0.011386</td>\n",
       "      <td>0.015898</td>\n",
       "      <td>0.032996</td>\n",
       "    </tr>\n",
       "    <tr>\n",
       "      <th>2016-01-07</th>\n",
       "      <td>-0.069334</td>\n",
       "      <td>-0.051142</td>\n",
       "      <td>-0.088677</td>\n",
       "      <td>-0.096462</td>\n",
       "    </tr>\n",
       "    <tr>\n",
       "      <th>2016-01-08</th>\n",
       "      <td>0.020392</td>\n",
       "      <td>0.016384</td>\n",
       "      <td>0.029970</td>\n",
       "      <td>0.028732</td>\n",
       "    </tr>\n",
       "  </tbody>\n",
       "</table>\n",
       "</div>"
      ],
      "text/plain": [
       "               hs300    000001    600030    600426\n",
       "2016-01-04  0.000000  0.000000  0.000000  0.000000\n",
       "2016-01-05  0.002412  0.008861  0.009679  0.004622\n",
       "2016-01-06  0.017544  0.011386  0.015898  0.032996\n",
       "2016-01-07 -0.069334 -0.051142 -0.088677 -0.096462\n",
       "2016-01-08  0.020392  0.016384  0.029970  0.028732"
      ]
     },
     "execution_count": 36,
     "metadata": {},
     "output_type": "execute_result"
    }
   ],
   "source": [
    "# 把沪深300的收益拼接到前面得到的大表中\n",
    "return_all = pd.concat([hs300_return, price_change2], axis=1)\n",
    "return_all.rename(columns={'close': 'hs300'}, inplace=True)\n",
    "return_all.head()"
   ]
  },
  {
   "cell_type": "code",
   "execution_count": 37,
   "metadata": {},
   "outputs": [
    {
     "data": {
      "text/html": [
       "<div>\n",
       "<style>\n",
       "    .dataframe thead tr:only-child th {\n",
       "        text-align: right;\n",
       "    }\n",
       "\n",
       "    .dataframe thead th {\n",
       "        text-align: left;\n",
       "    }\n",
       "\n",
       "    .dataframe tbody tr th {\n",
       "        vertical-align: top;\n",
       "    }\n",
       "</style>\n",
       "<table border=\"1\" class=\"dataframe\">\n",
       "  <thead>\n",
       "    <tr style=\"text-align: right;\">\n",
       "      <th></th>\n",
       "      <th>hs300</th>\n",
       "      <th>000001</th>\n",
       "      <th>600030</th>\n",
       "      <th>600426</th>\n",
       "    </tr>\n",
       "  </thead>\n",
       "  <tbody>\n",
       "    <tr>\n",
       "      <th>2016-01-04</th>\n",
       "      <td>1.000000</td>\n",
       "      <td>1.000000</td>\n",
       "      <td>1.000000</td>\n",
       "      <td>1.000000</td>\n",
       "    </tr>\n",
       "    <tr>\n",
       "      <th>2016-01-05</th>\n",
       "      <td>1.002412</td>\n",
       "      <td>1.008861</td>\n",
       "      <td>1.009679</td>\n",
       "      <td>1.004622</td>\n",
       "    </tr>\n",
       "    <tr>\n",
       "      <th>2016-01-06</th>\n",
       "      <td>1.019998</td>\n",
       "      <td>1.020348</td>\n",
       "      <td>1.025730</td>\n",
       "      <td>1.037771</td>\n",
       "    </tr>\n",
       "    <tr>\n",
       "      <th>2016-01-07</th>\n",
       "      <td>0.949277</td>\n",
       "      <td>0.968165</td>\n",
       "      <td>0.934772</td>\n",
       "      <td>0.937665</td>\n",
       "    </tr>\n",
       "    <tr>\n",
       "      <th>2016-01-08</th>\n",
       "      <td>0.968635</td>\n",
       "      <td>0.984028</td>\n",
       "      <td>0.962787</td>\n",
       "      <td>0.964606</td>\n",
       "    </tr>\n",
       "  </tbody>\n",
       "</table>\n",
       "</div>"
      ],
      "text/plain": [
       "               hs300    000001    600030    600426\n",
       "2016-01-04  1.000000  1.000000  1.000000  1.000000\n",
       "2016-01-05  1.002412  1.008861  1.009679  1.004622\n",
       "2016-01-06  1.019998  1.020348  1.025730  1.037771\n",
       "2016-01-07  0.949277  0.968165  0.934772  0.937665\n",
       "2016-01-08  0.968635  0.984028  0.962787  0.964606"
      ]
     },
     "execution_count": 37,
     "metadata": {},
     "output_type": "execute_result"
    }
   ],
   "source": [
    "# 计算累积收益\n",
    "cumreturn_all = (1 + return_all).cumprod()\n",
    "cumreturn_all.head()"
   ]
  },
  {
   "cell_type": "code",
   "execution_count": 38,
   "metadata": {},
   "outputs": [
    {
     "data": {
      "image/png": "[encoded data removed]",
      "text/plain": [
       "<matplotlib.figure.Figure at 0x1f55a4b34a8>"
      ]
     },
     "metadata": {},
     "output_type": "display_data"
    }
   ],
   "source": [
    "# 累积收益作图\n",
    "cumreturn_all[['hs300', '600030', '600426']].plot(figsize=(8,6));"
   ]
  },
  {
   "cell_type": "code",
   "execution_count": 39,
   "metadata": {},
   "outputs": [
    {
     "data": {
      "text/html": [
       "<div>\n",
       "<style>\n",
       "    .dataframe thead tr:only-child th {\n",
       "        text-align: right;\n",
       "    }\n",
       "\n",
       "    .dataframe thead th {\n",
       "        text-align: left;\n",
       "    }\n",
       "\n",
       "    .dataframe tbody tr th {\n",
       "        vertical-align: top;\n",
       "    }\n",
       "</style>\n",
       "<table border=\"1\" class=\"dataframe\">\n",
       "  <thead>\n",
       "    <tr style=\"text-align: right;\">\n",
       "      <th></th>\n",
       "      <th>hs300</th>\n",
       "      <th>000001</th>\n",
       "      <th>600030</th>\n",
       "      <th>600426</th>\n",
       "    </tr>\n",
       "  </thead>\n",
       "  <tbody>\n",
       "    <tr>\n",
       "      <th>hs300</th>\n",
       "      <td>1.000000</td>\n",
       "      <td>0.863691</td>\n",
       "      <td>0.879145</td>\n",
       "      <td>0.729017</td>\n",
       "    </tr>\n",
       "    <tr>\n",
       "      <th>000001</th>\n",
       "      <td>0.863691</td>\n",
       "      <td>1.000000</td>\n",
       "      <td>0.780365</td>\n",
       "      <td>0.611967</td>\n",
       "    </tr>\n",
       "    <tr>\n",
       "      <th>600030</th>\n",
       "      <td>0.879145</td>\n",
       "      <td>0.780365</td>\n",
       "      <td>1.000000</td>\n",
       "      <td>0.619960</td>\n",
       "    </tr>\n",
       "    <tr>\n",
       "      <th>600426</th>\n",
       "      <td>0.729017</td>\n",
       "      <td>0.611967</td>\n",
       "      <td>0.619960</td>\n",
       "      <td>1.000000</td>\n",
       "    </tr>\n",
       "  </tbody>\n",
       "</table>\n",
       "</div>"
      ],
      "text/plain": [
       "           hs300    000001    600030    600426\n",
       "hs300   1.000000  0.863691  0.879145  0.729017\n",
       "000001  0.863691  1.000000  0.780365  0.611967\n",
       "600030  0.879145  0.780365  1.000000  0.619960\n",
       "600426  0.729017  0.611967  0.619960  1.000000"
      ]
     },
     "execution_count": 39,
     "metadata": {},
     "output_type": "execute_result"
    }
   ],
   "source": [
    "# 计算相关性\n",
    "corrs = return_all.corr()\n",
    "corrs"
   ]
  },
  {
   "cell_type": "code",
   "execution_count": 42,
   "metadata": {},
   "outputs": [
    {
     "data": {
      "text/plain": [
       "hs300     1.000000\n",
       "000001    0.863691\n",
       "600030    0.879145\n",
       "600426    0.729017\n",
       "Name: hs300, dtype: float64"
      ]
     },
     "execution_count": 42,
     "metadata": {},
     "output_type": "execute_result"
    }
   ],
   "source": [
    "corrs.ix['hs300']"
   ]
  },
  {
   "cell_type": "code",
   "execution_count": 45,
   "metadata": {},
   "outputs": [
    {
     "data": {
      "text/plain": [
       "<matplotlib.axes._subplots.AxesSubplot at 0x1f55a43d6a0>"
      ]
     },
     "execution_count": 45,
     "metadata": {},
     "output_type": "execute_result"
    },
    {
     "data": {
      "image/png": "[encoded data removed]",
      "text/plain": [
       "<matplotlib.figure.Figure at 0x1f559eddef0>"
      ]
     },
     "metadata": {},
     "output_type": "display_data"
    }
   ],
   "source": [
    "import seaborn\n",
    "fig = plt.figure(figsize=(8,6))\n",
    "seaborn.heatmap(corrs)"
   ]
  },
  {
   "cell_type": "code",
   "execution_count": 49,
   "metadata": {},
   "outputs": [
    {
     "data": {
      "text/plain": [
       "<matplotlib.text.Text at 0x1f55a2c1400>"
      ]
     },
     "execution_count": 49,
     "metadata": {},
     "output_type": "execute_result"
    },
    {
     "data": {
      "image/png": "[encoded data removed]",
      "text/plain": [
       "<matplotlib.figure.Figure at 0x1f55a499358>"
      ]
     },
     "metadata": {},
     "output_type": "display_data"
    }
   ],
   "source": [
    "plt.figure(figsize =(8,6))\n",
    "plt.title('Stock Correlation')\n",
    "plt.plot(daily_close['600030'], daily_close['000001'], '.')\n",
    "plt.xlabel('600030')\n",
    "plt.ylabel('000001')"
   ]
  }
 ],
 "metadata": {
  "kernelspec": {
   "display_name": "Python 3",
   "language": "python",
   "name": "python3"
  },
  "language_info": {
   "codemirror_mode": {
    "name": "ipython",
    "version": 3
   },
   "file_extension": ".py",
   "mimetype": "text/x-python",
   "name": "python",
   "nbconvert_exporter": "python",
   "pygments_lexer": "ipython3",
   "version": "3.7.3"
  }
 },
 "nbformat": 4,
 "nbformat_minor": 1
}
