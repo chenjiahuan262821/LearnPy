{
 "cells": [
  {
   "cell_type": "markdown",
   "metadata": {},
   "source": [
    "# 金融时间序列分析处理"
   ]
  },
  {
   "cell_type": "code",
   "execution_count": 3,
   "metadata": {
    "collapsed": true
   },
   "outputs": [],
   "source": [
    "import numpy as np\n",
    "import pandas as pd\n",
    "import datetime\n",
    "from datetime import datetime\n",
    "import matplotlib.pyplot as plt\n",
    "%matplotlib inline \n",
    "import warnings; warnings.simplefilter('ignore') #忽略可能会出现的警告信息，警告并不是错误，可以忽略；"
   ]
  },
  {
   "cell_type": "markdown",
   "metadata": {},
   "source": [
    "Framework：四大模块"
   ]
  },
  {
   "cell_type": "markdown",
   "metadata": {},
   "source": [
    "### 1. Python下的日期格式——Datetime数据及相关转换"
   ]
  },
  {
   "cell_type": "markdown",
   "metadata": {},
   "source": [
    "--datetime  \n",
    "--timedelta：时间差；\n"
   ]
  },
  {
   "cell_type": "code",
   "execution_count": null,
   "metadata": {
    "collapsed": true
   },
   "outputs": [],
   "source": [
    "datetime.datetime.   #tab"
   ]
  },
  {
   "cell_type": "code",
   "execution_count": 2,
   "metadata": {},
   "outputs": [
    {
     "name": "stdout",
     "output_type": "stream",
     "text": [
      "2017-08-19 14:23:52.591193\n",
      "<class 'datetime.datetime'>\n"
     ]
    }
   ],
   "source": [
    "now = datetime.datetime.now()\n",
    "print(now)\n",
    "print(type(now))"
   ]
  },
  {
   "cell_type": "code",
   "execution_count": 4,
   "metadata": {
    "scrolled": true
   },
   "outputs": [
    {
     "name": "stdout",
     "output_type": "stream",
     "text": [
      "2017-08-19 14:24:37.200671\n",
      "<class 'datetime.datetime'>\n"
     ]
    }
   ],
   "source": [
    "now = datetime.now()         #datetime以毫秒形式存储日期和时间；\n",
    "print(now)\n",
    "print(type(now))"
   ]
  },
  {
   "cell_type": "code",
   "execution_count": 5,
   "metadata": {},
   "outputs": [
    {
     "name": "stdout",
     "output_type": "stream",
     "text": [
      "2017年8月19日\n"
     ]
    }
   ],
   "source": [
    "print('{}年{}月{}日'.format(now.year, now.month, now.day))      #字符串格式化；"
   ]
  },
  {
   "cell_type": "code",
   "execution_count": 7,
   "metadata": {},
   "outputs": [
    {
     "data": {
      "text/plain": [
       "datetime.timedelta(0, 51991, 231502)"
      ]
     },
     "execution_count": 7,
     "metadata": {},
     "output_type": "execute_result"
    }
   ],
   "source": [
    "datetime.now() - datetime(2017, 8, 19)"
   ]
  },
  {
   "cell_type": "markdown",
   "metadata": {},
   "source": [
    "#### 1.1 时间格式的转换"
   ]
  },
  {
   "cell_type": "code",
   "execution_count": 9,
   "metadata": {},
   "outputs": [
    {
     "data": {
      "text/plain": [
       "datetime.datetime(2017, 6, 18, 0, 0)"
      ]
     },
     "execution_count": 9,
     "metadata": {},
     "output_type": "execute_result"
    }
   ],
   "source": [
    "dt_time = datetime(2017, 6, 18)\n",
    "dt_time"
   ]
  },
  {
   "cell_type": "code",
   "execution_count": 10,
   "metadata": {},
   "outputs": [
    {
     "name": "stdout",
     "output_type": "stream",
     "text": [
      "<class 'str'>\n",
      "<class 'datetime.datetime'>\n"
     ]
    }
   ],
   "source": [
    "# 把时间格式的数据转换成为str格式的数据；\n",
    "str_time = str(dt_time)\n",
    "print(type(str_time))\n",
    "print(type(dt_time))"
   ]
  },
  {
   "cell_type": "code",
   "execution_count": 11,
   "metadata": {},
   "outputs": [
    {
     "data": {
      "text/plain": [
       "'2017-06-18 00:00:00'"
      ]
     },
     "execution_count": 11,
     "metadata": {},
     "output_type": "execute_result"
    }
   ],
   "source": [
    "str_time"
   ]
  },
  {
   "cell_type": "code",
   "execution_count": 12,
   "metadata": {},
   "outputs": [
    {
     "name": "stdout",
     "output_type": "stream",
     "text": [
      "18/06/2017\n",
      "<class 'str'>\n"
     ]
    }
   ],
   "source": [
    "str_time2 = dt_time.strftime('%d/%m/%Y')       #用.strftime()方法可以调整年月日的格式；f：format；\n",
    "print(str_time2)\n",
    "print(type(str_time2))"
   ]
  },
  {
   "cell_type": "markdown",
   "metadata": {},
   "source": [
    "#### 1.2 将字符串转化为datetime格式3种方法"
   ]
  },
  {
   "cell_type": "markdown",
   "metadata": {},
   "source": [
    "非常重要，如果不是时间类型的数据的话，很多操作是无法完成的；"
   ]
  },
  {
   "cell_type": "code",
   "execution_count": 14,
   "metadata": {},
   "outputs": [
    {
     "name": "stdout",
     "output_type": "stream",
     "text": [
      "<class 'datetime.datetime'>\n",
      "2017-06-18 00:00:00\n"
     ]
    }
   ],
   "source": [
    "# 方法1\n",
    "dt_str = '2017-06-18'\n",
    "dt_time = datetime.strptime(dt_str, '%Y-%m-%d')     #datetime.strptime(),p:parse:解析；必须要人为说明我日期具体格式；\n",
    "print(type(dt_time)) \n",
    "print(dt_time)"
   ]
  },
  {
   "cell_type": "code",
   "execution_count": 21,
   "metadata": {},
   "outputs": [
    {
     "name": "stdout",
     "output_type": "stream",
     "text": [
      "<class 'datetime.datetime'>\n",
      "2017-01-06 00:00:00\n"
     ]
    }
   ],
   "source": [
    "# 方法2\n",
    "from dateutil.parser import parse\n",
    "dt_str2 = '01-06-2017'\n",
    "dt_time2 = parse(dt_str2)     #dayfirst = True\n",
    "print(type(dt_time2)) \n",
    "print(dt_time2)"
   ]
  },
  {
   "cell_type": "code",
   "execution_count": 22,
   "metadata": {},
   "outputs": [
    {
     "data": {
      "text/plain": [
       "0    2017/06/18\n",
       "1    2017/06/19\n",
       "2    2017-06-20\n",
       "3    2017-06-21\n",
       "Name: Course_time, dtype: object"
      ]
     },
     "execution_count": 22,
     "metadata": {},
     "output_type": "execute_result"
    }
   ],
   "source": [
    "# 方法3\n",
    "str_time = pd.Series(['2017/06/18', '2017/06/19', '2017-06-20', '2017-06-21'], name='Course_time')\n",
    "str_time"
   ]
  },
  {
   "cell_type": "code",
   "execution_count": 23,
   "metadata": {},
   "outputs": [
    {
     "data": {
      "text/plain": [
       "0   2017-06-18\n",
       "1   2017-06-19\n",
       "2   2017-06-20\n",
       "3   2017-06-21\n",
       "Name: Course_time, dtype: datetime64[ns]"
      ]
     },
     "execution_count": 23,
     "metadata": {},
     "output_type": "execute_result"
    }
   ],
   "source": [
    "dt_time = pd.to_datetime(str_time)\n",
    "dt_time"
   ]
  },
  {
   "cell_type": "markdown",
   "metadata": {},
   "source": [
    "### 2. Pandas下的时间格式"
   ]
  },
  {
   "cell_type": "markdown",
   "metadata": {},
   "source": [
    "--timestamp：pandas 最基本的时间日期对象是TimeStamp，这个对象与 datetime 对象保有高度兼容性，可通过.to_datetime() 函数转换。  \n",
    "--DatetimeIndex: pandas下的时间索引格式；  \n",
    "--pd.date_range() 可用于生成指定长度的 DatetimeIndex。参数可以是起始结束日期，或单给一个日期，加一个时间段参数。日期是包含的。  \n",
    "--Period：时期（period）概念不同于前面的时间戳（timestamp），指的是一个时间段。但在使用上并没有太多不同，pd.Period 类的构造函数仍需要一个时间戳，以及一个 freq 参数。\n",
    "\n"
   ]
  },
  {
   "cell_type": "markdown",
   "metadata": {},
   "source": [
    "#### 2.1 DatetimeIndex和TImestamp"
   ]
  },
  {
   "cell_type": "code",
   "execution_count": 65,
   "metadata": {},
   "outputs": [
    {
     "data": {
      "text/plain": [
       "[datetime.datetime(2016, 8, 1, 0, 0), datetime.datetime(2016, 8, 2, 0, 0)]"
      ]
     },
     "execution_count": 65,
     "metadata": {},
     "output_type": "execute_result"
    }
   ],
   "source": [
    "# 使用datetime格式列表创建DatetimeIndex\n",
    "dates = [datetime(2016, 8, 1), datetime(2016, 8, 2)]\n",
    "# dates = ['2016, 8, 1', '2016, 8, 2']\n",
    "# dates = pd.DatetimeIndex(dates)   #把python下的datetime转换成为pandas下的时间索引DatatimeIndex；\n",
    "dates"
   ]
  },
  {
   "cell_type": "code",
   "execution_count": 66,
   "metadata": {},
   "outputs": [
    {
     "data": {
      "text/plain": [
       "2016-08-01    1.218163\n",
       "2016-08-02   -0.107174\n",
       "dtype: float64"
      ]
     },
     "execution_count": 66,
     "metadata": {},
     "output_type": "execute_result"
    }
   ],
   "source": [
    "# 如果一个Series创建时参数输入一个datetime列表，那么会自动将其转化为 DatetimeIndex并以其作为索引\n",
    "df = pd.Series(np.random.randn(2), index = dates)\n",
    "df"
   ]
  },
  {
   "cell_type": "code",
   "execution_count": 67,
   "metadata": {},
   "outputs": [
    {
     "data": {
      "text/plain": [
       "DatetimeIndex(['2016-08-01', '2016-08-02'], dtype='datetime64[ns]', freq=None)"
      ]
     },
     "execution_count": 67,
     "metadata": {},
     "output_type": "execute_result"
    }
   ],
   "source": [
    "df.index"
   ]
  },
  {
   "cell_type": "code",
   "execution_count": 68,
   "metadata": {},
   "outputs": [
    {
     "data": {
      "text/plain": [
       "Timestamp('2016-08-01 00:00:00')"
      ]
     },
     "execution_count": 68,
     "metadata": {},
     "output_type": "execute_result"
    }
   ],
   "source": [
    "df.index[0]"
   ]
  },
  {
   "cell_type": "code",
   "execution_count": 69,
   "metadata": {},
   "outputs": [
    {
     "data": {
      "text/plain": [
       "1.218162724553506"
      ]
     },
     "execution_count": 69,
     "metadata": {},
     "output_type": "execute_result"
    }
   ],
   "source": [
    "# 使用字符串进行索引\n",
    "df['2016-08-01']"
   ]
  },
  {
   "cell_type": "code",
   "execution_count": 70,
   "metadata": {},
   "outputs": [
    {
     "data": {
      "text/plain": [
       "2016-08-01    1.218163\n",
       "2016-08-02   -0.107174\n",
       "dtype: float64"
      ]
     },
     "execution_count": 70,
     "metadata": {},
     "output_type": "execute_result"
    }
   ],
   "source": [
    "df['2016-08']"
   ]
  },
  {
   "cell_type": "code",
   "execution_count": 72,
   "metadata": {},
   "outputs": [
    {
     "data": {
      "text/plain": [
       "DatetimeIndex(['2017-06-18', '2016-06-19', '2016-06-20', 'NaT'], dtype='datetime64[ns]', freq=None)"
      ]
     },
     "execution_count": 72,
     "metadata": {},
     "output_type": "execute_result"
    }
   ],
   "source": [
    "# 将字符串列表转化为DatetimeIndex\n",
    "date_time = pd.to_datetime(['June 18, 2017', '2016-06-19', \n",
    "                      '2016.6.20', None])\n",
    "date_time"
   ]
  },
  {
   "cell_type": "code",
   "execution_count": 74,
   "metadata": {},
   "outputs": [
    {
     "data": {
      "text/plain": [
       "2014-08-01   -0.400634\n",
       "2014-08-02    1.305332\n",
       "2014-08-03   -0.739562\n",
       "2014-08-04    0.510509\n",
       "2014-08-05    0.366613\n",
       "Freq: D, dtype: float64"
      ]
     },
     "execution_count": 74,
     "metadata": {},
     "output_type": "execute_result"
    }
   ],
   "source": [
    "# 创建一个连续10天的DatetimeIndex并以其为索引创建Series. pd.date_range()专门用于生产datetimeIndex；\n",
    "dates = pd.date_range('8/1/2014', periods=10)\n",
    "df = pd.Series(np.random.randn(10), index = dates)\n",
    "df.head()"
   ]
  },
  {
   "cell_type": "code",
   "execution_count": 75,
   "metadata": {},
   "outputs": [
    {
     "data": {
      "text/plain": [
       "DatetimeIndex(['2014-08-01', '2014-08-02', '2014-08-03', '2014-08-04',\n",
       "               '2014-08-05', '2014-08-06', '2014-08-07', '2014-08-08',\n",
       "               '2014-08-09', '2014-08-10'],\n",
       "              dtype='datetime64[ns]', freq='D')"
      ]
     },
     "execution_count": 75,
     "metadata": {},
     "output_type": "execute_result"
    }
   ],
   "source": [
    "df.index"
   ]
  },
  {
   "cell_type": "markdown",
   "metadata": {},
   "source": [
    "#### 2.2 Period"
   ]
  },
  {
   "cell_type": "code",
   "execution_count": 80,
   "metadata": {},
   "outputs": [
    {
     "data": {
      "text/plain": [
       "PeriodIndex(['2017-01', '2017-02', '2017-03', '2017-04', '2017-05', '2017-06',\n",
       "             '2017-07', '2017-08', '2017-09', '2017-10', '2017-11', '2017-12'],\n",
       "            dtype='period[M]', freq='M')"
      ]
     },
     "execution_count": 80,
     "metadata": {},
     "output_type": "execute_result"
    }
   ],
   "source": [
    "# 创建period\n",
    "time_period = pd.period_range('2017-01-01', periods = 12, freq='M')\n",
    "time_period"
   ]
  },
  {
   "cell_type": "code",
   "execution_count": 82,
   "metadata": {},
   "outputs": [
    {
     "data": {
      "text/plain": [
       "DatetimeIndex(['2017-01-31', '2017-02-28', '2017-03-31', '2017-04-30',\n",
       "               '2017-05-31', '2017-06-30', '2017-07-31', '2017-08-31',\n",
       "               '2017-09-30', '2017-10-31', '2017-11-30', '2017-12-31'],\n",
       "              dtype='datetime64[ns]', freq='M')"
      ]
     },
     "execution_count": 82,
     "metadata": {},
     "output_type": "execute_result"
    }
   ],
   "source": [
    "date_range = pd.date_range('2017-01-01', periods = 12, freq='M')\n",
    "date_range"
   ]
  },
  {
   "cell_type": "code",
   "execution_count": 83,
   "metadata": {},
   "outputs": [
    {
     "data": {
      "text/plain": [
       "PeriodIndex(['2017-02', '2017-03', '2017-04', '2017-05', '2017-06', '2017-07',\n",
       "             '2017-08', '2017-09', '2017-10', '2017-11', '2017-12', '2018-01'],\n",
       "            dtype='period[M]', freq='M')"
      ]
     },
     "execution_count": 83,
     "metadata": {},
     "output_type": "execute_result"
    }
   ],
   "source": [
    "# period对象的起始时间和终止时间\n",
    "time_period + 1"
   ]
  },
  {
   "cell_type": "code",
   "execution_count": 84,
   "metadata": {},
   "outputs": [
    {
     "data": {
      "text/plain": [
       "PeriodIndex(['2017-01', '2017-02', '2017-03', '2017-04', '2017-05', '2017-06',\n",
       "             '2017-07', '2017-08', '2017-09', '2017-10', '2017-11', '2017-12'],\n",
       "            dtype='period[M]', freq='M')"
      ]
     },
     "execution_count": 84,
     "metadata": {},
     "output_type": "execute_result"
    }
   ],
   "source": [
    "# 创建PeriodIndex\n",
    "period_index = pd.period_range('1/1/2017', '12/31/2017', freq='M')\n",
    "period_index"
   ]
  },
  {
   "cell_type": "code",
   "execution_count": 87,
   "metadata": {},
   "outputs": [
    {
     "data": {
      "text/plain": [
       "2017-01   -0.785006\n",
       "2017-02    0.660306\n",
       "2017-03   -0.630585\n",
       "2017-04   -0.974772\n",
       "2017-05    1.154443\n",
       "2017-06    0.405365\n",
       "2017-07    0.616879\n",
       "2017-08   -0.265645\n",
       "2017-09   -0.739943\n",
       "2017-10   -1.614136\n",
       "2017-11    1.707897\n",
       "2017-12    0.052407\n",
       "Freq: M, dtype: float64"
      ]
     },
     "execution_count": 87,
     "metadata": {},
     "output_type": "execute_result"
    }
   ],
   "source": [
    "# 以PeriodIndex为索引创建Series\n",
    "ps = pd.Series(np.random.randn(12), index = period_index)\n",
    "ps"
   ]
  },
  {
   "cell_type": "markdown",
   "metadata": {},
   "source": [
    "#### 2.3 应用举例"
   ]
  },
  {
   "cell_type": "code",
   "execution_count": 91,
   "metadata": {
    "scrolled": true
   },
   "outputs": [
    {
     "data": {
      "text/html": [
       "<div>\n",
       "<style>\n",
       "    .dataframe thead tr:only-child th {\n",
       "        text-align: right;\n",
       "    }\n",
       "\n",
       "    .dataframe thead th {\n",
       "        text-align: left;\n",
       "    }\n",
       "\n",
       "    .dataframe tbody tr th {\n",
       "        vertical-align: top;\n",
       "    }\n",
       "</style>\n",
       "<table border=\"1\" class=\"dataframe\">\n",
       "  <thead>\n",
       "    <tr style=\"text-align: right;\">\n",
       "      <th></th>\n",
       "      <th>open</th>\n",
       "      <th>close</th>\n",
       "      <th>high</th>\n",
       "      <th>low</th>\n",
       "      <th>volume</th>\n",
       "      <th>code</th>\n",
       "    </tr>\n",
       "    <tr>\n",
       "      <th>date</th>\n",
       "      <th></th>\n",
       "      <th></th>\n",
       "      <th></th>\n",
       "      <th></th>\n",
       "      <th></th>\n",
       "      <th></th>\n",
       "    </tr>\n",
       "  </thead>\n",
       "  <tbody>\n",
       "    <tr>\n",
       "      <th>2015-01-05</th>\n",
       "      <td>10.688</td>\n",
       "      <td>10.708</td>\n",
       "      <td>10.882</td>\n",
       "      <td>10.427</td>\n",
       "      <td>2860436.0</td>\n",
       "      <td>000001</td>\n",
       "    </tr>\n",
       "    <tr>\n",
       "      <th>2015-01-06</th>\n",
       "      <td>10.594</td>\n",
       "      <td>10.548</td>\n",
       "      <td>10.955</td>\n",
       "      <td>10.394</td>\n",
       "      <td>2166421.0</td>\n",
       "      <td>000001</td>\n",
       "    </tr>\n",
       "    <tr>\n",
       "      <th>2015-01-07</th>\n",
       "      <td>10.400</td>\n",
       "      <td>10.347</td>\n",
       "      <td>10.581</td>\n",
       "      <td>10.227</td>\n",
       "      <td>1700120.0</td>\n",
       "      <td>000001</td>\n",
       "    </tr>\n",
       "    <tr>\n",
       "      <th>2015-01-08</th>\n",
       "      <td>10.360</td>\n",
       "      <td>9.999</td>\n",
       "      <td>10.407</td>\n",
       "      <td>9.959</td>\n",
       "      <td>1407714.0</td>\n",
       "      <td>000001</td>\n",
       "    </tr>\n",
       "    <tr>\n",
       "      <th>2015-01-09</th>\n",
       "      <td>9.959</td>\n",
       "      <td>10.080</td>\n",
       "      <td>10.608</td>\n",
       "      <td>9.832</td>\n",
       "      <td>2508500.0</td>\n",
       "      <td>000001</td>\n",
       "    </tr>\n",
       "  </tbody>\n",
       "</table>\n",
       "</div>"
      ],
      "text/plain": [
       "              open   close    high     low     volume    code\n",
       "date                                                         \n",
       "2015-01-05  10.688  10.708  10.882  10.427  2860436.0  000001\n",
       "2015-01-06  10.594  10.548  10.955  10.394  2166421.0  000001\n",
       "2015-01-07  10.400  10.347  10.581  10.227  1700120.0  000001\n",
       "2015-01-08  10.360   9.999  10.407   9.959  1407714.0  000001\n",
       "2015-01-09   9.959  10.080  10.608   9.832  2508500.0  000001"
      ]
     },
     "execution_count": 91,
     "metadata": {},
     "output_type": "execute_result"
    }
   ],
   "source": [
    "import tushare as ts\n",
    "data = ts.get_k_data('000001', '2015-01-01', '2016-12-30')\n",
    "data.index = pd.to_datetime(data['date'])\n",
    "del data['date']\n",
    "data.head(5)"
   ]
  },
  {
   "cell_type": "code",
   "execution_count": 92,
   "metadata": {},
   "outputs": [
    {
     "name": "stdout",
     "output_type": "stream",
     "text": [
      "<class 'pandas.core.frame.DataFrame'>\n",
      "DatetimeIndex: 488 entries, 2015-01-05 to 2016-12-30\n",
      "Data columns (total 6 columns):\n",
      "open      488 non-null float64\n",
      "close     488 non-null float64\n",
      "high      488 non-null float64\n",
      "low       488 non-null float64\n",
      "volume    488 non-null float64\n",
      "code      488 non-null object\n",
      "dtypes: float64(5), object(1)\n",
      "memory usage: 26.7+ KB\n"
     ]
    }
   ],
   "source": [
    "data.info()"
   ]
  },
  {
   "cell_type": "code",
   "execution_count": 93,
   "metadata": {},
   "outputs": [
    {
     "data": {
      "text/plain": [
       "date\n",
       "2015-01-05    10.708\n",
       "2015-01-06    10.548\n",
       "2015-01-07    10.347\n",
       "2015-01-08     9.999\n",
       "2015-01-09    10.080\n",
       "Name: close, dtype: float64"
      ]
     },
     "execution_count": 93,
     "metadata": {},
     "output_type": "execute_result"
    }
   ],
   "source": [
    "# 提取close价格\n",
    "data_close_price = data['close']\n",
    "data_close_price.head(5)"
   ]
  },
  {
   "cell_type": "code",
   "execution_count": 95,
   "metadata": {},
   "outputs": [
    {
     "data": {
      "text/html": [
       "<div>\n",
       "<style>\n",
       "    .dataframe thead tr:only-child th {\n",
       "        text-align: right;\n",
       "    }\n",
       "\n",
       "    .dataframe thead th {\n",
       "        text-align: left;\n",
       "    }\n",
       "\n",
       "    .dataframe tbody tr th {\n",
       "        vertical-align: top;\n",
       "    }\n",
       "</style>\n",
       "<table border=\"1\" class=\"dataframe\">\n",
       "  <thead>\n",
       "    <tr style=\"text-align: right;\">\n",
       "      <th></th>\n",
       "      <th>open</th>\n",
       "      <th>close</th>\n",
       "      <th>high</th>\n",
       "      <th>low</th>\n",
       "      <th>volume</th>\n",
       "      <th>code</th>\n",
       "    </tr>\n",
       "    <tr>\n",
       "      <th>date</th>\n",
       "      <th></th>\n",
       "      <th></th>\n",
       "      <th></th>\n",
       "      <th></th>\n",
       "      <th></th>\n",
       "      <th></th>\n",
       "    </tr>\n",
       "  </thead>\n",
       "  <tbody>\n",
       "    <tr>\n",
       "      <th>2016-01-04</th>\n",
       "      <td>9.707</td>\n",
       "      <td>9.141</td>\n",
       "      <td>9.731</td>\n",
       "      <td>9.084</td>\n",
       "      <td>563497.0</td>\n",
       "      <td>000001</td>\n",
       "    </tr>\n",
       "    <tr>\n",
       "      <th>2016-01-05</th>\n",
       "      <td>9.117</td>\n",
       "      <td>9.222</td>\n",
       "      <td>9.359</td>\n",
       "      <td>9.019</td>\n",
       "      <td>663269.0</td>\n",
       "      <td>000001</td>\n",
       "    </tr>\n",
       "  </tbody>\n",
       "</table>\n",
       "</div>"
      ],
      "text/plain": [
       "             open  close   high    low    volume    code\n",
       "date                                                    \n",
       "2016-01-04  9.707  9.141  9.731  9.084  563497.0  000001\n",
       "2016-01-05  9.117  9.222  9.359  9.019  663269.0  000001"
      ]
     },
     "execution_count": 95,
     "metadata": {},
     "output_type": "execute_result"
    }
   ],
   "source": [
    "# 使用字符串进行切片\n",
    "data['2016-01-01':'2016-01-05']"
   ]
  },
  {
   "cell_type": "code",
   "execution_count": 98,
   "metadata": {},
   "outputs": [
    {
     "data": {
      "text/plain": [
       "open       9.707\n",
       "close      9.141\n",
       "high       9.731\n",
       "low        9.084\n",
       "volume    563497\n",
       "code      000001\n",
       "Name: 2016-01-04 00:00:00, dtype: object"
      ]
     },
     "execution_count": 98,
     "metadata": {},
     "output_type": "execute_result"
    }
   ],
   "source": [
    "# 使用字符串索引返回以列明为索引的Series\n",
    "data.loc['2016-01-04']"
   ]
  },
  {
   "cell_type": "code",
   "execution_count": 101,
   "metadata": {},
   "outputs": [
    {
     "data": {
      "text/plain": [
       "9.141"
      ]
     },
     "execution_count": 101,
     "metadata": {},
     "output_type": "execute_result"
    }
   ],
   "source": [
    "data_close_price['2016-01-04']     "
   ]
  },
  {
   "cell_type": "code",
   "execution_count": 111,
   "metadata": {},
   "outputs": [
    {
     "data": {
      "text/html": [
       "<div>\n",
       "<style>\n",
       "    .dataframe thead tr:only-child th {\n",
       "        text-align: right;\n",
       "    }\n",
       "\n",
       "    .dataframe thead th {\n",
       "        text-align: left;\n",
       "    }\n",
       "\n",
       "    .dataframe tbody tr th {\n",
       "        vertical-align: top;\n",
       "    }\n",
       "</style>\n",
       "<table border=\"1\" class=\"dataframe\">\n",
       "  <thead>\n",
       "    <tr style=\"text-align: right;\">\n",
       "      <th></th>\n",
       "      <th>open</th>\n",
       "      <th>close</th>\n",
       "      <th>high</th>\n",
       "      <th>low</th>\n",
       "      <th>volume</th>\n",
       "      <th>code</th>\n",
       "    </tr>\n",
       "    <tr>\n",
       "      <th>date</th>\n",
       "      <th></th>\n",
       "      <th></th>\n",
       "      <th></th>\n",
       "      <th></th>\n",
       "      <th></th>\n",
       "      <th></th>\n",
       "    </tr>\n",
       "  </thead>\n",
       "  <tbody>\n",
       "    <tr>\n",
       "      <th>2016-02-01</th>\n",
       "      <td>8.073</td>\n",
       "      <td>7.927</td>\n",
       "      <td>8.097</td>\n",
       "      <td>7.879</td>\n",
       "      <td>417732.0</td>\n",
       "      <td>000001</td>\n",
       "    </tr>\n",
       "    <tr>\n",
       "      <th>2016-02-02</th>\n",
       "      <td>7.927</td>\n",
       "      <td>8.049</td>\n",
       "      <td>8.113</td>\n",
       "      <td>7.911</td>\n",
       "      <td>369104.0</td>\n",
       "      <td>000001</td>\n",
       "    </tr>\n",
       "    <tr>\n",
       "      <th>2016-02-03</th>\n",
       "      <td>7.968</td>\n",
       "      <td>7.968</td>\n",
       "      <td>8.000</td>\n",
       "      <td>7.903</td>\n",
       "      <td>274572.0</td>\n",
       "      <td>000001</td>\n",
       "    </tr>\n",
       "    <tr>\n",
       "      <th>2016-02-04</th>\n",
       "      <td>8.000</td>\n",
       "      <td>8.049</td>\n",
       "      <td>8.089</td>\n",
       "      <td>7.992</td>\n",
       "      <td>373099.0</td>\n",
       "      <td>000001</td>\n",
       "    </tr>\n",
       "    <tr>\n",
       "      <th>2016-02-05</th>\n",
       "      <td>8.057</td>\n",
       "      <td>8.024</td>\n",
       "      <td>8.065</td>\n",
       "      <td>8.016</td>\n",
       "      <td>270893.0</td>\n",
       "      <td>000001</td>\n",
       "    </tr>\n",
       "  </tbody>\n",
       "</table>\n",
       "</div>"
      ],
      "text/plain": [
       "             open  close   high    low    volume    code\n",
       "date                                                    \n",
       "2016-02-01  8.073  7.927  8.097  7.879  417732.0  000001\n",
       "2016-02-02  7.927  8.049  8.113  7.911  369104.0  000001\n",
       "2016-02-03  7.968  7.968  8.000  7.903  274572.0  000001\n",
       "2016-02-04  8.000  8.049  8.089  7.992  373099.0  000001\n",
       "2016-02-05  8.057  8.024  8.065  8.016  270893.0  000001"
      ]
     },
     "execution_count": 111,
     "metadata": {},
     "output_type": "execute_result"
    }
   ],
   "source": [
    "# 使用更高一级的时间（月）进行索引\n",
    "data['2016-02'].head()"
   ]
  },
  {
   "cell_type": "code",
   "execution_count": 112,
   "metadata": {},
   "outputs": [
    {
     "data": {
      "text/html": [
       "<div>\n",
       "<style>\n",
       "    .dataframe thead tr:only-child th {\n",
       "        text-align: right;\n",
       "    }\n",
       "\n",
       "    .dataframe thead th {\n",
       "        text-align: left;\n",
       "    }\n",
       "\n",
       "    .dataframe tbody tr th {\n",
       "        vertical-align: top;\n",
       "    }\n",
       "</style>\n",
       "<table border=\"1\" class=\"dataframe\">\n",
       "  <thead>\n",
       "    <tr style=\"text-align: right;\">\n",
       "      <th></th>\n",
       "      <th>open</th>\n",
       "      <th>close</th>\n",
       "      <th>high</th>\n",
       "      <th>low</th>\n",
       "      <th>volume</th>\n",
       "      <th>code</th>\n",
       "    </tr>\n",
       "    <tr>\n",
       "      <th>date</th>\n",
       "      <th></th>\n",
       "      <th></th>\n",
       "      <th></th>\n",
       "      <th></th>\n",
       "      <th></th>\n",
       "      <th></th>\n",
       "    </tr>\n",
       "  </thead>\n",
       "  <tbody>\n",
       "    <tr>\n",
       "      <th>2016-02-01</th>\n",
       "      <td>8.073</td>\n",
       "      <td>7.927</td>\n",
       "      <td>8.097</td>\n",
       "      <td>7.879</td>\n",
       "      <td>417732.0</td>\n",
       "      <td>000001</td>\n",
       "    </tr>\n",
       "    <tr>\n",
       "      <th>2016-02-02</th>\n",
       "      <td>7.927</td>\n",
       "      <td>8.049</td>\n",
       "      <td>8.113</td>\n",
       "      <td>7.911</td>\n",
       "      <td>369104.0</td>\n",
       "      <td>000001</td>\n",
       "    </tr>\n",
       "    <tr>\n",
       "      <th>2016-02-03</th>\n",
       "      <td>7.968</td>\n",
       "      <td>7.968</td>\n",
       "      <td>8.000</td>\n",
       "      <td>7.903</td>\n",
       "      <td>274572.0</td>\n",
       "      <td>000001</td>\n",
       "    </tr>\n",
       "    <tr>\n",
       "      <th>2016-02-04</th>\n",
       "      <td>8.000</td>\n",
       "      <td>8.049</td>\n",
       "      <td>8.089</td>\n",
       "      <td>7.992</td>\n",
       "      <td>373099.0</td>\n",
       "      <td>000001</td>\n",
       "    </tr>\n",
       "    <tr>\n",
       "      <th>2016-02-05</th>\n",
       "      <td>8.057</td>\n",
       "      <td>8.024</td>\n",
       "      <td>8.065</td>\n",
       "      <td>8.016</td>\n",
       "      <td>270893.0</td>\n",
       "      <td>000001</td>\n",
       "    </tr>\n",
       "  </tbody>\n",
       "</table>\n",
       "</div>"
      ],
      "text/plain": [
       "             open  close   high    low    volume    code\n",
       "date                                                    \n",
       "2016-02-01  8.073  7.927  8.097  7.879  417732.0  000001\n",
       "2016-02-02  7.927  8.049  8.113  7.911  369104.0  000001\n",
       "2016-02-03  7.968  7.968  8.000  7.903  274572.0  000001\n",
       "2016-02-04  8.000  8.049  8.089  7.992  373099.0  000001\n",
       "2016-02-05  8.057  8.024  8.065  8.016  270893.0  000001"
      ]
     },
     "execution_count": 112,
     "metadata": {},
     "output_type": "execute_result"
    }
   ],
   "source": [
    "data.ix['2016-02'].head()"
   ]
  },
  {
   "cell_type": "code",
   "execution_count": 107,
   "metadata": {
    "scrolled": true
   },
   "outputs": [
    {
     "data": {
      "text/html": [
       "<div>\n",
       "<style>\n",
       "    .dataframe thead tr:only-child th {\n",
       "        text-align: right;\n",
       "    }\n",
       "\n",
       "    .dataframe thead th {\n",
       "        text-align: left;\n",
       "    }\n",
       "\n",
       "    .dataframe tbody tr th {\n",
       "        vertical-align: top;\n",
       "    }\n",
       "</style>\n",
       "<table border=\"1\" class=\"dataframe\">\n",
       "  <thead>\n",
       "    <tr style=\"text-align: right;\">\n",
       "      <th></th>\n",
       "      <th>open</th>\n",
       "      <th>close</th>\n",
       "      <th>high</th>\n",
       "      <th>low</th>\n",
       "      <th>volume</th>\n",
       "      <th>code</th>\n",
       "    </tr>\n",
       "    <tr>\n",
       "      <th>date</th>\n",
       "      <th></th>\n",
       "      <th></th>\n",
       "      <th></th>\n",
       "      <th></th>\n",
       "      <th></th>\n",
       "      <th></th>\n",
       "    </tr>\n",
       "  </thead>\n",
       "  <tbody>\n",
       "    <tr>\n",
       "      <th>2016-02-02</th>\n",
       "      <td>7.927</td>\n",
       "      <td>8.049</td>\n",
       "      <td>8.113</td>\n",
       "      <td>7.911</td>\n",
       "      <td>369104.0</td>\n",
       "      <td>000001</td>\n",
       "    </tr>\n",
       "    <tr>\n",
       "      <th>2016-02-03</th>\n",
       "      <td>7.968</td>\n",
       "      <td>7.968</td>\n",
       "      <td>8.000</td>\n",
       "      <td>7.903</td>\n",
       "      <td>274572.0</td>\n",
       "      <td>000001</td>\n",
       "    </tr>\n",
       "    <tr>\n",
       "      <th>2016-02-04</th>\n",
       "      <td>8.000</td>\n",
       "      <td>8.049</td>\n",
       "      <td>8.089</td>\n",
       "      <td>7.992</td>\n",
       "      <td>373099.0</td>\n",
       "      <td>000001</td>\n",
       "    </tr>\n",
       "    <tr>\n",
       "      <th>2016-02-05</th>\n",
       "      <td>8.057</td>\n",
       "      <td>8.024</td>\n",
       "      <td>8.065</td>\n",
       "      <td>8.016</td>\n",
       "      <td>270893.0</td>\n",
       "      <td>000001</td>\n",
       "    </tr>\n",
       "    <tr>\n",
       "      <th>2016-02-15</th>\n",
       "      <td>7.814</td>\n",
       "      <td>7.919</td>\n",
       "      <td>7.968</td>\n",
       "      <td>7.806</td>\n",
       "      <td>278499.0</td>\n",
       "      <td>000001</td>\n",
       "    </tr>\n",
       "  </tbody>\n",
       "</table>\n",
       "</div>"
      ],
      "text/plain": [
       "             open  close   high    low    volume    code\n",
       "date                                                    \n",
       "2016-02-02  7.927  8.049  8.113  7.911  369104.0  000001\n",
       "2016-02-03  7.968  7.968  8.000  7.903  274572.0  000001\n",
       "2016-02-04  8.000  8.049  8.089  7.992  373099.0  000001\n",
       "2016-02-05  8.057  8.024  8.065  8.016  270893.0  000001\n",
       "2016-02-15  7.814  7.919  7.968  7.806  278499.0  000001"
      ]
     },
     "execution_count": 107,
     "metadata": {},
     "output_type": "execute_result"
    }
   ],
   "source": [
    "# 使用更高一级的时间（月）和第一级的时间（日）同时进行切片\n",
    "data['2016-01':'2016-02-15'].tail()"
   ]
  },
  {
   "cell_type": "markdown",
   "metadata": {},
   "source": [
    "### 3. 时间序列数据的前后移动"
   ]
  },
  {
   "cell_type": "code",
   "execution_count": 113,
   "metadata": {},
   "outputs": [
    {
     "data": {
      "text/plain": [
       "date\n",
       "2015-01-05    10.708\n",
       "2015-01-06    10.548\n",
       "2015-01-07    10.347\n",
       "2015-01-08     9.999\n",
       "2015-01-09    10.080\n",
       "Name: close, dtype: float64"
      ]
     },
     "execution_count": 113,
     "metadata": {},
     "output_type": "execute_result"
    }
   ],
   "source": [
    "# 回顾数据\n",
    "data_close_price.head()"
   ]
  },
  {
   "cell_type": "code",
   "execution_count": 114,
   "metadata": {},
   "outputs": [
    {
     "data": {
      "text/plain": [
       "date\n",
       "2015-01-05       NaN\n",
       "2015-01-06    10.708\n",
       "2015-01-07    10.548\n",
       "2015-01-08    10.347\n",
       "2015-01-09     9.999\n",
       "Name: close, dtype: float64"
      ]
     },
     "execution_count": 114,
     "metadata": {},
     "output_type": "execute_result"
    }
   ],
   "source": [
    "# 向前平移数据，距离为一个index\n",
    "yes_close_price = data_close_price.shift(1)       #1是往下移动，这是很多同学容易搞错的，那如果是-1的话则是向上移动；\n",
    "yes_close_price.head()"
   ]
  },
  {
   "cell_type": "code",
   "execution_count": 115,
   "metadata": {},
   "outputs": [
    {
     "data": {
      "text/plain": [
       "date\n",
       "2015-01-05         NaN\n",
       "2015-01-06   -0.014942\n",
       "2015-01-07   -0.019056\n",
       "2015-01-08   -0.033633\n",
       "2015-01-09    0.008101\n",
       "Name: close, dtype: float64"
      ]
     },
     "execution_count": 115,
     "metadata": {},
     "output_type": "execute_result"
    }
   ],
   "source": [
    "# 计算收盘价百分比\n",
    "(data_close_price / data_close_price.shift(1) - 1).head()"
   ]
  },
  {
   "cell_type": "code",
   "execution_count": 116,
   "metadata": {},
   "outputs": [
    {
     "data": {
      "text/plain": [
       "date\n",
       "2015-01-05    10.708\n",
       "2015-01-06    10.548\n",
       "Name: close, dtype: float64"
      ]
     },
     "execution_count": 116,
     "metadata": {},
     "output_type": "execute_result"
    }
   ],
   "source": [
    "# 选取两个数据\n",
    "sample = data_close_price.head(2)\n",
    "sample"
   ]
  },
  {
   "cell_type": "code",
   "execution_count": 117,
   "metadata": {},
   "outputs": [
    {
     "data": {
      "text/plain": [
       "date\n",
       "2015-01-05         NaN\n",
       "2015-01-06    0.985058\n",
       "2015-01-07    0.966287\n",
       "2015-01-08    0.933788\n",
       "2015-01-09    0.941352\n",
       "Name: close, dtype: float64"
      ]
     },
     "execution_count": 117,
     "metadata": {},
     "output_type": "execute_result"
    }
   ],
   "source": [
    "# 计算累积收益率\n",
    "cum_return = (1 + (data_close_price / data_close_price.shift() - 1)).cumprod()\n",
    "cum_return.head()"
   ]
  },
  {
   "cell_type": "markdown",
   "metadata": {},
   "source": [
    "### 4.时间序列数据的频率调整"
   ]
  },
  {
   "cell_type": "markdown",
   "metadata": {},
   "source": [
    "#### 4.1 时间数据的聚合"
   ]
  },
  {
   "cell_type": "code",
   "execution_count": 118,
   "metadata": {},
   "outputs": [
    {
     "data": {
      "text/plain": [
       "0.8621964886066497"
      ]
     },
     "execution_count": 118,
     "metadata": {},
     "output_type": "execute_result"
    }
   ],
   "source": [
    "# 计算某月中每日收益率的平均值1\n",
    "cum_return['2015-02'].mean()"
   ]
  },
  {
   "cell_type": "code",
   "execution_count": 121,
   "metadata": {},
   "outputs": [
    {
     "data": {
      "text/plain": [
       "date\n",
       "2015-01-31    0.910952\n",
       "2015-02-28    0.862196\n",
       "2015-03-31    0.917903\n",
       "2015-04-30    1.193478\n",
       "2015-05-31    1.200831\n",
       "Freq: M, Name: close, dtype: float64"
      ]
     },
     "execution_count": 121,
     "metadata": {},
     "output_type": "execute_result"
    }
   ],
   "source": [
    "# 计算某月中每日收益率的平均值2\n",
    "cum_return.resample('M', how= 'mean').head()"
   ]
  },
  {
   "cell_type": "code",
   "execution_count": 122,
   "metadata": {},
   "outputs": [
    {
     "data": {
      "text/html": [
       "<div>\n",
       "<style>\n",
       "    .dataframe thead tr:only-child th {\n",
       "        text-align: right;\n",
       "    }\n",
       "\n",
       "    .dataframe thead th {\n",
       "        text-align: left;\n",
       "    }\n",
       "\n",
       "    .dataframe tbody tr th {\n",
       "        vertical-align: top;\n",
       "    }\n",
       "</style>\n",
       "<table border=\"1\" class=\"dataframe\">\n",
       "  <thead>\n",
       "    <tr style=\"text-align: right;\">\n",
       "      <th></th>\n",
       "      <th>open</th>\n",
       "      <th>high</th>\n",
       "      <th>low</th>\n",
       "      <th>close</th>\n",
       "    </tr>\n",
       "    <tr>\n",
       "      <th>date</th>\n",
       "      <th></th>\n",
       "      <th></th>\n",
       "      <th></th>\n",
       "      <th></th>\n",
       "    </tr>\n",
       "  </thead>\n",
       "  <tbody>\n",
       "    <tr>\n",
       "      <th>2015-01-31</th>\n",
       "      <td>10.708</td>\n",
       "      <td>10.708</td>\n",
       "      <td>9.244</td>\n",
       "      <td>9.311</td>\n",
       "    </tr>\n",
       "    <tr>\n",
       "      <th>2015-02-28</th>\n",
       "      <td>9.110</td>\n",
       "      <td>9.405</td>\n",
       "      <td>9.030</td>\n",
       "      <td>9.351</td>\n",
       "    </tr>\n",
       "    <tr>\n",
       "      <th>2015-03-31</th>\n",
       "      <td>9.378</td>\n",
       "      <td>10.527</td>\n",
       "      <td>8.943</td>\n",
       "      <td>10.527</td>\n",
       "    </tr>\n",
       "    <tr>\n",
       "      <th>2015-04-30</th>\n",
       "      <td>10.668</td>\n",
       "      <td>13.752</td>\n",
       "      <td>10.561</td>\n",
       "      <td>13.509</td>\n",
       "    </tr>\n",
       "    <tr>\n",
       "      <th>2015-05-31</th>\n",
       "      <td>13.363</td>\n",
       "      <td>13.444</td>\n",
       "      <td>12.279</td>\n",
       "      <td>12.393</td>\n",
       "    </tr>\n",
       "  </tbody>\n",
       "</table>\n",
       "</div>"
      ],
      "text/plain": [
       "              open    high     low   close\n",
       "date                                      \n",
       "2015-01-31  10.708  10.708   9.244   9.311\n",
       "2015-02-28   9.110   9.405   9.030   9.351\n",
       "2015-03-31   9.378  10.527   8.943  10.527\n",
       "2015-04-30  10.668  13.752  10.561  13.509\n",
       "2015-05-31  13.363  13.444  12.279  12.393"
      ]
     },
     "execution_count": 122,
     "metadata": {},
     "output_type": "execute_result"
    }
   ],
   "source": [
    "data_close_price.resample('M', how='ohlc').head()        #升采样和降采用：resample；"
   ]
  },
  {
   "cell_type": "markdown",
   "metadata": {},
   "source": [
    "#### 4.2 时间数据的频率转换"
   ]
  },
  {
   "cell_type": "code",
   "execution_count": 125,
   "metadata": {
    "scrolled": false
   },
   "outputs": [
    {
     "data": {
      "text/plain": [
       "date\n",
       "2015-01-06    0.985058\n",
       "2015-01-07    0.966287\n",
       "Name: close, dtype: float64"
      ]
     },
     "execution_count": 125,
     "metadata": {},
     "output_type": "execute_result"
    }
   ],
   "source": [
    "sample2 = cum_return[1:3]\n",
    "sample2"
   ]
  },
  {
   "cell_type": "code",
   "execution_count": 124,
   "metadata": {},
   "outputs": [
    {
     "data": {
      "text/plain": [
       "date\n",
       "2015-01-06 00:00:00    0.985058\n",
       "2015-01-06 01:00:00         NaN\n",
       "2015-01-06 02:00:00         NaN\n",
       "2015-01-06 03:00:00         NaN\n",
       "2015-01-06 04:00:00         NaN\n",
       "2015-01-06 05:00:00         NaN\n",
       "2015-01-06 06:00:00         NaN\n",
       "2015-01-06 07:00:00         NaN\n",
       "2015-01-06 08:00:00         NaN\n",
       "2015-01-06 09:00:00         NaN\n",
       "2015-01-06 10:00:00         NaN\n",
       "2015-01-06 11:00:00         NaN\n",
       "2015-01-06 12:00:00         NaN\n",
       "2015-01-06 13:00:00         NaN\n",
       "2015-01-06 14:00:00         NaN\n",
       "2015-01-06 15:00:00         NaN\n",
       "2015-01-06 16:00:00         NaN\n",
       "2015-01-06 17:00:00         NaN\n",
       "2015-01-06 18:00:00         NaN\n",
       "2015-01-06 19:00:00         NaN\n",
       "2015-01-06 20:00:00         NaN\n",
       "2015-01-06 21:00:00         NaN\n",
       "2015-01-06 22:00:00         NaN\n",
       "2015-01-06 23:00:00         NaN\n",
       "2015-01-07 00:00:00    0.966287\n",
       "Freq: H, Name: close, dtype: float64"
      ]
     },
     "execution_count": 124,
     "metadata": {},
     "output_type": "execute_result"
    }
   ],
   "source": [
    "sample2_by_hour = sample2.resample('H')\n",
    "sample2_by_hour.head(25)"
   ]
  },
  {
   "cell_type": "code",
   "execution_count": 128,
   "metadata": {},
   "outputs": [
    {
     "data": {
      "text/plain": [
       "date\n",
       "2015-01-06 00:00:00    0.985058\n",
       "2015-01-06 01:00:00    0.985058\n",
       "2015-01-06 02:00:00    0.985058\n",
       "2015-01-06 03:00:00    0.985058\n",
       "2015-01-06 04:00:00    0.985058\n",
       "2015-01-06 05:00:00    0.985058\n",
       "2015-01-06 06:00:00    0.985058\n",
       "2015-01-06 07:00:00    0.985058\n",
       "2015-01-06 08:00:00    0.985058\n",
       "2015-01-06 09:00:00    0.985058\n",
       "2015-01-06 10:00:00    0.985058\n",
       "2015-01-06 11:00:00    0.985058\n",
       "2015-01-06 12:00:00    0.985058\n",
       "2015-01-06 13:00:00    0.985058\n",
       "2015-01-06 14:00:00    0.985058\n",
       "2015-01-06 15:00:00    0.985058\n",
       "2015-01-06 16:00:00    0.985058\n",
       "2015-01-06 17:00:00    0.985058\n",
       "2015-01-06 18:00:00    0.985058\n",
       "2015-01-06 19:00:00    0.985058\n",
       "2015-01-06 20:00:00    0.985058\n",
       "2015-01-06 21:00:00    0.985058\n",
       "2015-01-06 22:00:00    0.985058\n",
       "2015-01-06 23:00:00    0.985058\n",
       "2015-01-07 00:00:00    0.966287\n",
       "Freq: H, Name: close, dtype: float64"
      ]
     },
     "execution_count": 128,
     "metadata": {},
     "output_type": "execute_result"
    }
   ],
   "source": [
    "sample2_by_hour.fillna(method = 'ffill')"
   ]
  },
  {
   "cell_type": "code",
   "execution_count": 129,
   "metadata": {},
   "outputs": [
    {
     "data": {
      "text/plain": [
       "date\n",
       "2015-01-06 00:00:00    0.985058\n",
       "2015-01-06 01:00:00    0.984276\n",
       "2015-01-06 02:00:00    0.983494\n",
       "2015-01-06 03:00:00    0.982712\n",
       "2015-01-06 04:00:00    0.981929\n",
       "2015-01-06 05:00:00    0.981147\n",
       "2015-01-06 06:00:00    0.980365\n",
       "2015-01-06 07:00:00    0.979583\n",
       "2015-01-06 08:00:00    0.978801\n",
       "2015-01-06 09:00:00    0.978019\n",
       "2015-01-06 10:00:00    0.977237\n",
       "2015-01-06 11:00:00    0.976455\n",
       "2015-01-06 12:00:00    0.975672\n",
       "2015-01-06 13:00:00    0.974890\n",
       "2015-01-06 14:00:00    0.974108\n",
       "2015-01-06 15:00:00    0.973326\n",
       "2015-01-06 16:00:00    0.972544\n",
       "2015-01-06 17:00:00    0.971762\n",
       "2015-01-06 18:00:00    0.970980\n",
       "2015-01-06 19:00:00    0.970198\n",
       "2015-01-06 20:00:00    0.969415\n",
       "2015-01-06 21:00:00    0.968633\n",
       "2015-01-06 22:00:00    0.967851\n",
       "2015-01-06 23:00:00    0.967069\n",
       "2015-01-07 00:00:00    0.966287\n",
       "Freq: H, Name: close, dtype: float64"
      ]
     },
     "execution_count": 129,
     "metadata": {},
     "output_type": "execute_result"
    }
   ],
   "source": [
    "# 以线性插值方式填充空值\n",
    "sample2_by_hour.interpolate()"
   ]
  },
  {
   "cell_type": "markdown",
   "metadata": {},
   "source": [
    "#### 4.3 数据频率转换的实战应用"
   ]
  },
  {
   "cell_type": "code",
   "execution_count": 130,
   "metadata": {},
   "outputs": [
    {
     "data": {
      "text/html": [
       "<div>\n",
       "<style>\n",
       "    .dataframe thead tr:only-child th {\n",
       "        text-align: right;\n",
       "    }\n",
       "\n",
       "    .dataframe thead th {\n",
       "        text-align: left;\n",
       "    }\n",
       "\n",
       "    .dataframe tbody tr th {\n",
       "        vertical-align: top;\n",
       "    }\n",
       "</style>\n",
       "<table border=\"1\" class=\"dataframe\">\n",
       "  <thead>\n",
       "    <tr style=\"text-align: right;\">\n",
       "      <th></th>\n",
       "      <th>time</th>\n",
       "      <th>price</th>\n",
       "      <th>change</th>\n",
       "      <th>volume</th>\n",
       "      <th>amount</th>\n",
       "      <th>type</th>\n",
       "    </tr>\n",
       "  </thead>\n",
       "  <tbody>\n",
       "    <tr>\n",
       "      <th>0</th>\n",
       "      <td>15:00:00</td>\n",
       "      <td>16.70</td>\n",
       "      <td>--</td>\n",
       "      <td>0</td>\n",
       "      <td>0</td>\n",
       "      <td>买盘</td>\n",
       "    </tr>\n",
       "    <tr>\n",
       "      <th>1</th>\n",
       "      <td>15:00:00</td>\n",
       "      <td>16.70</td>\n",
       "      <td>--</td>\n",
       "      <td>0</td>\n",
       "      <td>0</td>\n",
       "      <td>买盘</td>\n",
       "    </tr>\n",
       "    <tr>\n",
       "      <th>2</th>\n",
       "      <td>14:59:59</td>\n",
       "      <td>16.70</td>\n",
       "      <td>--</td>\n",
       "      <td>63</td>\n",
       "      <td>105210</td>\n",
       "      <td>买盘</td>\n",
       "    </tr>\n",
       "    <tr>\n",
       "      <th>3</th>\n",
       "      <td>14:59:57</td>\n",
       "      <td>16.70</td>\n",
       "      <td>0.01</td>\n",
       "      <td>43</td>\n",
       "      <td>71810</td>\n",
       "      <td>买盘</td>\n",
       "    </tr>\n",
       "    <tr>\n",
       "      <th>4</th>\n",
       "      <td>14:59:54</td>\n",
       "      <td>16.69</td>\n",
       "      <td>-0.01</td>\n",
       "      <td>166</td>\n",
       "      <td>277054</td>\n",
       "      <td>卖盘</td>\n",
       "    </tr>\n",
       "  </tbody>\n",
       "</table>\n",
       "</div>"
      ],
      "text/plain": [
       "       time  price change  volume  amount type\n",
       "0  15:00:00  16.70     --       0       0   买盘\n",
       "1  15:00:00  16.70     --       0       0   买盘\n",
       "2  14:59:59  16.70     --      63  105210   买盘\n",
       "3  14:59:57  16.70   0.01      43   71810   买盘\n",
       "4  14:59:54  16.69  -0.01     166  277054   卖盘"
      ]
     },
     "execution_count": 130,
     "metadata": {},
     "output_type": "execute_result"
    }
   ],
   "source": [
    "data = ts.get_tick_data('600030','2017-08-18')\n",
    "data.head()"
   ]
  },
  {
   "cell_type": "code",
   "execution_count": 131,
   "metadata": {},
   "outputs": [
    {
     "data": {
      "text/html": [
       "<div>\n",
       "<style>\n",
       "    .dataframe thead tr:only-child th {\n",
       "        text-align: right;\n",
       "    }\n",
       "\n",
       "    .dataframe thead th {\n",
       "        text-align: left;\n",
       "    }\n",
       "\n",
       "    .dataframe tbody tr th {\n",
       "        vertical-align: top;\n",
       "    }\n",
       "</style>\n",
       "<table border=\"1\" class=\"dataframe\">\n",
       "  <thead>\n",
       "    <tr style=\"text-align: right;\">\n",
       "      <th></th>\n",
       "      <th>price</th>\n",
       "      <th>change</th>\n",
       "      <th>volume</th>\n",
       "      <th>amount</th>\n",
       "      <th>type</th>\n",
       "    </tr>\n",
       "    <tr>\n",
       "      <th>time</th>\n",
       "      <th></th>\n",
       "      <th></th>\n",
       "      <th></th>\n",
       "      <th></th>\n",
       "      <th></th>\n",
       "    </tr>\n",
       "  </thead>\n",
       "  <tbody>\n",
       "    <tr>\n",
       "      <th>09:25:03</th>\n",
       "      <td>16.84</td>\n",
       "      <td>16.84</td>\n",
       "      <td>7696</td>\n",
       "      <td>12960064</td>\n",
       "      <td>买盘</td>\n",
       "    </tr>\n",
       "    <tr>\n",
       "      <th>09:28:42</th>\n",
       "      <td>16.84</td>\n",
       "      <td>--</td>\n",
       "      <td>0</td>\n",
       "      <td>0</td>\n",
       "      <td>买盘</td>\n",
       "    </tr>\n",
       "    <tr>\n",
       "      <th>09:30:01</th>\n",
       "      <td>16.80</td>\n",
       "      <td>-0.04</td>\n",
       "      <td>1442</td>\n",
       "      <td>2422560</td>\n",
       "      <td>卖盘</td>\n",
       "    </tr>\n",
       "    <tr>\n",
       "      <th>09:30:04</th>\n",
       "      <td>16.80</td>\n",
       "      <td>--</td>\n",
       "      <td>1895</td>\n",
       "      <td>3183600</td>\n",
       "      <td>卖盘</td>\n",
       "    </tr>\n",
       "    <tr>\n",
       "      <th>09:30:07</th>\n",
       "      <td>16.81</td>\n",
       "      <td>0.01</td>\n",
       "      <td>2688</td>\n",
       "      <td>4518528</td>\n",
       "      <td>买盘</td>\n",
       "    </tr>\n",
       "    <tr>\n",
       "      <th>09:30:10</th>\n",
       "      <td>16.78</td>\n",
       "      <td>-0.03</td>\n",
       "      <td>352</td>\n",
       "      <td>590656</td>\n",
       "      <td>卖盘</td>\n",
       "    </tr>\n",
       "    <tr>\n",
       "      <th>09:30:13</th>\n",
       "      <td>16.78</td>\n",
       "      <td>--</td>\n",
       "      <td>79</td>\n",
       "      <td>132562</td>\n",
       "      <td>卖盘</td>\n",
       "    </tr>\n",
       "    <tr>\n",
       "      <th>09:30:16</th>\n",
       "      <td>16.79</td>\n",
       "      <td>0.01</td>\n",
       "      <td>166</td>\n",
       "      <td>278714</td>\n",
       "      <td>买盘</td>\n",
       "    </tr>\n",
       "    <tr>\n",
       "      <th>09:30:19</th>\n",
       "      <td>16.77</td>\n",
       "      <td>-0.02</td>\n",
       "      <td>574</td>\n",
       "      <td>962598</td>\n",
       "      <td>卖盘</td>\n",
       "    </tr>\n",
       "    <tr>\n",
       "      <th>09:30:22</th>\n",
       "      <td>16.78</td>\n",
       "      <td>0.01</td>\n",
       "      <td>241</td>\n",
       "      <td>404398</td>\n",
       "      <td>中性盘</td>\n",
       "    </tr>\n",
       "  </tbody>\n",
       "</table>\n",
       "</div>"
      ],
      "text/plain": [
       "          price change  volume    amount type\n",
       "time                                         \n",
       "09:25:03  16.84  16.84    7696  12960064   买盘\n",
       "09:28:42  16.84     --       0         0   买盘\n",
       "09:30:01  16.80  -0.04    1442   2422560   卖盘\n",
       "09:30:04  16.80     --    1895   3183600   卖盘\n",
       "09:30:07  16.81   0.01    2688   4518528   买盘\n",
       "09:30:10  16.78  -0.03     352    590656   卖盘\n",
       "09:30:13  16.78     --      79    132562   卖盘\n",
       "09:30:16  16.79   0.01     166    278714   买盘\n",
       "09:30:19  16.77  -0.02     574    962598   卖盘\n",
       "09:30:22  16.78   0.01     241    404398  中性盘"
      ]
     },
     "execution_count": 131,
     "metadata": {},
     "output_type": "execute_result"
    }
   ],
   "source": [
    "data.set_index('time', inplace = True)\n",
    "data.sort_index(ascending=True, inplace = True)     #对索引进行排序；\n",
    "data.head(10)"
   ]
  },
  {
   "cell_type": "code",
   "execution_count": 132,
   "metadata": {},
   "outputs": [
    {
     "name": "stdout",
     "output_type": "stream",
     "text": [
      "<class 'pandas.core.frame.DataFrame'>\n",
      "Index: 4110 entries, 09:25:03 to 15:00:00\n",
      "Data columns (total 5 columns):\n",
      "price     4110 non-null float64\n",
      "change    4110 non-null object\n",
      "volume    4110 non-null int64\n",
      "amount    4110 non-null int64\n",
      "type      4110 non-null object\n",
      "dtypes: float64(1), int64(2), object(2)\n",
      "memory usage: 192.7+ KB\n"
     ]
    }
   ],
   "source": [
    "data.info()"
   ]
  },
  {
   "cell_type": "code",
   "execution_count": 133,
   "metadata": {
    "collapsed": true
   },
   "outputs": [],
   "source": [
    "data.index = pd.to_datetime(data.index)"
   ]
  },
  {
   "cell_type": "code",
   "execution_count": 134,
   "metadata": {},
   "outputs": [
    {
     "name": "stdout",
     "output_type": "stream",
     "text": [
      "<class 'pandas.core.frame.DataFrame'>\n",
      "DatetimeIndex: 4110 entries, 2017-08-19 09:25:03 to 2017-08-19 15:00:00\n",
      "Data columns (total 5 columns):\n",
      "price     4110 non-null float64\n",
      "change    4110 non-null object\n",
      "volume    4110 non-null int64\n",
      "amount    4110 non-null int64\n",
      "type      4110 non-null object\n",
      "dtypes: float64(1), int64(2), object(2)\n",
      "memory usage: 192.7+ KB\n"
     ]
    }
   ],
   "source": [
    "data.info()"
   ]
  },
  {
   "cell_type": "code",
   "execution_count": 136,
   "metadata": {},
   "outputs": [
    {
     "data": {
      "text/html": [
       "<div>\n",
       "<style>\n",
       "    .dataframe thead tr:only-child th {\n",
       "        text-align: right;\n",
       "    }\n",
       "\n",
       "    .dataframe thead th {\n",
       "        text-align: left;\n",
       "    }\n",
       "\n",
       "    .dataframe tbody tr th {\n",
       "        vertical-align: top;\n",
       "    }\n",
       "</style>\n",
       "<table border=\"1\" class=\"dataframe\">\n",
       "  <thead>\n",
       "    <tr style=\"text-align: right;\">\n",
       "      <th></th>\n",
       "      <th>price</th>\n",
       "      <th>volume</th>\n",
       "      <th>amount</th>\n",
       "    </tr>\n",
       "    <tr>\n",
       "      <th>time</th>\n",
       "      <th></th>\n",
       "      <th></th>\n",
       "      <th></th>\n",
       "    </tr>\n",
       "  </thead>\n",
       "  <tbody>\n",
       "    <tr>\n",
       "      <th>2017-08-19 09:25:00</th>\n",
       "      <td>16.840000</td>\n",
       "      <td>3848.000000</td>\n",
       "      <td>6.480032e+06</td>\n",
       "    </tr>\n",
       "    <tr>\n",
       "      <th>2017-08-19 09:30:00</th>\n",
       "      <td>16.782700</td>\n",
       "      <td>353.340000</td>\n",
       "      <td>5.931655e+05</td>\n",
       "    </tr>\n",
       "    <tr>\n",
       "      <th>2017-08-19 09:35:00</th>\n",
       "      <td>16.780505</td>\n",
       "      <td>158.656566</td>\n",
       "      <td>2.662220e+05</td>\n",
       "    </tr>\n",
       "    <tr>\n",
       "      <th>2017-08-19 09:40:00</th>\n",
       "      <td>16.784000</td>\n",
       "      <td>88.440000</td>\n",
       "      <td>1.484336e+05</td>\n",
       "    </tr>\n",
       "    <tr>\n",
       "      <th>2017-08-19 09:45:00</th>\n",
       "      <td>16.811237</td>\n",
       "      <td>130.896907</td>\n",
       "      <td>2.200446e+05</td>\n",
       "    </tr>\n",
       "    <tr>\n",
       "      <th>2017-08-19 09:50:00</th>\n",
       "      <td>16.806146</td>\n",
       "      <td>70.312500</td>\n",
       "      <td>1.181785e+05</td>\n",
       "    </tr>\n",
       "    <tr>\n",
       "      <th>2017-08-19 09:55:00</th>\n",
       "      <td>16.786702</td>\n",
       "      <td>146.361702</td>\n",
       "      <td>2.456697e+05</td>\n",
       "    </tr>\n",
       "    <tr>\n",
       "      <th>2017-08-19 10:00:00</th>\n",
       "      <td>16.774719</td>\n",
       "      <td>58.584270</td>\n",
       "      <td>9.825688e+04</td>\n",
       "    </tr>\n",
       "    <tr>\n",
       "      <th>2017-08-19 10:05:00</th>\n",
       "      <td>16.796977</td>\n",
       "      <td>102.058140</td>\n",
       "      <td>1.714395e+05</td>\n",
       "    </tr>\n",
       "    <tr>\n",
       "      <th>2017-08-19 10:10:00</th>\n",
       "      <td>16.800430</td>\n",
       "      <td>84.559140</td>\n",
       "      <td>1.420706e+05</td>\n",
       "    </tr>\n",
       "  </tbody>\n",
       "</table>\n",
       "</div>"
      ],
      "text/plain": [
       "                         price       volume        amount\n",
       "time                                                     \n",
       "2017-08-19 09:25:00  16.840000  3848.000000  6.480032e+06\n",
       "2017-08-19 09:30:00  16.782700   353.340000  5.931655e+05\n",
       "2017-08-19 09:35:00  16.780505   158.656566  2.662220e+05\n",
       "2017-08-19 09:40:00  16.784000    88.440000  1.484336e+05\n",
       "2017-08-19 09:45:00  16.811237   130.896907  2.200446e+05\n",
       "2017-08-19 09:50:00  16.806146    70.312500  1.181785e+05\n",
       "2017-08-19 09:55:00  16.786702   146.361702  2.456697e+05\n",
       "2017-08-19 10:00:00  16.774719    58.584270  9.825688e+04\n",
       "2017-08-19 10:05:00  16.796977   102.058140  1.714395e+05\n",
       "2017-08-19 10:10:00  16.800430    84.559140  1.420706e+05"
      ]
     },
     "execution_count": 136,
     "metadata": {},
     "output_type": "execute_result"
    }
   ],
   "source": [
    "data_5m = data.resample('5T')\n",
    "data_5m.head(10)"
   ]
  },
  {
   "cell_type": "code",
   "execution_count": 139,
   "metadata": {
    "scrolled": true
   },
   "outputs": [
    {
     "data": {
      "text/html": [
       "<div>\n",
       "<style>\n",
       "    .dataframe thead tr:only-child th {\n",
       "        text-align: right;\n",
       "    }\n",
       "\n",
       "    .dataframe thead th {\n",
       "        text-align: left;\n",
       "    }\n",
       "\n",
       "    .dataframe tbody tr th {\n",
       "        vertical-align: top;\n",
       "    }\n",
       "</style>\n",
       "<table border=\"1\" class=\"dataframe\">\n",
       "  <thead>\n",
       "    <tr style=\"text-align: right;\">\n",
       "      <th></th>\n",
       "      <th>open</th>\n",
       "      <th>high</th>\n",
       "      <th>low</th>\n",
       "      <th>close</th>\n",
       "    </tr>\n",
       "    <tr>\n",
       "      <th>time</th>\n",
       "      <th></th>\n",
       "      <th></th>\n",
       "      <th></th>\n",
       "      <th></th>\n",
       "    </tr>\n",
       "  </thead>\n",
       "  <tbody>\n",
       "    <tr>\n",
       "      <th>2017-08-19 09:25:00</th>\n",
       "      <td>16.84</td>\n",
       "      <td>16.84</td>\n",
       "      <td>16.84</td>\n",
       "      <td>16.84</td>\n",
       "    </tr>\n",
       "    <tr>\n",
       "      <th>2017-08-19 09:26:00</th>\n",
       "      <td>NaN</td>\n",
       "      <td>NaN</td>\n",
       "      <td>NaN</td>\n",
       "      <td>NaN</td>\n",
       "    </tr>\n",
       "    <tr>\n",
       "      <th>2017-08-19 09:27:00</th>\n",
       "      <td>NaN</td>\n",
       "      <td>NaN</td>\n",
       "      <td>NaN</td>\n",
       "      <td>NaN</td>\n",
       "    </tr>\n",
       "    <tr>\n",
       "      <th>2017-08-19 09:28:00</th>\n",
       "      <td>16.84</td>\n",
       "      <td>16.84</td>\n",
       "      <td>16.84</td>\n",
       "      <td>16.84</td>\n",
       "    </tr>\n",
       "    <tr>\n",
       "      <th>2017-08-19 09:29:00</th>\n",
       "      <td>NaN</td>\n",
       "      <td>NaN</td>\n",
       "      <td>NaN</td>\n",
       "      <td>NaN</td>\n",
       "    </tr>\n",
       "    <tr>\n",
       "      <th>2017-08-19 09:30:00</th>\n",
       "      <td>16.80</td>\n",
       "      <td>16.81</td>\n",
       "      <td>16.74</td>\n",
       "      <td>16.74</td>\n",
       "    </tr>\n",
       "    <tr>\n",
       "      <th>2017-08-19 09:31:00</th>\n",
       "      <td>16.74</td>\n",
       "      <td>16.78</td>\n",
       "      <td>16.74</td>\n",
       "      <td>16.78</td>\n",
       "    </tr>\n",
       "    <tr>\n",
       "      <th>2017-08-19 09:32:00</th>\n",
       "      <td>16.79</td>\n",
       "      <td>16.80</td>\n",
       "      <td>16.79</td>\n",
       "      <td>16.80</td>\n",
       "    </tr>\n",
       "    <tr>\n",
       "      <th>2017-08-19 09:33:00</th>\n",
       "      <td>16.80</td>\n",
       "      <td>16.81</td>\n",
       "      <td>16.79</td>\n",
       "      <td>16.79</td>\n",
       "    </tr>\n",
       "    <tr>\n",
       "      <th>2017-08-19 09:34:00</th>\n",
       "      <td>16.79</td>\n",
       "      <td>16.79</td>\n",
       "      <td>16.78</td>\n",
       "      <td>16.78</td>\n",
       "    </tr>\n",
       "  </tbody>\n",
       "</table>\n",
       "</div>"
      ],
      "text/plain": [
       "                      open   high    low  close\n",
       "time                                           \n",
       "2017-08-19 09:25:00  16.84  16.84  16.84  16.84\n",
       "2017-08-19 09:26:00    NaN    NaN    NaN    NaN\n",
       "2017-08-19 09:27:00    NaN    NaN    NaN    NaN\n",
       "2017-08-19 09:28:00  16.84  16.84  16.84  16.84\n",
       "2017-08-19 09:29:00    NaN    NaN    NaN    NaN\n",
       "2017-08-19 09:30:00  16.80  16.81  16.74  16.74\n",
       "2017-08-19 09:31:00  16.74  16.78  16.74  16.78\n",
       "2017-08-19 09:32:00  16.79  16.80  16.79  16.80\n",
       "2017-08-19 09:33:00  16.80  16.81  16.79  16.79\n",
       "2017-08-19 09:34:00  16.79  16.79  16.78  16.78"
      ]
     },
     "execution_count": 139,
     "metadata": {},
     "output_type": "execute_result"
    }
   ],
   "source": [
    "data_5m = data['price'].resample('1T',how='ohlc')\n",
    "data_5m.head(10)"
   ]
  }
 ],
 "metadata": {
  "kernelspec": {
   "display_name": "Python 3",
   "language": "python",
   "name": "python3"
  },
  "language_info": {
   "codemirror_mode": {
    "name": "ipython",
    "version": 3
   },
   "file_extension": ".py",
   "mimetype": "text/x-python",
   "name": "python",
   "nbconvert_exporter": "python",
   "pygments_lexer": "ipython3",
   "version": "3.7.3"
  }
 },
 "nbformat": 4,
 "nbformat_minor": 1
}
