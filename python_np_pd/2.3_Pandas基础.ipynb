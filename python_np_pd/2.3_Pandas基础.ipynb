{
 "cells": [
  {
   "cell_type": "markdown",
   "metadata": {},
   "source": [
    "# Pandas基础"
   ]
  },
  {
   "cell_type": "markdown",
   "metadata": {
    "slideshow": {
     "slide_type": "subslide"
    }
   },
   "source": [
    "Pandas是构建在Numpy的基础上的，所以一般我们在需要把pandas import进来的时候，最好把numpy也一起import；\n",
    "\n",
    "Pandas主要有三大类型：\n",
    "\n",
    "Series\n",
    "\n",
    "Dataframe\n",
    "\n",
    "Panel"
   ]
  },
  {
   "cell_type": "code",
   "execution_count": 2,
   "metadata": {
    "collapsed": true,
    "uuid": "eda2a742-134d-4d47-8b30-557b846b9bb3"
   },
   "outputs": [],
   "source": [
    "import numpy as np\n",
    "import pandas as pd\n",
    "import warnings; warnings.simplefilter('ignore') #忽略可能会出现的警告信息，警告并不是错误，可以忽略；"
   ]
  },
  {
   "cell_type": "markdown",
   "metadata": {},
   "source": [
    "### 1. Series构建和基础用法"
   ]
  },
  {
   "cell_type": "code",
   "execution_count": 2,
   "metadata": {},
   "outputs": [
    {
     "data": {
      "text/plain": [
       "pandas.core.series.Series"
      ]
     },
     "execution_count": 2,
     "metadata": {},
     "output_type": "execute_result"
    }
   ],
   "source": [
    "# 通过list构建Series，list转换成为Series，用pd.Series;\n",
    "df = pd.Series(range(10, 20))\n",
    "type(df)"
   ]
  },
  {
   "cell_type": "code",
   "execution_count": 3,
   "metadata": {},
   "outputs": [
    {
     "data": {
      "text/plain": [
       "0    10\n",
       "1    11\n",
       "2    12\n",
       "3    13\n",
       "4    14\n",
       "5    15\n",
       "6    16\n",
       "7    17\n",
       "8    18\n",
       "9    19\n",
       "dtype: int32"
      ]
     },
     "execution_count": 3,
     "metadata": {},
     "output_type": "execute_result"
    }
   ],
   "source": [
    "df"
   ]
  },
  {
   "cell_type": "code",
   "execution_count": 4,
   "metadata": {},
   "outputs": [
    {
     "data": {
      "text/plain": [
       "array([10, 11, 12, 13, 14, 15, 16, 17, 18, 19])"
      ]
     },
     "execution_count": 4,
     "metadata": {},
     "output_type": "execute_result"
    }
   ],
   "source": [
    "df.values               #可以获得具体的value；"
   ]
  },
  {
   "cell_type": "code",
   "execution_count": 5,
   "metadata": {},
   "outputs": [
    {
     "data": {
      "text/plain": [
       "numpy.ndarray"
      ]
     },
     "execution_count": 5,
     "metadata": {},
     "output_type": "execute_result"
    }
   ],
   "source": [
    "type(df.values)               #series其实是由Ndarry构成的；"
   ]
  },
  {
   "cell_type": "code",
   "execution_count": 9,
   "metadata": {},
   "outputs": [
    {
     "data": {
      "text/plain": [
       "0    10\n",
       "1    11\n",
       "2    12\n",
       "3    13\n",
       "4    14\n",
       "5    15\n",
       "6    16\n",
       "7    17\n",
       "8    18\n",
       "9    19\n",
       "dtype: int32"
      ]
     },
     "execution_count": 9,
     "metadata": {},
     "output_type": "execute_result"
    }
   ],
   "source": [
    "df.head(10)                   #DataFrame中的.head()方法；"
   ]
  },
  {
   "cell_type": "code",
   "execution_count": 10,
   "metadata": {},
   "outputs": [
    {
     "data": {
      "text/plain": [
       "10"
      ]
     },
     "execution_count": 10,
     "metadata": {},
     "output_type": "execute_result"
    }
   ],
   "source": [
    "df[0]"
   ]
  },
  {
   "cell_type": "code",
   "execution_count": 11,
   "metadata": {},
   "outputs": [
    {
     "data": {
      "text/plain": [
       "18"
      ]
     },
     "execution_count": 11,
     "metadata": {},
     "output_type": "execute_result"
    }
   ],
   "source": [
    "df[8]                  #通过索引获得数据的value；"
   ]
  },
  {
   "cell_type": "code",
   "execution_count": 12,
   "metadata": {},
   "outputs": [
    {
     "data": {
      "text/plain": [
       "6    16\n",
       "7    17\n",
       "8    18\n",
       "9    19\n",
       "dtype: int32"
      ]
     },
     "execution_count": 12,
     "metadata": {},
     "output_type": "execute_result"
    }
   ],
   "source": [
    "df[df > 15]            #Series中选择满足条件的数据；重点掌握；"
   ]
  },
  {
   "cell_type": "code",
   "execution_count": 13,
   "metadata": {},
   "outputs": [
    {
     "data": {
      "text/plain": [
       "0    False\n",
       "1    False\n",
       "2    False\n",
       "3    False\n",
       "4    False\n",
       "5    False\n",
       "6     True\n",
       "7     True\n",
       "8     True\n",
       "9     True\n",
       "dtype: bool"
      ]
     },
     "execution_count": 13,
     "metadata": {},
     "output_type": "execute_result"
    }
   ],
   "source": [
    "df > 15"
   ]
  },
  {
   "cell_type": "code",
   "execution_count": 15,
   "metadata": {},
   "outputs": [
    {
     "data": {
      "text/plain": [
       "a    1\n",
       "b    2\n",
       "c    3\n",
       "dtype: int64"
      ]
     },
     "execution_count": 15,
     "metadata": {},
     "output_type": "execute_result"
    }
   ],
   "source": [
    "#通过字典构建Series\n",
    "sales_data = {'a': 1, 'b': 2, 'c': 3}\n",
    "df = pd.Series(sales_data)\n",
    "df"
   ]
  },
  {
   "cell_type": "code",
   "execution_count": 16,
   "metadata": {},
   "outputs": [
    {
     "data": {
      "text/plain": [
       "Index(['a', 'b', 'c'], dtype='object')"
      ]
     },
     "execution_count": 16,
     "metadata": {},
     "output_type": "execute_result"
    }
   ],
   "source": [
    "df.index              #Series的index属性；"
   ]
  },
  {
   "cell_type": "code",
   "execution_count": 19,
   "metadata": {},
   "outputs": [
    {
     "data": {
      "text/plain": [
       "Index\n",
       "a    1\n",
       "b    2\n",
       "c    3\n",
       "Name: Series1, dtype: int64"
      ]
     },
     "execution_count": 19,
     "metadata": {},
     "output_type": "execute_result"
    }
   ],
   "source": [
    "df.name = 'Series1'\n",
    "df.index.name = 'Index'\n",
    "df.head()"
   ]
  },
  {
   "cell_type": "code",
   "execution_count": 21,
   "metadata": {},
   "outputs": [
    {
     "data": {
      "text/plain": [
       "a     8\n",
       "b     9\n",
       "c    10\n",
       "d    11\n",
       "e    12\n",
       "f    13\n",
       "dtype: int32"
      ]
     },
     "execution_count": 21,
     "metadata": {},
     "output_type": "execute_result"
    }
   ],
   "source": [
    "df = pd.Series(range(8,14), index = ['a', 'b', 'c', 'd', 'e','f'])\n",
    "df"
   ]
  },
  {
   "cell_type": "code",
   "execution_count": 24,
   "metadata": {},
   "outputs": [
    {
     "data": {
      "text/plain": [
       "11"
      ]
     },
     "execution_count": 24,
     "metadata": {},
     "output_type": "execute_result"
    }
   ],
   "source": [
    "df[3]                #index行索引,通过position，通过位置进行的索引；"
   ]
  },
  {
   "cell_type": "code",
   "execution_count": 27,
   "metadata": {},
   "outputs": [
    {
     "data": {
      "text/plain": [
       "11"
      ]
     },
     "execution_count": 27,
     "metadata": {},
     "output_type": "execute_result"
    }
   ],
   "source": [
    "df['d']             #index标签索引 "
   ]
  },
  {
   "cell_type": "code",
   "execution_count": 25,
   "metadata": {},
   "outputs": [
    {
     "data": {
      "text/plain": [
       "b     9\n",
       "c    10\n",
       "dtype: int32"
      ]
     },
     "execution_count": 25,
     "metadata": {},
     "output_type": "execute_result"
    }
   ],
   "source": [
    "df[1:3]             #切片索引，用index索引前闭后开，position索引；"
   ]
  },
  {
   "cell_type": "code",
   "execution_count": 28,
   "metadata": {},
   "outputs": [
    {
     "data": {
      "text/plain": [
       "b     9\n",
       "c    10\n",
       "d    11\n",
       "dtype: int32"
      ]
     },
     "execution_count": 28,
     "metadata": {},
     "output_type": "execute_result"
    }
   ],
   "source": [
    "df['b':'d']        #切片索引，用label索引都是闭区间，注意用position索引和label索引的区别"
   ]
  },
  {
   "cell_type": "code",
   "execution_count": 31,
   "metadata": {},
   "outputs": [
    {
     "data": {
      "text/plain": [
       "a     8\n",
       "d    11\n",
       "dtype: int32"
      ]
     },
     "execution_count": 31,
     "metadata": {},
     "output_type": "execute_result"
    }
   ],
   "source": [
    "df[['a', 'd']]       #不连续索引,通过list进行传递；"
   ]
  },
  {
   "cell_type": "markdown",
   "metadata": {},
   "source": [
    "### 2. DataFrame的构建"
   ]
  },
  {
   "cell_type": "markdown",
   "metadata": {},
   "source": [
    "#### 2.1 通过Numpy构建DataFrame"
   ]
  },
  {
   "cell_type": "code",
   "execution_count": 47,
   "metadata": {
    "scrolled": true
   },
   "outputs": [
    {
     "data": {
      "text/plain": [
       "array([[ 0.12076351,  0.00894188,  1.61175192,  0.17941872],\n",
       "       [-0.33586583,  1.35128107, -0.96854778, -0.55056321],\n",
       "       [ 0.28232073, -0.06541281, -0.82860594,  0.59417669],\n",
       "       [-1.73360361, -0.29234947, -1.53458805,  0.0192691 ],\n",
       "       [-0.44802276,  0.08133935,  2.29853902,  0.59580676],\n",
       "       [ 0.96625831,  0.60578328,  0.97159637,  1.15419816]])"
      ]
     },
     "execution_count": 47,
     "metadata": {},
     "output_type": "execute_result"
    }
   ],
   "source": [
    "array = np.random.randn(6,4)\n",
    "array"
   ]
  },
  {
   "cell_type": "code",
   "execution_count": 48,
   "metadata": {
    "scrolled": true
   },
   "outputs": [
    {
     "data": {
      "text/html": [
       "<div>\n",
       "<style>\n",
       "    .dataframe thead tr:only-child th {\n",
       "        text-align: right;\n",
       "    }\n",
       "\n",
       "    .dataframe thead th {\n",
       "        text-align: left;\n",
       "    }\n",
       "\n",
       "    .dataframe tbody tr th {\n",
       "        vertical-align: top;\n",
       "    }\n",
       "</style>\n",
       "<table border=\"1\" class=\"dataframe\">\n",
       "  <thead>\n",
       "    <tr style=\"text-align: right;\">\n",
       "      <th></th>\n",
       "      <th>0</th>\n",
       "      <th>1</th>\n",
       "      <th>2</th>\n",
       "      <th>3</th>\n",
       "    </tr>\n",
       "  </thead>\n",
       "  <tbody>\n",
       "    <tr>\n",
       "      <th>0</th>\n",
       "      <td>0.120764</td>\n",
       "      <td>0.008942</td>\n",
       "      <td>1.611752</td>\n",
       "      <td>0.179419</td>\n",
       "    </tr>\n",
       "    <tr>\n",
       "      <th>1</th>\n",
       "      <td>-0.335866</td>\n",
       "      <td>1.351281</td>\n",
       "      <td>-0.968548</td>\n",
       "      <td>-0.550563</td>\n",
       "    </tr>\n",
       "    <tr>\n",
       "      <th>2</th>\n",
       "      <td>0.282321</td>\n",
       "      <td>-0.065413</td>\n",
       "      <td>-0.828606</td>\n",
       "      <td>0.594177</td>\n",
       "    </tr>\n",
       "    <tr>\n",
       "      <th>3</th>\n",
       "      <td>-1.733604</td>\n",
       "      <td>-0.292349</td>\n",
       "      <td>-1.534588</td>\n",
       "      <td>0.019269</td>\n",
       "    </tr>\n",
       "    <tr>\n",
       "      <th>4</th>\n",
       "      <td>-0.448023</td>\n",
       "      <td>0.081339</td>\n",
       "      <td>2.298539</td>\n",
       "      <td>0.595807</td>\n",
       "    </tr>\n",
       "  </tbody>\n",
       "</table>\n",
       "</div>"
      ],
      "text/plain": [
       "          0         1         2         3\n",
       "0  0.120764  0.008942  1.611752  0.179419\n",
       "1 -0.335866  1.351281 -0.968548 -0.550563\n",
       "2  0.282321 -0.065413 -0.828606  0.594177\n",
       "3 -1.733604 -0.292349 -1.534588  0.019269\n",
       "4 -0.448023  0.081339  2.298539  0.595807"
      ]
     },
     "execution_count": 48,
     "metadata": {},
     "output_type": "execute_result"
    }
   ],
   "source": [
    "df = pd.DataFrame(array)               #通过Ndarray构建Dataframe,如果没有声明，默认的行index和列index都是从0开始；\n",
    "df.head()"
   ]
  },
  {
   "cell_type": "code",
   "execution_count": 50,
   "metadata": {},
   "outputs": [
    {
     "data": {
      "text/html": [
       "<div>\n",
       "<style>\n",
       "    .dataframe thead tr:only-child th {\n",
       "        text-align: right;\n",
       "    }\n",
       "\n",
       "    .dataframe thead th {\n",
       "        text-align: left;\n",
       "    }\n",
       "\n",
       "    .dataframe tbody tr th {\n",
       "        vertical-align: top;\n",
       "    }\n",
       "</style>\n",
       "<table border=\"1\" class=\"dataframe\">\n",
       "  <thead>\n",
       "    <tr style=\"text-align: right;\">\n",
       "      <th></th>\n",
       "      <th>a</th>\n",
       "      <th>b</th>\n",
       "      <th>c</th>\n",
       "      <th>d</th>\n",
       "    </tr>\n",
       "  </thead>\n",
       "  <tbody>\n",
       "    <tr>\n",
       "      <th>e</th>\n",
       "      <td>0.460790</td>\n",
       "      <td>0.434568</td>\n",
       "      <td>0.747517</td>\n",
       "      <td>-0.290976</td>\n",
       "    </tr>\n",
       "    <tr>\n",
       "      <th>f</th>\n",
       "      <td>1.619017</td>\n",
       "      <td>-0.032428</td>\n",
       "      <td>-0.914960</td>\n",
       "      <td>0.141304</td>\n",
       "    </tr>\n",
       "    <tr>\n",
       "      <th>g</th>\n",
       "      <td>2.466882</td>\n",
       "      <td>-1.983068</td>\n",
       "      <td>0.315625</td>\n",
       "      <td>-0.503023</td>\n",
       "    </tr>\n",
       "    <tr>\n",
       "      <th>h</th>\n",
       "      <td>0.677443</td>\n",
       "      <td>-1.681895</td>\n",
       "      <td>0.731671</td>\n",
       "      <td>0.856143</td>\n",
       "    </tr>\n",
       "    <tr>\n",
       "      <th>i</th>\n",
       "      <td>-0.702731</td>\n",
       "      <td>-0.819589</td>\n",
       "      <td>-1.886940</td>\n",
       "      <td>0.240970</td>\n",
       "    </tr>\n",
       "    <tr>\n",
       "      <th>j</th>\n",
       "      <td>-1.331922</td>\n",
       "      <td>-0.945398</td>\n",
       "      <td>0.102177</td>\n",
       "      <td>-0.816075</td>\n",
       "    </tr>\n",
       "  </tbody>\n",
       "</table>\n",
       "</div>"
      ],
      "text/plain": [
       "          a         b         c         d\n",
       "e  0.460790  0.434568  0.747517 -0.290976\n",
       "f  1.619017 -0.032428 -0.914960  0.141304\n",
       "g  2.466882 -1.983068  0.315625 -0.503023\n",
       "h  0.677443 -1.681895  0.731671  0.856143\n",
       "i -0.702731 -0.819589 -1.886940  0.240970\n",
       "j -1.331922 -0.945398  0.102177 -0.816075"
      ]
     },
     "execution_count": 50,
     "metadata": {},
     "output_type": "execute_result"
    }
   ],
   "source": [
    "df = pd.DataFrame(np.random.randn(6,4), columns = ['a', 'b', 'c', 'd'], index = ['e','f','g','h','i','j'] )    #构建的时候明确了行和列的标签；\n",
    "df"
   ]
  },
  {
   "cell_type": "markdown",
   "metadata": {},
   "source": [
    "#### 2.2 通过字典构建DataFrame"
   ]
  },
  {
   "cell_type": "code",
   "execution_count": 3,
   "metadata": {},
   "outputs": [
    {
     "data": {
      "text/html": [
       "<div>\n",
       "<style>\n",
       "    .dataframe thead tr:only-child th {\n",
       "        text-align: right;\n",
       "    }\n",
       "\n",
       "    .dataframe thead th {\n",
       "        text-align: left;\n",
       "    }\n",
       "\n",
       "    .dataframe tbody tr th {\n",
       "        vertical-align: top;\n",
       "    }\n",
       "</style>\n",
       "<table border=\"1\" class=\"dataframe\">\n",
       "  <thead>\n",
       "    <tr style=\"text-align: right;\">\n",
       "      <th></th>\n",
       "      <th>Company</th>\n",
       "      <th>Course_name</th>\n",
       "      <th>Date</th>\n",
       "      <th>Number</th>\n",
       "    </tr>\n",
       "  </thead>\n",
       "  <tbody>\n",
       "    <tr>\n",
       "      <th>0</th>\n",
       "      <td>SJTU</td>\n",
       "      <td>Python</td>\n",
       "      <td>2017-06-30</td>\n",
       "      <td>6.0</td>\n",
       "    </tr>\n",
       "    <tr>\n",
       "      <th>1</th>\n",
       "      <td>SJTU</td>\n",
       "      <td>Quant</td>\n",
       "      <td>2017-06-30</td>\n",
       "      <td>6.0</td>\n",
       "    </tr>\n",
       "    <tr>\n",
       "      <th>2</th>\n",
       "      <td>SJTU</td>\n",
       "      <td>Finance</td>\n",
       "      <td>2017-06-30</td>\n",
       "      <td>6.0</td>\n",
       "    </tr>\n",
       "    <tr>\n",
       "      <th>3</th>\n",
       "      <td>SJTU</td>\n",
       "      <td>CFA</td>\n",
       "      <td>2017-06-30</td>\n",
       "      <td>NaN</td>\n",
       "    </tr>\n",
       "  </tbody>\n",
       "</table>\n",
       "</div>"
      ],
      "text/plain": [
       "  Company Course_name       Date  Number\n",
       "0    SJTU      Python 2017-06-30     6.0\n",
       "1    SJTU       Quant 2017-06-30     6.0\n",
       "2    SJTU     Finance 2017-06-30     6.0\n",
       "3    SJTU         CFA 2017-06-30     NaN"
      ]
     },
     "execution_count": 3,
     "metadata": {},
     "output_type": "execute_result"
    }
   ],
   "source": [
    "# 通过字典构建DataFrame\n",
    "dict_data = {'Date': pd.datetime(2017,6,30),\n",
    "             'Number': pd.Series([6,6,6]),\n",
    "             'Course_name' : pd.Series([\"Python\",\"Quant\",\"Finance\",\"CFA\"]),     #直接传一个list进去也是完全可以的；\n",
    "             'Company' : 'SJTU' }\n",
    "# 显示DataFrame\n",
    "df = pd.DataFrame(dict_data)\n",
    "df.head()"
   ]
  },
  {
   "cell_type": "markdown",
   "metadata": {},
   "source": [
    "#### 2.3 自定义构建DataFrame"
   ]
  },
  {
   "cell_type": "code",
   "execution_count": 59,
   "metadata": {},
   "outputs": [
    {
     "data": {
      "text/html": [
       "<div>\n",
       "<style>\n",
       "    .dataframe thead tr:only-child th {\n",
       "        text-align: right;\n",
       "    }\n",
       "\n",
       "    .dataframe thead th {\n",
       "        text-align: left;\n",
       "    }\n",
       "\n",
       "    .dataframe tbody tr th {\n",
       "        vertical-align: top;\n",
       "    }\n",
       "</style>\n",
       "<table border=\"1\" class=\"dataframe\">\n",
       "  <thead>\n",
       "    <tr style=\"text-align: right;\">\n",
       "      <th></th>\n",
       "      <th>Quantity</th>\n",
       "    </tr>\n",
       "  </thead>\n",
       "  <tbody>\n",
       "    <tr>\n",
       "      <th>a</th>\n",
       "      <td>10</td>\n",
       "    </tr>\n",
       "    <tr>\n",
       "      <th>b</th>\n",
       "      <td>30</td>\n",
       "    </tr>\n",
       "    <tr>\n",
       "      <th>c</th>\n",
       "      <td>60</td>\n",
       "    </tr>\n",
       "    <tr>\n",
       "      <th>d</th>\n",
       "      <td>80</td>\n",
       "    </tr>\n",
       "  </tbody>\n",
       "</table>\n",
       "</div>"
      ],
      "text/plain": [
       "   Quantity\n",
       "a        10\n",
       "b        30\n",
       "c        60\n",
       "d        80"
      ]
     },
     "execution_count": 59,
     "metadata": {},
     "output_type": "execute_result"
    }
   ],
   "source": [
    "df = pd.DataFrame([10, 30, 60, 80], columns=['Quantity'],\n",
    "                  index=['a', 'b', 'c', 'd'])\n",
    "df"
   ]
  },
  {
   "cell_type": "code",
   "execution_count": 60,
   "metadata": {},
   "outputs": [
    {
     "data": {
      "text/plain": [
       "pandas.core.frame.DataFrame"
      ]
     },
     "execution_count": 60,
     "metadata": {},
     "output_type": "execute_result"
    }
   ],
   "source": [
    "type(df)"
   ]
  },
  {
   "cell_type": "code",
   "execution_count": 61,
   "metadata": {},
   "outputs": [
    {
     "data": {
      "text/plain": [
       "numpy.ndarray"
      ]
     },
     "execution_count": 61,
     "metadata": {},
     "output_type": "execute_result"
    }
   ],
   "source": [
    "type(df.values)"
   ]
  },
  {
   "cell_type": "code",
   "execution_count": 62,
   "metadata": {},
   "outputs": [
    {
     "data": {
      "text/plain": [
       "pandas.core.series.Series"
      ]
     },
     "execution_count": 62,
     "metadata": {},
     "output_type": "execute_result"
    }
   ],
   "source": [
    "type(df.Quantity)"
   ]
  },
  {
   "cell_type": "code",
   "execution_count": 57,
   "metadata": {},
   "outputs": [
    {
     "data": {
      "text/plain": [
       "a    10\n",
       "b    30\n",
       "c    60\n",
       "d    80\n",
       "dtype: int64"
      ]
     },
     "execution_count": 57,
     "metadata": {},
     "output_type": "execute_result"
    }
   ],
   "source": [
    "df = pd.Series([10, 30, 60, 80], \n",
    "                  index=['a', 'b', 'c', 'd'])\n",
    "df"
   ]
  },
  {
   "cell_type": "code",
   "execution_count": 58,
   "metadata": {},
   "outputs": [
    {
     "data": {
      "text/plain": [
       "numpy.ndarray"
      ]
     },
     "execution_count": 58,
     "metadata": {},
     "output_type": "execute_result"
    }
   ],
   "source": [
    "type(df.values)"
   ]
  },
  {
   "cell_type": "markdown",
   "metadata": {},
   "source": [
    "### 3. DaraFrame的选择操作"
   ]
  },
  {
   "cell_type": "code",
   "execution_count": 4,
   "metadata": {},
   "outputs": [
    {
     "data": {
      "text/html": [
       "<div>\n",
       "<style>\n",
       "    .dataframe thead tr:only-child th {\n",
       "        text-align: right;\n",
       "    }\n",
       "\n",
       "    .dataframe thead th {\n",
       "        text-align: left;\n",
       "    }\n",
       "\n",
       "    .dataframe tbody tr th {\n",
       "        vertical-align: top;\n",
       "    }\n",
       "</style>\n",
       "<table border=\"1\" class=\"dataframe\">\n",
       "  <thead>\n",
       "    <tr style=\"text-align: right;\">\n",
       "      <th></th>\n",
       "      <th>Company</th>\n",
       "      <th>Course_name</th>\n",
       "      <th>Date</th>\n",
       "      <th>Number</th>\n",
       "    </tr>\n",
       "  </thead>\n",
       "  <tbody>\n",
       "    <tr>\n",
       "      <th>0</th>\n",
       "      <td>SJTU</td>\n",
       "      <td>Python</td>\n",
       "      <td>2017-06-30</td>\n",
       "      <td>6</td>\n",
       "    </tr>\n",
       "    <tr>\n",
       "      <th>1</th>\n",
       "      <td>SJTU</td>\n",
       "      <td>Quant</td>\n",
       "      <td>2017-06-30</td>\n",
       "      <td>6</td>\n",
       "    </tr>\n",
       "    <tr>\n",
       "      <th>2</th>\n",
       "      <td>SJTU</td>\n",
       "      <td>Finance</td>\n",
       "      <td>2017-06-30</td>\n",
       "      <td>6</td>\n",
       "    </tr>\n",
       "    <tr>\n",
       "      <th>3</th>\n",
       "      <td>SJTU</td>\n",
       "      <td>CFA</td>\n",
       "      <td>2017-06-30</td>\n",
       "      <td>6</td>\n",
       "    </tr>\n",
       "  </tbody>\n",
       "</table>\n",
       "</div>"
      ],
      "text/plain": [
       "  Company Course_name       Date  Number\n",
       "0    SJTU      Python 2017-06-30       6\n",
       "1    SJTU       Quant 2017-06-30       6\n",
       "2    SJTU     Finance 2017-06-30       6\n",
       "3    SJTU         CFA 2017-06-30       6"
      ]
     },
     "execution_count": 4,
     "metadata": {},
     "output_type": "execute_result"
    }
   ],
   "source": [
    "# 通过字典构建DataFrame\n",
    "dict_data = {'Date': pd.datetime(2017,6,30),\n",
    "             'Number': pd.Series([6, 6, 6, 6]),\n",
    "             'Course_name' : pd.Series([\"Python\",\"Quant\",\"Finance\",\"CFA\"]),     #直接传一个list进去也是完全可以的；\n",
    "             'Company' : 'SJTU' }\n",
    "\n",
    "df = pd.DataFrame(dict_data)\n",
    "df.head()"
   ]
  },
  {
   "cell_type": "markdown",
   "metadata": {},
   "source": [
    "#### 3.1 通过标签获取数据"
   ]
  },
  {
   "cell_type": "code",
   "execution_count": 5,
   "metadata": {},
   "outputs": [
    {
     "data": {
      "text/plain": [
       "0     Python\n",
       "1      Quant\n",
       "2    Finance\n",
       "3        CFA\n",
       "Name: Course_name, dtype: object"
      ]
     },
     "execution_count": 5,
     "metadata": {},
     "output_type": "execute_result"
    }
   ],
   "source": [
    "df['Course_name']               #通过Columns索引获取数据"
   ]
  },
  {
   "cell_type": "code",
   "execution_count": 6,
   "metadata": {},
   "outputs": [
    {
     "data": {
      "text/plain": [
       "0   2017-06-30\n",
       "1   2017-06-30\n",
       "2   2017-06-30\n",
       "3   2017-06-30\n",
       "Name: Date, dtype: datetime64[ns]"
      ]
     },
     "execution_count": 6,
     "metadata": {},
     "output_type": "execute_result"
    }
   ],
   "source": [
    "df['Date']  "
   ]
  },
  {
   "cell_type": "code",
   "execution_count": 7,
   "metadata": {},
   "outputs": [
    {
     "data": {
      "text/html": [
       "<div>\n",
       "<style>\n",
       "    .dataframe thead tr:only-child th {\n",
       "        text-align: right;\n",
       "    }\n",
       "\n",
       "    .dataframe thead th {\n",
       "        text-align: left;\n",
       "    }\n",
       "\n",
       "    .dataframe tbody tr th {\n",
       "        vertical-align: top;\n",
       "    }\n",
       "</style>\n",
       "<table border=\"1\" class=\"dataframe\">\n",
       "  <thead>\n",
       "    <tr style=\"text-align: right;\">\n",
       "      <th></th>\n",
       "      <th>Date</th>\n",
       "      <th>Course_name</th>\n",
       "    </tr>\n",
       "  </thead>\n",
       "  <tbody>\n",
       "    <tr>\n",
       "      <th>0</th>\n",
       "      <td>2017-06-30</td>\n",
       "      <td>Python</td>\n",
       "    </tr>\n",
       "    <tr>\n",
       "      <th>1</th>\n",
       "      <td>2017-06-30</td>\n",
       "      <td>Quant</td>\n",
       "    </tr>\n",
       "    <tr>\n",
       "      <th>2</th>\n",
       "      <td>2017-06-30</td>\n",
       "      <td>Finance</td>\n",
       "    </tr>\n",
       "    <tr>\n",
       "      <th>3</th>\n",
       "      <td>2017-06-30</td>\n",
       "      <td>CFA</td>\n",
       "    </tr>\n",
       "  </tbody>\n",
       "</table>\n",
       "</div>"
      ],
      "text/plain": [
       "        Date Course_name\n",
       "0 2017-06-30      Python\n",
       "1 2017-06-30       Quant\n",
       "2 2017-06-30     Finance\n",
       "3 2017-06-30         CFA"
      ]
     },
     "execution_count": 7,
     "metadata": {},
     "output_type": "execute_result"
    }
   ],
   "source": [
    "df[['Date','Course_name']] "
   ]
  },
  {
   "cell_type": "code",
   "execution_count": 71,
   "metadata": {
    "collapsed": true
   },
   "outputs": [],
   "source": [
    "df[0]                       #Dataframe无法通过Index获得数据；故意报错；"
   ]
  },
  {
   "cell_type": "code",
   "execution_count": 8,
   "metadata": {},
   "outputs": [
    {
     "data": {
      "text/plain": [
       "Company                       SJTU\n",
       "Course_name                 Python\n",
       "Date           2017-06-30 00:00:00\n",
       "Number                           6\n",
       "Name: 0, dtype: object"
      ]
     },
     "execution_count": 8,
     "metadata": {},
     "output_type": "execute_result"
    }
   ],
   "source": [
    "df.ix[0]                        #需要使用具体的行索引选择工具，后面会完整讲到其具体的用法"
   ]
  },
  {
   "cell_type": "code",
   "execution_count": 9,
   "metadata": {},
   "outputs": [
    {
     "data": {
      "text/html": [
       "<div>\n",
       "<style>\n",
       "    .dataframe thead tr:only-child th {\n",
       "        text-align: right;\n",
       "    }\n",
       "\n",
       "    .dataframe thead th {\n",
       "        text-align: left;\n",
       "    }\n",
       "\n",
       "    .dataframe tbody tr th {\n",
       "        vertical-align: top;\n",
       "    }\n",
       "</style>\n",
       "<table border=\"1\" class=\"dataframe\">\n",
       "  <thead>\n",
       "    <tr style=\"text-align: right;\">\n",
       "      <th></th>\n",
       "      <th>a</th>\n",
       "      <th>b</th>\n",
       "      <th>c</th>\n",
       "      <th>d</th>\n",
       "      <th>e</th>\n",
       "    </tr>\n",
       "  </thead>\n",
       "  <tbody>\n",
       "    <tr>\n",
       "      <th>f</th>\n",
       "      <td>-0.039698</td>\n",
       "      <td>-0.968219</td>\n",
       "      <td>0.333482</td>\n",
       "      <td>0.012276</td>\n",
       "      <td>-1.294529</td>\n",
       "    </tr>\n",
       "    <tr>\n",
       "      <th>g</th>\n",
       "      <td>-1.132276</td>\n",
       "      <td>0.449327</td>\n",
       "      <td>-1.739492</td>\n",
       "      <td>0.037762</td>\n",
       "      <td>0.907009</td>\n",
       "    </tr>\n",
       "    <tr>\n",
       "      <th>h</th>\n",
       "      <td>-0.330395</td>\n",
       "      <td>1.198651</td>\n",
       "      <td>0.507229</td>\n",
       "      <td>0.736322</td>\n",
       "      <td>0.403758</td>\n",
       "    </tr>\n",
       "    <tr>\n",
       "      <th>i</th>\n",
       "      <td>-0.480960</td>\n",
       "      <td>0.397164</td>\n",
       "      <td>0.940963</td>\n",
       "      <td>-0.221765</td>\n",
       "      <td>0.086219</td>\n",
       "    </tr>\n",
       "    <tr>\n",
       "      <th>j</th>\n",
       "      <td>0.286745</td>\n",
       "      <td>1.216561</td>\n",
       "      <td>0.148662</td>\n",
       "      <td>0.260043</td>\n",
       "      <td>0.203009</td>\n",
       "    </tr>\n",
       "  </tbody>\n",
       "</table>\n",
       "</div>"
      ],
      "text/plain": [
       "          a         b         c         d         e\n",
       "f -0.039698 -0.968219  0.333482  0.012276 -1.294529\n",
       "g -1.132276  0.449327 -1.739492  0.037762  0.907009\n",
       "h -0.330395  1.198651  0.507229  0.736322  0.403758\n",
       "i -0.480960  0.397164  0.940963 -0.221765  0.086219\n",
       "j  0.286745  1.216561  0.148662  0.260043  0.203009"
      ]
     },
     "execution_count": 9,
     "metadata": {},
     "output_type": "execute_result"
    }
   ],
   "source": [
    "df = pd.DataFrame(np.random.randn(5,5), columns = ['a', 'b', 'c', 'd','e'], index = ['f','g','h','i','j'] )    #构建的时候明确了行和列的标签；\n",
    "df.head()"
   ]
  },
  {
   "cell_type": "code",
   "execution_count": 10,
   "metadata": {},
   "outputs": [
    {
     "data": {
      "text/plain": [
       "f   -0.039698\n",
       "g   -1.132276\n",
       "h   -0.330395\n",
       "i   -0.480960\n",
       "j    0.286745\n",
       "Name: a, dtype: float64"
      ]
     },
     "execution_count": 10,
     "metadata": {},
     "output_type": "execute_result"
    }
   ],
   "source": [
    "# 列标签索引\n",
    "df['a']               # 返回Series类型；"
   ]
  },
  {
   "cell_type": "code",
   "execution_count": 11,
   "metadata": {},
   "outputs": [
    {
     "data": {
      "text/html": [
       "<div>\n",
       "<style>\n",
       "    .dataframe thead tr:only-child th {\n",
       "        text-align: right;\n",
       "    }\n",
       "\n",
       "    .dataframe thead th {\n",
       "        text-align: left;\n",
       "    }\n",
       "\n",
       "    .dataframe tbody tr th {\n",
       "        vertical-align: top;\n",
       "    }\n",
       "</style>\n",
       "<table border=\"1\" class=\"dataframe\">\n",
       "  <thead>\n",
       "    <tr style=\"text-align: right;\">\n",
       "      <th></th>\n",
       "      <th>a</th>\n",
       "      <th>c</th>\n",
       "    </tr>\n",
       "  </thead>\n",
       "  <tbody>\n",
       "    <tr>\n",
       "      <th>f</th>\n",
       "      <td>-0.039698</td>\n",
       "      <td>0.333482</td>\n",
       "    </tr>\n",
       "    <tr>\n",
       "      <th>g</th>\n",
       "      <td>-1.132276</td>\n",
       "      <td>-1.739492</td>\n",
       "    </tr>\n",
       "    <tr>\n",
       "      <th>h</th>\n",
       "      <td>-0.330395</td>\n",
       "      <td>0.507229</td>\n",
       "    </tr>\n",
       "    <tr>\n",
       "      <th>i</th>\n",
       "      <td>-0.480960</td>\n",
       "      <td>0.940963</td>\n",
       "    </tr>\n",
       "    <tr>\n",
       "      <th>j</th>\n",
       "      <td>0.286745</td>\n",
       "      <td>0.148662</td>\n",
       "    </tr>\n",
       "  </tbody>\n",
       "</table>\n",
       "</div>"
      ],
      "text/plain": [
       "          a         c\n",
       "f -0.039698  0.333482\n",
       "g -1.132276 -1.739492\n",
       "h -0.330395  0.507229\n",
       "i -0.480960  0.940963\n",
       "j  0.286745  0.148662"
      ]
     },
     "execution_count": 11,
     "metadata": {},
     "output_type": "execute_result"
    }
   ],
   "source": [
    "df[['a','c']]        #不连续索引"
   ]
  },
  {
   "cell_type": "code",
   "execution_count": 77,
   "metadata": {
    "collapsed": true
   },
   "outputs": [],
   "source": [
    "df['f']        # 不可通过行index直接进行索引，会故意报错；"
   ]
  },
  {
   "cell_type": "code",
   "execution_count": 12,
   "metadata": {},
   "outputs": [
    {
     "data": {
      "text/plain": [
       "a   -0.039698\n",
       "b   -0.968219\n",
       "c    0.333482\n",
       "d    0.012276\n",
       "e   -1.294529\n",
       "Name: f, dtype: float64"
      ]
     },
     "execution_count": 12,
     "metadata": {},
     "output_type": "execute_result"
    }
   ],
   "source": [
    "df.ix['f']"
   ]
  },
  {
   "cell_type": "markdown",
   "metadata": {},
   "source": [
    "#### 3.2 标签索引 loc方法"
   ]
  },
  {
   "cell_type": "code",
   "execution_count": 79,
   "metadata": {},
   "outputs": [
    {
     "data": {
      "text/plain": [
       "a    1.606649\n",
       "b    0.510823\n",
       "c    1.194044\n",
       "d    0.853860\n",
       "e   -0.573844\n",
       "Name: f, dtype: float64"
      ]
     },
     "execution_count": 79,
     "metadata": {},
     "output_type": "execute_result"
    }
   ],
   "source": [
    "# 按行选择\n",
    "df.loc['f']                    #基于label(如果只有一个索引则为行的index，行优先)的索引。"
   ]
  },
  {
   "cell_type": "code",
   "execution_count": 80,
   "metadata": {},
   "outputs": [
    {
     "data": {
      "text/html": [
       "<div>\n",
       "<style>\n",
       "    .dataframe thead tr:only-child th {\n",
       "        text-align: right;\n",
       "    }\n",
       "\n",
       "    .dataframe thead th {\n",
       "        text-align: left;\n",
       "    }\n",
       "\n",
       "    .dataframe tbody tr th {\n",
       "        vertical-align: top;\n",
       "    }\n",
       "</style>\n",
       "<table border=\"1\" class=\"dataframe\">\n",
       "  <thead>\n",
       "    <tr style=\"text-align: right;\">\n",
       "      <th></th>\n",
       "      <th>a</th>\n",
       "      <th>b</th>\n",
       "      <th>c</th>\n",
       "      <th>d</th>\n",
       "      <th>e</th>\n",
       "    </tr>\n",
       "  </thead>\n",
       "  <tbody>\n",
       "    <tr>\n",
       "      <th>f</th>\n",
       "      <td>1.606649</td>\n",
       "      <td>0.510823</td>\n",
       "      <td>1.194044</td>\n",
       "      <td>0.853860</td>\n",
       "      <td>-0.573844</td>\n",
       "    </tr>\n",
       "    <tr>\n",
       "      <th>h</th>\n",
       "      <td>0.743184</td>\n",
       "      <td>0.857154</td>\n",
       "      <td>-0.724574</td>\n",
       "      <td>-0.364256</td>\n",
       "      <td>0.461940</td>\n",
       "    </tr>\n",
       "    <tr>\n",
       "      <th>i</th>\n",
       "      <td>-1.254231</td>\n",
       "      <td>-0.484429</td>\n",
       "      <td>-0.697796</td>\n",
       "      <td>0.294725</td>\n",
       "      <td>-0.235320</td>\n",
       "    </tr>\n",
       "  </tbody>\n",
       "</table>\n",
       "</div>"
      ],
      "text/plain": [
       "          a         b         c         d         e\n",
       "f  1.606649  0.510823  1.194044  0.853860 -0.573844\n",
       "h  0.743184  0.857154 -0.724574 -0.364256  0.461940\n",
       "i -1.254231 -0.484429 -0.697796  0.294725 -0.235320"
      ]
     },
     "execution_count": 80,
     "metadata": {},
     "output_type": "execute_result"
    }
   ],
   "source": [
    "df.loc[['f','h','i']] "
   ]
  },
  {
   "cell_type": "code",
   "execution_count": 81,
   "metadata": {},
   "outputs": [
    {
     "data": {
      "text/html": [
       "<div>\n",
       "<style>\n",
       "    .dataframe thead tr:only-child th {\n",
       "        text-align: right;\n",
       "    }\n",
       "\n",
       "    .dataframe thead th {\n",
       "        text-align: left;\n",
       "    }\n",
       "\n",
       "    .dataframe tbody tr th {\n",
       "        vertical-align: top;\n",
       "    }\n",
       "</style>\n",
       "<table border=\"1\" class=\"dataframe\">\n",
       "  <thead>\n",
       "    <tr style=\"text-align: right;\">\n",
       "      <th></th>\n",
       "      <th>a</th>\n",
       "      <th>b</th>\n",
       "      <th>c</th>\n",
       "      <th>d</th>\n",
       "      <th>e</th>\n",
       "    </tr>\n",
       "  </thead>\n",
       "  <tbody>\n",
       "    <tr>\n",
       "      <th>f</th>\n",
       "      <td>1.606649</td>\n",
       "      <td>0.510823</td>\n",
       "      <td>1.194044</td>\n",
       "      <td>0.853860</td>\n",
       "      <td>-0.573844</td>\n",
       "    </tr>\n",
       "    <tr>\n",
       "      <th>g</th>\n",
       "      <td>-0.234542</td>\n",
       "      <td>-0.771723</td>\n",
       "      <td>0.460263</td>\n",
       "      <td>2.175153</td>\n",
       "      <td>0.241556</td>\n",
       "    </tr>\n",
       "    <tr>\n",
       "      <th>h</th>\n",
       "      <td>0.743184</td>\n",
       "      <td>0.857154</td>\n",
       "      <td>-0.724574</td>\n",
       "      <td>-0.364256</td>\n",
       "      <td>0.461940</td>\n",
       "    </tr>\n",
       "    <tr>\n",
       "      <th>i</th>\n",
       "      <td>-1.254231</td>\n",
       "      <td>-0.484429</td>\n",
       "      <td>-0.697796</td>\n",
       "      <td>0.294725</td>\n",
       "      <td>-0.235320</td>\n",
       "    </tr>\n",
       "  </tbody>\n",
       "</table>\n",
       "</div>"
      ],
      "text/plain": [
       "          a         b         c         d         e\n",
       "f  1.606649  0.510823  1.194044  0.853860 -0.573844\n",
       "g -0.234542 -0.771723  0.460263  2.175153  0.241556\n",
       "h  0.743184  0.857154 -0.724574 -0.364256  0.461940\n",
       "i -1.254231 -0.484429 -0.697796  0.294725 -0.235320"
      ]
     },
     "execution_count": 81,
     "metadata": {},
     "output_type": "execute_result"
    }
   ],
   "source": [
    "df.loc['f':'i']"
   ]
  },
  {
   "cell_type": "code",
   "execution_count": 82,
   "metadata": {},
   "outputs": [
    {
     "data": {
      "text/html": [
       "<div>\n",
       "<style>\n",
       "    .dataframe thead tr:only-child th {\n",
       "        text-align: right;\n",
       "    }\n",
       "\n",
       "    .dataframe thead th {\n",
       "        text-align: left;\n",
       "    }\n",
       "\n",
       "    .dataframe tbody tr th {\n",
       "        vertical-align: top;\n",
       "    }\n",
       "</style>\n",
       "<table border=\"1\" class=\"dataframe\">\n",
       "  <thead>\n",
       "    <tr style=\"text-align: right;\">\n",
       "      <th></th>\n",
       "      <th>a</th>\n",
       "    </tr>\n",
       "  </thead>\n",
       "  <tbody>\n",
       "    <tr>\n",
       "      <th>f</th>\n",
       "      <td>1.606649</td>\n",
       "    </tr>\n",
       "    <tr>\n",
       "      <th>h</th>\n",
       "      <td>0.743184</td>\n",
       "    </tr>\n",
       "  </tbody>\n",
       "</table>\n",
       "</div>"
      ],
      "text/plain": [
       "          a\n",
       "f  1.606649\n",
       "h  0.743184"
      ]
     },
     "execution_count": 82,
     "metadata": {},
     "output_type": "execute_result"
    }
   ],
   "source": [
    "df.loc[['f','h'] ,['a']]       #通过标签进行索引；"
   ]
  },
  {
   "cell_type": "code",
   "execution_count": 83,
   "metadata": {},
   "outputs": [
    {
     "data": {
      "text/html": [
       "<div>\n",
       "<style>\n",
       "    .dataframe thead tr:only-child th {\n",
       "        text-align: right;\n",
       "    }\n",
       "\n",
       "    .dataframe thead th {\n",
       "        text-align: left;\n",
       "    }\n",
       "\n",
       "    .dataframe tbody tr th {\n",
       "        vertical-align: top;\n",
       "    }\n",
       "</style>\n",
       "<table border=\"1\" class=\"dataframe\">\n",
       "  <thead>\n",
       "    <tr style=\"text-align: right;\">\n",
       "      <th></th>\n",
       "      <th>a</th>\n",
       "      <th>b</th>\n",
       "    </tr>\n",
       "  </thead>\n",
       "  <tbody>\n",
       "    <tr>\n",
       "      <th>f</th>\n",
       "      <td>1.606649</td>\n",
       "      <td>0.510823</td>\n",
       "    </tr>\n",
       "    <tr>\n",
       "      <th>h</th>\n",
       "      <td>0.743184</td>\n",
       "      <td>0.857154</td>\n",
       "    </tr>\n",
       "  </tbody>\n",
       "</table>\n",
       "</div>"
      ],
      "text/plain": [
       "          a         b\n",
       "f  1.606649  0.510823\n",
       "h  0.743184  0.857154"
      ]
     },
     "execution_count": 83,
     "metadata": {},
     "output_type": "execute_result"
    }
   ],
   "source": [
    "df.loc[['f','h'] ,['a','b']]  "
   ]
  },
  {
   "cell_type": "markdown",
   "metadata": {},
   "source": [
    "#### 3.3 位置索引 iloc"
   ]
  },
  {
   "cell_type": "code",
   "execution_count": 85,
   "metadata": {},
   "outputs": [
    {
     "data": {
      "text/html": [
       "<div>\n",
       "<style>\n",
       "    .dataframe thead tr:only-child th {\n",
       "        text-align: right;\n",
       "    }\n",
       "\n",
       "    .dataframe thead th {\n",
       "        text-align: left;\n",
       "    }\n",
       "\n",
       "    .dataframe tbody tr th {\n",
       "        vertical-align: top;\n",
       "    }\n",
       "</style>\n",
       "<table border=\"1\" class=\"dataframe\">\n",
       "  <thead>\n",
       "    <tr style=\"text-align: right;\">\n",
       "      <th></th>\n",
       "      <th>a</th>\n",
       "      <th>b</th>\n",
       "      <th>c</th>\n",
       "      <th>d</th>\n",
       "      <th>e</th>\n",
       "    </tr>\n",
       "  </thead>\n",
       "  <tbody>\n",
       "    <tr>\n",
       "      <th>f</th>\n",
       "      <td>1.606649</td>\n",
       "      <td>0.510823</td>\n",
       "      <td>1.194044</td>\n",
       "      <td>0.853860</td>\n",
       "      <td>-0.573844</td>\n",
       "    </tr>\n",
       "    <tr>\n",
       "      <th>g</th>\n",
       "      <td>-0.234542</td>\n",
       "      <td>-0.771723</td>\n",
       "      <td>0.460263</td>\n",
       "      <td>2.175153</td>\n",
       "      <td>0.241556</td>\n",
       "    </tr>\n",
       "    <tr>\n",
       "      <th>h</th>\n",
       "      <td>0.743184</td>\n",
       "      <td>0.857154</td>\n",
       "      <td>-0.724574</td>\n",
       "      <td>-0.364256</td>\n",
       "      <td>0.461940</td>\n",
       "    </tr>\n",
       "    <tr>\n",
       "      <th>i</th>\n",
       "      <td>-1.254231</td>\n",
       "      <td>-0.484429</td>\n",
       "      <td>-0.697796</td>\n",
       "      <td>0.294725</td>\n",
       "      <td>-0.235320</td>\n",
       "    </tr>\n",
       "    <tr>\n",
       "      <th>j</th>\n",
       "      <td>-0.525963</td>\n",
       "      <td>-0.907670</td>\n",
       "      <td>-1.533226</td>\n",
       "      <td>-0.483149</td>\n",
       "      <td>1.323317</td>\n",
       "    </tr>\n",
       "  </tbody>\n",
       "</table>\n",
       "</div>"
      ],
      "text/plain": [
       "          a         b         c         d         e\n",
       "f  1.606649  0.510823  1.194044  0.853860 -0.573844\n",
       "g -0.234542 -0.771723  0.460263  2.175153  0.241556\n",
       "h  0.743184  0.857154 -0.724574 -0.364256  0.461940\n",
       "i -1.254231 -0.484429 -0.697796  0.294725 -0.235320\n",
       "j -0.525963 -0.907670 -1.533226 -0.483149  1.323317"
      ]
     },
     "execution_count": 85,
     "metadata": {},
     "output_type": "execute_result"
    }
   ],
   "source": [
    "df"
   ]
  },
  {
   "cell_type": "code",
   "execution_count": 84,
   "metadata": {},
   "outputs": [
    {
     "data": {
      "text/html": [
       "<div>\n",
       "<style>\n",
       "    .dataframe thead tr:only-child th {\n",
       "        text-align: right;\n",
       "    }\n",
       "\n",
       "    .dataframe thead th {\n",
       "        text-align: left;\n",
       "    }\n",
       "\n",
       "    .dataframe tbody tr th {\n",
       "        vertical-align: top;\n",
       "    }\n",
       "</style>\n",
       "<table border=\"1\" class=\"dataframe\">\n",
       "  <thead>\n",
       "    <tr style=\"text-align: right;\">\n",
       "      <th></th>\n",
       "      <th>a</th>\n",
       "      <th>b</th>\n",
       "      <th>c</th>\n",
       "      <th>d</th>\n",
       "      <th>e</th>\n",
       "    </tr>\n",
       "  </thead>\n",
       "  <tbody>\n",
       "    <tr>\n",
       "      <th>g</th>\n",
       "      <td>-0.234542</td>\n",
       "      <td>-0.771723</td>\n",
       "      <td>0.460263</td>\n",
       "      <td>2.175153</td>\n",
       "      <td>0.241556</td>\n",
       "    </tr>\n",
       "    <tr>\n",
       "      <th>h</th>\n",
       "      <td>0.743184</td>\n",
       "      <td>0.857154</td>\n",
       "      <td>-0.724574</td>\n",
       "      <td>-0.364256</td>\n",
       "      <td>0.461940</td>\n",
       "    </tr>\n",
       "  </tbody>\n",
       "</table>\n",
       "</div>"
      ],
      "text/plain": [
       "          a         b         c         d         e\n",
       "g -0.234542 -0.771723  0.460263  2.175153  0.241556\n",
       "h  0.743184  0.857154 -0.724574 -0.364256  0.461940"
      ]
     },
     "execution_count": 84,
     "metadata": {},
     "output_type": "execute_result"
    }
   ],
   "source": [
    "# 整型位置索引 iloc\n",
    "df.iloc[1:3]                  #前闭后开；"
   ]
  },
  {
   "cell_type": "code",
   "execution_count": 86,
   "metadata": {},
   "outputs": [
    {
     "data": {
      "text/html": [
       "<div>\n",
       "<style>\n",
       "    .dataframe thead tr:only-child th {\n",
       "        text-align: right;\n",
       "    }\n",
       "\n",
       "    .dataframe thead th {\n",
       "        text-align: left;\n",
       "    }\n",
       "\n",
       "    .dataframe tbody tr th {\n",
       "        vertical-align: top;\n",
       "    }\n",
       "</style>\n",
       "<table border=\"1\" class=\"dataframe\">\n",
       "  <thead>\n",
       "    <tr style=\"text-align: right;\">\n",
       "      <th></th>\n",
       "      <th>a</th>\n",
       "      <th>b</th>\n",
       "      <th>c</th>\n",
       "      <th>d</th>\n",
       "      <th>e</th>\n",
       "    </tr>\n",
       "  </thead>\n",
       "  <tbody>\n",
       "    <tr>\n",
       "      <th>g</th>\n",
       "      <td>-0.234542</td>\n",
       "      <td>-0.771723</td>\n",
       "      <td>0.460263</td>\n",
       "      <td>2.175153</td>\n",
       "      <td>0.241556</td>\n",
       "    </tr>\n",
       "    <tr>\n",
       "      <th>h</th>\n",
       "      <td>0.743184</td>\n",
       "      <td>0.857154</td>\n",
       "      <td>-0.724574</td>\n",
       "      <td>-0.364256</td>\n",
       "      <td>0.461940</td>\n",
       "    </tr>\n",
       "  </tbody>\n",
       "</table>\n",
       "</div>"
      ],
      "text/plain": [
       "          a         b         c         d         e\n",
       "g -0.234542 -0.771723  0.460263  2.175153  0.241556\n",
       "h  0.743184  0.857154 -0.724574 -0.364256  0.461940"
      ]
     },
     "execution_count": 86,
     "metadata": {},
     "output_type": "execute_result"
    }
   ],
   "source": [
    "df.loc['g':'h']             #双闭区间；label；"
   ]
  },
  {
   "cell_type": "code",
   "execution_count": 87,
   "metadata": {},
   "outputs": [
    {
     "data": {
      "text/plain": [
       "f    1.606649\n",
       "g   -0.234542\n",
       "Name: a, dtype: float64"
      ]
     },
     "execution_count": 87,
     "metadata": {},
     "output_type": "execute_result"
    }
   ],
   "source": [
    "df.iloc[0:2, 0]                     "
   ]
  },
  {
   "cell_type": "markdown",
   "metadata": {},
   "source": [
    "#### 3.4 混合索引 ix： 既可以按位置，也可以按照标签(注意Pandas新版中即将取消该功能)"
   ]
  },
  {
   "cell_type": "code",
   "execution_count": 88,
   "metadata": {},
   "outputs": [
    {
     "data": {
      "text/html": [
       "<div>\n",
       "<style>\n",
       "    .dataframe thead tr:only-child th {\n",
       "        text-align: right;\n",
       "    }\n",
       "\n",
       "    .dataframe thead th {\n",
       "        text-align: left;\n",
       "    }\n",
       "\n",
       "    .dataframe tbody tr th {\n",
       "        vertical-align: top;\n",
       "    }\n",
       "</style>\n",
       "<table border=\"1\" class=\"dataframe\">\n",
       "  <thead>\n",
       "    <tr style=\"text-align: right;\">\n",
       "      <th></th>\n",
       "      <th>a</th>\n",
       "      <th>b</th>\n",
       "      <th>c</th>\n",
       "      <th>d</th>\n",
       "      <th>e</th>\n",
       "    </tr>\n",
       "  </thead>\n",
       "  <tbody>\n",
       "    <tr>\n",
       "      <th>g</th>\n",
       "      <td>-0.234542</td>\n",
       "      <td>-0.771723</td>\n",
       "      <td>0.460263</td>\n",
       "      <td>2.175153</td>\n",
       "      <td>0.241556</td>\n",
       "    </tr>\n",
       "    <tr>\n",
       "      <th>h</th>\n",
       "      <td>0.743184</td>\n",
       "      <td>0.857154</td>\n",
       "      <td>-0.724574</td>\n",
       "      <td>-0.364256</td>\n",
       "      <td>0.461940</td>\n",
       "    </tr>\n",
       "  </tbody>\n",
       "</table>\n",
       "</div>"
      ],
      "text/plain": [
       "          a         b         c         d         e\n",
       "g -0.234542 -0.771723  0.460263  2.175153  0.241556\n",
       "h  0.743184  0.857154 -0.724574 -0.364256  0.461940"
      ]
     },
     "execution_count": 88,
     "metadata": {},
     "output_type": "execute_result"
    }
   ],
   "source": [
    "# 混合索引 ix\n",
    "df.ix[1:3]"
   ]
  },
  {
   "cell_type": "code",
   "execution_count": 89,
   "metadata": {},
   "outputs": [
    {
     "data": {
      "text/plain": [
       "f    0.510823\n",
       "g   -0.771723\n",
       "Name: b, dtype: float64"
      ]
     },
     "execution_count": 89,
     "metadata": {},
     "output_type": "execute_result"
    }
   ],
   "source": [
    "df.ix[0:2, 1]            # 先按标签索引尝试操作，然后再按位置索引尝试操作"
   ]
  },
  {
   "cell_type": "code",
   "execution_count": 90,
   "metadata": {},
   "outputs": [
    {
     "data": {
      "text/plain": [
       "f    0.510823\n",
       "g   -0.771723\n",
       "h    0.857154\n",
       "Name: b, dtype: float64"
      ]
     },
     "execution_count": 90,
     "metadata": {},
     "output_type": "execute_result"
    }
   ],
   "source": [
    "df.ix[0:3, 'b']          #既可以按位置，也可以按标签"
   ]
  },
  {
   "cell_type": "code",
   "execution_count": 91,
   "metadata": {},
   "outputs": [
    {
     "data": {
      "text/html": [
       "<div>\n",
       "<style>\n",
       "    .dataframe thead tr:only-child th {\n",
       "        text-align: right;\n",
       "    }\n",
       "\n",
       "    .dataframe thead th {\n",
       "        text-align: left;\n",
       "    }\n",
       "\n",
       "    .dataframe tbody tr th {\n",
       "        vertical-align: top;\n",
       "    }\n",
       "</style>\n",
       "<table border=\"1\" class=\"dataframe\">\n",
       "  <thead>\n",
       "    <tr style=\"text-align: right;\">\n",
       "      <th></th>\n",
       "      <th>a</th>\n",
       "      <th>b</th>\n",
       "      <th>c</th>\n",
       "    </tr>\n",
       "  </thead>\n",
       "  <tbody>\n",
       "    <tr>\n",
       "      <th>f</th>\n",
       "      <td>1.606649</td>\n",
       "      <td>0.510823</td>\n",
       "      <td>1.194044</td>\n",
       "    </tr>\n",
       "    <tr>\n",
       "      <th>g</th>\n",
       "      <td>-0.234542</td>\n",
       "      <td>-0.771723</td>\n",
       "      <td>0.460263</td>\n",
       "    </tr>\n",
       "    <tr>\n",
       "      <th>h</th>\n",
       "      <td>0.743184</td>\n",
       "      <td>0.857154</td>\n",
       "      <td>-0.724574</td>\n",
       "    </tr>\n",
       "  </tbody>\n",
       "</table>\n",
       "</div>"
      ],
      "text/plain": [
       "          a         b         c\n",
       "f  1.606649  0.510823  1.194044\n",
       "g -0.234542 -0.771723  0.460263\n",
       "h  0.743184  0.857154 -0.724574"
      ]
     },
     "execution_count": 91,
     "metadata": {},
     "output_type": "execute_result"
    }
   ],
   "source": [
    "df.ix[0:3, 'a': 'c']   "
   ]
  },
  {
   "cell_type": "code",
   "execution_count": 92,
   "metadata": {},
   "outputs": [
    {
     "data": {
      "text/html": [
       "<div>\n",
       "<style>\n",
       "    .dataframe thead tr:only-child th {\n",
       "        text-align: right;\n",
       "    }\n",
       "\n",
       "    .dataframe thead th {\n",
       "        text-align: left;\n",
       "    }\n",
       "\n",
       "    .dataframe tbody tr th {\n",
       "        vertical-align: top;\n",
       "    }\n",
       "</style>\n",
       "<table border=\"1\" class=\"dataframe\">\n",
       "  <thead>\n",
       "    <tr style=\"text-align: right;\">\n",
       "      <th></th>\n",
       "      <th>b</th>\n",
       "      <th>c</th>\n",
       "      <th>d</th>\n",
       "    </tr>\n",
       "  </thead>\n",
       "  <tbody>\n",
       "    <tr>\n",
       "      <th>f</th>\n",
       "      <td>0.510823</td>\n",
       "      <td>1.194044</td>\n",
       "      <td>0.853860</td>\n",
       "    </tr>\n",
       "    <tr>\n",
       "      <th>g</th>\n",
       "      <td>-0.771723</td>\n",
       "      <td>0.460263</td>\n",
       "      <td>2.175153</td>\n",
       "    </tr>\n",
       "    <tr>\n",
       "      <th>h</th>\n",
       "      <td>0.857154</td>\n",
       "      <td>-0.724574</td>\n",
       "      <td>-0.364256</td>\n",
       "    </tr>\n",
       "    <tr>\n",
       "      <th>i</th>\n",
       "      <td>-0.484429</td>\n",
       "      <td>-0.697796</td>\n",
       "      <td>0.294725</td>\n",
       "    </tr>\n",
       "  </tbody>\n",
       "</table>\n",
       "</div>"
      ],
      "text/plain": [
       "          b         c         d\n",
       "f  0.510823  1.194044  0.853860\n",
       "g -0.771723  0.460263  2.175153\n",
       "h  0.857154 -0.724574 -0.364256\n",
       "i -0.484429 -0.697796  0.294725"
      ]
     },
     "execution_count": 92,
     "metadata": {},
     "output_type": "execute_result"
    }
   ],
   "source": [
    "df.ix['f':'i', 'b': 'd'] "
   ]
  },
  {
   "cell_type": "markdown",
   "metadata": {
    "slideshow": {
     "slide_type": "subslide"
    }
   },
   "source": [
    "###  4. DataFrame 修改操作"
   ]
  },
  {
   "cell_type": "code",
   "execution_count": 97,
   "metadata": {
    "uuid": "f3be2d89-829a-49b2-96fc-07c475db1e3f"
   },
   "outputs": [
    {
     "data": {
      "text/html": [
       "<div>\n",
       "<style>\n",
       "    .dataframe thead tr:only-child th {\n",
       "        text-align: right;\n",
       "    }\n",
       "\n",
       "    .dataframe thead th {\n",
       "        text-align: left;\n",
       "    }\n",
       "\n",
       "    .dataframe tbody tr th {\n",
       "        vertical-align: top;\n",
       "    }\n",
       "</style>\n",
       "<table border=\"1\" class=\"dataframe\">\n",
       "  <thead>\n",
       "    <tr style=\"text-align: right;\">\n",
       "      <th></th>\n",
       "      <th>Scores</th>\n",
       "    </tr>\n",
       "  </thead>\n",
       "  <tbody>\n",
       "    <tr>\n",
       "      <th>a</th>\n",
       "      <td>80.5</td>\n",
       "    </tr>\n",
       "    <tr>\n",
       "      <th>b</th>\n",
       "      <td>90.0</td>\n",
       "    </tr>\n",
       "    <tr>\n",
       "      <th>c</th>\n",
       "      <td>58.0</td>\n",
       "    </tr>\n",
       "    <tr>\n",
       "      <th>d</th>\n",
       "      <td>88.0</td>\n",
       "    </tr>\n",
       "  </tbody>\n",
       "</table>\n",
       "</div>"
      ],
      "text/plain": [
       "   Scores\n",
       "a    80.5\n",
       "b    90.0\n",
       "c    58.0\n",
       "d    88.0"
      ]
     },
     "execution_count": 97,
     "metadata": {},
     "output_type": "execute_result"
    }
   ],
   "source": [
    "df = pd.DataFrame([80.5, 90, 58, 88], columns=['Scores'],\n",
    "                  index=['a', 'b', 'c', 'd'], dtype = 'f')\n",
    "df"
   ]
  },
  {
   "cell_type": "code",
   "execution_count": 98,
   "metadata": {},
   "outputs": [
    {
     "data": {
      "text/plain": [
       "Scores    float32\n",
       "dtype: object"
      ]
     },
     "execution_count": 98,
     "metadata": {},
     "output_type": "execute_result"
    }
   ],
   "source": [
    "df.dtypes"
   ]
  },
  {
   "cell_type": "markdown",
   "metadata": {
    "slideshow": {
     "slide_type": "subslide"
    }
   },
   "source": [
    "#### 4.1 DataFrame重要属性和方法"
   ]
  },
  {
   "cell_type": "code",
   "execution_count": 99,
   "metadata": {
    "uuid": "47b70a7b-710f-4c40-9a70-b09db7af1a12"
   },
   "outputs": [
    {
     "data": {
      "text/plain": [
       "Index(['a', 'b', 'c', 'd'], dtype='object')"
      ]
     },
     "execution_count": 99,
     "metadata": {},
     "output_type": "execute_result"
    }
   ],
   "source": [
    "df.index           #获得index"
   ]
  },
  {
   "cell_type": "code",
   "execution_count": 100,
   "metadata": {
    "uuid": "a36c6695-520d-4df1-a6fa-5f8362af37a3"
   },
   "outputs": [
    {
     "data": {
      "text/plain": [
       "Index(['Scores'], dtype='object')"
      ]
     },
     "execution_count": 100,
     "metadata": {},
     "output_type": "execute_result"
    }
   ],
   "source": [
    "df.columns         # 获得列名；"
   ]
  },
  {
   "cell_type": "code",
   "execution_count": 101,
   "metadata": {},
   "outputs": [
    {
     "data": {
      "text/plain": [
       "a    80.5\n",
       "b    90.0\n",
       "c    58.0\n",
       "d    88.0\n",
       "Name: Scores, dtype: float32"
      ]
     },
     "execution_count": 101,
     "metadata": {},
     "output_type": "execute_result"
    }
   ],
   "source": [
    "df.Scores"
   ]
  },
  {
   "cell_type": "code",
   "execution_count": 102,
   "metadata": {},
   "outputs": [
    {
     "data": {
      "text/plain": [
       "pandas.core.series.Series"
      ]
     },
     "execution_count": 102,
     "metadata": {},
     "output_type": "execute_result"
    }
   ],
   "source": [
    "type(df.Scores)"
   ]
  },
  {
   "cell_type": "code",
   "execution_count": 103,
   "metadata": {
    "uuid": "c93aed37-21de-429d-86ed-9849e4c3e23c"
   },
   "outputs": [
    {
     "data": {
      "text/plain": [
       "Scores    58.0\n",
       "Name: c, dtype: float32"
      ]
     },
     "execution_count": 103,
     "metadata": {},
     "output_type": "execute_result"
    }
   ],
   "source": [
    "df.ix['c']         # 需要牢记ix的用法；"
   ]
  },
  {
   "cell_type": "code",
   "execution_count": 104,
   "metadata": {},
   "outputs": [
    {
     "data": {
      "text/plain": [
       "Scores    58.0\n",
       "Name: c, dtype: float32"
      ]
     },
     "execution_count": 104,
     "metadata": {},
     "output_type": "execute_result"
    }
   ],
   "source": [
    "df.loc['c'] "
   ]
  },
  {
   "cell_type": "code",
   "execution_count": 106,
   "metadata": {},
   "outputs": [
    {
     "data": {
      "text/plain": [
       "a    80.5\n",
       "b    90.0\n",
       "c    58.0\n",
       "d    88.0\n",
       "Name: Scores, dtype: float32"
      ]
     },
     "execution_count": 106,
     "metadata": {},
     "output_type": "execute_result"
    }
   ],
   "source": [
    "df['Scores']"
   ]
  },
  {
   "cell_type": "code",
   "execution_count": 107,
   "metadata": {
    "uuid": "8c7c2f69-3673-40d9-a568-0471c629810d"
   },
   "outputs": [
    {
     "data": {
      "text/html": [
       "<div>\n",
       "<style>\n",
       "    .dataframe thead tr:only-child th {\n",
       "        text-align: right;\n",
       "    }\n",
       "\n",
       "    .dataframe thead th {\n",
       "        text-align: left;\n",
       "    }\n",
       "\n",
       "    .dataframe tbody tr th {\n",
       "        vertical-align: top;\n",
       "    }\n",
       "</style>\n",
       "<table border=\"1\" class=\"dataframe\">\n",
       "  <thead>\n",
       "    <tr style=\"text-align: right;\">\n",
       "      <th></th>\n",
       "      <th>Scores</th>\n",
       "    </tr>\n",
       "  </thead>\n",
       "  <tbody>\n",
       "    <tr>\n",
       "      <th>a</th>\n",
       "      <td>80.5</td>\n",
       "    </tr>\n",
       "    <tr>\n",
       "      <th>d</th>\n",
       "      <td>88.0</td>\n",
       "    </tr>\n",
       "  </tbody>\n",
       "</table>\n",
       "</div>"
      ],
      "text/plain": [
       "   Scores\n",
       "a    80.5\n",
       "d    88.0"
      ]
     },
     "execution_count": 107,
     "metadata": {},
     "output_type": "execute_result"
    }
   ],
   "source": [
    "df.ix[['a', 'd']]         # 混合选择，注意有两个方括号；"
   ]
  },
  {
   "cell_type": "code",
   "execution_count": 108,
   "metadata": {},
   "outputs": [
    {
     "data": {
      "text/plain": [
       "Index(['b', 'c'], dtype='object')"
      ]
     },
     "execution_count": 108,
     "metadata": {},
     "output_type": "execute_result"
    }
   ],
   "source": [
    "df.index[1:3]              #这个是选择index"
   ]
  },
  {
   "cell_type": "code",
   "execution_count": null,
   "metadata": {
    "collapsed": true,
    "uuid": "c3ce0cc3-26e8-4256-ab8c-9a2d4b181633"
   },
   "outputs": [],
   "source": [
    "df.ix[df.index[1:3]]       # ix才是选择对应的value；"
   ]
  },
  {
   "cell_type": "code",
   "execution_count": 109,
   "metadata": {},
   "outputs": [
    {
     "data": {
      "text/html": [
       "<div>\n",
       "<style>\n",
       "    .dataframe thead tr:only-child th {\n",
       "        text-align: right;\n",
       "    }\n",
       "\n",
       "    .dataframe thead th {\n",
       "        text-align: left;\n",
       "    }\n",
       "\n",
       "    .dataframe tbody tr th {\n",
       "        vertical-align: top;\n",
       "    }\n",
       "</style>\n",
       "<table border=\"1\" class=\"dataframe\">\n",
       "  <thead>\n",
       "    <tr style=\"text-align: right;\">\n",
       "      <th></th>\n",
       "      <th>Scores</th>\n",
       "    </tr>\n",
       "  </thead>\n",
       "  <tbody>\n",
       "    <tr>\n",
       "      <th>b</th>\n",
       "      <td>90.0</td>\n",
       "    </tr>\n",
       "    <tr>\n",
       "      <th>c</th>\n",
       "      <td>58.0</td>\n",
       "    </tr>\n",
       "  </tbody>\n",
       "</table>\n",
       "</div>"
      ],
      "text/plain": [
       "   Scores\n",
       "b    90.0\n",
       "c    58.0"
      ]
     },
     "execution_count": 109,
     "metadata": {},
     "output_type": "execute_result"
    }
   ],
   "source": [
    "df.ix[1:3]          "
   ]
  },
  {
   "cell_type": "code",
   "execution_count": 110,
   "metadata": {},
   "outputs": [
    {
     "data": {
      "text/html": [
       "<div>\n",
       "<style>\n",
       "    .dataframe thead tr:only-child th {\n",
       "        text-align: right;\n",
       "    }\n",
       "\n",
       "    .dataframe thead th {\n",
       "        text-align: left;\n",
       "    }\n",
       "\n",
       "    .dataframe tbody tr th {\n",
       "        vertical-align: top;\n",
       "    }\n",
       "</style>\n",
       "<table border=\"1\" class=\"dataframe\">\n",
       "  <thead>\n",
       "    <tr style=\"text-align: right;\">\n",
       "      <th></th>\n",
       "      <th>Scores</th>\n",
       "    </tr>\n",
       "  </thead>\n",
       "  <tbody>\n",
       "    <tr>\n",
       "      <th>b</th>\n",
       "      <td>90.0</td>\n",
       "    </tr>\n",
       "    <tr>\n",
       "      <th>c</th>\n",
       "      <td>58.0</td>\n",
       "    </tr>\n",
       "  </tbody>\n",
       "</table>\n",
       "</div>"
      ],
      "text/plain": [
       "   Scores\n",
       "b    90.0\n",
       "c    58.0"
      ]
     },
     "execution_count": 110,
     "metadata": {},
     "output_type": "execute_result"
    }
   ],
   "source": [
    "df.iloc[1:3]"
   ]
  },
  {
   "cell_type": "code",
   "execution_count": null,
   "metadata": {
    "collapsed": true
   },
   "outputs": [],
   "source": [
    "df.     #tab"
   ]
  },
  {
   "cell_type": "code",
   "execution_count": 111,
   "metadata": {
    "uuid": "94b1d846-63df-49f4-8a7f-8fed03e5f4fa"
   },
   "outputs": [
    {
     "data": {
      "text/plain": [
       "Scores    316.5\n",
       "dtype: float32"
      ]
     },
     "execution_count": 111,
     "metadata": {},
     "output_type": "execute_result"
    }
   ],
   "source": [
    "df.sum()                # 默认按列求和；"
   ]
  },
  {
   "cell_type": "code",
   "execution_count": 112,
   "metadata": {},
   "outputs": [
    {
     "data": {
      "text/html": [
       "<div>\n",
       "<style>\n",
       "    .dataframe thead tr:only-child th {\n",
       "        text-align: right;\n",
       "    }\n",
       "\n",
       "    .dataframe thead th {\n",
       "        text-align: left;\n",
       "    }\n",
       "\n",
       "    .dataframe tbody tr th {\n",
       "        vertical-align: top;\n",
       "    }\n",
       "</style>\n",
       "<table border=\"1\" class=\"dataframe\">\n",
       "  <thead>\n",
       "    <tr style=\"text-align: right;\">\n",
       "      <th></th>\n",
       "      <th>Scores</th>\n",
       "    </tr>\n",
       "  </thead>\n",
       "  <tbody>\n",
       "    <tr>\n",
       "      <th>a</th>\n",
       "      <td>80.5</td>\n",
       "    </tr>\n",
       "    <tr>\n",
       "      <th>b</th>\n",
       "      <td>90.0</td>\n",
       "    </tr>\n",
       "    <tr>\n",
       "      <th>c</th>\n",
       "      <td>58.0</td>\n",
       "    </tr>\n",
       "    <tr>\n",
       "      <th>d</th>\n",
       "      <td>88.0</td>\n",
       "    </tr>\n",
       "  </tbody>\n",
       "</table>\n",
       "</div>"
      ],
      "text/plain": [
       "   Scores\n",
       "a    80.5\n",
       "b    90.0\n",
       "c    58.0\n",
       "d    88.0"
      ]
     },
     "execution_count": 112,
     "metadata": {},
     "output_type": "execute_result"
    }
   ],
   "source": [
    "df            #前面修改都是df的视图，原来的df并没有发生改变；"
   ]
  },
  {
   "cell_type": "code",
   "execution_count": 113,
   "metadata": {},
   "outputs": [
    {
     "data": {
      "text/html": [
       "<div>\n",
       "<style>\n",
       "    .dataframe thead tr:only-child th {\n",
       "        text-align: right;\n",
       "    }\n",
       "\n",
       "    .dataframe thead th {\n",
       "        text-align: left;\n",
       "    }\n",
       "\n",
       "    .dataframe tbody tr th {\n",
       "        vertical-align: top;\n",
       "    }\n",
       "</style>\n",
       "<table border=\"1\" class=\"dataframe\">\n",
       "  <thead>\n",
       "    <tr style=\"text-align: right;\">\n",
       "      <th></th>\n",
       "      <th>Score</th>\n",
       "    </tr>\n",
       "  </thead>\n",
       "  <tbody>\n",
       "    <tr>\n",
       "      <th>a</th>\n",
       "      <td>80.5</td>\n",
       "    </tr>\n",
       "    <tr>\n",
       "      <th>b</th>\n",
       "      <td>90.0</td>\n",
       "    </tr>\n",
       "    <tr>\n",
       "      <th>c</th>\n",
       "      <td>58.0</td>\n",
       "    </tr>\n",
       "    <tr>\n",
       "      <th>d</th>\n",
       "      <td>88.0</td>\n",
       "    </tr>\n",
       "  </tbody>\n",
       "</table>\n",
       "</div>"
      ],
      "text/plain": [
       "   Score\n",
       "a   80.5\n",
       "b   90.0\n",
       "c   58.0\n",
       "d   88.0"
      ]
     },
     "execution_count": 113,
     "metadata": {},
     "output_type": "execute_result"
    }
   ],
   "source": [
    "df.rename(columns={'Scores':'Score'})               #重命名列,注意重命名的时候要用字典来进行传输；"
   ]
  },
  {
   "cell_type": "code",
   "execution_count": 115,
   "metadata": {
    "collapsed": true
   },
   "outputs": [],
   "source": [
    "df.rename(columns={'Scores':'Score'}, inplace = True)    #替换原来的df"
   ]
  },
  {
   "cell_type": "code",
   "execution_count": 117,
   "metadata": {
    "collapsed": true
   },
   "outputs": [],
   "source": [
    "df = df.rename(columns={'Score':'Scores'})    #重新赋值也是可以修改原视图并进行替换；"
   ]
  },
  {
   "cell_type": "code",
   "execution_count": 118,
   "metadata": {},
   "outputs": [
    {
     "data": {
      "text/html": [
       "<div>\n",
       "<style>\n",
       "    .dataframe thead tr:only-child th {\n",
       "        text-align: right;\n",
       "    }\n",
       "\n",
       "    .dataframe thead th {\n",
       "        text-align: left;\n",
       "    }\n",
       "\n",
       "    .dataframe tbody tr th {\n",
       "        vertical-align: top;\n",
       "    }\n",
       "</style>\n",
       "<table border=\"1\" class=\"dataframe\">\n",
       "  <thead>\n",
       "    <tr style=\"text-align: right;\">\n",
       "      <th></th>\n",
       "      <th>Scores</th>\n",
       "    </tr>\n",
       "  </thead>\n",
       "  <tbody>\n",
       "    <tr>\n",
       "      <th>a</th>\n",
       "      <td>80.5</td>\n",
       "    </tr>\n",
       "    <tr>\n",
       "      <th>b</th>\n",
       "      <td>90.0</td>\n",
       "    </tr>\n",
       "    <tr>\n",
       "      <th>c</th>\n",
       "      <td>58.0</td>\n",
       "    </tr>\n",
       "    <tr>\n",
       "      <th>d</th>\n",
       "      <td>88.0</td>\n",
       "    </tr>\n",
       "  </tbody>\n",
       "</table>\n",
       "</div>"
      ],
      "text/plain": [
       "   Scores\n",
       "a    80.5\n",
       "b    90.0\n",
       "c    58.0\n",
       "d    88.0"
      ]
     },
     "execution_count": 118,
     "metadata": {},
     "output_type": "execute_result"
    }
   ],
   "source": [
    "df"
   ]
  },
  {
   "cell_type": "code",
   "execution_count": 119,
   "metadata": {},
   "outputs": [
    {
     "data": {
      "text/plain": [
       "(4, 1)"
      ]
     },
     "execution_count": 119,
     "metadata": {},
     "output_type": "execute_result"
    }
   ],
   "source": [
    "df.shape"
   ]
  },
  {
   "cell_type": "markdown",
   "metadata": {
    "slideshow": {
     "slide_type": "subslide"
    }
   },
   "source": [
    "**4.2 DataFrame的向量化操作**"
   ]
  },
  {
   "cell_type": "code",
   "execution_count": 120,
   "metadata": {},
   "outputs": [
    {
     "data": {
      "text/html": [
       "<div>\n",
       "<style>\n",
       "    .dataframe thead tr:only-child th {\n",
       "        text-align: right;\n",
       "    }\n",
       "\n",
       "    .dataframe thead th {\n",
       "        text-align: left;\n",
       "    }\n",
       "\n",
       "    .dataframe tbody tr th {\n",
       "        vertical-align: top;\n",
       "    }\n",
       "</style>\n",
       "<table border=\"1\" class=\"dataframe\">\n",
       "  <thead>\n",
       "    <tr style=\"text-align: right;\">\n",
       "      <th></th>\n",
       "      <th>Scores</th>\n",
       "    </tr>\n",
       "  </thead>\n",
       "  <tbody>\n",
       "    <tr>\n",
       "      <th>a</th>\n",
       "      <td>80.5</td>\n",
       "    </tr>\n",
       "    <tr>\n",
       "      <th>b</th>\n",
       "      <td>90.0</td>\n",
       "    </tr>\n",
       "    <tr>\n",
       "      <th>c</th>\n",
       "      <td>58.0</td>\n",
       "    </tr>\n",
       "    <tr>\n",
       "      <th>d</th>\n",
       "      <td>88.0</td>\n",
       "    </tr>\n",
       "  </tbody>\n",
       "</table>\n",
       "</div>"
      ],
      "text/plain": [
       "   Scores\n",
       "a    80.5\n",
       "b    90.0\n",
       "c    58.0\n",
       "d    88.0"
      ]
     },
     "execution_count": 120,
     "metadata": {},
     "output_type": "execute_result"
    }
   ],
   "source": [
    "df"
   ]
  },
  {
   "cell_type": "code",
   "execution_count": 121,
   "metadata": {
    "slideshow": {
     "slide_type": "notes"
    }
   },
   "outputs": [
    {
     "data": {
      "text/html": [
       "<div>\n",
       "<style>\n",
       "    .dataframe thead tr:only-child th {\n",
       "        text-align: right;\n",
       "    }\n",
       "\n",
       "    .dataframe thead th {\n",
       "        text-align: left;\n",
       "    }\n",
       "\n",
       "    .dataframe tbody tr th {\n",
       "        vertical-align: top;\n",
       "    }\n",
       "</style>\n",
       "<table border=\"1\" class=\"dataframe\">\n",
       "  <thead>\n",
       "    <tr style=\"text-align: right;\">\n",
       "      <th></th>\n",
       "      <th>Scores</th>\n",
       "    </tr>\n",
       "  </thead>\n",
       "  <tbody>\n",
       "    <tr>\n",
       "      <th>a</th>\n",
       "      <td>161.0</td>\n",
       "    </tr>\n",
       "    <tr>\n",
       "      <th>b</th>\n",
       "      <td>180.0</td>\n",
       "    </tr>\n",
       "    <tr>\n",
       "      <th>c</th>\n",
       "      <td>116.0</td>\n",
       "    </tr>\n",
       "    <tr>\n",
       "      <th>d</th>\n",
       "      <td>176.0</td>\n",
       "    </tr>\n",
       "  </tbody>\n",
       "</table>\n",
       "</div>"
      ],
      "text/plain": [
       "   Scores\n",
       "a   161.0\n",
       "b   180.0\n",
       "c   116.0\n",
       "d   176.0"
      ]
     },
     "execution_count": 121,
     "metadata": {},
     "output_type": "execute_result"
    }
   ],
   "source": [
    "df + df "
   ]
  },
  {
   "cell_type": "code",
   "execution_count": 123,
   "metadata": {},
   "outputs": [
    {
     "data": {
      "text/html": [
       "<div>\n",
       "<style>\n",
       "    .dataframe thead tr:only-child th {\n",
       "        text-align: right;\n",
       "    }\n",
       "\n",
       "    .dataframe thead th {\n",
       "        text-align: left;\n",
       "    }\n",
       "\n",
       "    .dataframe tbody tr th {\n",
       "        vertical-align: top;\n",
       "    }\n",
       "</style>\n",
       "<table border=\"1\" class=\"dataframe\">\n",
       "  <thead>\n",
       "    <tr style=\"text-align: right;\">\n",
       "      <th></th>\n",
       "      <th>Scores</th>\n",
       "    </tr>\n",
       "  </thead>\n",
       "  <tbody>\n",
       "    <tr>\n",
       "      <th>a</th>\n",
       "      <td>241.5</td>\n",
       "    </tr>\n",
       "    <tr>\n",
       "      <th>b</th>\n",
       "      <td>270.0</td>\n",
       "    </tr>\n",
       "    <tr>\n",
       "      <th>c</th>\n",
       "      <td>174.0</td>\n",
       "    </tr>\n",
       "    <tr>\n",
       "      <th>d</th>\n",
       "      <td>264.0</td>\n",
       "    </tr>\n",
       "  </tbody>\n",
       "</table>\n",
       "</div>"
      ],
      "text/plain": [
       "   Scores\n",
       "a   241.5\n",
       "b   270.0\n",
       "c   174.0\n",
       "d   264.0"
      ]
     },
     "execution_count": 123,
     "metadata": {},
     "output_type": "execute_result"
    }
   ],
   "source": [
    "df * 3"
   ]
  },
  {
   "cell_type": "code",
   "execution_count": 124,
   "metadata": {
    "uuid": "75206a83-0154-4be2-88d0-7a82a190fda1"
   },
   "outputs": [
    {
     "data": {
      "text/html": [
       "<div>\n",
       "<style>\n",
       "    .dataframe thead tr:only-child th {\n",
       "        text-align: right;\n",
       "    }\n",
       "\n",
       "    .dataframe thead th {\n",
       "        text-align: left;\n",
       "    }\n",
       "\n",
       "    .dataframe tbody tr th {\n",
       "        vertical-align: top;\n",
       "    }\n",
       "</style>\n",
       "<table border=\"1\" class=\"dataframe\">\n",
       "  <thead>\n",
       "    <tr style=\"text-align: right;\">\n",
       "      <th></th>\n",
       "      <th>Scores</th>\n",
       "    </tr>\n",
       "  </thead>\n",
       "  <tbody>\n",
       "    <tr>\n",
       "      <th>a</th>\n",
       "      <td>6480.25</td>\n",
       "    </tr>\n",
       "    <tr>\n",
       "      <th>b</th>\n",
       "      <td>8100.00</td>\n",
       "    </tr>\n",
       "    <tr>\n",
       "      <th>c</th>\n",
       "      <td>3364.00</td>\n",
       "    </tr>\n",
       "    <tr>\n",
       "      <th>d</th>\n",
       "      <td>7744.00</td>\n",
       "    </tr>\n",
       "  </tbody>\n",
       "</table>\n",
       "</div>"
      ],
      "text/plain": [
       "    Scores\n",
       "a  6480.25\n",
       "b  8100.00\n",
       "c  3364.00\n",
       "d  7744.00"
      ]
     },
     "execution_count": 124,
     "metadata": {},
     "output_type": "execute_result"
    }
   ],
   "source": [
    "df ** 2                          #类似Numpy的操作；可以不用循环，实现元素级的运算；"
   ]
  },
  {
   "cell_type": "code",
   "execution_count": 125,
   "metadata": {
    "collapsed": true
   },
   "outputs": [],
   "source": [
    "df['Scores'] = df['Scores'].astype('int')             #修改数据类型；astype()"
   ]
  },
  {
   "cell_type": "code",
   "execution_count": 126,
   "metadata": {},
   "outputs": [
    {
     "data": {
      "text/plain": [
       "Scores    int32\n",
       "dtype: object"
      ]
     },
     "execution_count": 126,
     "metadata": {},
     "output_type": "execute_result"
    }
   ],
   "source": [
    "df.dtypes"
   ]
  },
  {
   "cell_type": "markdown",
   "metadata": {
    "slideshow": {
     "slide_type": "subslide"
    }
   },
   "source": [
    "#### 4.3 修改DataFrame"
   ]
  },
  {
   "cell_type": "code",
   "execution_count": 13,
   "metadata": {},
   "outputs": [
    {
     "data": {
      "text/html": [
       "<div>\n",
       "<style>\n",
       "    .dataframe thead tr:only-child th {\n",
       "        text-align: right;\n",
       "    }\n",
       "\n",
       "    .dataframe thead th {\n",
       "        text-align: left;\n",
       "    }\n",
       "\n",
       "    .dataframe tbody tr th {\n",
       "        vertical-align: top;\n",
       "    }\n",
       "</style>\n",
       "<table border=\"1\" class=\"dataframe\">\n",
       "  <thead>\n",
       "    <tr style=\"text-align: right;\">\n",
       "      <th></th>\n",
       "      <th>Company</th>\n",
       "      <th>Course_name</th>\n",
       "      <th>Date</th>\n",
       "      <th>Number</th>\n",
       "    </tr>\n",
       "  </thead>\n",
       "  <tbody>\n",
       "    <tr>\n",
       "      <th>0</th>\n",
       "      <td>SJTU</td>\n",
       "      <td>Python</td>\n",
       "      <td>2017-06-30</td>\n",
       "      <td>6</td>\n",
       "    </tr>\n",
       "    <tr>\n",
       "      <th>1</th>\n",
       "      <td>SJTU</td>\n",
       "      <td>Quant</td>\n",
       "      <td>2017-06-30</td>\n",
       "      <td>6</td>\n",
       "    </tr>\n",
       "    <tr>\n",
       "      <th>2</th>\n",
       "      <td>SJTU</td>\n",
       "      <td>Finance</td>\n",
       "      <td>2017-06-30</td>\n",
       "      <td>6</td>\n",
       "    </tr>\n",
       "    <tr>\n",
       "      <th>3</th>\n",
       "      <td>SJTU</td>\n",
       "      <td>CFA</td>\n",
       "      <td>2017-06-30</td>\n",
       "      <td>6</td>\n",
       "    </tr>\n",
       "  </tbody>\n",
       "</table>\n",
       "</div>"
      ],
      "text/plain": [
       "  Company Course_name       Date  Number\n",
       "0    SJTU      Python 2017-06-30       6\n",
       "1    SJTU       Quant 2017-06-30       6\n",
       "2    SJTU     Finance 2017-06-30       6\n",
       "3    SJTU         CFA 2017-06-30       6"
      ]
     },
     "execution_count": 13,
     "metadata": {},
     "output_type": "execute_result"
    }
   ],
   "source": [
    "# 通过字典构建DataFrame\n",
    "dict_data = {'Date': pd.datetime(2017,6,30),\n",
    "             'Number': pd.Series([6, 6, 6, 6]),\n",
    "             'Course_name' : pd.Series([\"Python\",\"Quant\",\"Finance\",\"CFA\"]),     #直接传一个list进去也是完全可以的；\n",
    "             'Company' : 'SJTU' }\n",
    "\n",
    "df = pd.DataFrame(dict_data)\n",
    "df.head()"
   ]
  },
  {
   "cell_type": "code",
   "execution_count": 14,
   "metadata": {},
   "outputs": [
    {
     "data": {
      "text/html": [
       "<div>\n",
       "<style>\n",
       "    .dataframe thead tr:only-child th {\n",
       "        text-align: right;\n",
       "    }\n",
       "\n",
       "    .dataframe thead th {\n",
       "        text-align: left;\n",
       "    }\n",
       "\n",
       "    .dataframe tbody tr th {\n",
       "        vertical-align: top;\n",
       "    }\n",
       "</style>\n",
       "<table border=\"1\" class=\"dataframe\">\n",
       "  <thead>\n",
       "    <tr style=\"text-align: right;\">\n",
       "      <th></th>\n",
       "      <th>Company</th>\n",
       "      <th>Course_name</th>\n",
       "      <th>Date</th>\n",
       "      <th>Number</th>\n",
       "      <th>Period</th>\n",
       "    </tr>\n",
       "  </thead>\n",
       "  <tbody>\n",
       "    <tr>\n",
       "      <th>0</th>\n",
       "      <td>SJTU</td>\n",
       "      <td>Python</td>\n",
       "      <td>2017-06-30</td>\n",
       "      <td>6</td>\n",
       "      <td>21</td>\n",
       "    </tr>\n",
       "    <tr>\n",
       "      <th>1</th>\n",
       "      <td>SJTU</td>\n",
       "      <td>Quant</td>\n",
       "      <td>2017-06-30</td>\n",
       "      <td>6</td>\n",
       "      <td>22</td>\n",
       "    </tr>\n",
       "    <tr>\n",
       "      <th>2</th>\n",
       "      <td>SJTU</td>\n",
       "      <td>Finance</td>\n",
       "      <td>2017-06-30</td>\n",
       "      <td>6</td>\n",
       "      <td>23</td>\n",
       "    </tr>\n",
       "    <tr>\n",
       "      <th>3</th>\n",
       "      <td>SJTU</td>\n",
       "      <td>CFA</td>\n",
       "      <td>2017-06-30</td>\n",
       "      <td>6</td>\n",
       "      <td>24</td>\n",
       "    </tr>\n",
       "  </tbody>\n",
       "</table>\n",
       "</div>"
      ],
      "text/plain": [
       "  Company Course_name       Date  Number  Period\n",
       "0    SJTU      Python 2017-06-30       6      21\n",
       "1    SJTU       Quant 2017-06-30       6      22\n",
       "2    SJTU     Finance 2017-06-30       6      23\n",
       "3    SJTU         CFA 2017-06-30       6      24"
      ]
     },
     "execution_count": 14,
     "metadata": {},
     "output_type": "execute_result"
    }
   ],
   "source": [
    "#增加具体的列,在策略中是非常重要的；\n",
    "df['Period'] = range(21,25)\n",
    "df.head()"
   ]
  },
  {
   "cell_type": "code",
   "execution_count": 15,
   "metadata": {},
   "outputs": [
    {
     "data": {
      "text/html": [
       "<div>\n",
       "<style>\n",
       "    .dataframe thead tr:only-child th {\n",
       "        text-align: right;\n",
       "    }\n",
       "\n",
       "    .dataframe thead th {\n",
       "        text-align: left;\n",
       "    }\n",
       "\n",
       "    .dataframe tbody tr th {\n",
       "        vertical-align: top;\n",
       "    }\n",
       "</style>\n",
       "<table border=\"1\" class=\"dataframe\">\n",
       "  <thead>\n",
       "    <tr style=\"text-align: right;\">\n",
       "      <th></th>\n",
       "      <th>Company</th>\n",
       "      <th>Course_name</th>\n",
       "      <th>Date</th>\n",
       "      <th>Number</th>\n",
       "    </tr>\n",
       "  </thead>\n",
       "  <tbody>\n",
       "    <tr>\n",
       "      <th>0</th>\n",
       "      <td>SJTU</td>\n",
       "      <td>Python</td>\n",
       "      <td>2017-06-30</td>\n",
       "      <td>6</td>\n",
       "    </tr>\n",
       "    <tr>\n",
       "      <th>1</th>\n",
       "      <td>SJTU</td>\n",
       "      <td>Quant</td>\n",
       "      <td>2017-06-30</td>\n",
       "      <td>6</td>\n",
       "    </tr>\n",
       "    <tr>\n",
       "      <th>2</th>\n",
       "      <td>SJTU</td>\n",
       "      <td>Finance</td>\n",
       "      <td>2017-06-30</td>\n",
       "      <td>6</td>\n",
       "    </tr>\n",
       "    <tr>\n",
       "      <th>3</th>\n",
       "      <td>SJTU</td>\n",
       "      <td>CFA</td>\n",
       "      <td>2017-06-30</td>\n",
       "      <td>6</td>\n",
       "    </tr>\n",
       "  </tbody>\n",
       "</table>\n",
       "</div>"
      ],
      "text/plain": [
       "  Company Course_name       Date  Number\n",
       "0    SJTU      Python 2017-06-30       6\n",
       "1    SJTU       Quant 2017-06-30       6\n",
       "2    SJTU     Finance 2017-06-30       6\n",
       "3    SJTU         CFA 2017-06-30       6"
      ]
     },
     "execution_count": 15,
     "metadata": {},
     "output_type": "execute_result"
    }
   ],
   "source": [
    "# 删除列\n",
    "del(df['Period'] )\n",
    "df.head()"
   ]
  },
  {
   "cell_type": "code",
   "execution_count": 16,
   "metadata": {},
   "outputs": [
    {
     "data": {
      "text/html": [
       "<div>\n",
       "<style>\n",
       "    .dataframe thead tr:only-child th {\n",
       "        text-align: right;\n",
       "    }\n",
       "\n",
       "    .dataframe thead th {\n",
       "        text-align: left;\n",
       "    }\n",
       "\n",
       "    .dataframe tbody tr th {\n",
       "        vertical-align: top;\n",
       "    }\n",
       "</style>\n",
       "<table border=\"1\" class=\"dataframe\">\n",
       "  <thead>\n",
       "    <tr style=\"text-align: right;\">\n",
       "      <th></th>\n",
       "      <th>Scores</th>\n",
       "    </tr>\n",
       "  </thead>\n",
       "  <tbody>\n",
       "    <tr>\n",
       "      <th>a</th>\n",
       "      <td>80.5</td>\n",
       "    </tr>\n",
       "    <tr>\n",
       "      <th>b</th>\n",
       "      <td>90.0</td>\n",
       "    </tr>\n",
       "    <tr>\n",
       "      <th>c</th>\n",
       "      <td>58.0</td>\n",
       "    </tr>\n",
       "    <tr>\n",
       "      <th>d</th>\n",
       "      <td>88.0</td>\n",
       "    </tr>\n",
       "  </tbody>\n",
       "</table>\n",
       "</div>"
      ],
      "text/plain": [
       "   Scores\n",
       "a    80.5\n",
       "b    90.0\n",
       "c    58.0\n",
       "d    88.0"
      ]
     },
     "execution_count": 16,
     "metadata": {},
     "output_type": "execute_result"
    }
   ],
   "source": [
    "df = pd.DataFrame([80.5, 90, 58, 88], columns=['Scores'],\n",
    "                  index=['a', 'b', 'c', 'd'], dtype = 'f')\n",
    "df"
   ]
  },
  {
   "cell_type": "code",
   "execution_count": 17,
   "metadata": {
    "uuid": "49a2633a-b3c0-4d00-a227-e0ff4a8cf81d"
   },
   "outputs": [
    {
     "data": {
      "text/html": [
       "<div>\n",
       "<style>\n",
       "    .dataframe thead tr:only-child th {\n",
       "        text-align: right;\n",
       "    }\n",
       "\n",
       "    .dataframe thead th {\n",
       "        text-align: left;\n",
       "    }\n",
       "\n",
       "    .dataframe tbody tr th {\n",
       "        vertical-align: top;\n",
       "    }\n",
       "</style>\n",
       "<table border=\"1\" class=\"dataframe\">\n",
       "  <thead>\n",
       "    <tr style=\"text-align: right;\">\n",
       "      <th></th>\n",
       "      <th>Scores</th>\n",
       "      <th>Hours</th>\n",
       "    </tr>\n",
       "  </thead>\n",
       "  <tbody>\n",
       "    <tr>\n",
       "      <th>a</th>\n",
       "      <td>80.5</td>\n",
       "      <td>2.1</td>\n",
       "    </tr>\n",
       "    <tr>\n",
       "      <th>b</th>\n",
       "      <td>90.0</td>\n",
       "      <td>1.5</td>\n",
       "    </tr>\n",
       "    <tr>\n",
       "      <th>c</th>\n",
       "      <td>58.0</td>\n",
       "      <td>1.6</td>\n",
       "    </tr>\n",
       "    <tr>\n",
       "      <th>d</th>\n",
       "      <td>88.0</td>\n",
       "      <td>2.2</td>\n",
       "    </tr>\n",
       "  </tbody>\n",
       "</table>\n",
       "</div>"
      ],
      "text/plain": [
       "   Scores  Hours\n",
       "a    80.5    2.1\n",
       "b    90.0    1.5\n",
       "c    58.0    1.6\n",
       "d    88.0    2.2"
      ]
     },
     "execution_count": 17,
     "metadata": {},
     "output_type": "execute_result"
    }
   ],
   "source": [
    "df['Hours'] = (2.1, 1.5, 1.6, 2.2)                     # 新增column的用法需要重点掌握，在分析股票数据时非常有用；\n",
    "df"
   ]
  },
  {
   "cell_type": "code",
   "execution_count": 18,
   "metadata": {
    "uuid": "c49b9aea-417a-4c2b-8e27-0e8771a77c87"
   },
   "outputs": [
    {
     "data": {
      "text/plain": [
       "a    2.1\n",
       "b    1.5\n",
       "c    1.6\n",
       "d    2.2\n",
       "Name: Hours, dtype: float64"
      ]
     },
     "execution_count": 18,
     "metadata": {},
     "output_type": "execute_result"
    }
   ],
   "source": [
    "df['Hours']                       #选择具体的某一列 "
   ]
  },
  {
   "cell_type": "code",
   "execution_count": 19,
   "metadata": {
    "uuid": "aa892c41-6637-45ed-876b-6a70285e4c0b"
   },
   "outputs": [
    {
     "data": {
      "text/html": [
       "<div>\n",
       "<style>\n",
       "    .dataframe thead tr:only-child th {\n",
       "        text-align: right;\n",
       "    }\n",
       "\n",
       "    .dataframe thead th {\n",
       "        text-align: left;\n",
       "    }\n",
       "\n",
       "    .dataframe tbody tr th {\n",
       "        vertical-align: top;\n",
       "    }\n",
       "</style>\n",
       "<table border=\"1\" class=\"dataframe\">\n",
       "  <thead>\n",
       "    <tr style=\"text-align: right;\">\n",
       "      <th></th>\n",
       "      <th>Scores</th>\n",
       "      <th>Hours</th>\n",
       "      <th>Names</th>\n",
       "    </tr>\n",
       "  </thead>\n",
       "  <tbody>\n",
       "    <tr>\n",
       "      <th>a</th>\n",
       "      <td>80.5</td>\n",
       "      <td>2.1</td>\n",
       "      <td>Gamma</td>\n",
       "    </tr>\n",
       "    <tr>\n",
       "      <th>b</th>\n",
       "      <td>90.0</td>\n",
       "      <td>1.5</td>\n",
       "      <td>Beta</td>\n",
       "    </tr>\n",
       "    <tr>\n",
       "      <th>c</th>\n",
       "      <td>58.0</td>\n",
       "      <td>1.6</td>\n",
       "      <td>Theta</td>\n",
       "    </tr>\n",
       "    <tr>\n",
       "      <th>d</th>\n",
       "      <td>88.0</td>\n",
       "      <td>2.2</td>\n",
       "      <td>Alpha</td>\n",
       "    </tr>\n",
       "  </tbody>\n",
       "</table>\n",
       "</div>"
      ],
      "text/plain": [
       "   Scores  Hours  Names\n",
       "a    80.5    2.1  Gamma\n",
       "b    90.0    1.5   Beta\n",
       "c    58.0    1.6  Theta\n",
       "d    88.0    2.2  Alpha"
      ]
     },
     "execution_count": 19,
     "metadata": {},
     "output_type": "execute_result"
    }
   ],
   "source": [
    "#将一个完整dataFrame作为新建的列，Pandas会自动根据index的label进行匹配\n",
    "df['Names'] = pd.DataFrame(['Alpha', 'Beta', 'Gamma', 'Theta'],   \n",
    "                           index=['d', 'b', 'a', 'c'])\n",
    "df  "
   ]
  },
  {
   "cell_type": "markdown",
   "metadata": {},
   "source": [
    "**4.4 DataFrame对齐操作**"
   ]
  },
  {
   "cell_type": "code",
   "execution_count": 134,
   "metadata": {
    "collapsed": true
   },
   "outputs": [],
   "source": [
    "df1 = pd.DataFrame(np.random.random((6,6)), columns = ['a', 'b','c','d','e','f'])\n",
    "df2 = pd.DataFrame(np.random.random((3,3)), columns = ['a', 'b', 'c'])"
   ]
  },
  {
   "cell_type": "code",
   "execution_count": 135,
   "metadata": {},
   "outputs": [
    {
     "data": {
      "text/html": [
       "<div>\n",
       "<style>\n",
       "    .dataframe thead tr:only-child th {\n",
       "        text-align: right;\n",
       "    }\n",
       "\n",
       "    .dataframe thead th {\n",
       "        text-align: left;\n",
       "    }\n",
       "\n",
       "    .dataframe tbody tr th {\n",
       "        vertical-align: top;\n",
       "    }\n",
       "</style>\n",
       "<table border=\"1\" class=\"dataframe\">\n",
       "  <thead>\n",
       "    <tr style=\"text-align: right;\">\n",
       "      <th></th>\n",
       "      <th>a</th>\n",
       "      <th>b</th>\n",
       "      <th>c</th>\n",
       "      <th>d</th>\n",
       "      <th>e</th>\n",
       "      <th>f</th>\n",
       "    </tr>\n",
       "  </thead>\n",
       "  <tbody>\n",
       "    <tr>\n",
       "      <th>0</th>\n",
       "      <td>0.306465</td>\n",
       "      <td>0.650042</td>\n",
       "      <td>0.382987</td>\n",
       "      <td>0.664129</td>\n",
       "      <td>0.660192</td>\n",
       "      <td>0.430710</td>\n",
       "    </tr>\n",
       "    <tr>\n",
       "      <th>1</th>\n",
       "      <td>0.638582</td>\n",
       "      <td>0.179455</td>\n",
       "      <td>0.800233</td>\n",
       "      <td>0.049455</td>\n",
       "      <td>0.946618</td>\n",
       "      <td>0.859000</td>\n",
       "    </tr>\n",
       "    <tr>\n",
       "      <th>2</th>\n",
       "      <td>0.393196</td>\n",
       "      <td>0.294454</td>\n",
       "      <td>0.955929</td>\n",
       "      <td>0.649859</td>\n",
       "      <td>0.431248</td>\n",
       "      <td>0.189606</td>\n",
       "    </tr>\n",
       "    <tr>\n",
       "      <th>3</th>\n",
       "      <td>0.173000</td>\n",
       "      <td>0.989861</td>\n",
       "      <td>0.257547</td>\n",
       "      <td>0.875490</td>\n",
       "      <td>0.058619</td>\n",
       "      <td>0.886442</td>\n",
       "    </tr>\n",
       "    <tr>\n",
       "      <th>4</th>\n",
       "      <td>0.566411</td>\n",
       "      <td>0.768073</td>\n",
       "      <td>0.891766</td>\n",
       "      <td>0.871969</td>\n",
       "      <td>0.305398</td>\n",
       "      <td>0.503355</td>\n",
       "    </tr>\n",
       "    <tr>\n",
       "      <th>5</th>\n",
       "      <td>0.751396</td>\n",
       "      <td>0.383719</td>\n",
       "      <td>0.010182</td>\n",
       "      <td>0.570287</td>\n",
       "      <td>0.507725</td>\n",
       "      <td>0.698975</td>\n",
       "    </tr>\n",
       "  </tbody>\n",
       "</table>\n",
       "</div>"
      ],
      "text/plain": [
       "          a         b         c         d         e         f\n",
       "0  0.306465  0.650042  0.382987  0.664129  0.660192  0.430710\n",
       "1  0.638582  0.179455  0.800233  0.049455  0.946618  0.859000\n",
       "2  0.393196  0.294454  0.955929  0.649859  0.431248  0.189606\n",
       "3  0.173000  0.989861  0.257547  0.875490  0.058619  0.886442\n",
       "4  0.566411  0.768073  0.891766  0.871969  0.305398  0.503355\n",
       "5  0.751396  0.383719  0.010182  0.570287  0.507725  0.698975"
      ]
     },
     "execution_count": 135,
     "metadata": {},
     "output_type": "execute_result"
    }
   ],
   "source": [
    "df1"
   ]
  },
  {
   "cell_type": "code",
   "execution_count": 136,
   "metadata": {},
   "outputs": [
    {
     "data": {
      "text/html": [
       "<div>\n",
       "<style>\n",
       "    .dataframe thead tr:only-child th {\n",
       "        text-align: right;\n",
       "    }\n",
       "\n",
       "    .dataframe thead th {\n",
       "        text-align: left;\n",
       "    }\n",
       "\n",
       "    .dataframe tbody tr th {\n",
       "        vertical-align: top;\n",
       "    }\n",
       "</style>\n",
       "<table border=\"1\" class=\"dataframe\">\n",
       "  <thead>\n",
       "    <tr style=\"text-align: right;\">\n",
       "      <th></th>\n",
       "      <th>a</th>\n",
       "      <th>b</th>\n",
       "      <th>c</th>\n",
       "    </tr>\n",
       "  </thead>\n",
       "  <tbody>\n",
       "    <tr>\n",
       "      <th>0</th>\n",
       "      <td>0.869475</td>\n",
       "      <td>0.289202</td>\n",
       "      <td>0.442661</td>\n",
       "    </tr>\n",
       "    <tr>\n",
       "      <th>1</th>\n",
       "      <td>0.880406</td>\n",
       "      <td>0.354192</td>\n",
       "      <td>0.703638</td>\n",
       "    </tr>\n",
       "    <tr>\n",
       "      <th>2</th>\n",
       "      <td>0.161238</td>\n",
       "      <td>0.735637</td>\n",
       "      <td>0.446094</td>\n",
       "    </tr>\n",
       "  </tbody>\n",
       "</table>\n",
       "</div>"
      ],
      "text/plain": [
       "          a         b         c\n",
       "0  0.869475  0.289202  0.442661\n",
       "1  0.880406  0.354192  0.703638\n",
       "2  0.161238  0.735637  0.446094"
      ]
     },
     "execution_count": 136,
     "metadata": {},
     "output_type": "execute_result"
    }
   ],
   "source": [
    "df2"
   ]
  },
  {
   "cell_type": "code",
   "execution_count": 141,
   "metadata": {},
   "outputs": [
    {
     "data": {
      "text/html": [
       "<div>\n",
       "<style>\n",
       "    .dataframe thead tr:only-child th {\n",
       "        text-align: right;\n",
       "    }\n",
       "\n",
       "    .dataframe thead th {\n",
       "        text-align: left;\n",
       "    }\n",
       "\n",
       "    .dataframe tbody tr th {\n",
       "        vertical-align: top;\n",
       "    }\n",
       "</style>\n",
       "<table border=\"1\" class=\"dataframe\">\n",
       "  <thead>\n",
       "    <tr style=\"text-align: right;\">\n",
       "      <th></th>\n",
       "      <th>a</th>\n",
       "      <th>b</th>\n",
       "      <th>c</th>\n",
       "      <th>d</th>\n",
       "      <th>e</th>\n",
       "      <th>f</th>\n",
       "    </tr>\n",
       "  </thead>\n",
       "  <tbody>\n",
       "    <tr>\n",
       "      <th>0</th>\n",
       "      <td>1.175940</td>\n",
       "      <td>0.939244</td>\n",
       "      <td>0.825648</td>\n",
       "      <td>NaN</td>\n",
       "      <td>NaN</td>\n",
       "      <td>NaN</td>\n",
       "    </tr>\n",
       "    <tr>\n",
       "      <th>1</th>\n",
       "      <td>1.518988</td>\n",
       "      <td>0.533646</td>\n",
       "      <td>1.503871</td>\n",
       "      <td>NaN</td>\n",
       "      <td>NaN</td>\n",
       "      <td>NaN</td>\n",
       "    </tr>\n",
       "    <tr>\n",
       "      <th>2</th>\n",
       "      <td>0.554434</td>\n",
       "      <td>1.030090</td>\n",
       "      <td>1.402022</td>\n",
       "      <td>NaN</td>\n",
       "      <td>NaN</td>\n",
       "      <td>NaN</td>\n",
       "    </tr>\n",
       "    <tr>\n",
       "      <th>3</th>\n",
       "      <td>NaN</td>\n",
       "      <td>NaN</td>\n",
       "      <td>NaN</td>\n",
       "      <td>NaN</td>\n",
       "      <td>NaN</td>\n",
       "      <td>NaN</td>\n",
       "    </tr>\n",
       "    <tr>\n",
       "      <th>4</th>\n",
       "      <td>NaN</td>\n",
       "      <td>NaN</td>\n",
       "      <td>NaN</td>\n",
       "      <td>NaN</td>\n",
       "      <td>NaN</td>\n",
       "      <td>NaN</td>\n",
       "    </tr>\n",
       "    <tr>\n",
       "      <th>5</th>\n",
       "      <td>NaN</td>\n",
       "      <td>NaN</td>\n",
       "      <td>NaN</td>\n",
       "      <td>NaN</td>\n",
       "      <td>NaN</td>\n",
       "      <td>NaN</td>\n",
       "    </tr>\n",
       "  </tbody>\n",
       "</table>\n",
       "</div>"
      ],
      "text/plain": [
       "          a         b         c   d   e   f\n",
       "0  1.175940  0.939244  0.825648 NaN NaN NaN\n",
       "1  1.518988  0.533646  1.503871 NaN NaN NaN\n",
       "2  0.554434  1.030090  1.402022 NaN NaN NaN\n",
       "3       NaN       NaN       NaN NaN NaN NaN\n",
       "4       NaN       NaN       NaN NaN NaN NaN\n",
       "5       NaN       NaN       NaN NaN NaN NaN"
      ]
     },
     "execution_count": 141,
     "metadata": {},
     "output_type": "execute_result"
    }
   ],
   "source": [
    "df3 = df1 + df2     \n",
    "df3                                  #DataFrame会自动对齐；"
   ]
  },
  {
   "cell_type": "code",
   "execution_count": 142,
   "metadata": {},
   "outputs": [
    {
     "data": {
      "text/html": [
       "<div>\n",
       "<style>\n",
       "    .dataframe thead tr:only-child th {\n",
       "        text-align: right;\n",
       "    }\n",
       "\n",
       "    .dataframe thead th {\n",
       "        text-align: left;\n",
       "    }\n",
       "\n",
       "    .dataframe tbody tr th {\n",
       "        vertical-align: top;\n",
       "    }\n",
       "</style>\n",
       "<table border=\"1\" class=\"dataframe\">\n",
       "  <thead>\n",
       "    <tr style=\"text-align: right;\">\n",
       "      <th></th>\n",
       "      <th>a</th>\n",
       "      <th>b</th>\n",
       "      <th>c</th>\n",
       "      <th>d</th>\n",
       "      <th>e</th>\n",
       "      <th>f</th>\n",
       "    </tr>\n",
       "  </thead>\n",
       "  <tbody>\n",
       "    <tr>\n",
       "      <th>0</th>\n",
       "      <td>1.175940</td>\n",
       "      <td>0.939244</td>\n",
       "      <td>0.825648</td>\n",
       "      <td>0.0</td>\n",
       "      <td>0.0</td>\n",
       "      <td>0.0</td>\n",
       "    </tr>\n",
       "    <tr>\n",
       "      <th>1</th>\n",
       "      <td>1.518988</td>\n",
       "      <td>0.533646</td>\n",
       "      <td>1.503871</td>\n",
       "      <td>0.0</td>\n",
       "      <td>0.0</td>\n",
       "      <td>0.0</td>\n",
       "    </tr>\n",
       "    <tr>\n",
       "      <th>2</th>\n",
       "      <td>0.554434</td>\n",
       "      <td>1.030090</td>\n",
       "      <td>1.402022</td>\n",
       "      <td>0.0</td>\n",
       "      <td>0.0</td>\n",
       "      <td>0.0</td>\n",
       "    </tr>\n",
       "    <tr>\n",
       "      <th>3</th>\n",
       "      <td>0.000000</td>\n",
       "      <td>0.000000</td>\n",
       "      <td>0.000000</td>\n",
       "      <td>0.0</td>\n",
       "      <td>0.0</td>\n",
       "      <td>0.0</td>\n",
       "    </tr>\n",
       "    <tr>\n",
       "      <th>4</th>\n",
       "      <td>0.000000</td>\n",
       "      <td>0.000000</td>\n",
       "      <td>0.000000</td>\n",
       "      <td>0.0</td>\n",
       "      <td>0.0</td>\n",
       "      <td>0.0</td>\n",
       "    </tr>\n",
       "    <tr>\n",
       "      <th>5</th>\n",
       "      <td>0.000000</td>\n",
       "      <td>0.000000</td>\n",
       "      <td>0.000000</td>\n",
       "      <td>0.0</td>\n",
       "      <td>0.0</td>\n",
       "      <td>0.0</td>\n",
       "    </tr>\n",
       "  </tbody>\n",
       "</table>\n",
       "</div>"
      ],
      "text/plain": [
       "          a         b         c    d    e    f\n",
       "0  1.175940  0.939244  0.825648  0.0  0.0  0.0\n",
       "1  1.518988  0.533646  1.503871  0.0  0.0  0.0\n",
       "2  0.554434  1.030090  1.402022  0.0  0.0  0.0\n",
       "3  0.000000  0.000000  0.000000  0.0  0.0  0.0\n",
       "4  0.000000  0.000000  0.000000  0.0  0.0  0.0\n",
       "5  0.000000  0.000000  0.000000  0.0  0.0  0.0"
      ]
     },
     "execution_count": 142,
     "metadata": {},
     "output_type": "execute_result"
    }
   ],
   "source": [
    "df3.fillna(0, inplace = True)\n",
    "df3"
   ]
  },
  {
   "cell_type": "markdown",
   "metadata": {},
   "source": [
    "#### 4.5 按条件筛选数据——应用于条件选股"
   ]
  },
  {
   "cell_type": "code",
   "execution_count": 143,
   "metadata": {},
   "outputs": [
    {
     "data": {
      "text/html": [
       "<div>\n",
       "<style>\n",
       "    .dataframe thead tr:only-child th {\n",
       "        text-align: right;\n",
       "    }\n",
       "\n",
       "    .dataframe thead th {\n",
       "        text-align: left;\n",
       "    }\n",
       "\n",
       "    .dataframe tbody tr th {\n",
       "        vertical-align: top;\n",
       "    }\n",
       "</style>\n",
       "<table border=\"1\" class=\"dataframe\">\n",
       "  <thead>\n",
       "    <tr style=\"text-align: right;\">\n",
       "      <th></th>\n",
       "      <th>PB</th>\n",
       "      <th>PE</th>\n",
       "      <th>ROE</th>\n",
       "    </tr>\n",
       "  </thead>\n",
       "  <tbody>\n",
       "    <tr>\n",
       "      <th>Company a</th>\n",
       "      <td>2.0</td>\n",
       "      <td>10.0</td>\n",
       "      <td>0.06</td>\n",
       "    </tr>\n",
       "    <tr>\n",
       "      <th>Company b</th>\n",
       "      <td>3.0</td>\n",
       "      <td>20.0</td>\n",
       "      <td>0.10</td>\n",
       "    </tr>\n",
       "    <tr>\n",
       "      <th>Company c</th>\n",
       "      <td>2.5</td>\n",
       "      <td>30.0</td>\n",
       "      <td>0.08</td>\n",
       "    </tr>\n",
       "    <tr>\n",
       "      <th>Company d</th>\n",
       "      <td>4.0</td>\n",
       "      <td>40.0</td>\n",
       "      <td>0.02</td>\n",
       "    </tr>\n",
       "  </tbody>\n",
       "</table>\n",
       "</div>"
      ],
      "text/plain": [
       "            PB    PE   ROE\n",
       "Company a  2.0  10.0  0.06\n",
       "Company b  3.0  20.0  0.10\n",
       "Company c  2.5  30.0  0.08\n",
       "Company d  4.0  40.0  0.02"
      ]
     },
     "execution_count": 143,
     "metadata": {},
     "output_type": "execute_result"
    }
   ],
   "source": [
    "d = {'PE' : pd.Series([10., 20., 30., 40.], index=['Company a', 'Company b', 'Company c','Company d']),\n",
    "     'PB' : pd.Series([2., 3., 2.5, 4.], index=['Company a', 'Company b', 'Company c', 'Company d']),\n",
    "     'ROE' : pd.Series([0.06, 0.1, 0.08, 0.02], index=['Company a', 'Company b', 'Company c', 'Company d'])}\n",
    "df = pd.DataFrame(d)\n",
    "df"
   ]
  },
  {
   "cell_type": "code",
   "execution_count": 144,
   "metadata": {},
   "outputs": [
    {
     "data": {
      "text/plain": [
       "Company a     True\n",
       "Company b     True\n",
       "Company c    False\n",
       "Company d    False\n",
       "Name: PE, dtype: bool"
      ]
     },
     "execution_count": 144,
     "metadata": {},
     "output_type": "execute_result"
    }
   ],
   "source": [
    "df.PE < 25"
   ]
  },
  {
   "cell_type": "code",
   "execution_count": 145,
   "metadata": {},
   "outputs": [
    {
     "data": {
      "text/html": [
       "<div>\n",
       "<style>\n",
       "    .dataframe thead tr:only-child th {\n",
       "        text-align: right;\n",
       "    }\n",
       "\n",
       "    .dataframe thead th {\n",
       "        text-align: left;\n",
       "    }\n",
       "\n",
       "    .dataframe tbody tr th {\n",
       "        vertical-align: top;\n",
       "    }\n",
       "</style>\n",
       "<table border=\"1\" class=\"dataframe\">\n",
       "  <thead>\n",
       "    <tr style=\"text-align: right;\">\n",
       "      <th></th>\n",
       "      <th>PB</th>\n",
       "      <th>PE</th>\n",
       "      <th>ROE</th>\n",
       "    </tr>\n",
       "  </thead>\n",
       "  <tbody>\n",
       "    <tr>\n",
       "      <th>Company a</th>\n",
       "      <td>2.0</td>\n",
       "      <td>10.0</td>\n",
       "      <td>0.06</td>\n",
       "    </tr>\n",
       "    <tr>\n",
       "      <th>Company b</th>\n",
       "      <td>3.0</td>\n",
       "      <td>20.0</td>\n",
       "      <td>0.10</td>\n",
       "    </tr>\n",
       "  </tbody>\n",
       "</table>\n",
       "</div>"
      ],
      "text/plain": [
       "            PB    PE   ROE\n",
       "Company a  2.0  10.0  0.06\n",
       "Company b  3.0  20.0  0.10"
      ]
     },
     "execution_count": 145,
     "metadata": {},
     "output_type": "execute_result"
    }
   ],
   "source": [
    "df[df.PE < 25]"
   ]
  },
  {
   "cell_type": "code",
   "execution_count": 148,
   "metadata": {},
   "outputs": [
    {
     "data": {
      "text/html": [
       "<div>\n",
       "<style>\n",
       "    .dataframe thead tr:only-child th {\n",
       "        text-align: right;\n",
       "    }\n",
       "\n",
       "    .dataframe thead th {\n",
       "        text-align: left;\n",
       "    }\n",
       "\n",
       "    .dataframe tbody tr th {\n",
       "        vertical-align: top;\n",
       "    }\n",
       "</style>\n",
       "<table border=\"1\" class=\"dataframe\">\n",
       "  <thead>\n",
       "    <tr style=\"text-align: right;\">\n",
       "      <th></th>\n",
       "      <th>PB</th>\n",
       "      <th>PE</th>\n",
       "      <th>ROE</th>\n",
       "    </tr>\n",
       "  </thead>\n",
       "  <tbody>\n",
       "    <tr>\n",
       "      <th>Company a</th>\n",
       "      <td>2.0</td>\n",
       "      <td>10.0</td>\n",
       "      <td>0.06</td>\n",
       "    </tr>\n",
       "    <tr>\n",
       "      <th>Company b</th>\n",
       "      <td>3.0</td>\n",
       "      <td>20.0</td>\n",
       "      <td>0.10</td>\n",
       "    </tr>\n",
       "  </tbody>\n",
       "</table>\n",
       "</div>"
      ],
      "text/plain": [
       "            PB    PE   ROE\n",
       "Company a  2.0  10.0  0.06\n",
       "Company b  3.0  20.0  0.10"
      ]
     },
     "execution_count": 148,
     "metadata": {},
     "output_type": "execute_result"
    }
   ],
   "source": [
    "df[df['PE'] < 25]                   #效果相同；"
   ]
  },
  {
   "cell_type": "code",
   "execution_count": 149,
   "metadata": {
    "scrolled": false
   },
   "outputs": [
    {
     "data": {
      "text/plain": [
       "Company a    1\n",
       "Company b    1\n",
       "Company c    0\n",
       "Company d    0\n",
       "Name: PE, dtype: int32"
      ]
     },
     "execution_count": 149,
     "metadata": {},
     "output_type": "execute_result"
    }
   ],
   "source": [
    "(df.PE < 25) * 1"
   ]
  },
  {
   "cell_type": "code",
   "execution_count": 161,
   "metadata": {},
   "outputs": [
    {
     "data": {
      "text/html": [
       "<div>\n",
       "<style>\n",
       "    .dataframe thead tr:only-child th {\n",
       "        text-align: right;\n",
       "    }\n",
       "\n",
       "    .dataframe thead th {\n",
       "        text-align: left;\n",
       "    }\n",
       "\n",
       "    .dataframe tbody tr th {\n",
       "        vertical-align: top;\n",
       "    }\n",
       "</style>\n",
       "<table border=\"1\" class=\"dataframe\">\n",
       "  <thead>\n",
       "    <tr style=\"text-align: right;\">\n",
       "      <th></th>\n",
       "      <th>PB</th>\n",
       "      <th>PE</th>\n",
       "      <th>ROE</th>\n",
       "    </tr>\n",
       "  </thead>\n",
       "  <tbody>\n",
       "    <tr>\n",
       "      <th>Company a</th>\n",
       "      <td>2.0</td>\n",
       "      <td>10.0</td>\n",
       "      <td>0.06</td>\n",
       "    </tr>\n",
       "    <tr>\n",
       "      <th>Company b</th>\n",
       "      <td>3.0</td>\n",
       "      <td>20.0</td>\n",
       "      <td>0.10</td>\n",
       "    </tr>\n",
       "  </tbody>\n",
       "</table>\n",
       "</div>"
      ],
      "text/plain": [
       "            PB    PE   ROE\n",
       "Company a  2.0  10.0  0.06\n",
       "Company b  3.0  20.0  0.10"
      ]
     },
     "execution_count": 161,
     "metadata": {},
     "output_type": "execute_result"
    }
   ],
   "source": [
    "df[(df.PE < 25)  | (df.PB < 2.5) ]                            #多个逻辑条件组合,每个条件需要括号；\n",
    "                                                            #  & |,不能用and或者or"
   ]
  },
  {
   "cell_type": "code",
   "execution_count": 162,
   "metadata": {},
   "outputs": [
    {
     "data": {
      "text/html": [
       "<div>\n",
       "<style>\n",
       "    .dataframe thead tr:only-child th {\n",
       "        text-align: right;\n",
       "    }\n",
       "\n",
       "    .dataframe thead th {\n",
       "        text-align: left;\n",
       "    }\n",
       "\n",
       "    .dataframe tbody tr th {\n",
       "        vertical-align: top;\n",
       "    }\n",
       "</style>\n",
       "<table border=\"1\" class=\"dataframe\">\n",
       "  <thead>\n",
       "    <tr style=\"text-align: right;\">\n",
       "      <th></th>\n",
       "      <th>PB</th>\n",
       "      <th>PE</th>\n",
       "      <th>ROE</th>\n",
       "    </tr>\n",
       "  </thead>\n",
       "  <tbody>\n",
       "    <tr>\n",
       "      <th>Company a</th>\n",
       "      <td>2.0</td>\n",
       "      <td>10.0</td>\n",
       "      <td>0.06</td>\n",
       "    </tr>\n",
       "  </tbody>\n",
       "</table>\n",
       "</div>"
      ],
      "text/plain": [
       "            PB    PE   ROE\n",
       "Company a  2.0  10.0  0.06"
      ]
     },
     "execution_count": 162,
     "metadata": {},
     "output_type": "execute_result"
    }
   ],
   "source": [
    "df[ (df.PE < 25) * 1  + (df.PB < 2.5) * 1  == 2  ]                 #多个逻辑条件"
   ]
  },
  {
   "cell_type": "code",
   "execution_count": 163,
   "metadata": {},
   "outputs": [
    {
     "data": {
      "text/html": [
       "<div>\n",
       "<style>\n",
       "    .dataframe thead tr:only-child th {\n",
       "        text-align: right;\n",
       "    }\n",
       "\n",
       "    .dataframe thead th {\n",
       "        text-align: left;\n",
       "    }\n",
       "\n",
       "    .dataframe tbody tr th {\n",
       "        vertical-align: top;\n",
       "    }\n",
       "</style>\n",
       "<table border=\"1\" class=\"dataframe\">\n",
       "  <thead>\n",
       "    <tr style=\"text-align: right;\">\n",
       "      <th></th>\n",
       "      <th>PB</th>\n",
       "      <th>PE</th>\n",
       "      <th>ROE</th>\n",
       "    </tr>\n",
       "  </thead>\n",
       "  <tbody>\n",
       "    <tr>\n",
       "      <th>Company a</th>\n",
       "      <td>2.0</td>\n",
       "      <td>10.0</td>\n",
       "      <td>0.06</td>\n",
       "    </tr>\n",
       "    <tr>\n",
       "      <th>Company b</th>\n",
       "      <td>3.0</td>\n",
       "      <td>20.0</td>\n",
       "      <td>0.10</td>\n",
       "    </tr>\n",
       "  </tbody>\n",
       "</table>\n",
       "</div>"
      ],
      "text/plain": [
       "            PB    PE   ROE\n",
       "Company a  2.0  10.0  0.06\n",
       "Company b  3.0  20.0  0.10"
      ]
     },
     "execution_count": 163,
     "metadata": {},
     "output_type": "execute_result"
    }
   ],
   "source": [
    "df[ (df.PE < 25) * 1  + (df.PB < 2.5) * 1  + (df.ROE> 0.07) * 1 >= 2  ]      #三个当中满足任意两个选股条件；重要"
   ]
  },
  {
   "cell_type": "markdown",
   "metadata": {
    "slideshow": {
     "slide_type": "subslide"
    }
   },
   "source": [
    "**4.6 DataFrame Apply函数的重点应用**"
   ]
  },
  {
   "cell_type": "code",
   "execution_count": 2,
   "metadata": {},
   "outputs": [
    {
     "data": {
      "text/plain": [
       "array([[-1.20002, -0.14367, -1.58155, -1.30232,  1.62077,  0.5075 ],\n",
       "       [ 0.02166, -0.09557,  0.38237, -0.83064, -0.86543, -1.03234],\n",
       "       [-0.18572, -1.52146,  0.64019,  0.26622, -0.2073 , -1.3267 ],\n",
       "       [ 1.40622,  1.10243,  0.79658,  0.44978, -1.67601,  1.1721 ],\n",
       "       [ 1.0033 , -1.1854 , -1.89615,  1.21855,  2.06018, -0.11492],\n",
       "       [-1.93645, -0.81568, -0.47105, -0.38618, -0.01978, -0.0619 ],\n",
       "       [ 0.12263,  0.08552,  0.57588, -0.54658,  1.92488, -1.13511],\n",
       "       [ 0.86115,  0.89275,  1.6486 , -0.81595,  0.36647,  1.00536],\n",
       "       [-2.13036,  1.90252, -0.76175,  2.02238, -1.57567, -0.17484]])"
      ]
     },
     "execution_count": 2,
     "metadata": {},
     "output_type": "execute_result"
    }
   ],
   "source": [
    "a = np.random.randn(9, 6)\n",
    "a.round(5)"
   ]
  },
  {
   "cell_type": "code",
   "execution_count": 3,
   "metadata": {
    "scrolled": true
   },
   "outputs": [
    {
     "data": {
      "text/html": [
       "<div>\n",
       "<style>\n",
       "    .dataframe thead tr:only-child th {\n",
       "        text-align: right;\n",
       "    }\n",
       "\n",
       "    .dataframe thead th {\n",
       "        text-align: left;\n",
       "    }\n",
       "\n",
       "    .dataframe tbody tr th {\n",
       "        vertical-align: top;\n",
       "    }\n",
       "</style>\n",
       "<table border=\"1\" class=\"dataframe\">\n",
       "  <thead>\n",
       "    <tr style=\"text-align: right;\">\n",
       "      <th></th>\n",
       "      <th>0</th>\n",
       "      <th>1</th>\n",
       "      <th>2</th>\n",
       "      <th>3</th>\n",
       "      <th>4</th>\n",
       "      <th>5</th>\n",
       "    </tr>\n",
       "  </thead>\n",
       "  <tbody>\n",
       "    <tr>\n",
       "      <th>0</th>\n",
       "      <td>-1.200017</td>\n",
       "      <td>-0.143673</td>\n",
       "      <td>-1.581553</td>\n",
       "      <td>-1.302320</td>\n",
       "      <td>1.620774</td>\n",
       "      <td>0.507504</td>\n",
       "    </tr>\n",
       "    <tr>\n",
       "      <th>1</th>\n",
       "      <td>0.021663</td>\n",
       "      <td>-0.095572</td>\n",
       "      <td>0.382365</td>\n",
       "      <td>-0.830639</td>\n",
       "      <td>-0.865432</td>\n",
       "      <td>-1.032340</td>\n",
       "    </tr>\n",
       "    <tr>\n",
       "      <th>2</th>\n",
       "      <td>-0.185721</td>\n",
       "      <td>-1.521455</td>\n",
       "      <td>0.640193</td>\n",
       "      <td>0.266223</td>\n",
       "      <td>-0.207297</td>\n",
       "      <td>-1.326699</td>\n",
       "    </tr>\n",
       "    <tr>\n",
       "      <th>3</th>\n",
       "      <td>1.406219</td>\n",
       "      <td>1.102431</td>\n",
       "      <td>0.796584</td>\n",
       "      <td>0.449783</td>\n",
       "      <td>-1.676008</td>\n",
       "      <td>1.172102</td>\n",
       "    </tr>\n",
       "    <tr>\n",
       "      <th>4</th>\n",
       "      <td>1.003298</td>\n",
       "      <td>-1.185395</td>\n",
       "      <td>-1.896151</td>\n",
       "      <td>1.218548</td>\n",
       "      <td>2.060183</td>\n",
       "      <td>-0.114918</td>\n",
       "    </tr>\n",
       "    <tr>\n",
       "      <th>5</th>\n",
       "      <td>-1.936451</td>\n",
       "      <td>-0.815682</td>\n",
       "      <td>-0.471055</td>\n",
       "      <td>-0.386179</td>\n",
       "      <td>-0.019781</td>\n",
       "      <td>-0.061896</td>\n",
       "    </tr>\n",
       "    <tr>\n",
       "      <th>6</th>\n",
       "      <td>0.122627</td>\n",
       "      <td>0.085518</td>\n",
       "      <td>0.575877</td>\n",
       "      <td>-0.546578</td>\n",
       "      <td>1.924884</td>\n",
       "      <td>-1.135114</td>\n",
       "    </tr>\n",
       "    <tr>\n",
       "      <th>7</th>\n",
       "      <td>0.861148</td>\n",
       "      <td>0.892745</td>\n",
       "      <td>1.648597</td>\n",
       "      <td>-0.815952</td>\n",
       "      <td>0.366469</td>\n",
       "      <td>1.005362</td>\n",
       "    </tr>\n",
       "    <tr>\n",
       "      <th>8</th>\n",
       "      <td>-2.130361</td>\n",
       "      <td>1.902525</td>\n",
       "      <td>-0.761748</td>\n",
       "      <td>2.022376</td>\n",
       "      <td>-1.575673</td>\n",
       "      <td>-0.174841</td>\n",
       "    </tr>\n",
       "  </tbody>\n",
       "</table>\n",
       "</div>"
      ],
      "text/plain": [
       "          0         1         2         3         4         5\n",
       "0 -1.200017 -0.143673 -1.581553 -1.302320  1.620774  0.507504\n",
       "1  0.021663 -0.095572  0.382365 -0.830639 -0.865432 -1.032340\n",
       "2 -0.185721 -1.521455  0.640193  0.266223 -0.207297 -1.326699\n",
       "3  1.406219  1.102431  0.796584  0.449783 -1.676008  1.172102\n",
       "4  1.003298 -1.185395 -1.896151  1.218548  2.060183 -0.114918\n",
       "5 -1.936451 -0.815682 -0.471055 -0.386179 -0.019781 -0.061896\n",
       "6  0.122627  0.085518  0.575877 -0.546578  1.924884 -1.135114\n",
       "7  0.861148  0.892745  1.648597 -0.815952  0.366469  1.005362\n",
       "8 -2.130361  1.902525 -0.761748  2.022376 -1.575673 -0.174841"
      ]
     },
     "execution_count": 3,
     "metadata": {},
     "output_type": "execute_result"
    }
   ],
   "source": [
    "df = pd.DataFrame(a)                          #通过ndarray来构建DataFrame,这种方法要熟练掌握；\n",
    "df"
   ]
  },
  {
   "cell_type": "code",
   "execution_count": 4,
   "metadata": {},
   "outputs": [
    {
     "data": {
      "text/html": [
       "<div>\n",
       "<style>\n",
       "    .dataframe thead tr:only-child th {\n",
       "        text-align: right;\n",
       "    }\n",
       "\n",
       "    .dataframe thead th {\n",
       "        text-align: left;\n",
       "    }\n",
       "\n",
       "    .dataframe tbody tr th {\n",
       "        vertical-align: top;\n",
       "    }\n",
       "</style>\n",
       "<table border=\"1\" class=\"dataframe\">\n",
       "  <thead>\n",
       "    <tr style=\"text-align: right;\">\n",
       "      <th></th>\n",
       "      <th>a</th>\n",
       "      <th>b</th>\n",
       "      <th>c</th>\n",
       "      <th>d</th>\n",
       "      <th>e</th>\n",
       "      <th>f</th>\n",
       "    </tr>\n",
       "  </thead>\n",
       "  <tbody>\n",
       "    <tr>\n",
       "      <th>0</th>\n",
       "      <td>-1.200017</td>\n",
       "      <td>-0.143673</td>\n",
       "      <td>-1.581553</td>\n",
       "      <td>-1.302320</td>\n",
       "      <td>1.620774</td>\n",
       "      <td>0.507504</td>\n",
       "    </tr>\n",
       "    <tr>\n",
       "      <th>1</th>\n",
       "      <td>0.021663</td>\n",
       "      <td>-0.095572</td>\n",
       "      <td>0.382365</td>\n",
       "      <td>-0.830639</td>\n",
       "      <td>-0.865432</td>\n",
       "      <td>-1.032340</td>\n",
       "    </tr>\n",
       "    <tr>\n",
       "      <th>2</th>\n",
       "      <td>-0.185721</td>\n",
       "      <td>-1.521455</td>\n",
       "      <td>0.640193</td>\n",
       "      <td>0.266223</td>\n",
       "      <td>-0.207297</td>\n",
       "      <td>-1.326699</td>\n",
       "    </tr>\n",
       "    <tr>\n",
       "      <th>3</th>\n",
       "      <td>1.406219</td>\n",
       "      <td>1.102431</td>\n",
       "      <td>0.796584</td>\n",
       "      <td>0.449783</td>\n",
       "      <td>-1.676008</td>\n",
       "      <td>1.172102</td>\n",
       "    </tr>\n",
       "    <tr>\n",
       "      <th>4</th>\n",
       "      <td>1.003298</td>\n",
       "      <td>-1.185395</td>\n",
       "      <td>-1.896151</td>\n",
       "      <td>1.218548</td>\n",
       "      <td>2.060183</td>\n",
       "      <td>-0.114918</td>\n",
       "    </tr>\n",
       "    <tr>\n",
       "      <th>5</th>\n",
       "      <td>-1.936451</td>\n",
       "      <td>-0.815682</td>\n",
       "      <td>-0.471055</td>\n",
       "      <td>-0.386179</td>\n",
       "      <td>-0.019781</td>\n",
       "      <td>-0.061896</td>\n",
       "    </tr>\n",
       "    <tr>\n",
       "      <th>6</th>\n",
       "      <td>0.122627</td>\n",
       "      <td>0.085518</td>\n",
       "      <td>0.575877</td>\n",
       "      <td>-0.546578</td>\n",
       "      <td>1.924884</td>\n",
       "      <td>-1.135114</td>\n",
       "    </tr>\n",
       "    <tr>\n",
       "      <th>7</th>\n",
       "      <td>0.861148</td>\n",
       "      <td>0.892745</td>\n",
       "      <td>1.648597</td>\n",
       "      <td>-0.815952</td>\n",
       "      <td>0.366469</td>\n",
       "      <td>1.005362</td>\n",
       "    </tr>\n",
       "    <tr>\n",
       "      <th>8</th>\n",
       "      <td>-2.130361</td>\n",
       "      <td>1.902525</td>\n",
       "      <td>-0.761748</td>\n",
       "      <td>2.022376</td>\n",
       "      <td>-1.575673</td>\n",
       "      <td>-0.174841</td>\n",
       "    </tr>\n",
       "  </tbody>\n",
       "</table>\n",
       "</div>"
      ],
      "text/plain": [
       "          a         b         c         d         e         f\n",
       "0 -1.200017 -0.143673 -1.581553 -1.302320  1.620774  0.507504\n",
       "1  0.021663 -0.095572  0.382365 -0.830639 -0.865432 -1.032340\n",
       "2 -0.185721 -1.521455  0.640193  0.266223 -0.207297 -1.326699\n",
       "3  1.406219  1.102431  0.796584  0.449783 -1.676008  1.172102\n",
       "4  1.003298 -1.185395 -1.896151  1.218548  2.060183 -0.114918\n",
       "5 -1.936451 -0.815682 -0.471055 -0.386179 -0.019781 -0.061896\n",
       "6  0.122627  0.085518  0.575877 -0.546578  1.924884 -1.135114\n",
       "7  0.861148  0.892745  1.648597 -0.815952  0.366469  1.005362\n",
       "8 -2.130361  1.902525 -0.761748  2.022376 -1.575673 -0.174841"
      ]
     },
     "execution_count": 4,
     "metadata": {},
     "output_type": "execute_result"
    }
   ],
   "source": [
    "df.columns = ['a','b','c','d','e','f']\n",
    "df"
   ]
  },
  {
   "cell_type": "code",
   "execution_count": 5,
   "metadata": {},
   "outputs": [
    {
     "data": {
      "text/plain": [
       "DatetimeIndex(['2017-01-01', '2017-01-06', '2017-01-11', '2017-01-16',\n",
       "               '2017-01-21', '2017-01-26', '2017-01-31', '2017-02-05',\n",
       "               '2017-02-10'],\n",
       "              dtype='datetime64[ns]', freq='5D')"
      ]
     },
     "execution_count": 5,
     "metadata": {},
     "output_type": "execute_result"
    }
   ],
   "source": [
    "dates = pd.date_range('2017-1-1', periods=9, freq='5D')               #时间日期的生成；\n",
    "dates"
   ]
  },
  {
   "cell_type": "code",
   "execution_count": 6,
   "metadata": {},
   "outputs": [
    {
     "data": {
      "text/html": [
       "<div>\n",
       "<style>\n",
       "    .dataframe thead tr:only-child th {\n",
       "        text-align: right;\n",
       "    }\n",
       "\n",
       "    .dataframe thead th {\n",
       "        text-align: left;\n",
       "    }\n",
       "\n",
       "    .dataframe tbody tr th {\n",
       "        vertical-align: top;\n",
       "    }\n",
       "</style>\n",
       "<table border=\"1\" class=\"dataframe\">\n",
       "  <thead>\n",
       "    <tr style=\"text-align: right;\">\n",
       "      <th></th>\n",
       "      <th>a</th>\n",
       "      <th>b</th>\n",
       "      <th>c</th>\n",
       "      <th>d</th>\n",
       "      <th>e</th>\n",
       "      <th>f</th>\n",
       "    </tr>\n",
       "  </thead>\n",
       "  <tbody>\n",
       "    <tr>\n",
       "      <th>2017-01-01</th>\n",
       "      <td>-1.200017</td>\n",
       "      <td>-0.143673</td>\n",
       "      <td>-1.581553</td>\n",
       "      <td>-1.302320</td>\n",
       "      <td>1.620774</td>\n",
       "      <td>0.507504</td>\n",
       "    </tr>\n",
       "    <tr>\n",
       "      <th>2017-01-06</th>\n",
       "      <td>0.021663</td>\n",
       "      <td>-0.095572</td>\n",
       "      <td>0.382365</td>\n",
       "      <td>-0.830639</td>\n",
       "      <td>-0.865432</td>\n",
       "      <td>-1.032340</td>\n",
       "    </tr>\n",
       "    <tr>\n",
       "      <th>2017-01-11</th>\n",
       "      <td>-0.185721</td>\n",
       "      <td>-1.521455</td>\n",
       "      <td>0.640193</td>\n",
       "      <td>0.266223</td>\n",
       "      <td>-0.207297</td>\n",
       "      <td>-1.326699</td>\n",
       "    </tr>\n",
       "    <tr>\n",
       "      <th>2017-01-16</th>\n",
       "      <td>1.406219</td>\n",
       "      <td>1.102431</td>\n",
       "      <td>0.796584</td>\n",
       "      <td>0.449783</td>\n",
       "      <td>-1.676008</td>\n",
       "      <td>1.172102</td>\n",
       "    </tr>\n",
       "    <tr>\n",
       "      <th>2017-01-21</th>\n",
       "      <td>1.003298</td>\n",
       "      <td>-1.185395</td>\n",
       "      <td>-1.896151</td>\n",
       "      <td>1.218548</td>\n",
       "      <td>2.060183</td>\n",
       "      <td>-0.114918</td>\n",
       "    </tr>\n",
       "    <tr>\n",
       "      <th>2017-01-26</th>\n",
       "      <td>-1.936451</td>\n",
       "      <td>-0.815682</td>\n",
       "      <td>-0.471055</td>\n",
       "      <td>-0.386179</td>\n",
       "      <td>-0.019781</td>\n",
       "      <td>-0.061896</td>\n",
       "    </tr>\n",
       "    <tr>\n",
       "      <th>2017-01-31</th>\n",
       "      <td>0.122627</td>\n",
       "      <td>0.085518</td>\n",
       "      <td>0.575877</td>\n",
       "      <td>-0.546578</td>\n",
       "      <td>1.924884</td>\n",
       "      <td>-1.135114</td>\n",
       "    </tr>\n",
       "    <tr>\n",
       "      <th>2017-02-05</th>\n",
       "      <td>0.861148</td>\n",
       "      <td>0.892745</td>\n",
       "      <td>1.648597</td>\n",
       "      <td>-0.815952</td>\n",
       "      <td>0.366469</td>\n",
       "      <td>1.005362</td>\n",
       "    </tr>\n",
       "    <tr>\n",
       "      <th>2017-02-10</th>\n",
       "      <td>-2.130361</td>\n",
       "      <td>1.902525</td>\n",
       "      <td>-0.761748</td>\n",
       "      <td>2.022376</td>\n",
       "      <td>-1.575673</td>\n",
       "      <td>-0.174841</td>\n",
       "    </tr>\n",
       "  </tbody>\n",
       "</table>\n",
       "</div>"
      ],
      "text/plain": [
       "                   a         b         c         d         e         f\n",
       "2017-01-01 -1.200017 -0.143673 -1.581553 -1.302320  1.620774  0.507504\n",
       "2017-01-06  0.021663 -0.095572  0.382365 -0.830639 -0.865432 -1.032340\n",
       "2017-01-11 -0.185721 -1.521455  0.640193  0.266223 -0.207297 -1.326699\n",
       "2017-01-16  1.406219  1.102431  0.796584  0.449783 -1.676008  1.172102\n",
       "2017-01-21  1.003298 -1.185395 -1.896151  1.218548  2.060183 -0.114918\n",
       "2017-01-26 -1.936451 -0.815682 -0.471055 -0.386179 -0.019781 -0.061896\n",
       "2017-01-31  0.122627  0.085518  0.575877 -0.546578  1.924884 -1.135114\n",
       "2017-02-05  0.861148  0.892745  1.648597 -0.815952  0.366469  1.005362\n",
       "2017-02-10 -2.130361  1.902525 -0.761748  2.022376 -1.575673 -0.174841"
      ]
     },
     "execution_count": 6,
     "metadata": {},
     "output_type": "execute_result"
    }
   ],
   "source": [
    "df.index = dates\n",
    "df"
   ]
  },
  {
   "cell_type": "code",
   "execution_count": 175,
   "metadata": {
    "collapsed": true
   },
   "outputs": [],
   "source": [
    "def square_fun(x):\n",
    "    return x ** 2"
   ]
  },
  {
   "cell_type": "code",
   "execution_count": 176,
   "metadata": {},
   "outputs": [
    {
     "data": {
      "text/html": [
       "<div>\n",
       "<style>\n",
       "    .dataframe thead tr:only-child th {\n",
       "        text-align: right;\n",
       "    }\n",
       "\n",
       "    .dataframe thead th {\n",
       "        text-align: left;\n",
       "    }\n",
       "\n",
       "    .dataframe tbody tr th {\n",
       "        vertical-align: top;\n",
       "    }\n",
       "</style>\n",
       "<table border=\"1\" class=\"dataframe\">\n",
       "  <thead>\n",
       "    <tr style=\"text-align: right;\">\n",
       "      <th></th>\n",
       "      <th>a</th>\n",
       "      <th>b</th>\n",
       "      <th>c</th>\n",
       "      <th>d</th>\n",
       "      <th>e</th>\n",
       "      <th>f</th>\n",
       "    </tr>\n",
       "  </thead>\n",
       "  <tbody>\n",
       "    <tr>\n",
       "      <th>2017-01-01</th>\n",
       "      <td>0.575119</td>\n",
       "      <td>0.007762</td>\n",
       "      <td>0.323813</td>\n",
       "      <td>1.702882</td>\n",
       "      <td>0.032970</td>\n",
       "      <td>0.075999</td>\n",
       "    </tr>\n",
       "    <tr>\n",
       "      <th>2017-01-06</th>\n",
       "      <td>1.556192</td>\n",
       "      <td>0.013629</td>\n",
       "      <td>0.165074</td>\n",
       "      <td>1.074784</td>\n",
       "      <td>0.840106</td>\n",
       "      <td>0.190658</td>\n",
       "    </tr>\n",
       "    <tr>\n",
       "      <th>2017-01-11</th>\n",
       "      <td>0.010669</td>\n",
       "      <td>0.846362</td>\n",
       "      <td>0.050092</td>\n",
       "      <td>1.292527</td>\n",
       "      <td>0.112853</td>\n",
       "      <td>0.070408</td>\n",
       "    </tr>\n",
       "    <tr>\n",
       "      <th>2017-01-16</th>\n",
       "      <td>0.060376</td>\n",
       "      <td>0.510919</td>\n",
       "      <td>0.004851</td>\n",
       "      <td>2.098288</td>\n",
       "      <td>0.327535</td>\n",
       "      <td>3.910949</td>\n",
       "    </tr>\n",
       "    <tr>\n",
       "      <th>2017-01-21</th>\n",
       "      <td>0.171904</td>\n",
       "      <td>0.078349</td>\n",
       "      <td>0.648429</td>\n",
       "      <td>0.000971</td>\n",
       "      <td>0.017998</td>\n",
       "      <td>2.986666</td>\n",
       "    </tr>\n",
       "    <tr>\n",
       "      <th>2017-01-26</th>\n",
       "      <td>2.329186</td>\n",
       "      <td>1.273189</td>\n",
       "      <td>1.217023</td>\n",
       "      <td>1.989982</td>\n",
       "      <td>0.246846</td>\n",
       "      <td>0.412842</td>\n",
       "    </tr>\n",
       "    <tr>\n",
       "      <th>2017-01-31</th>\n",
       "      <td>2.473178</td>\n",
       "      <td>0.010139</td>\n",
       "      <td>0.252300</td>\n",
       "      <td>0.343726</td>\n",
       "      <td>2.174369</td>\n",
       "      <td>0.340715</td>\n",
       "    </tr>\n",
       "    <tr>\n",
       "      <th>2017-02-05</th>\n",
       "      <td>0.650409</td>\n",
       "      <td>0.325920</td>\n",
       "      <td>0.978908</td>\n",
       "      <td>0.012502</td>\n",
       "      <td>0.001855</td>\n",
       "      <td>0.263107</td>\n",
       "    </tr>\n",
       "    <tr>\n",
       "      <th>2017-02-10</th>\n",
       "      <td>1.556213</td>\n",
       "      <td>2.656653</td>\n",
       "      <td>1.801875</td>\n",
       "      <td>0.001355</td>\n",
       "      <td>0.284346</td>\n",
       "      <td>0.066970</td>\n",
       "    </tr>\n",
       "  </tbody>\n",
       "</table>\n",
       "</div>"
      ],
      "text/plain": [
       "                   a         b         c         d         e         f\n",
       "2017-01-01  0.575119  0.007762  0.323813  1.702882  0.032970  0.075999\n",
       "2017-01-06  1.556192  0.013629  0.165074  1.074784  0.840106  0.190658\n",
       "2017-01-11  0.010669  0.846362  0.050092  1.292527  0.112853  0.070408\n",
       "2017-01-16  0.060376  0.510919  0.004851  2.098288  0.327535  3.910949\n",
       "2017-01-21  0.171904  0.078349  0.648429  0.000971  0.017998  2.986666\n",
       "2017-01-26  2.329186  1.273189  1.217023  1.989982  0.246846  0.412842\n",
       "2017-01-31  2.473178  0.010139  0.252300  0.343726  2.174369  0.340715\n",
       "2017-02-05  0.650409  0.325920  0.978908  0.012502  0.001855  0.263107\n",
       "2017-02-10  1.556213  2.656653  1.801875  0.001355  0.284346  0.066970"
      ]
     },
     "execution_count": 176,
     "metadata": {},
     "output_type": "execute_result"
    }
   ],
   "source": [
    "df.apply(square_fun)                          #apply方法在很多地方都非常有用，重点掌握；"
   ]
  },
  {
   "cell_type": "code",
   "execution_count": 177,
   "metadata": {},
   "outputs": [
    {
     "data": {
      "text/html": [
       "<div>\n",
       "<style>\n",
       "    .dataframe thead tr:only-child th {\n",
       "        text-align: right;\n",
       "    }\n",
       "\n",
       "    .dataframe thead th {\n",
       "        text-align: left;\n",
       "    }\n",
       "\n",
       "    .dataframe tbody tr th {\n",
       "        vertical-align: top;\n",
       "    }\n",
       "</style>\n",
       "<table border=\"1\" class=\"dataframe\">\n",
       "  <thead>\n",
       "    <tr style=\"text-align: right;\">\n",
       "      <th></th>\n",
       "      <th>a</th>\n",
       "      <th>b</th>\n",
       "      <th>c</th>\n",
       "      <th>d</th>\n",
       "      <th>e</th>\n",
       "      <th>f</th>\n",
       "    </tr>\n",
       "  </thead>\n",
       "  <tbody>\n",
       "    <tr>\n",
       "      <th>2017-01-01</th>\n",
       "      <td>NaN</td>\n",
       "      <td>NaN</td>\n",
       "      <td>NaN</td>\n",
       "      <td>NaN</td>\n",
       "      <td>NaN</td>\n",
       "      <td>0.525052</td>\n",
       "    </tr>\n",
       "    <tr>\n",
       "      <th>2017-01-06</th>\n",
       "      <td>1.116904</td>\n",
       "      <td>NaN</td>\n",
       "      <td>0.637411</td>\n",
       "      <td>NaN</td>\n",
       "      <td>0.957378</td>\n",
       "      <td>0.660791</td>\n",
       "    </tr>\n",
       "    <tr>\n",
       "      <th>2017-01-11</th>\n",
       "      <td>0.321389</td>\n",
       "      <td>0.959156</td>\n",
       "      <td>NaN</td>\n",
       "      <td>NaN</td>\n",
       "      <td>0.579600</td>\n",
       "      <td>0.515116</td>\n",
       "    </tr>\n",
       "    <tr>\n",
       "      <th>2017-01-16</th>\n",
       "      <td>0.495698</td>\n",
       "      <td>0.845450</td>\n",
       "      <td>NaN</td>\n",
       "      <td>1.203556</td>\n",
       "      <td>0.756509</td>\n",
       "      <td>NaN</td>\n",
       "    </tr>\n",
       "    <tr>\n",
       "      <th>2017-01-21</th>\n",
       "      <td>0.643904</td>\n",
       "      <td>NaN</td>\n",
       "      <td>0.897358</td>\n",
       "      <td>0.176521</td>\n",
       "      <td>NaN</td>\n",
       "      <td>NaN</td>\n",
       "    </tr>\n",
       "    <tr>\n",
       "      <th>2017-01-26</th>\n",
       "      <td>NaN</td>\n",
       "      <td>1.062241</td>\n",
       "      <td>1.050327</td>\n",
       "      <td>NaN</td>\n",
       "      <td>NaN</td>\n",
       "      <td>NaN</td>\n",
       "    </tr>\n",
       "    <tr>\n",
       "      <th>2017-01-31</th>\n",
       "      <td>NaN</td>\n",
       "      <td>NaN</td>\n",
       "      <td>NaN</td>\n",
       "      <td>0.765690</td>\n",
       "      <td>1.214320</td>\n",
       "      <td>0.764008</td>\n",
       "    </tr>\n",
       "    <tr>\n",
       "      <th>2017-02-05</th>\n",
       "      <td>NaN</td>\n",
       "      <td>0.755576</td>\n",
       "      <td>NaN</td>\n",
       "      <td>0.334385</td>\n",
       "      <td>NaN</td>\n",
       "      <td>0.716198</td>\n",
       "    </tr>\n",
       "    <tr>\n",
       "      <th>2017-02-10</th>\n",
       "      <td>NaN</td>\n",
       "      <td>NaN</td>\n",
       "      <td>NaN</td>\n",
       "      <td>0.191848</td>\n",
       "      <td>0.730234</td>\n",
       "      <td>NaN</td>\n",
       "    </tr>\n",
       "  </tbody>\n",
       "</table>\n",
       "</div>"
      ],
      "text/plain": [
       "                   a         b         c         d         e         f\n",
       "2017-01-01       NaN       NaN       NaN       NaN       NaN  0.525052\n",
       "2017-01-06  1.116904       NaN  0.637411       NaN  0.957378  0.660791\n",
       "2017-01-11  0.321389  0.959156       NaN       NaN  0.579600  0.515116\n",
       "2017-01-16  0.495698  0.845450       NaN  1.203556  0.756509       NaN\n",
       "2017-01-21  0.643904       NaN  0.897358  0.176521       NaN       NaN\n",
       "2017-01-26       NaN  1.062241  1.050327       NaN       NaN       NaN\n",
       "2017-01-31       NaN       NaN       NaN  0.765690  1.214320  0.764008\n",
       "2017-02-05       NaN  0.755576       NaN  0.334385       NaN  0.716198\n",
       "2017-02-10       NaN       NaN       NaN  0.191848  0.730234       NaN"
      ]
     },
     "execution_count": 177,
     "metadata": {},
     "output_type": "execute_result"
    }
   ],
   "source": [
    "df.apply(lambda x: x ** 0.5)        #可以随意定义函数作用在apply函数里，功能非常强大；"
   ]
  },
  {
   "cell_type": "code",
   "execution_count": 7,
   "metadata": {},
   "outputs": [
    {
     "data": {
      "text/html": [
       "<div>\n",
       "<style>\n",
       "    .dataframe thead tr:only-child th {\n",
       "        text-align: right;\n",
       "    }\n",
       "\n",
       "    .dataframe thead th {\n",
       "        text-align: left;\n",
       "    }\n",
       "\n",
       "    .dataframe tbody tr th {\n",
       "        vertical-align: top;\n",
       "    }\n",
       "</style>\n",
       "<table border=\"1\" class=\"dataframe\">\n",
       "  <thead>\n",
       "    <tr style=\"text-align: right;\">\n",
       "      <th></th>\n",
       "      <th>a</th>\n",
       "      <th>b</th>\n",
       "      <th>c</th>\n",
       "      <th>d</th>\n",
       "      <th>e</th>\n",
       "      <th>f</th>\n",
       "    </tr>\n",
       "  </thead>\n",
       "  <tbody>\n",
       "    <tr>\n",
       "      <th>2017-01-01</th>\n",
       "      <td>-1.200017</td>\n",
       "      <td>-0.143673</td>\n",
       "      <td>-1.581553</td>\n",
       "      <td>-1.302320</td>\n",
       "      <td>1.620774</td>\n",
       "      <td>0.507504</td>\n",
       "    </tr>\n",
       "    <tr>\n",
       "      <th>2017-01-06</th>\n",
       "      <td>0.021663</td>\n",
       "      <td>-0.095572</td>\n",
       "      <td>0.382365</td>\n",
       "      <td>-0.830639</td>\n",
       "      <td>-0.865432</td>\n",
       "      <td>-1.032340</td>\n",
       "    </tr>\n",
       "    <tr>\n",
       "      <th>2017-01-11</th>\n",
       "      <td>-0.185721</td>\n",
       "      <td>-1.521455</td>\n",
       "      <td>0.640193</td>\n",
       "      <td>0.266223</td>\n",
       "      <td>-0.207297</td>\n",
       "      <td>-1.326699</td>\n",
       "    </tr>\n",
       "    <tr>\n",
       "      <th>2017-01-16</th>\n",
       "      <td>1.406219</td>\n",
       "      <td>1.102431</td>\n",
       "      <td>0.796584</td>\n",
       "      <td>0.449783</td>\n",
       "      <td>-1.676008</td>\n",
       "      <td>1.172102</td>\n",
       "    </tr>\n",
       "    <tr>\n",
       "      <th>2017-01-21</th>\n",
       "      <td>1.003298</td>\n",
       "      <td>-1.185395</td>\n",
       "      <td>-1.896151</td>\n",
       "      <td>1.218548</td>\n",
       "      <td>2.060183</td>\n",
       "      <td>-0.114918</td>\n",
       "    </tr>\n",
       "    <tr>\n",
       "      <th>2017-01-26</th>\n",
       "      <td>-1.936451</td>\n",
       "      <td>-0.815682</td>\n",
       "      <td>-0.471055</td>\n",
       "      <td>-0.386179</td>\n",
       "      <td>-0.019781</td>\n",
       "      <td>-0.061896</td>\n",
       "    </tr>\n",
       "    <tr>\n",
       "      <th>2017-01-31</th>\n",
       "      <td>0.122627</td>\n",
       "      <td>0.085518</td>\n",
       "      <td>0.575877</td>\n",
       "      <td>-0.546578</td>\n",
       "      <td>1.924884</td>\n",
       "      <td>-1.135114</td>\n",
       "    </tr>\n",
       "    <tr>\n",
       "      <th>2017-02-05</th>\n",
       "      <td>0.861148</td>\n",
       "      <td>0.892745</td>\n",
       "      <td>1.648597</td>\n",
       "      <td>-0.815952</td>\n",
       "      <td>0.366469</td>\n",
       "      <td>1.005362</td>\n",
       "    </tr>\n",
       "    <tr>\n",
       "      <th>2017-02-10</th>\n",
       "      <td>-2.130361</td>\n",
       "      <td>1.902525</td>\n",
       "      <td>-0.761748</td>\n",
       "      <td>2.022376</td>\n",
       "      <td>-1.575673</td>\n",
       "      <td>-0.174841</td>\n",
       "    </tr>\n",
       "  </tbody>\n",
       "</table>\n",
       "</div>"
      ],
      "text/plain": [
       "                   a         b         c         d         e         f\n",
       "2017-01-01 -1.200017 -0.143673 -1.581553 -1.302320  1.620774  0.507504\n",
       "2017-01-06  0.021663 -0.095572  0.382365 -0.830639 -0.865432 -1.032340\n",
       "2017-01-11 -0.185721 -1.521455  0.640193  0.266223 -0.207297 -1.326699\n",
       "2017-01-16  1.406219  1.102431  0.796584  0.449783 -1.676008  1.172102\n",
       "2017-01-21  1.003298 -1.185395 -1.896151  1.218548  2.060183 -0.114918\n",
       "2017-01-26 -1.936451 -0.815682 -0.471055 -0.386179 -0.019781 -0.061896\n",
       "2017-01-31  0.122627  0.085518  0.575877 -0.546578  1.924884 -1.135114\n",
       "2017-02-05  0.861148  0.892745  1.648597 -0.815952  0.366469  1.005362\n",
       "2017-02-10 -2.130361  1.902525 -0.761748  2.022376 -1.575673 -0.174841"
      ]
     },
     "execution_count": 7,
     "metadata": {},
     "output_type": "execute_result"
    }
   ],
   "source": [
    "df"
   ]
  },
  {
   "cell_type": "code",
   "execution_count": 181,
   "metadata": {},
   "outputs": [
    {
     "data": {
      "text/plain": [
       "2017-01-01   -1.304945\n",
       "2017-01-06   -1.036718\n",
       "2017-01-11   -1.136894\n",
       "2017-01-16   -1.977612\n",
       "2017-01-21   -1.728197\n",
       "2017-01-26   -1.526167\n",
       "2017-01-31   -1.572634\n",
       "2017-02-05   -0.989398\n",
       "2017-02-10   -1.629924\n",
       "Freq: 5D, dtype: float64"
      ]
     },
     "execution_count": 181,
     "metadata": {},
     "output_type": "execute_result"
    }
   ],
   "source": [
    "def find_min(x):\n",
    "    return x.min()\n",
    "\n",
    "df.apply(find_min, axis=1)                  #默认axis =  0；"
   ]
  },
  {
   "cell_type": "code",
   "execution_count": 182,
   "metadata": {},
   "outputs": [
    {
     "data": {
      "text/plain": [
       "2017-01-01   -1.304945\n",
       "2017-01-06   -1.036718\n",
       "2017-01-11   -1.136894\n",
       "2017-01-16   -1.977612\n",
       "2017-01-21   -1.728197\n",
       "2017-01-26   -1.526167\n",
       "2017-01-31   -1.572634\n",
       "2017-02-05   -0.989398\n",
       "2017-02-10   -1.629924\n",
       "Freq: 5D, dtype: float64"
      ]
     },
     "execution_count": 182,
     "metadata": {},
     "output_type": "execute_result"
    }
   ],
   "source": [
    "# 指定轴方向\n",
    "df.apply(lambda x : x.min(), axis=1)"
   ]
  },
  {
   "cell_type": "markdown",
   "metadata": {},
   "source": [
    "**4.7 DataFrame排序**"
   ]
  },
  {
   "cell_type": "code",
   "execution_count": 183,
   "metadata": {},
   "outputs": [
    {
     "data": {
      "text/html": [
       "<div>\n",
       "<style>\n",
       "    .dataframe thead tr:only-child th {\n",
       "        text-align: right;\n",
       "    }\n",
       "\n",
       "    .dataframe thead th {\n",
       "        text-align: left;\n",
       "    }\n",
       "\n",
       "    .dataframe tbody tr th {\n",
       "        vertical-align: top;\n",
       "    }\n",
       "</style>\n",
       "<table border=\"1\" class=\"dataframe\">\n",
       "  <thead>\n",
       "    <tr style=\"text-align: right;\">\n",
       "      <th></th>\n",
       "      <th>a</th>\n",
       "      <th>b</th>\n",
       "      <th>c</th>\n",
       "      <th>d</th>\n",
       "      <th>e</th>\n",
       "      <th>f</th>\n",
       "    </tr>\n",
       "  </thead>\n",
       "  <tbody>\n",
       "    <tr>\n",
       "      <th>2017-01-01</th>\n",
       "      <td>-0.758366</td>\n",
       "      <td>-0.088099</td>\n",
       "      <td>-0.569046</td>\n",
       "      <td>-1.304945</td>\n",
       "      <td>-0.181577</td>\n",
       "      <td>0.275679</td>\n",
       "    </tr>\n",
       "    <tr>\n",
       "      <th>2017-01-06</th>\n",
       "      <td>1.247474</td>\n",
       "      <td>-0.116744</td>\n",
       "      <td>0.406293</td>\n",
       "      <td>-1.036718</td>\n",
       "      <td>0.916573</td>\n",
       "      <td>0.436645</td>\n",
       "    </tr>\n",
       "    <tr>\n",
       "      <th>2017-01-11</th>\n",
       "      <td>0.103291</td>\n",
       "      <td>0.919980</td>\n",
       "      <td>-0.223814</td>\n",
       "      <td>-1.136894</td>\n",
       "      <td>0.335937</td>\n",
       "      <td>0.265344</td>\n",
       "    </tr>\n",
       "    <tr>\n",
       "      <th>2017-01-16</th>\n",
       "      <td>0.245716</td>\n",
       "      <td>0.714786</td>\n",
       "      <td>-0.069647</td>\n",
       "      <td>1.448547</td>\n",
       "      <td>0.572306</td>\n",
       "      <td>-1.977612</td>\n",
       "    </tr>\n",
       "    <tr>\n",
       "      <th>2017-01-21</th>\n",
       "      <td>0.414613</td>\n",
       "      <td>-0.279909</td>\n",
       "      <td>0.805251</td>\n",
       "      <td>0.031160</td>\n",
       "      <td>-0.134155</td>\n",
       "      <td>-1.728197</td>\n",
       "    </tr>\n",
       "    <tr>\n",
       "      <th>2017-01-26</th>\n",
       "      <td>-1.526167</td>\n",
       "      <td>1.128357</td>\n",
       "      <td>1.103188</td>\n",
       "      <td>-1.410667</td>\n",
       "      <td>-0.496836</td>\n",
       "      <td>-0.642528</td>\n",
       "    </tr>\n",
       "    <tr>\n",
       "      <th>2017-01-31</th>\n",
       "      <td>-1.572634</td>\n",
       "      <td>-0.100693</td>\n",
       "      <td>-0.502295</td>\n",
       "      <td>0.586281</td>\n",
       "      <td>1.474574</td>\n",
       "      <td>0.583708</td>\n",
       "    </tr>\n",
       "    <tr>\n",
       "      <th>2017-02-05</th>\n",
       "      <td>-0.806479</td>\n",
       "      <td>0.570894</td>\n",
       "      <td>-0.989398</td>\n",
       "      <td>0.111813</td>\n",
       "      <td>-0.043070</td>\n",
       "      <td>0.512939</td>\n",
       "    </tr>\n",
       "    <tr>\n",
       "      <th>2017-02-10</th>\n",
       "      <td>-1.247483</td>\n",
       "      <td>-1.629924</td>\n",
       "      <td>-1.342339</td>\n",
       "      <td>0.036806</td>\n",
       "      <td>0.533241</td>\n",
       "      <td>-0.258785</td>\n",
       "    </tr>\n",
       "  </tbody>\n",
       "</table>\n",
       "</div>"
      ],
      "text/plain": [
       "                   a         b         c         d         e         f\n",
       "2017-01-01 -0.758366 -0.088099 -0.569046 -1.304945 -0.181577  0.275679\n",
       "2017-01-06  1.247474 -0.116744  0.406293 -1.036718  0.916573  0.436645\n",
       "2017-01-11  0.103291  0.919980 -0.223814 -1.136894  0.335937  0.265344\n",
       "2017-01-16  0.245716  0.714786 -0.069647  1.448547  0.572306 -1.977612\n",
       "2017-01-21  0.414613 -0.279909  0.805251  0.031160 -0.134155 -1.728197\n",
       "2017-01-26 -1.526167  1.128357  1.103188 -1.410667 -0.496836 -0.642528\n",
       "2017-01-31 -1.572634 -0.100693 -0.502295  0.586281  1.474574  0.583708\n",
       "2017-02-05 -0.806479  0.570894 -0.989398  0.111813 -0.043070  0.512939\n",
       "2017-02-10 -1.247483 -1.629924 -1.342339  0.036806  0.533241 -0.258785"
      ]
     },
     "execution_count": 183,
     "metadata": {},
     "output_type": "execute_result"
    }
   ],
   "source": [
    "df"
   ]
  },
  {
   "cell_type": "code",
   "execution_count": 184,
   "metadata": {},
   "outputs": [
    {
     "data": {
      "text/html": [
       "<div>\n",
       "<style>\n",
       "    .dataframe thead tr:only-child th {\n",
       "        text-align: right;\n",
       "    }\n",
       "\n",
       "    .dataframe thead th {\n",
       "        text-align: left;\n",
       "    }\n",
       "\n",
       "    .dataframe tbody tr th {\n",
       "        vertical-align: top;\n",
       "    }\n",
       "</style>\n",
       "<table border=\"1\" class=\"dataframe\">\n",
       "  <thead>\n",
       "    <tr style=\"text-align: right;\">\n",
       "      <th></th>\n",
       "      <th>a</th>\n",
       "      <th>b</th>\n",
       "      <th>c</th>\n",
       "      <th>d</th>\n",
       "      <th>e</th>\n",
       "      <th>f</th>\n",
       "    </tr>\n",
       "  </thead>\n",
       "  <tbody>\n",
       "    <tr>\n",
       "      <th>2017-02-10</th>\n",
       "      <td>-1.247483</td>\n",
       "      <td>-1.629924</td>\n",
       "      <td>-1.342339</td>\n",
       "      <td>0.036806</td>\n",
       "      <td>0.533241</td>\n",
       "      <td>-0.258785</td>\n",
       "    </tr>\n",
       "    <tr>\n",
       "      <th>2017-02-05</th>\n",
       "      <td>-0.806479</td>\n",
       "      <td>0.570894</td>\n",
       "      <td>-0.989398</td>\n",
       "      <td>0.111813</td>\n",
       "      <td>-0.043070</td>\n",
       "      <td>0.512939</td>\n",
       "    </tr>\n",
       "    <tr>\n",
       "      <th>2017-01-31</th>\n",
       "      <td>-1.572634</td>\n",
       "      <td>-0.100693</td>\n",
       "      <td>-0.502295</td>\n",
       "      <td>0.586281</td>\n",
       "      <td>1.474574</td>\n",
       "      <td>0.583708</td>\n",
       "    </tr>\n",
       "    <tr>\n",
       "      <th>2017-01-26</th>\n",
       "      <td>-1.526167</td>\n",
       "      <td>1.128357</td>\n",
       "      <td>1.103188</td>\n",
       "      <td>-1.410667</td>\n",
       "      <td>-0.496836</td>\n",
       "      <td>-0.642528</td>\n",
       "    </tr>\n",
       "    <tr>\n",
       "      <th>2017-01-21</th>\n",
       "      <td>0.414613</td>\n",
       "      <td>-0.279909</td>\n",
       "      <td>0.805251</td>\n",
       "      <td>0.031160</td>\n",
       "      <td>-0.134155</td>\n",
       "      <td>-1.728197</td>\n",
       "    </tr>\n",
       "    <tr>\n",
       "      <th>2017-01-16</th>\n",
       "      <td>0.245716</td>\n",
       "      <td>0.714786</td>\n",
       "      <td>-0.069647</td>\n",
       "      <td>1.448547</td>\n",
       "      <td>0.572306</td>\n",
       "      <td>-1.977612</td>\n",
       "    </tr>\n",
       "    <tr>\n",
       "      <th>2017-01-11</th>\n",
       "      <td>0.103291</td>\n",
       "      <td>0.919980</td>\n",
       "      <td>-0.223814</td>\n",
       "      <td>-1.136894</td>\n",
       "      <td>0.335937</td>\n",
       "      <td>0.265344</td>\n",
       "    </tr>\n",
       "    <tr>\n",
       "      <th>2017-01-06</th>\n",
       "      <td>1.247474</td>\n",
       "      <td>-0.116744</td>\n",
       "      <td>0.406293</td>\n",
       "      <td>-1.036718</td>\n",
       "      <td>0.916573</td>\n",
       "      <td>0.436645</td>\n",
       "    </tr>\n",
       "    <tr>\n",
       "      <th>2017-01-01</th>\n",
       "      <td>-0.758366</td>\n",
       "      <td>-0.088099</td>\n",
       "      <td>-0.569046</td>\n",
       "      <td>-1.304945</td>\n",
       "      <td>-0.181577</td>\n",
       "      <td>0.275679</td>\n",
       "    </tr>\n",
       "  </tbody>\n",
       "</table>\n",
       "</div>"
      ],
      "text/plain": [
       "                   a         b         c         d         e         f\n",
       "2017-02-10 -1.247483 -1.629924 -1.342339  0.036806  0.533241 -0.258785\n",
       "2017-02-05 -0.806479  0.570894 -0.989398  0.111813 -0.043070  0.512939\n",
       "2017-01-31 -1.572634 -0.100693 -0.502295  0.586281  1.474574  0.583708\n",
       "2017-01-26 -1.526167  1.128357  1.103188 -1.410667 -0.496836 -0.642528\n",
       "2017-01-21  0.414613 -0.279909  0.805251  0.031160 -0.134155 -1.728197\n",
       "2017-01-16  0.245716  0.714786 -0.069647  1.448547  0.572306 -1.977612\n",
       "2017-01-11  0.103291  0.919980 -0.223814 -1.136894  0.335937  0.265344\n",
       "2017-01-06  1.247474 -0.116744  0.406293 -1.036718  0.916573  0.436645\n",
       "2017-01-01 -0.758366 -0.088099 -0.569046 -1.304945 -0.181577  0.275679"
      ]
     },
     "execution_count": 184,
     "metadata": {},
     "output_type": "execute_result"
    }
   ],
   "source": [
    "df.sort_index(ascending=False)              #按index进行排序，ascending升序排序是false，那就是降序排序"
   ]
  },
  {
   "cell_type": "code",
   "execution_count": 185,
   "metadata": {},
   "outputs": [
    {
     "data": {
      "text/html": [
       "<div>\n",
       "<style>\n",
       "    .dataframe thead tr:only-child th {\n",
       "        text-align: right;\n",
       "    }\n",
       "\n",
       "    .dataframe thead th {\n",
       "        text-align: left;\n",
       "    }\n",
       "\n",
       "    .dataframe tbody tr th {\n",
       "        vertical-align: top;\n",
       "    }\n",
       "</style>\n",
       "<table border=\"1\" class=\"dataframe\">\n",
       "  <thead>\n",
       "    <tr style=\"text-align: right;\">\n",
       "      <th></th>\n",
       "      <th>f</th>\n",
       "      <th>e</th>\n",
       "      <th>d</th>\n",
       "      <th>c</th>\n",
       "      <th>b</th>\n",
       "      <th>a</th>\n",
       "    </tr>\n",
       "  </thead>\n",
       "  <tbody>\n",
       "    <tr>\n",
       "      <th>2017-01-01</th>\n",
       "      <td>0.275679</td>\n",
       "      <td>-0.181577</td>\n",
       "      <td>-1.304945</td>\n",
       "      <td>-0.569046</td>\n",
       "      <td>-0.088099</td>\n",
       "      <td>-0.758366</td>\n",
       "    </tr>\n",
       "    <tr>\n",
       "      <th>2017-01-06</th>\n",
       "      <td>0.436645</td>\n",
       "      <td>0.916573</td>\n",
       "      <td>-1.036718</td>\n",
       "      <td>0.406293</td>\n",
       "      <td>-0.116744</td>\n",
       "      <td>1.247474</td>\n",
       "    </tr>\n",
       "    <tr>\n",
       "      <th>2017-01-11</th>\n",
       "      <td>0.265344</td>\n",
       "      <td>0.335937</td>\n",
       "      <td>-1.136894</td>\n",
       "      <td>-0.223814</td>\n",
       "      <td>0.919980</td>\n",
       "      <td>0.103291</td>\n",
       "    </tr>\n",
       "    <tr>\n",
       "      <th>2017-01-16</th>\n",
       "      <td>-1.977612</td>\n",
       "      <td>0.572306</td>\n",
       "      <td>1.448547</td>\n",
       "      <td>-0.069647</td>\n",
       "      <td>0.714786</td>\n",
       "      <td>0.245716</td>\n",
       "    </tr>\n",
       "    <tr>\n",
       "      <th>2017-01-21</th>\n",
       "      <td>-1.728197</td>\n",
       "      <td>-0.134155</td>\n",
       "      <td>0.031160</td>\n",
       "      <td>0.805251</td>\n",
       "      <td>-0.279909</td>\n",
       "      <td>0.414613</td>\n",
       "    </tr>\n",
       "    <tr>\n",
       "      <th>2017-01-26</th>\n",
       "      <td>-0.642528</td>\n",
       "      <td>-0.496836</td>\n",
       "      <td>-1.410667</td>\n",
       "      <td>1.103188</td>\n",
       "      <td>1.128357</td>\n",
       "      <td>-1.526167</td>\n",
       "    </tr>\n",
       "    <tr>\n",
       "      <th>2017-01-31</th>\n",
       "      <td>0.583708</td>\n",
       "      <td>1.474574</td>\n",
       "      <td>0.586281</td>\n",
       "      <td>-0.502295</td>\n",
       "      <td>-0.100693</td>\n",
       "      <td>-1.572634</td>\n",
       "    </tr>\n",
       "    <tr>\n",
       "      <th>2017-02-05</th>\n",
       "      <td>0.512939</td>\n",
       "      <td>-0.043070</td>\n",
       "      <td>0.111813</td>\n",
       "      <td>-0.989398</td>\n",
       "      <td>0.570894</td>\n",
       "      <td>-0.806479</td>\n",
       "    </tr>\n",
       "    <tr>\n",
       "      <th>2017-02-10</th>\n",
       "      <td>-0.258785</td>\n",
       "      <td>0.533241</td>\n",
       "      <td>0.036806</td>\n",
       "      <td>-1.342339</td>\n",
       "      <td>-1.629924</td>\n",
       "      <td>-1.247483</td>\n",
       "    </tr>\n",
       "  </tbody>\n",
       "</table>\n",
       "</div>"
      ],
      "text/plain": [
       "                   f         e         d         c         b         a\n",
       "2017-01-01  0.275679 -0.181577 -1.304945 -0.569046 -0.088099 -0.758366\n",
       "2017-01-06  0.436645  0.916573 -1.036718  0.406293 -0.116744  1.247474\n",
       "2017-01-11  0.265344  0.335937 -1.136894 -0.223814  0.919980  0.103291\n",
       "2017-01-16 -1.977612  0.572306  1.448547 -0.069647  0.714786  0.245716\n",
       "2017-01-21 -1.728197 -0.134155  0.031160  0.805251 -0.279909  0.414613\n",
       "2017-01-26 -0.642528 -0.496836 -1.410667  1.103188  1.128357 -1.526167\n",
       "2017-01-31  0.583708  1.474574  0.586281 -0.502295 -0.100693 -1.572634\n",
       "2017-02-05  0.512939 -0.043070  0.111813 -0.989398  0.570894 -0.806479\n",
       "2017-02-10 -0.258785  0.533241  0.036806 -1.342339 -1.629924 -1.247483"
      ]
     },
     "execution_count": 185,
     "metadata": {},
     "output_type": "execute_result"
    }
   ],
   "source": [
    "df.sort_index(axis=1,ascending=False)"
   ]
  },
  {
   "cell_type": "code",
   "execution_count": 188,
   "metadata": {},
   "outputs": [
    {
     "data": {
      "text/html": [
       "<div>\n",
       "<style>\n",
       "    .dataframe thead tr:only-child th {\n",
       "        text-align: right;\n",
       "    }\n",
       "\n",
       "    .dataframe thead th {\n",
       "        text-align: left;\n",
       "    }\n",
       "\n",
       "    .dataframe tbody tr th {\n",
       "        vertical-align: top;\n",
       "    }\n",
       "</style>\n",
       "<table border=\"1\" class=\"dataframe\">\n",
       "  <thead>\n",
       "    <tr style=\"text-align: right;\">\n",
       "      <th></th>\n",
       "      <th>a</th>\n",
       "      <th>b</th>\n",
       "      <th>c</th>\n",
       "      <th>d</th>\n",
       "      <th>e</th>\n",
       "      <th>f</th>\n",
       "    </tr>\n",
       "  </thead>\n",
       "  <tbody>\n",
       "    <tr>\n",
       "      <th>2017-01-26</th>\n",
       "      <td>-1.526167</td>\n",
       "      <td>1.128357</td>\n",
       "      <td>1.103188</td>\n",
       "      <td>-1.410667</td>\n",
       "      <td>-0.496836</td>\n",
       "      <td>-0.642528</td>\n",
       "    </tr>\n",
       "    <tr>\n",
       "      <th>2017-01-11</th>\n",
       "      <td>0.103291</td>\n",
       "      <td>0.919980</td>\n",
       "      <td>-0.223814</td>\n",
       "      <td>-1.136894</td>\n",
       "      <td>0.335937</td>\n",
       "      <td>0.265344</td>\n",
       "    </tr>\n",
       "    <tr>\n",
       "      <th>2017-01-16</th>\n",
       "      <td>0.245716</td>\n",
       "      <td>0.714786</td>\n",
       "      <td>-0.069647</td>\n",
       "      <td>1.448547</td>\n",
       "      <td>0.572306</td>\n",
       "      <td>-1.977612</td>\n",
       "    </tr>\n",
       "    <tr>\n",
       "      <th>2017-02-05</th>\n",
       "      <td>-0.806479</td>\n",
       "      <td>0.570894</td>\n",
       "      <td>-0.989398</td>\n",
       "      <td>0.111813</td>\n",
       "      <td>-0.043070</td>\n",
       "      <td>0.512939</td>\n",
       "    </tr>\n",
       "    <tr>\n",
       "      <th>2017-01-01</th>\n",
       "      <td>-0.758366</td>\n",
       "      <td>-0.088099</td>\n",
       "      <td>-0.569046</td>\n",
       "      <td>-1.304945</td>\n",
       "      <td>-0.181577</td>\n",
       "      <td>0.275679</td>\n",
       "    </tr>\n",
       "    <tr>\n",
       "      <th>2017-01-31</th>\n",
       "      <td>-1.572634</td>\n",
       "      <td>-0.100693</td>\n",
       "      <td>-0.502295</td>\n",
       "      <td>0.586281</td>\n",
       "      <td>1.474574</td>\n",
       "      <td>0.583708</td>\n",
       "    </tr>\n",
       "    <tr>\n",
       "      <th>2017-01-06</th>\n",
       "      <td>1.247474</td>\n",
       "      <td>-0.116744</td>\n",
       "      <td>0.406293</td>\n",
       "      <td>-1.036718</td>\n",
       "      <td>0.916573</td>\n",
       "      <td>0.436645</td>\n",
       "    </tr>\n",
       "    <tr>\n",
       "      <th>2017-01-21</th>\n",
       "      <td>0.414613</td>\n",
       "      <td>-0.279909</td>\n",
       "      <td>0.805251</td>\n",
       "      <td>0.031160</td>\n",
       "      <td>-0.134155</td>\n",
       "      <td>-1.728197</td>\n",
       "    </tr>\n",
       "    <tr>\n",
       "      <th>2017-02-10</th>\n",
       "      <td>-1.247483</td>\n",
       "      <td>-1.629924</td>\n",
       "      <td>-1.342339</td>\n",
       "      <td>0.036806</td>\n",
       "      <td>0.533241</td>\n",
       "      <td>-0.258785</td>\n",
       "    </tr>\n",
       "  </tbody>\n",
       "</table>\n",
       "</div>"
      ],
      "text/plain": [
       "                   a         b         c         d         e         f\n",
       "2017-01-26 -1.526167  1.128357  1.103188 -1.410667 -0.496836 -0.642528\n",
       "2017-01-11  0.103291  0.919980 -0.223814 -1.136894  0.335937  0.265344\n",
       "2017-01-16  0.245716  0.714786 -0.069647  1.448547  0.572306 -1.977612\n",
       "2017-02-05 -0.806479  0.570894 -0.989398  0.111813 -0.043070  0.512939\n",
       "2017-01-01 -0.758366 -0.088099 -0.569046 -1.304945 -0.181577  0.275679\n",
       "2017-01-31 -1.572634 -0.100693 -0.502295  0.586281  1.474574  0.583708\n",
       "2017-01-06  1.247474 -0.116744  0.406293 -1.036718  0.916573  0.436645\n",
       "2017-01-21  0.414613 -0.279909  0.805251  0.031160 -0.134155 -1.728197\n",
       "2017-02-10 -1.247483 -1.629924 -1.342339  0.036806  0.533241 -0.258785"
      ]
     },
     "execution_count": 188,
     "metadata": {},
     "output_type": "execute_result"
    }
   ],
   "source": [
    "df.sort_values(by= 'b', ascending= False)                     #按value进行排序, PE按升序进行排序；"
   ]
  },
  {
   "cell_type": "markdown",
   "metadata": {},
   "source": [
    "#### 4.8 DataFrame通用函数应用"
   ]
  },
  {
   "cell_type": "code",
   "execution_count": 191,
   "metadata": {},
   "outputs": [
    {
     "data": {
      "text/plain": [
       "2017-01-01   -2.626354\n",
       "2017-01-06    1.853522\n",
       "2017-01-11    0.263845\n",
       "2017-01-16    0.934096\n",
       "2017-01-21   -0.891237\n",
       "2017-01-26   -1.844654\n",
       "2017-01-31    0.468941\n",
       "2017-02-05   -0.643301\n",
       "2017-02-10   -3.908484\n",
       "Freq: 5D, dtype: float64"
      ]
     },
     "execution_count": 191,
     "metadata": {},
     "output_type": "execute_result"
    }
   ],
   "source": [
    "df.sum(axis = 1)   #axis =1 转换成为按行统计；"
   ]
  },
  {
   "cell_type": "code",
   "execution_count": 192,
   "metadata": {},
   "outputs": [
    {
     "data": {
      "text/plain": [
       "a   -0.433337\n",
       "b    0.124294\n",
       "c   -0.153534\n",
       "d   -0.297180\n",
       "e    0.330777\n",
       "f   -0.281423\n",
       "dtype: float64"
      ]
     },
     "execution_count": 192,
     "metadata": {},
     "output_type": "execute_result"
    }
   ],
   "source": [
    "df.mean() "
   ]
  },
  {
   "cell_type": "code",
   "execution_count": 193,
   "metadata": {},
   "outputs": [
    {
     "data": {
      "text/html": [
       "<div>\n",
       "<style>\n",
       "    .dataframe thead tr:only-child th {\n",
       "        text-align: right;\n",
       "    }\n",
       "\n",
       "    .dataframe thead th {\n",
       "        text-align: left;\n",
       "    }\n",
       "\n",
       "    .dataframe tbody tr th {\n",
       "        vertical-align: top;\n",
       "    }\n",
       "</style>\n",
       "<table border=\"1\" class=\"dataframe\">\n",
       "  <thead>\n",
       "    <tr style=\"text-align: right;\">\n",
       "      <th></th>\n",
       "      <th>a</th>\n",
       "      <th>b</th>\n",
       "      <th>c</th>\n",
       "      <th>d</th>\n",
       "      <th>e</th>\n",
       "      <th>f</th>\n",
       "    </tr>\n",
       "  </thead>\n",
       "  <tbody>\n",
       "    <tr>\n",
       "      <th>2017-01-01</th>\n",
       "      <td>-0.758366</td>\n",
       "      <td>-0.088099</td>\n",
       "      <td>-0.569046</td>\n",
       "      <td>-1.304945</td>\n",
       "      <td>-0.181577</td>\n",
       "      <td>0.275679</td>\n",
       "    </tr>\n",
       "    <tr>\n",
       "      <th>2017-01-06</th>\n",
       "      <td>0.489108</td>\n",
       "      <td>-0.204843</td>\n",
       "      <td>-0.162753</td>\n",
       "      <td>-2.341663</td>\n",
       "      <td>0.734996</td>\n",
       "      <td>0.712324</td>\n",
       "    </tr>\n",
       "    <tr>\n",
       "      <th>2017-01-11</th>\n",
       "      <td>0.592399</td>\n",
       "      <td>0.715136</td>\n",
       "      <td>-0.386567</td>\n",
       "      <td>-3.478556</td>\n",
       "      <td>1.070932</td>\n",
       "      <td>0.977668</td>\n",
       "    </tr>\n",
       "    <tr>\n",
       "      <th>2017-01-16</th>\n",
       "      <td>0.838115</td>\n",
       "      <td>1.429922</td>\n",
       "      <td>-0.456214</td>\n",
       "      <td>-2.030010</td>\n",
       "      <td>1.643239</td>\n",
       "      <td>-0.999944</td>\n",
       "    </tr>\n",
       "    <tr>\n",
       "      <th>2017-01-21</th>\n",
       "      <td>1.252728</td>\n",
       "      <td>1.150013</td>\n",
       "      <td>0.349037</td>\n",
       "      <td>-1.998850</td>\n",
       "      <td>1.509084</td>\n",
       "      <td>-2.728141</td>\n",
       "    </tr>\n",
       "    <tr>\n",
       "      <th>2017-01-26</th>\n",
       "      <td>-0.273439</td>\n",
       "      <td>2.278370</td>\n",
       "      <td>1.452225</td>\n",
       "      <td>-3.409517</td>\n",
       "      <td>1.012248</td>\n",
       "      <td>-3.370669</td>\n",
       "    </tr>\n",
       "    <tr>\n",
       "      <th>2017-01-31</th>\n",
       "      <td>-1.846073</td>\n",
       "      <td>2.177676</td>\n",
       "      <td>0.949929</td>\n",
       "      <td>-2.823236</td>\n",
       "      <td>2.486822</td>\n",
       "      <td>-2.786961</td>\n",
       "    </tr>\n",
       "    <tr>\n",
       "      <th>2017-02-05</th>\n",
       "      <td>-2.652552</td>\n",
       "      <td>2.748571</td>\n",
       "      <td>-0.039468</td>\n",
       "      <td>-2.711423</td>\n",
       "      <td>2.443752</td>\n",
       "      <td>-2.274022</td>\n",
       "    </tr>\n",
       "    <tr>\n",
       "      <th>2017-02-10</th>\n",
       "      <td>-3.900035</td>\n",
       "      <td>1.118647</td>\n",
       "      <td>-1.381808</td>\n",
       "      <td>-2.674617</td>\n",
       "      <td>2.976993</td>\n",
       "      <td>-2.532807</td>\n",
       "    </tr>\n",
       "  </tbody>\n",
       "</table>\n",
       "</div>"
      ],
      "text/plain": [
       "                   a         b         c         d         e         f\n",
       "2017-01-01 -0.758366 -0.088099 -0.569046 -1.304945 -0.181577  0.275679\n",
       "2017-01-06  0.489108 -0.204843 -0.162753 -2.341663  0.734996  0.712324\n",
       "2017-01-11  0.592399  0.715136 -0.386567 -3.478556  1.070932  0.977668\n",
       "2017-01-16  0.838115  1.429922 -0.456214 -2.030010  1.643239 -0.999944\n",
       "2017-01-21  1.252728  1.150013  0.349037 -1.998850  1.509084 -2.728141\n",
       "2017-01-26 -0.273439  2.278370  1.452225 -3.409517  1.012248 -3.370669\n",
       "2017-01-31 -1.846073  2.177676  0.949929 -2.823236  2.486822 -2.786961\n",
       "2017-02-05 -2.652552  2.748571 -0.039468 -2.711423  2.443752 -2.274022\n",
       "2017-02-10 -3.900035  1.118647 -1.381808 -2.674617  2.976993 -2.532807"
      ]
     },
     "execution_count": 193,
     "metadata": {},
     "output_type": "execute_result"
    }
   ],
   "source": [
    "df.cumsum()    #按列累计求和，在计算策略的收益率曲线时非常有用；"
   ]
  },
  {
   "cell_type": "code",
   "execution_count": 194,
   "metadata": {},
   "outputs": [
    {
     "data": {
      "text/html": [
       "<div>\n",
       "<style>\n",
       "    .dataframe thead tr:only-child th {\n",
       "        text-align: right;\n",
       "    }\n",
       "\n",
       "    .dataframe thead th {\n",
       "        text-align: left;\n",
       "    }\n",
       "\n",
       "    .dataframe tbody tr th {\n",
       "        vertical-align: top;\n",
       "    }\n",
       "</style>\n",
       "<table border=\"1\" class=\"dataframe\">\n",
       "  <thead>\n",
       "    <tr style=\"text-align: right;\">\n",
       "      <th></th>\n",
       "      <th>a</th>\n",
       "      <th>b</th>\n",
       "      <th>c</th>\n",
       "      <th>d</th>\n",
       "      <th>e</th>\n",
       "      <th>f</th>\n",
       "    </tr>\n",
       "  </thead>\n",
       "  <tbody>\n",
       "    <tr>\n",
       "      <th>count</th>\n",
       "      <td>9.000000</td>\n",
       "      <td>9.000000</td>\n",
       "      <td>9.000000</td>\n",
       "      <td>9.000000</td>\n",
       "      <td>9.000000</td>\n",
       "      <td>9.000000</td>\n",
       "    </tr>\n",
       "    <tr>\n",
       "      <th>mean</th>\n",
       "      <td>-0.433337</td>\n",
       "      <td>0.124294</td>\n",
       "      <td>-0.153534</td>\n",
       "      <td>-0.297180</td>\n",
       "      <td>0.330777</td>\n",
       "      <td>-0.281423</td>\n",
       "    </tr>\n",
       "    <tr>\n",
       "      <th>std</th>\n",
       "      <td>0.980639</td>\n",
       "      <td>0.835455</td>\n",
       "      <td>0.808564</td>\n",
       "      <td>0.982482</td>\n",
       "      <td>0.617875</td>\n",
       "      <td>0.975034</td>\n",
       "    </tr>\n",
       "    <tr>\n",
       "      <th>min</th>\n",
       "      <td>-1.572634</td>\n",
       "      <td>-1.629924</td>\n",
       "      <td>-1.342339</td>\n",
       "      <td>-1.410667</td>\n",
       "      <td>-0.496836</td>\n",
       "      <td>-1.977612</td>\n",
       "    </tr>\n",
       "    <tr>\n",
       "      <th>25%</th>\n",
       "      <td>-1.247483</td>\n",
       "      <td>-0.116744</td>\n",
       "      <td>-0.569046</td>\n",
       "      <td>-1.136894</td>\n",
       "      <td>-0.134155</td>\n",
       "      <td>-0.642528</td>\n",
       "    </tr>\n",
       "    <tr>\n",
       "      <th>50%</th>\n",
       "      <td>-0.758366</td>\n",
       "      <td>-0.088099</td>\n",
       "      <td>-0.223814</td>\n",
       "      <td>0.031160</td>\n",
       "      <td>0.335937</td>\n",
       "      <td>0.265344</td>\n",
       "    </tr>\n",
       "    <tr>\n",
       "      <th>75%</th>\n",
       "      <td>0.245716</td>\n",
       "      <td>0.714786</td>\n",
       "      <td>0.406293</td>\n",
       "      <td>0.111813</td>\n",
       "      <td>0.572306</td>\n",
       "      <td>0.436645</td>\n",
       "    </tr>\n",
       "    <tr>\n",
       "      <th>max</th>\n",
       "      <td>1.247474</td>\n",
       "      <td>1.128357</td>\n",
       "      <td>1.103188</td>\n",
       "      <td>1.448547</td>\n",
       "      <td>1.474574</td>\n",
       "      <td>0.583708</td>\n",
       "    </tr>\n",
       "  </tbody>\n",
       "</table>\n",
       "</div>"
      ],
      "text/plain": [
       "              a         b         c         d         e         f\n",
       "count  9.000000  9.000000  9.000000  9.000000  9.000000  9.000000\n",
       "mean  -0.433337  0.124294 -0.153534 -0.297180  0.330777 -0.281423\n",
       "std    0.980639  0.835455  0.808564  0.982482  0.617875  0.975034\n",
       "min   -1.572634 -1.629924 -1.342339 -1.410667 -0.496836 -1.977612\n",
       "25%   -1.247483 -0.116744 -0.569046 -1.136894 -0.134155 -0.642528\n",
       "50%   -0.758366 -0.088099 -0.223814  0.031160  0.335937  0.265344\n",
       "75%    0.245716  0.714786  0.406293  0.111813  0.572306  0.436645\n",
       "max    1.247474  1.128357  1.103188  1.448547  1.474574  0.583708"
      ]
     },
     "execution_count": 194,
     "metadata": {},
     "output_type": "execute_result"
    }
   ],
   "source": [
    "df.describe()"
   ]
  },
  {
   "cell_type": "markdown",
   "metadata": {},
   "source": [
    "**4.9 Dataframe处理缺失值**"
   ]
  },
  {
   "cell_type": "code",
   "execution_count": 8,
   "metadata": {},
   "outputs": [
    {
     "data": {
      "text/html": [
       "<div>\n",
       "<style>\n",
       "    .dataframe thead tr:only-child th {\n",
       "        text-align: right;\n",
       "    }\n",
       "\n",
       "    .dataframe thead th {\n",
       "        text-align: left;\n",
       "    }\n",
       "\n",
       "    .dataframe tbody tr th {\n",
       "        vertical-align: top;\n",
       "    }\n",
       "</style>\n",
       "<table border=\"1\" class=\"dataframe\">\n",
       "  <thead>\n",
       "    <tr style=\"text-align: right;\">\n",
       "      <th></th>\n",
       "      <th>a</th>\n",
       "      <th>b</th>\n",
       "      <th>c</th>\n",
       "      <th>d</th>\n",
       "      <th>e</th>\n",
       "      <th>f</th>\n",
       "    </tr>\n",
       "  </thead>\n",
       "  <tbody>\n",
       "    <tr>\n",
       "      <th>2017-01-01</th>\n",
       "      <td>-1.200017</td>\n",
       "      <td>-0.143673</td>\n",
       "      <td>-1.581553</td>\n",
       "      <td>-1.302320</td>\n",
       "      <td>1.620774</td>\n",
       "      <td>0.507504</td>\n",
       "    </tr>\n",
       "    <tr>\n",
       "      <th>2017-01-06</th>\n",
       "      <td>0.021663</td>\n",
       "      <td>-0.095572</td>\n",
       "      <td>0.382365</td>\n",
       "      <td>-0.830639</td>\n",
       "      <td>-0.865432</td>\n",
       "      <td>-1.032340</td>\n",
       "    </tr>\n",
       "    <tr>\n",
       "      <th>2017-01-11</th>\n",
       "      <td>-0.185721</td>\n",
       "      <td>-1.521455</td>\n",
       "      <td>0.640193</td>\n",
       "      <td>0.266223</td>\n",
       "      <td>-0.207297</td>\n",
       "      <td>-1.326699</td>\n",
       "    </tr>\n",
       "    <tr>\n",
       "      <th>2017-01-16</th>\n",
       "      <td>1.406219</td>\n",
       "      <td>1.102431</td>\n",
       "      <td>0.796584</td>\n",
       "      <td>0.449783</td>\n",
       "      <td>-1.676008</td>\n",
       "      <td>1.172102</td>\n",
       "    </tr>\n",
       "    <tr>\n",
       "      <th>2017-01-21</th>\n",
       "      <td>1.003298</td>\n",
       "      <td>-1.185395</td>\n",
       "      <td>-1.896151</td>\n",
       "      <td>1.218548</td>\n",
       "      <td>2.060183</td>\n",
       "      <td>-0.114918</td>\n",
       "    </tr>\n",
       "    <tr>\n",
       "      <th>2017-01-26</th>\n",
       "      <td>-1.936451</td>\n",
       "      <td>-0.815682</td>\n",
       "      <td>-0.471055</td>\n",
       "      <td>-0.386179</td>\n",
       "      <td>-0.019781</td>\n",
       "      <td>-0.061896</td>\n",
       "    </tr>\n",
       "    <tr>\n",
       "      <th>2017-01-31</th>\n",
       "      <td>0.122627</td>\n",
       "      <td>0.085518</td>\n",
       "      <td>0.575877</td>\n",
       "      <td>-0.546578</td>\n",
       "      <td>1.924884</td>\n",
       "      <td>-1.135114</td>\n",
       "    </tr>\n",
       "    <tr>\n",
       "      <th>2017-02-05</th>\n",
       "      <td>0.861148</td>\n",
       "      <td>0.892745</td>\n",
       "      <td>1.648597</td>\n",
       "      <td>-0.815952</td>\n",
       "      <td>0.366469</td>\n",
       "      <td>1.005362</td>\n",
       "    </tr>\n",
       "    <tr>\n",
       "      <th>2017-02-10</th>\n",
       "      <td>-2.130361</td>\n",
       "      <td>1.902525</td>\n",
       "      <td>-0.761748</td>\n",
       "      <td>2.022376</td>\n",
       "      <td>-1.575673</td>\n",
       "      <td>-0.174841</td>\n",
       "    </tr>\n",
       "  </tbody>\n",
       "</table>\n",
       "</div>"
      ],
      "text/plain": [
       "                   a         b         c         d         e         f\n",
       "2017-01-01 -1.200017 -0.143673 -1.581553 -1.302320  1.620774  0.507504\n",
       "2017-01-06  0.021663 -0.095572  0.382365 -0.830639 -0.865432 -1.032340\n",
       "2017-01-11 -0.185721 -1.521455  0.640193  0.266223 -0.207297 -1.326699\n",
       "2017-01-16  1.406219  1.102431  0.796584  0.449783 -1.676008  1.172102\n",
       "2017-01-21  1.003298 -1.185395 -1.896151  1.218548  2.060183 -0.114918\n",
       "2017-01-26 -1.936451 -0.815682 -0.471055 -0.386179 -0.019781 -0.061896\n",
       "2017-01-31  0.122627  0.085518  0.575877 -0.546578  1.924884 -1.135114\n",
       "2017-02-05  0.861148  0.892745  1.648597 -0.815952  0.366469  1.005362\n",
       "2017-02-10 -2.130361  1.902525 -0.761748  2.022376 -1.575673 -0.174841"
      ]
     },
     "execution_count": 8,
     "metadata": {},
     "output_type": "execute_result"
    }
   ],
   "source": [
    "df"
   ]
  },
  {
   "cell_type": "code",
   "execution_count": 9,
   "metadata": {},
   "outputs": [
    {
     "data": {
      "text/html": [
       "<div>\n",
       "<style>\n",
       "    .dataframe thead tr:only-child th {\n",
       "        text-align: right;\n",
       "    }\n",
       "\n",
       "    .dataframe thead th {\n",
       "        text-align: left;\n",
       "    }\n",
       "\n",
       "    .dataframe tbody tr th {\n",
       "        vertical-align: top;\n",
       "    }\n",
       "</style>\n",
       "<table border=\"1\" class=\"dataframe\">\n",
       "  <thead>\n",
       "    <tr style=\"text-align: right;\">\n",
       "      <th></th>\n",
       "      <th>a</th>\n",
       "      <th>b</th>\n",
       "      <th>c</th>\n",
       "      <th>d</th>\n",
       "      <th>e</th>\n",
       "      <th>f</th>\n",
       "    </tr>\n",
       "  </thead>\n",
       "  <tbody>\n",
       "    <tr>\n",
       "      <th>2017-01-01</th>\n",
       "      <td>NaN</td>\n",
       "      <td>NaN</td>\n",
       "      <td>NaN</td>\n",
       "      <td>NaN</td>\n",
       "      <td>1.273096</td>\n",
       "      <td>0.712393</td>\n",
       "    </tr>\n",
       "    <tr>\n",
       "      <th>2017-01-06</th>\n",
       "      <td>0.147183</td>\n",
       "      <td>NaN</td>\n",
       "      <td>0.618357</td>\n",
       "      <td>NaN</td>\n",
       "      <td>NaN</td>\n",
       "      <td>NaN</td>\n",
       "    </tr>\n",
       "    <tr>\n",
       "      <th>2017-01-11</th>\n",
       "      <td>NaN</td>\n",
       "      <td>NaN</td>\n",
       "      <td>0.800120</td>\n",
       "      <td>0.515968</td>\n",
       "      <td>NaN</td>\n",
       "      <td>NaN</td>\n",
       "    </tr>\n",
       "    <tr>\n",
       "      <th>2017-01-16</th>\n",
       "      <td>1.185841</td>\n",
       "      <td>1.049967</td>\n",
       "      <td>0.892516</td>\n",
       "      <td>0.670659</td>\n",
       "      <td>NaN</td>\n",
       "      <td>1.082636</td>\n",
       "    </tr>\n",
       "    <tr>\n",
       "      <th>2017-01-21</th>\n",
       "      <td>1.001647</td>\n",
       "      <td>NaN</td>\n",
       "      <td>NaN</td>\n",
       "      <td>1.103878</td>\n",
       "      <td>1.435334</td>\n",
       "      <td>NaN</td>\n",
       "    </tr>\n",
       "    <tr>\n",
       "      <th>2017-01-26</th>\n",
       "      <td>NaN</td>\n",
       "      <td>NaN</td>\n",
       "      <td>NaN</td>\n",
       "      <td>NaN</td>\n",
       "      <td>NaN</td>\n",
       "      <td>NaN</td>\n",
       "    </tr>\n",
       "    <tr>\n",
       "      <th>2017-01-31</th>\n",
       "      <td>0.350181</td>\n",
       "      <td>0.292435</td>\n",
       "      <td>0.758866</td>\n",
       "      <td>NaN</td>\n",
       "      <td>1.387402</td>\n",
       "      <td>NaN</td>\n",
       "    </tr>\n",
       "    <tr>\n",
       "      <th>2017-02-05</th>\n",
       "      <td>0.927980</td>\n",
       "      <td>0.944852</td>\n",
       "      <td>1.283977</td>\n",
       "      <td>NaN</td>\n",
       "      <td>0.605367</td>\n",
       "      <td>1.002678</td>\n",
       "    </tr>\n",
       "    <tr>\n",
       "      <th>2017-02-10</th>\n",
       "      <td>NaN</td>\n",
       "      <td>1.379320</td>\n",
       "      <td>NaN</td>\n",
       "      <td>1.422103</td>\n",
       "      <td>NaN</td>\n",
       "      <td>NaN</td>\n",
       "    </tr>\n",
       "  </tbody>\n",
       "</table>\n",
       "</div>"
      ],
      "text/plain": [
       "                   a         b         c         d         e         f\n",
       "2017-01-01       NaN       NaN       NaN       NaN  1.273096  0.712393\n",
       "2017-01-06  0.147183       NaN  0.618357       NaN       NaN       NaN\n",
       "2017-01-11       NaN       NaN  0.800120  0.515968       NaN       NaN\n",
       "2017-01-16  1.185841  1.049967  0.892516  0.670659       NaN  1.082636\n",
       "2017-01-21  1.001647       NaN       NaN  1.103878  1.435334       NaN\n",
       "2017-01-26       NaN       NaN       NaN       NaN       NaN       NaN\n",
       "2017-01-31  0.350181  0.292435  0.758866       NaN  1.387402       NaN\n",
       "2017-02-05  0.927980  0.944852  1.283977       NaN  0.605367  1.002678\n",
       "2017-02-10       NaN  1.379320       NaN  1.422103       NaN       NaN"
      ]
     },
     "execution_count": 9,
     "metadata": {},
     "output_type": "execute_result"
    }
   ],
   "source": [
    "np.sqrt(df)                    #pandas的非常强大的特点之一，容错性；而且绝大部分的Numpy的通用函数都可以适用；"
   ]
  },
  {
   "cell_type": "code",
   "execution_count": 10,
   "metadata": {
    "uuid": "a540362b-50d7-4ef0-89ba-0b6ee38033f6"
   },
   "outputs": [
    {
     "data": {
      "text/plain": [
       "a    3.612833\n",
       "b    3.666574\n",
       "c    4.353836\n",
       "d    3.712608\n",
       "e    4.701199\n",
       "f    2.797707\n",
       "dtype: float64"
      ]
     },
     "execution_count": 10,
     "metadata": {},
     "output_type": "execute_result"
    }
   ],
   "source": [
    "np.sqrt(df).sum()              #缺失数据对Pandas操作没有影响"
   ]
  },
  {
   "cell_type": "code",
   "execution_count": 11,
   "metadata": {},
   "outputs": [
    {
     "data": {
      "text/html": [
       "<div>\n",
       "<style>\n",
       "    .dataframe thead tr:only-child th {\n",
       "        text-align: right;\n",
       "    }\n",
       "\n",
       "    .dataframe thead th {\n",
       "        text-align: left;\n",
       "    }\n",
       "\n",
       "    .dataframe tbody tr th {\n",
       "        vertical-align: top;\n",
       "    }\n",
       "</style>\n",
       "<table border=\"1\" class=\"dataframe\">\n",
       "  <thead>\n",
       "    <tr style=\"text-align: right;\">\n",
       "      <th></th>\n",
       "      <th>0</th>\n",
       "      <th>1</th>\n",
       "      <th>2</th>\n",
       "      <th>3</th>\n",
       "    </tr>\n",
       "  </thead>\n",
       "  <tbody>\n",
       "    <tr>\n",
       "      <th>0</th>\n",
       "      <td>0.323947</td>\n",
       "      <td>0.856491</td>\n",
       "      <td>0.641102</td>\n",
       "      <td>0.844054</td>\n",
       "    </tr>\n",
       "    <tr>\n",
       "      <th>1</th>\n",
       "      <td>1.500000</td>\n",
       "      <td>NaN</td>\n",
       "      <td>NaN</td>\n",
       "      <td>5.000000</td>\n",
       "    </tr>\n",
       "    <tr>\n",
       "      <th>2</th>\n",
       "      <td>4.500000</td>\n",
       "      <td>NaN</td>\n",
       "      <td>NaN</td>\n",
       "      <td>NaN</td>\n",
       "    </tr>\n",
       "    <tr>\n",
       "      <th>3</th>\n",
       "      <td>1.500000</td>\n",
       "      <td>NaN</td>\n",
       "      <td>2.500000</td>\n",
       "      <td>NaN</td>\n",
       "    </tr>\n",
       "  </tbody>\n",
       "</table>\n",
       "</div>"
      ],
      "text/plain": [
       "          0         1         2         3\n",
       "0  0.323947  0.856491  0.641102  0.844054\n",
       "1  1.500000       NaN       NaN  5.000000\n",
       "2  4.500000       NaN       NaN       NaN\n",
       "3  1.500000       NaN  2.500000       NaN"
      ]
     },
     "execution_count": 11,
     "metadata": {},
     "output_type": "execute_result"
    }
   ],
   "source": [
    "df_nan = pd.DataFrame([np.random.randn(4), [1.5, np.nan, np.nan, 5],\n",
    "                       [4.5, np.nan, np.nan, np.nan], [1.5, np.nan, 2.5, np.nan]])\n",
    "df_nan.head()"
   ]
  },
  {
   "cell_type": "code",
   "execution_count": 12,
   "metadata": {},
   "outputs": [
    {
     "data": {
      "text/html": [
       "<div>\n",
       "<style>\n",
       "    .dataframe thead tr:only-child th {\n",
       "        text-align: right;\n",
       "    }\n",
       "\n",
       "    .dataframe thead th {\n",
       "        text-align: left;\n",
       "    }\n",
       "\n",
       "    .dataframe tbody tr th {\n",
       "        vertical-align: top;\n",
       "    }\n",
       "</style>\n",
       "<table border=\"1\" class=\"dataframe\">\n",
       "  <thead>\n",
       "    <tr style=\"text-align: right;\">\n",
       "      <th></th>\n",
       "      <th>0</th>\n",
       "      <th>1</th>\n",
       "      <th>2</th>\n",
       "      <th>3</th>\n",
       "    </tr>\n",
       "  </thead>\n",
       "  <tbody>\n",
       "    <tr>\n",
       "      <th>0</th>\n",
       "      <td>False</td>\n",
       "      <td>False</td>\n",
       "      <td>False</td>\n",
       "      <td>False</td>\n",
       "    </tr>\n",
       "    <tr>\n",
       "      <th>1</th>\n",
       "      <td>False</td>\n",
       "      <td>True</td>\n",
       "      <td>True</td>\n",
       "      <td>False</td>\n",
       "    </tr>\n",
       "    <tr>\n",
       "      <th>2</th>\n",
       "      <td>False</td>\n",
       "      <td>True</td>\n",
       "      <td>True</td>\n",
       "      <td>True</td>\n",
       "    </tr>\n",
       "    <tr>\n",
       "      <th>3</th>\n",
       "      <td>False</td>\n",
       "      <td>True</td>\n",
       "      <td>False</td>\n",
       "      <td>True</td>\n",
       "    </tr>\n",
       "  </tbody>\n",
       "</table>\n",
       "</div>"
      ],
      "text/plain": [
       "       0      1      2      3\n",
       "0  False  False  False  False\n",
       "1  False   True   True  False\n",
       "2  False   True   True   True\n",
       "3  False   True  False   True"
      ]
     },
     "execution_count": 12,
     "metadata": {},
     "output_type": "execute_result"
    }
   ],
   "source": [
    "# 判断是否为空值\n",
    "df_nan.isnull()                 #isnull()判断是否为空值"
   ]
  },
  {
   "cell_type": "code",
   "execution_count": 13,
   "metadata": {},
   "outputs": [
    {
     "data": {
      "text/html": [
       "<div>\n",
       "<style>\n",
       "    .dataframe thead tr:only-child th {\n",
       "        text-align: right;\n",
       "    }\n",
       "\n",
       "    .dataframe thead th {\n",
       "        text-align: left;\n",
       "    }\n",
       "\n",
       "    .dataframe tbody tr th {\n",
       "        vertical-align: top;\n",
       "    }\n",
       "</style>\n",
       "<table border=\"1\" class=\"dataframe\">\n",
       "  <thead>\n",
       "    <tr style=\"text-align: right;\">\n",
       "      <th></th>\n",
       "      <th>0</th>\n",
       "      <th>1</th>\n",
       "      <th>2</th>\n",
       "      <th>3</th>\n",
       "    </tr>\n",
       "  </thead>\n",
       "  <tbody>\n",
       "    <tr>\n",
       "      <th>0</th>\n",
       "      <td>0.323947</td>\n",
       "      <td>0.856491</td>\n",
       "      <td>0.641102</td>\n",
       "      <td>0.844054</td>\n",
       "    </tr>\n",
       "  </tbody>\n",
       "</table>\n",
       "</div>"
      ],
      "text/plain": [
       "          0         1         2         3\n",
       "0  0.323947  0.856491  0.641102  0.844054"
      ]
     },
     "execution_count": 13,
     "metadata": {},
     "output_type": "execute_result"
    }
   ],
   "source": [
    "# 删除空值\n",
    "df_nan.dropna()         #dropna()"
   ]
  },
  {
   "cell_type": "code",
   "execution_count": 14,
   "metadata": {},
   "outputs": [
    {
     "data": {
      "text/html": [
       "<div>\n",
       "<style>\n",
       "    .dataframe thead tr:only-child th {\n",
       "        text-align: right;\n",
       "    }\n",
       "\n",
       "    .dataframe thead th {\n",
       "        text-align: left;\n",
       "    }\n",
       "\n",
       "    .dataframe tbody tr th {\n",
       "        vertical-align: top;\n",
       "    }\n",
       "</style>\n",
       "<table border=\"1\" class=\"dataframe\">\n",
       "  <thead>\n",
       "    <tr style=\"text-align: right;\">\n",
       "      <th></th>\n",
       "      <th>0</th>\n",
       "    </tr>\n",
       "  </thead>\n",
       "  <tbody>\n",
       "    <tr>\n",
       "      <th>0</th>\n",
       "      <td>0.323947</td>\n",
       "    </tr>\n",
       "    <tr>\n",
       "      <th>1</th>\n",
       "      <td>1.500000</td>\n",
       "    </tr>\n",
       "    <tr>\n",
       "      <th>2</th>\n",
       "      <td>4.500000</td>\n",
       "    </tr>\n",
       "    <tr>\n",
       "      <th>3</th>\n",
       "      <td>1.500000</td>\n",
       "    </tr>\n",
       "  </tbody>\n",
       "</table>\n",
       "</div>"
      ],
      "text/plain": [
       "          0\n",
       "0  0.323947\n",
       "1  1.500000\n",
       "2  4.500000\n",
       "3  1.500000"
      ]
     },
     "execution_count": 14,
     "metadata": {},
     "output_type": "execute_result"
    }
   ],
   "source": [
    "df_nan.dropna(axis=1)"
   ]
  },
  {
   "cell_type": "code",
   "execution_count": 18,
   "metadata": {},
   "outputs": [
    {
     "data": {
      "text/html": [
       "<div>\n",
       "<style>\n",
       "    .dataframe thead tr:only-child th {\n",
       "        text-align: right;\n",
       "    }\n",
       "\n",
       "    .dataframe thead th {\n",
       "        text-align: left;\n",
       "    }\n",
       "\n",
       "    .dataframe tbody tr th {\n",
       "        vertical-align: top;\n",
       "    }\n",
       "</style>\n",
       "<table border=\"1\" class=\"dataframe\">\n",
       "  <thead>\n",
       "    <tr style=\"text-align: right;\">\n",
       "      <th></th>\n",
       "      <th>0</th>\n",
       "      <th>1</th>\n",
       "      <th>2</th>\n",
       "      <th>3</th>\n",
       "    </tr>\n",
       "  </thead>\n",
       "  <tbody>\n",
       "    <tr>\n",
       "      <th>0</th>\n",
       "      <td>0.323947</td>\n",
       "      <td>0.856491</td>\n",
       "      <td>0.641102</td>\n",
       "      <td>0.844054</td>\n",
       "    </tr>\n",
       "    <tr>\n",
       "      <th>1</th>\n",
       "      <td>1.500000</td>\n",
       "      <td>0.000000</td>\n",
       "      <td>0.000000</td>\n",
       "      <td>5.000000</td>\n",
       "    </tr>\n",
       "    <tr>\n",
       "      <th>2</th>\n",
       "      <td>4.500000</td>\n",
       "      <td>0.000000</td>\n",
       "      <td>0.000000</td>\n",
       "      <td>0.000000</td>\n",
       "    </tr>\n",
       "    <tr>\n",
       "      <th>3</th>\n",
       "      <td>1.500000</td>\n",
       "      <td>0.000000</td>\n",
       "      <td>2.500000</td>\n",
       "      <td>0.000000</td>\n",
       "    </tr>\n",
       "  </tbody>\n",
       "</table>\n",
       "</div>"
      ],
      "text/plain": [
       "          0         1         2         3\n",
       "0  0.323947  0.856491  0.641102  0.844054\n",
       "1  1.500000  0.000000  0.000000  5.000000\n",
       "2  4.500000  0.000000  0.000000  0.000000\n",
       "3  1.500000  0.000000  2.500000  0.000000"
      ]
     },
     "execution_count": 18,
     "metadata": {},
     "output_type": "execute_result"
    }
   ],
   "source": [
    "df_nan.fillna(0)                                #用0填充；mean，ffill，bfill；"
   ]
  },
  {
   "cell_type": "markdown",
   "metadata": {
    "slideshow": {
     "slide_type": "slide"
    }
   },
   "source": [
    "## 5. 本节重要课程复习"
   ]
  },
  {
   "cell_type": "code",
   "execution_count": 19,
   "metadata": {},
   "outputs": [
    {
     "data": {
      "text/html": [
       "<div>\n",
       "<style>\n",
       "    .dataframe thead tr:only-child th {\n",
       "        text-align: right;\n",
       "    }\n",
       "\n",
       "    .dataframe thead th {\n",
       "        text-align: left;\n",
       "    }\n",
       "\n",
       "    .dataframe tbody tr th {\n",
       "        vertical-align: top;\n",
       "    }\n",
       "</style>\n",
       "<table border=\"1\" class=\"dataframe\">\n",
       "  <thead>\n",
       "    <tr style=\"text-align: right;\">\n",
       "      <th></th>\n",
       "      <th>a</th>\n",
       "      <th>b</th>\n",
       "      <th>c</th>\n",
       "      <th>d</th>\n",
       "      <th>e</th>\n",
       "      <th>f</th>\n",
       "    </tr>\n",
       "  </thead>\n",
       "  <tbody>\n",
       "    <tr>\n",
       "      <th>2017-01-01</th>\n",
       "      <td>-1.200017</td>\n",
       "      <td>-0.143673</td>\n",
       "      <td>-1.581553</td>\n",
       "      <td>-1.302320</td>\n",
       "      <td>1.620774</td>\n",
       "      <td>0.507504</td>\n",
       "    </tr>\n",
       "    <tr>\n",
       "      <th>2017-01-06</th>\n",
       "      <td>0.021663</td>\n",
       "      <td>-0.095572</td>\n",
       "      <td>0.382365</td>\n",
       "      <td>-0.830639</td>\n",
       "      <td>-0.865432</td>\n",
       "      <td>-1.032340</td>\n",
       "    </tr>\n",
       "    <tr>\n",
       "      <th>2017-01-11</th>\n",
       "      <td>-0.185721</td>\n",
       "      <td>-1.521455</td>\n",
       "      <td>0.640193</td>\n",
       "      <td>0.266223</td>\n",
       "      <td>-0.207297</td>\n",
       "      <td>-1.326699</td>\n",
       "    </tr>\n",
       "    <tr>\n",
       "      <th>2017-01-16</th>\n",
       "      <td>1.406219</td>\n",
       "      <td>1.102431</td>\n",
       "      <td>0.796584</td>\n",
       "      <td>0.449783</td>\n",
       "      <td>-1.676008</td>\n",
       "      <td>1.172102</td>\n",
       "    </tr>\n",
       "    <tr>\n",
       "      <th>2017-01-21</th>\n",
       "      <td>1.003298</td>\n",
       "      <td>-1.185395</td>\n",
       "      <td>-1.896151</td>\n",
       "      <td>1.218548</td>\n",
       "      <td>2.060183</td>\n",
       "      <td>-0.114918</td>\n",
       "    </tr>\n",
       "    <tr>\n",
       "      <th>2017-01-26</th>\n",
       "      <td>-1.936451</td>\n",
       "      <td>-0.815682</td>\n",
       "      <td>-0.471055</td>\n",
       "      <td>-0.386179</td>\n",
       "      <td>-0.019781</td>\n",
       "      <td>-0.061896</td>\n",
       "    </tr>\n",
       "    <tr>\n",
       "      <th>2017-01-31</th>\n",
       "      <td>0.122627</td>\n",
       "      <td>0.085518</td>\n",
       "      <td>0.575877</td>\n",
       "      <td>-0.546578</td>\n",
       "      <td>1.924884</td>\n",
       "      <td>-1.135114</td>\n",
       "    </tr>\n",
       "    <tr>\n",
       "      <th>2017-02-05</th>\n",
       "      <td>0.861148</td>\n",
       "      <td>0.892745</td>\n",
       "      <td>1.648597</td>\n",
       "      <td>-0.815952</td>\n",
       "      <td>0.366469</td>\n",
       "      <td>1.005362</td>\n",
       "    </tr>\n",
       "    <tr>\n",
       "      <th>2017-02-10</th>\n",
       "      <td>-2.130361</td>\n",
       "      <td>1.902525</td>\n",
       "      <td>-0.761748</td>\n",
       "      <td>2.022376</td>\n",
       "      <td>-1.575673</td>\n",
       "      <td>-0.174841</td>\n",
       "    </tr>\n",
       "  </tbody>\n",
       "</table>\n",
       "</div>"
      ],
      "text/plain": [
       "                   a         b         c         d         e         f\n",
       "2017-01-01 -1.200017 -0.143673 -1.581553 -1.302320  1.620774  0.507504\n",
       "2017-01-06  0.021663 -0.095572  0.382365 -0.830639 -0.865432 -1.032340\n",
       "2017-01-11 -0.185721 -1.521455  0.640193  0.266223 -0.207297 -1.326699\n",
       "2017-01-16  1.406219  1.102431  0.796584  0.449783 -1.676008  1.172102\n",
       "2017-01-21  1.003298 -1.185395 -1.896151  1.218548  2.060183 -0.114918\n",
       "2017-01-26 -1.936451 -0.815682 -0.471055 -0.386179 -0.019781 -0.061896\n",
       "2017-01-31  0.122627  0.085518  0.575877 -0.546578  1.924884 -1.135114\n",
       "2017-02-05  0.861148  0.892745  1.648597 -0.815952  0.366469  1.005362\n",
       "2017-02-10 -2.130361  1.902525 -0.761748  2.022376 -1.575673 -0.174841"
      ]
     },
     "execution_count": 19,
     "metadata": {},
     "output_type": "execute_result"
    }
   ],
   "source": [
    "df"
   ]
  },
  {
   "cell_type": "markdown",
   "metadata": {
    "slideshow": {
     "slide_type": "subslide"
    }
   },
   "source": [
    "#### 按列选择"
   ]
  },
  {
   "cell_type": "code",
   "execution_count": 20,
   "metadata": {},
   "outputs": [
    {
     "data": {
      "text/plain": [
       "2017-01-01   -0.143673\n",
       "2017-01-06   -0.095572\n",
       "2017-01-11   -1.521455\n",
       "2017-01-16    1.102431\n",
       "2017-01-21   -1.185395\n",
       "2017-01-26   -0.815682\n",
       "2017-01-31    0.085518\n",
       "2017-02-05    0.892745\n",
       "2017-02-10    1.902525\n",
       "Freq: 5D, Name: b, dtype: float64"
      ]
     },
     "execution_count": 20,
     "metadata": {},
     "output_type": "execute_result"
    }
   ],
   "source": [
    "df['b']"
   ]
  },
  {
   "cell_type": "code",
   "execution_count": 21,
   "metadata": {},
   "outputs": [
    {
     "data": {
      "text/html": [
       "<div>\n",
       "<style>\n",
       "    .dataframe thead tr:only-child th {\n",
       "        text-align: right;\n",
       "    }\n",
       "\n",
       "    .dataframe thead th {\n",
       "        text-align: left;\n",
       "    }\n",
       "\n",
       "    .dataframe tbody tr th {\n",
       "        vertical-align: top;\n",
       "    }\n",
       "</style>\n",
       "<table border=\"1\" class=\"dataframe\">\n",
       "  <thead>\n",
       "    <tr style=\"text-align: right;\">\n",
       "      <th></th>\n",
       "      <th>c</th>\n",
       "      <th>a</th>\n",
       "    </tr>\n",
       "  </thead>\n",
       "  <tbody>\n",
       "    <tr>\n",
       "      <th>2017-01-01</th>\n",
       "      <td>-1.581553</td>\n",
       "      <td>-1.200017</td>\n",
       "    </tr>\n",
       "    <tr>\n",
       "      <th>2017-01-06</th>\n",
       "      <td>0.382365</td>\n",
       "      <td>0.021663</td>\n",
       "    </tr>\n",
       "    <tr>\n",
       "      <th>2017-01-11</th>\n",
       "      <td>0.640193</td>\n",
       "      <td>-0.185721</td>\n",
       "    </tr>\n",
       "    <tr>\n",
       "      <th>2017-01-16</th>\n",
       "      <td>0.796584</td>\n",
       "      <td>1.406219</td>\n",
       "    </tr>\n",
       "    <tr>\n",
       "      <th>2017-01-21</th>\n",
       "      <td>-1.896151</td>\n",
       "      <td>1.003298</td>\n",
       "    </tr>\n",
       "    <tr>\n",
       "      <th>2017-01-26</th>\n",
       "      <td>-0.471055</td>\n",
       "      <td>-1.936451</td>\n",
       "    </tr>\n",
       "    <tr>\n",
       "      <th>2017-01-31</th>\n",
       "      <td>0.575877</td>\n",
       "      <td>0.122627</td>\n",
       "    </tr>\n",
       "    <tr>\n",
       "      <th>2017-02-05</th>\n",
       "      <td>1.648597</td>\n",
       "      <td>0.861148</td>\n",
       "    </tr>\n",
       "    <tr>\n",
       "      <th>2017-02-10</th>\n",
       "      <td>-0.761748</td>\n",
       "      <td>-2.130361</td>\n",
       "    </tr>\n",
       "  </tbody>\n",
       "</table>\n",
       "</div>"
      ],
      "text/plain": [
       "                   c         a\n",
       "2017-01-01 -1.581553 -1.200017\n",
       "2017-01-06  0.382365  0.021663\n",
       "2017-01-11  0.640193 -0.185721\n",
       "2017-01-16  0.796584  1.406219\n",
       "2017-01-21 -1.896151  1.003298\n",
       "2017-01-26 -0.471055 -1.936451\n",
       "2017-01-31  0.575877  0.122627\n",
       "2017-02-05  1.648597  0.861148\n",
       "2017-02-10 -0.761748 -2.130361"
      ]
     },
     "execution_count": 21,
     "metadata": {},
     "output_type": "execute_result"
    }
   ],
   "source": [
    "df[['c', 'a']]"
   ]
  },
  {
   "cell_type": "code",
   "execution_count": 23,
   "metadata": {},
   "outputs": [
    {
     "data": {
      "text/plain": [
       "2017-01-01   -1.581553\n",
       "2017-01-06    0.382365\n",
       "2017-01-11    0.640193\n",
       "2017-01-16    0.796584\n",
       "2017-01-21   -1.896151\n",
       "2017-01-26   -0.471055\n",
       "2017-01-31    0.575877\n",
       "2017-02-05    1.648597\n",
       "2017-02-10   -0.761748\n",
       "Freq: 5D, Name: c, dtype: float64"
      ]
     },
     "execution_count": 23,
     "metadata": {},
     "output_type": "execute_result"
    }
   ],
   "source": [
    "df.c"
   ]
  },
  {
   "cell_type": "code",
   "execution_count": 24,
   "metadata": {},
   "outputs": [
    {
     "data": {
      "text/plain": [
       "Index(['a', 'b', 'c', 'd', 'e', 'f'], dtype='object')"
      ]
     },
     "execution_count": 24,
     "metadata": {},
     "output_type": "execute_result"
    }
   ],
   "source": [
    "df.columns"
   ]
  },
  {
   "cell_type": "code",
   "execution_count": 25,
   "metadata": {},
   "outputs": [
    {
     "data": {
      "text/plain": [
       "2017-01-01   -0.143673\n",
       "2017-01-06   -0.095572\n",
       "2017-01-11   -1.521455\n",
       "2017-01-16    1.102431\n",
       "2017-01-21   -1.185395\n",
       "2017-01-26   -0.815682\n",
       "2017-01-31    0.085518\n",
       "2017-02-05    0.892745\n",
       "2017-02-10    1.902525\n",
       "Freq: 5D, Name: b, dtype: float64"
      ]
     },
     "execution_count": 25,
     "metadata": {},
     "output_type": "execute_result"
    }
   ],
   "source": [
    "df[df.columns[1]]              #也可以根据colums的index来选择，index号也是从0开始编号；"
   ]
  },
  {
   "cell_type": "code",
   "execution_count": 26,
   "metadata": {},
   "outputs": [
    {
     "data": {
      "text/plain": [
       "2017-01-01   -0.143673\n",
       "2017-01-06   -0.095572\n",
       "2017-01-11   -1.521455\n",
       "2017-01-16    1.102431\n",
       "2017-01-21   -1.185395\n",
       "2017-01-26   -0.815682\n",
       "2017-01-31    0.085518\n",
       "2017-02-05    0.892745\n",
       "2017-02-10    1.902525\n",
       "Freq: 5D, Name: b, dtype: float64"
      ]
     },
     "execution_count": 26,
     "metadata": {},
     "output_type": "execute_result"
    }
   ],
   "source": [
    "df.ix[:, 1]  "
   ]
  },
  {
   "cell_type": "code",
   "execution_count": 27,
   "metadata": {},
   "outputs": [
    {
     "data": {
      "text/plain": [
       "2017-01-01   -0.143673\n",
       "2017-01-06   -0.095572\n",
       "2017-01-11   -1.521455\n",
       "2017-01-16    1.102431\n",
       "2017-01-21   -1.185395\n",
       "2017-01-26   -0.815682\n",
       "2017-01-31    0.085518\n",
       "2017-02-05    0.892745\n",
       "2017-02-10    1.902525\n",
       "Freq: 5D, Name: b, dtype: float64"
      ]
     },
     "execution_count": 27,
     "metadata": {},
     "output_type": "execute_result"
    }
   ],
   "source": [
    "df.ix[:, 'b']  "
   ]
  },
  {
   "cell_type": "code",
   "execution_count": 28,
   "metadata": {},
   "outputs": [
    {
     "data": {
      "text/plain": [
       "2017-01-01   -0.143673\n",
       "2017-01-06   -0.095572\n",
       "2017-01-11   -1.521455\n",
       "2017-01-16    1.102431\n",
       "2017-01-21   -1.185395\n",
       "2017-01-26   -0.815682\n",
       "2017-01-31    0.085518\n",
       "2017-02-05    0.892745\n",
       "2017-02-10    1.902525\n",
       "Freq: 5D, Name: b, dtype: float64"
      ]
     },
     "execution_count": 28,
     "metadata": {},
     "output_type": "execute_result"
    }
   ],
   "source": [
    "df.loc[:, 'b']                   #  loc函数可以根据label来进行选择；"
   ]
  },
  {
   "cell_type": "code",
   "execution_count": 30,
   "metadata": {
    "collapsed": true
   },
   "outputs": [],
   "source": [
    "df.loc[:,1]                    #故意报错，loc不能通过position进行选择；"
   ]
  },
  {
   "cell_type": "code",
   "execution_count": 33,
   "metadata": {},
   "outputs": [
    {
     "data": {
      "text/plain": [
       "2017-01-01   -0.143673\n",
       "2017-01-06   -0.095572\n",
       "2017-01-11   -1.521455\n",
       "2017-01-16    1.102431\n",
       "2017-01-21   -1.185395\n",
       "2017-01-26   -0.815682\n",
       "2017-01-31    0.085518\n",
       "2017-02-05    0.892745\n",
       "2017-02-10    1.902525\n",
       "Freq: 5D, Name: b, dtype: float64"
      ]
     },
     "execution_count": 33,
     "metadata": {},
     "output_type": "execute_result"
    }
   ],
   "source": [
    "df.iloc[:, 1]                   #  iloc函数只能根据index来进行选择；"
   ]
  },
  {
   "cell_type": "markdown",
   "metadata": {},
   "source": [
    "#### 按行选择"
   ]
  },
  {
   "cell_type": "code",
   "execution_count": 34,
   "metadata": {},
   "outputs": [
    {
     "data": {
      "text/plain": [
       "a   -1.200017\n",
       "b   -0.143673\n",
       "c   -1.581553\n",
       "d   -1.302320\n",
       "e    1.620774\n",
       "f    0.507504\n",
       "Name: 2017-01-01 00:00:00, dtype: float64"
      ]
     },
     "execution_count": 34,
     "metadata": {},
     "output_type": "execute_result"
    }
   ],
   "source": [
    "df.ix[0]                 #   选择第一行；只有一个参数的话，默认是按行进行选择；"
   ]
  },
  {
   "cell_type": "code",
   "execution_count": 35,
   "metadata": {},
   "outputs": [
    {
     "data": {
      "text/plain": [
       "a    0.122627\n",
       "b    0.085518\n",
       "c    0.575877\n",
       "d   -0.546578\n",
       "e    1.924884\n",
       "f   -1.135114\n",
       "Name: 2017-01-31 00:00:00, dtype: float64"
      ]
     },
     "execution_count": 35,
     "metadata": {},
     "output_type": "execute_result"
    }
   ],
   "source": [
    "df.ix['2017-1-31']"
   ]
  },
  {
   "cell_type": "code",
   "execution_count": 36,
   "metadata": {},
   "outputs": [
    {
     "data": {
      "text/plain": [
       "a   -1.200017\n",
       "b   -0.143673\n",
       "c   -1.581553\n",
       "d   -1.302320\n",
       "e    1.620774\n",
       "f    0.507504\n",
       "Name: 2017-01-01 00:00:00, dtype: float64"
      ]
     },
     "execution_count": 36,
     "metadata": {},
     "output_type": "execute_result"
    }
   ],
   "source": [
    "df.iloc[0]                 # 只能根据position索引选择；"
   ]
  },
  {
   "cell_type": "code",
   "execution_count": null,
   "metadata": {
    "collapsed": true
   },
   "outputs": [],
   "source": [
    "df.iloc['2017-1-31']        #iloc不能根据label来进行选择；故意报错；"
   ]
  },
  {
   "cell_type": "code",
   "execution_count": 37,
   "metadata": {},
   "outputs": [
    {
     "data": {
      "text/plain": [
       "Timestamp('2017-01-01 00:00:00', freq='5D')"
      ]
     },
     "execution_count": 37,
     "metadata": {},
     "output_type": "execute_result"
    }
   ],
   "source": [
    "df.index[0] "
   ]
  },
  {
   "cell_type": "code",
   "execution_count": 38,
   "metadata": {},
   "outputs": [
    {
     "data": {
      "text/plain": [
       "a    0.122627\n",
       "b    0.085518\n",
       "c    0.575877\n",
       "d   -0.546578\n",
       "e    1.924884\n",
       "f   -1.135114\n",
       "Name: 2017-01-31 00:00:00, dtype: float64"
      ]
     },
     "execution_count": 38,
     "metadata": {},
     "output_type": "execute_result"
    }
   ],
   "source": [
    "df.loc['2017-01-31']"
   ]
  },
  {
   "cell_type": "code",
   "execution_count": 39,
   "metadata": {},
   "outputs": [
    {
     "data": {
      "text/html": [
       "<div>\n",
       "<style>\n",
       "    .dataframe thead tr:only-child th {\n",
       "        text-align: right;\n",
       "    }\n",
       "\n",
       "    .dataframe thead th {\n",
       "        text-align: left;\n",
       "    }\n",
       "\n",
       "    .dataframe tbody tr th {\n",
       "        vertical-align: top;\n",
       "    }\n",
       "</style>\n",
       "<table border=\"1\" class=\"dataframe\">\n",
       "  <thead>\n",
       "    <tr style=\"text-align: right;\">\n",
       "      <th></th>\n",
       "      <th>a</th>\n",
       "      <th>b</th>\n",
       "      <th>c</th>\n",
       "      <th>d</th>\n",
       "      <th>e</th>\n",
       "      <th>f</th>\n",
       "    </tr>\n",
       "  </thead>\n",
       "  <tbody>\n",
       "    <tr>\n",
       "      <th>2017-01-01</th>\n",
       "      <td>-1.200017</td>\n",
       "      <td>-0.143673</td>\n",
       "      <td>-1.581553</td>\n",
       "      <td>-1.302320</td>\n",
       "      <td>1.620774</td>\n",
       "      <td>0.507504</td>\n",
       "    </tr>\n",
       "    <tr>\n",
       "      <th>2017-01-06</th>\n",
       "      <td>0.021663</td>\n",
       "      <td>-0.095572</td>\n",
       "      <td>0.382365</td>\n",
       "      <td>-0.830639</td>\n",
       "      <td>-0.865432</td>\n",
       "      <td>-1.032340</td>\n",
       "    </tr>\n",
       "  </tbody>\n",
       "</table>\n",
       "</div>"
      ],
      "text/plain": [
       "                   a         b         c         d         e         f\n",
       "2017-01-01 -1.200017 -0.143673 -1.581553 -1.302320  1.620774  0.507504\n",
       "2017-01-06  0.021663 -0.095572  0.382365 -0.830639 -0.865432 -1.032340"
      ]
     },
     "execution_count": 39,
     "metadata": {},
     "output_type": "execute_result"
    }
   ],
   "source": [
    "df.iloc[:2]                   #从开始到第二行；"
   ]
  },
  {
   "cell_type": "code",
   "execution_count": 40,
   "metadata": {},
   "outputs": [
    {
     "data": {
      "text/html": [
       "<div>\n",
       "<style>\n",
       "    .dataframe thead tr:only-child th {\n",
       "        text-align: right;\n",
       "    }\n",
       "\n",
       "    .dataframe thead th {\n",
       "        text-align: left;\n",
       "    }\n",
       "\n",
       "    .dataframe tbody tr th {\n",
       "        vertical-align: top;\n",
       "    }\n",
       "</style>\n",
       "<table border=\"1\" class=\"dataframe\">\n",
       "  <thead>\n",
       "    <tr style=\"text-align: right;\">\n",
       "      <th></th>\n",
       "      <th>a</th>\n",
       "      <th>b</th>\n",
       "      <th>c</th>\n",
       "      <th>d</th>\n",
       "      <th>e</th>\n",
       "      <th>f</th>\n",
       "    </tr>\n",
       "  </thead>\n",
       "  <tbody>\n",
       "    <tr>\n",
       "      <th>2017-01-01</th>\n",
       "      <td>-1.200017</td>\n",
       "      <td>-0.143673</td>\n",
       "      <td>-1.581553</td>\n",
       "      <td>-1.302320</td>\n",
       "      <td>1.620774</td>\n",
       "      <td>0.507504</td>\n",
       "    </tr>\n",
       "    <tr>\n",
       "      <th>2017-01-06</th>\n",
       "      <td>0.021663</td>\n",
       "      <td>-0.095572</td>\n",
       "      <td>0.382365</td>\n",
       "      <td>-0.830639</td>\n",
       "      <td>-0.865432</td>\n",
       "      <td>-1.032340</td>\n",
       "    </tr>\n",
       "  </tbody>\n",
       "</table>\n",
       "</div>"
      ],
      "text/plain": [
       "                   a         b         c         d         e         f\n",
       "2017-01-01 -1.200017 -0.143673 -1.581553 -1.302320  1.620774  0.507504\n",
       "2017-01-06  0.021663 -0.095572  0.382365 -0.830639 -0.865432 -1.032340"
      ]
     },
     "execution_count": 40,
     "metadata": {},
     "output_type": "execute_result"
    }
   ],
   "source": [
    "df[:2]"
   ]
  }
 ],
 "metadata": {
  "anaconda-cloud": {},
  "kernelspec": {
   "display_name": "Python 3",
   "language": "python",
   "name": "python3"
  },
  "language_info": {
   "codemirror_mode": {
    "name": "ipython",
    "version": 3
   },
   "file_extension": ".py",
   "mimetype": "text/x-python",
   "name": "python",
   "nbconvert_exporter": "python",
   "pygments_lexer": "ipython3",
   "version": "3.6.2"
  }
 },
 "nbformat": 4,
 "nbformat_minor": 1
}
