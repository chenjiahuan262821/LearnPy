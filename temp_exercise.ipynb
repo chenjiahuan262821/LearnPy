{
 "cells": [
  {
   "cell_type": "code",
   "execution_count": 4,
   "metadata": {},
   "outputs": [],
   "source": [
    "import pandas as pd\n",
    "import numpy as np\n",
    "import talib as tb\n",
    "import matplotlib.pyplot as plt"
   ]
  },
  {
   "cell_type": "code",
   "execution_count": 5,
   "metadata": {},
   "outputs": [
    {
     "name": "stdout",
     "output_type": "stream",
     "text": [
      "odict_keys(['asset', 'profit', 'tobinq', 'nature', 'environ'])\n"
     ]
    }
   ],
   "source": [
    "xls = pd.ExcelFile('C:/Users/chenjiahuan/Desktop/temp/data.xlsx')\n",
    "sht = xls.sheet_names\n",
    "data = pd.read_excel(xls, sheet_name=sht,index_col=[0,1], na_values='NA')    \n",
    "# 注意上面的index_col，由于设置索引需要是int类型的list，因此在excel中先处理好使第1、2列是Stkcd与year\n",
    "print(data.keys())"
   ]
  },
  {
   "cell_type": "code",
   "execution_count": 15,
   "metadata": {},
   "outputs": [],
   "source": [
    "pd.concat([data['asset'], data['profit'], data['tobinq'], data['nature'], data['environ']],axis=1, join='outer').to_excel (r'C:/Users/chenjiahuan/Desktop/temp/merge.xlsx')    "
   ]
  },
  {
   "cell_type": "code",
   "execution_count": 8,
   "metadata": {},
   "outputs": [],
   "source": [
    "pd.concat?"
   ]
  },
  {
   "cell_type": "code",
   "execution_count": null,
   "metadata": {},
   "outputs": [],
   "source": []
  }
 ],
 "metadata": {
  "kernelspec": {
   "display_name": "Python 3",
   "language": "python",
   "name": "python3"
  },
  "language_info": {
   "codemirror_mode": {
    "name": "ipython",
    "version": 3
   },
   "file_extension": ".py",
   "mimetype": "text/x-python",
   "name": "python",
   "nbconvert_exporter": "python",
   "pygments_lexer": "ipython3",
   "version": "3.7.3"
  }
 },
 "nbformat": 4,
 "nbformat_minor": 2
}
